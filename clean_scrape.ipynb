{
 "cells": [
  {
   "cell_type": "code",
   "execution_count": 1,
   "metadata": {},
   "outputs": [
    {
     "name": "stderr",
     "output_type": "stream",
     "text": [
      "Using TensorFlow backend.\n"
     ]
    }
   ],
   "source": [
    "%reload_ext autoreload\n",
    "%autoreload 2\n",
    "\n",
    "from book_functions import *\n",
    "from signin_config import *\n",
    "\n",
    "from tqdm import tqdm\n",
    "import pandas as pd\n",
    "import re\n",
    "import requests\n",
    "import signin_config\n",
    "import pickle\n",
    "import time\n",
    "from bs4 import BeautifulSoup\n",
    "from selenium import webdriver\n",
    "from selenium.webdriver.common.by import By\n",
    "from selenium.webdriver.common.keys import Keys\n",
    "from selenium.common.exceptions import TimeoutException\n",
    "from selenium.webdriver.support.ui import WebDriverWait\n",
    "from selenium.webdriver.support import expected_conditions as EC\n",
    "from imblearn.over_sampling import SMOTE\n",
    "import time\n",
    "from selenium.webdriver.chrome.options import Options"
   ]
  },
  {
   "cell_type": "markdown",
   "metadata": {},
   "source": [
    "**Psuedo-code process:**\n",
    "\n",
    "top_200_lists = [ agg site urls ]\n",
    "\n",
    "full_books_list = [ book dictionaries ]\n",
    "\n",
    "from top_200 :\n",
    "\t200_book_dic = scrape_intial_info(top_200)\n",
    "\tfull_books_list += 200_book_dic\n",
    "\n",
    "\n",
    "for each_dict in full_books_list:\n",
    "\teach_dict += get_new_info( )\n",
    "\n",
    "\tevery 50 books:\n",
    "\t\tlatest = full_books_list[ last50 ]\n",
    "\t\tclean_and_bag_words( latest )\n",
    "\t\tsave_those_50( latest )\n",
    "\t\tconcat_to_saved( latest )\n",
    "\t\trewrite_the_saved(saved_list)\n",
    " \n"
   ]
  },
  {
   "cell_type": "code",
   "execution_count": 2,
   "metadata": {},
   "outputs": [],
   "source": [
    "top_200_lists = get_urls()"
   ]
  },
  {
   "cell_type": "code",
   "execution_count": 3,
   "metadata": {},
   "outputs": [],
   "source": [
    "full_books_list = []"
   ]
  },
  {
   "cell_type": "code",
   "execution_count": 5,
   "metadata": {},
   "outputs": [],
   "source": [
    "#add webdriver and initial scrape function\n",
    "\n",
    "for top_200_list in top_200_lists:\n",
    "    dic_of_200_books = goodreads_list_scrape(driver)\n",
    "    full_books_list += dic_of_200_books"
   ]
  },
  {
   "cell_type": "code",
   "execution_count": 6,
   "metadata": {},
   "outputs": [],
   "source": [
    "full_books_df = pd.DataFrame(full_books_list)"
   ]
  },
  {
   "cell_type": "code",
   "execution_count": null,
   "metadata": {},
   "outputs": [],
   "source": [
    "for each_dict in full_books_list:\n",
    "    idx = full_books_list.index(each_dict)\n",
    "    \n",
    "    each_dict.update(get_new_info(each_dict))\n",
    "    each_dict.update(clean_and_bag_words(each_dict))\n",
    "    \n",
    "    for idx % 50 == 0:\n",
    "        latest = pd.DataFrame(full_books_list[idx-50:idx])\n",
    "        save_those_50(latest, 'last_50')\n",
    "        updated_df = add_to_saved_df(latest, saved_filename)\n",
    "        update_saved(updated_df, 'full_books_df')\n",
    "        push_to_git(last_50, saved_filename)"
   ]
  }
 ],
 "metadata": {
  "kernelspec": {
   "display_name": "Python 3",
   "language": "python",
   "name": "python3"
  },
  "language_info": {
   "codemirror_mode": {
    "name": "ipython",
    "version": 3
   },
   "file_extension": ".py",
   "mimetype": "text/x-python",
   "name": "python",
   "nbconvert_exporter": "python",
   "pygments_lexer": "ipython3",
   "version": "3.7.3"
  },
  "toc": {
   "base_numbering": 1,
   "nav_menu": {},
   "number_sections": true,
   "sideBar": true,
   "skip_h1_title": false,
   "title_cell": "Table of Contents",
   "title_sidebar": "Contents",
   "toc_cell": false,
   "toc_position": {},
   "toc_section_display": true,
   "toc_window_display": false
  }
 },
 "nbformat": 4,
 "nbformat_minor": 2
}
