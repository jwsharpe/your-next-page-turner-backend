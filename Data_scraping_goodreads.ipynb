{
 "cells": [
  {
   "cell_type": "markdown",
   "metadata": {},
   "source": [
    "# Imports"
   ]
  },
  {
   "cell_type": "markdown",
   "metadata": {},
   "source": [
    "Imports -"
   ]
  },
  {
   "cell_type": "code",
   "execution_count": 2,
   "metadata": {},
   "outputs": [],
   "source": [
    "%reload_ext autoreload\n",
    "%autoreload 2\n",
    "\n",
    "from book_functions import *\n",
    "from signin_config import *\n",
    "\n",
    "from tqdm import tqdm\n",
    "import pandas as pd\n",
    "import re\n",
    "import requests\n",
    "import signin_config\n",
    "import pickle\n",
    "import time\n",
    "from bs4 import BeautifulSoup\n",
    "from selenium import webdriver\n",
    "from selenium.webdriver.common.by import By\n",
    "from selenium.webdriver.common.keys import Keys\n",
    "from selenium.common.exceptions import TimeoutException\n",
    "from selenium.webdriver.support.ui import WebDriverWait\n",
    "from selenium.webdriver.support import expected_conditions as EC\n",
    "from imblearn.over_sampling import SMOTE\n",
    "import time\n",
    "from selenium.webdriver.chrome.options import Options"
   ]
  },
  {
   "cell_type": "markdown",
   "metadata": {},
   "source": [
    "# Scraping goodreads"
   ]
  },
  {
   "cell_type": "markdown",
   "metadata": {},
   "source": [
    "## Get intial 'top 200' urls list\n",
    "Retrieve:\n",
    "\n",
    "\n",
    "*continuous*: top rating, # of reviews, IBSN, GR_id#\n",
    "      \n",
    "*categorical*: author, image, top genre, description"
   ]
  },
  {
   "cell_type": "markdown",
   "metadata": {},
   "source": [
    "--> add code for gathering list of top titles from past 50 years"
   ]
  },
  {
   "cell_type": "code",
   "execution_count": 5,
   "metadata": {},
   "outputs": [],
   "source": [
    "url_list = get_urls()"
   ]
  },
  {
   "cell_type": "markdown",
   "metadata": {},
   "source": [
    "## Use urls to get : title, authors, # of reviews and id"
   ]
  },
  {
   "cell_type": "code",
   "execution_count": 7,
   "metadata": {},
   "outputs": [],
   "source": [
    "# test goodreads_list_scrape()\n",
    "\n",
    "driver = webdriver.Chrome()\n",
    "driver.get(url_list[0])\n",
    "goodreads_list_scrape(driver);"
   ]
  },
  {
   "cell_type": "code",
   "execution_count": 21,
   "metadata": {
    "collapsed": true
   },
   "outputs": [
    {
     "name": "stderr",
     "output_type": "stream",
     "text": [
      "\r",
      "  0%|          | 0/48 [00:00<?, ?it/s]"
     ]
    },
    {
     "name": "stdout",
     "output_type": "stream",
     "text": [
      "50\n",
      "100\n",
      "150\n"
     ]
    },
    {
     "name": "stderr",
     "output_type": "stream",
     "text": [
      "\r",
      "  2%|▏         | 1/48 [00:23<18:44, 23.93s/it]"
     ]
    },
    {
     "name": "stdout",
     "output_type": "stream",
     "text": [
      "200\n",
      "50\n",
      "100\n",
      "150\n"
     ]
    },
    {
     "name": "stderr",
     "output_type": "stream",
     "text": [
      "\r",
      "  4%|▍         | 2/48 [00:48<18:36, 24.27s/it]"
     ]
    },
    {
     "name": "stdout",
     "output_type": "stream",
     "text": [
      "200\n",
      "50\n",
      "100\n",
      "150\n"
     ]
    },
    {
     "name": "stderr",
     "output_type": "stream",
     "text": [
      "\r",
      "  6%|▋         | 3/48 [01:12<18:03, 24.09s/it]"
     ]
    },
    {
     "name": "stdout",
     "output_type": "stream",
     "text": [
      "200\n",
      "50\n",
      "100\n",
      "150\n"
     ]
    },
    {
     "name": "stderr",
     "output_type": "stream",
     "text": [
      "\r",
      "  8%|▊         | 4/48 [01:37<17:44, 24.20s/it]"
     ]
    },
    {
     "name": "stdout",
     "output_type": "stream",
     "text": [
      "200\n",
      "50\n",
      "100\n",
      "150\n"
     ]
    },
    {
     "name": "stderr",
     "output_type": "stream",
     "text": [
      "\r",
      " 10%|█         | 5/48 [02:05<18:14, 25.45s/it]"
     ]
    },
    {
     "name": "stdout",
     "output_type": "stream",
     "text": [
      "200\n",
      "50\n",
      "100\n",
      "150\n"
     ]
    },
    {
     "name": "stderr",
     "output_type": "stream",
     "text": [
      "\r",
      " 12%|█▎        | 6/48 [02:34<18:31, 26.47s/it]"
     ]
    },
    {
     "name": "stdout",
     "output_type": "stream",
     "text": [
      "200\n",
      "50\n",
      "100\n",
      "150\n"
     ]
    },
    {
     "name": "stderr",
     "output_type": "stream",
     "text": [
      "\r",
      " 15%|█▍        | 7/48 [03:03<18:38, 27.27s/it]"
     ]
    },
    {
     "name": "stdout",
     "output_type": "stream",
     "text": [
      "200\n",
      "50\n",
      "100\n",
      "150\n"
     ]
    },
    {
     "name": "stderr",
     "output_type": "stream",
     "text": [
      "\r",
      " 17%|█▋        | 8/48 [03:27<17:34, 26.35s/it]"
     ]
    },
    {
     "name": "stdout",
     "output_type": "stream",
     "text": [
      "200\n",
      "50\n",
      "100\n",
      "150\n"
     ]
    },
    {
     "name": "stderr",
     "output_type": "stream",
     "text": [
      "\r",
      " 19%|█▉        | 9/48 [03:55<17:22, 26.74s/it]"
     ]
    },
    {
     "name": "stdout",
     "output_type": "stream",
     "text": [
      "50\n",
      "100\n",
      "150\n"
     ]
    },
    {
     "name": "stderr",
     "output_type": "stream",
     "text": [
      "\r",
      " 21%|██        | 10/48 [04:18<16:20, 25.81s/it]"
     ]
    },
    {
     "name": "stdout",
     "output_type": "stream",
     "text": [
      "200\n",
      "50\n",
      "100\n",
      "150\n"
     ]
    },
    {
     "name": "stderr",
     "output_type": "stream",
     "text": [
      "\r",
      " 23%|██▎       | 11/48 [04:40<15:12, 24.67s/it]"
     ]
    },
    {
     "name": "stdout",
     "output_type": "stream",
     "text": [
      "200\n",
      "50\n",
      "100\n",
      "150\n"
     ]
    },
    {
     "name": "stderr",
     "output_type": "stream",
     "text": [
      "\r",
      " 25%|██▌       | 12/48 [05:07<15:03, 25.11s/it]"
     ]
    },
    {
     "name": "stdout",
     "output_type": "stream",
     "text": [
      "200\n",
      "50\n",
      "100\n",
      "150\n"
     ]
    },
    {
     "name": "stderr",
     "output_type": "stream",
     "text": [
      "\r",
      " 27%|██▋       | 13/48 [05:35<15:10, 26.02s/it]"
     ]
    },
    {
     "name": "stdout",
     "output_type": "stream",
     "text": [
      "200\n",
      "50\n",
      "100\n",
      "150\n"
     ]
    },
    {
     "name": "stderr",
     "output_type": "stream",
     "text": [
      "\r",
      " 29%|██▉       | 14/48 [05:59<14:25, 25.45s/it]"
     ]
    },
    {
     "name": "stdout",
     "output_type": "stream",
     "text": [
      "200\n",
      "50\n",
      "100\n",
      "150\n"
     ]
    },
    {
     "name": "stderr",
     "output_type": "stream",
     "text": [
      "\r",
      " 31%|███▏      | 15/48 [06:27<14:27, 26.28s/it]"
     ]
    },
    {
     "name": "stdout",
     "output_type": "stream",
     "text": [
      "200\n",
      "50\n",
      "100\n",
      "150\n"
     ]
    },
    {
     "name": "stderr",
     "output_type": "stream",
     "text": [
      "\r",
      " 33%|███▎      | 16/48 [07:00<15:00, 28.13s/it]"
     ]
    },
    {
     "name": "stdout",
     "output_type": "stream",
     "text": [
      "200\n",
      "50\n",
      "100\n",
      "150\n"
     ]
    },
    {
     "name": "stderr",
     "output_type": "stream",
     "text": [
      "\r",
      " 35%|███▌      | 17/48 [07:26<14:13, 27.53s/it]"
     ]
    },
    {
     "name": "stdout",
     "output_type": "stream",
     "text": [
      "200\n",
      "50\n",
      "100\n",
      "150\n"
     ]
    },
    {
     "name": "stderr",
     "output_type": "stream",
     "text": [
      "\r",
      " 38%|███▊      | 18/48 [07:50<13:20, 26.69s/it]"
     ]
    },
    {
     "name": "stdout",
     "output_type": "stream",
     "text": [
      "200\n",
      "50\n",
      "100\n",
      "150\n"
     ]
    },
    {
     "name": "stderr",
     "output_type": "stream",
     "text": [
      "\r",
      " 40%|███▉      | 19/48 [08:15<12:36, 26.09s/it]"
     ]
    },
    {
     "name": "stdout",
     "output_type": "stream",
     "text": [
      "200\n",
      "50\n",
      "100\n",
      "150\n"
     ]
    },
    {
     "name": "stderr",
     "output_type": "stream",
     "text": [
      "\r",
      " 42%|████▏     | 20/48 [08:41<12:06, 25.95s/it]"
     ]
    },
    {
     "name": "stdout",
     "output_type": "stream",
     "text": [
      "200\n",
      "50\n",
      "100\n",
      "150\n"
     ]
    },
    {
     "name": "stderr",
     "output_type": "stream",
     "text": [
      "\r",
      " 44%|████▍     | 21/48 [09:06<11:34, 25.73s/it]"
     ]
    },
    {
     "name": "stdout",
     "output_type": "stream",
     "text": [
      "200\n",
      "50\n",
      "100\n",
      "150\n"
     ]
    },
    {
     "name": "stderr",
     "output_type": "stream",
     "text": [
      "\r",
      " 46%|████▌     | 22/48 [09:32<11:08, 25.71s/it]"
     ]
    },
    {
     "name": "stdout",
     "output_type": "stream",
     "text": [
      "200\n",
      "50\n",
      "100\n",
      "150\n"
     ]
    },
    {
     "name": "stderr",
     "output_type": "stream",
     "text": [
      "\r",
      " 48%|████▊     | 23/48 [09:58<10:49, 25.98s/it]"
     ]
    },
    {
     "name": "stdout",
     "output_type": "stream",
     "text": [
      "200\n",
      "50\n",
      "100\n",
      "150\n",
      "200\n"
     ]
    },
    {
     "name": "stderr",
     "output_type": "stream",
     "text": [
      "\r",
      " 50%|█████     | 24/48 [10:24<10:20, 25.84s/it]"
     ]
    },
    {
     "name": "stdout",
     "output_type": "stream",
     "text": [
      "50\n",
      "100\n",
      "150\n"
     ]
    },
    {
     "name": "stderr",
     "output_type": "stream",
     "text": [
      "\r",
      " 52%|█████▏    | 25/48 [10:47<09:35, 25.04s/it]"
     ]
    },
    {
     "name": "stdout",
     "output_type": "stream",
     "text": [
      "200\n",
      "50\n",
      "100\n",
      "150\n"
     ]
    },
    {
     "name": "stderr",
     "output_type": "stream",
     "text": [
      "\r",
      " 54%|█████▍    | 26/48 [11:13<09:18, 25.38s/it]"
     ]
    },
    {
     "name": "stdout",
     "output_type": "stream",
     "text": [
      "200\n",
      "50\n",
      "100\n",
      "150\n"
     ]
    },
    {
     "name": "stderr",
     "output_type": "stream",
     "text": [
      "\r",
      " 56%|█████▋    | 27/48 [11:38<08:51, 25.32s/it]"
     ]
    },
    {
     "name": "stdout",
     "output_type": "stream",
     "text": [
      "200\n",
      "50\n",
      "100\n",
      "150\n"
     ]
    },
    {
     "name": "stderr",
     "output_type": "stream",
     "text": [
      "\r",
      " 58%|█████▊    | 28/48 [12:03<08:20, 25.00s/it]"
     ]
    },
    {
     "name": "stdout",
     "output_type": "stream",
     "text": [
      "200\n",
      "50\n",
      "100\n",
      "150\n"
     ]
    },
    {
     "name": "stderr",
     "output_type": "stream",
     "text": [
      "\r",
      " 60%|██████    | 29/48 [12:28<07:57, 25.15s/it]"
     ]
    },
    {
     "name": "stdout",
     "output_type": "stream",
     "text": [
      "200\n",
      "50\n",
      "100\n",
      "150\n"
     ]
    },
    {
     "name": "stderr",
     "output_type": "stream",
     "text": [
      "\r",
      " 62%|██████▎   | 30/48 [12:57<07:51, 26.21s/it]"
     ]
    },
    {
     "name": "stdout",
     "output_type": "stream",
     "text": [
      "200\n",
      "50\n",
      "100\n",
      "150\n"
     ]
    },
    {
     "name": "stderr",
     "output_type": "stream",
     "text": [
      "\r",
      " 65%|██████▍   | 31/48 [13:22<07:19, 25.85s/it]"
     ]
    },
    {
     "name": "stdout",
     "output_type": "stream",
     "text": [
      "200\n",
      "50\n",
      "100\n",
      "150\n"
     ]
    },
    {
     "name": "stderr",
     "output_type": "stream",
     "text": [
      "\r",
      " 67%|██████▋   | 32/48 [13:49<06:59, 26.24s/it]"
     ]
    },
    {
     "name": "stdout",
     "output_type": "stream",
     "text": [
      "200\n",
      "50\n",
      "100\n",
      "150\n"
     ]
    },
    {
     "name": "stderr",
     "output_type": "stream",
     "text": [
      "\r",
      " 69%|██████▉   | 33/48 [14:14<06:28, 25.88s/it]"
     ]
    },
    {
     "name": "stdout",
     "output_type": "stream",
     "text": [
      "200\n",
      "50\n",
      "100\n",
      "150\n"
     ]
    },
    {
     "name": "stderr",
     "output_type": "stream",
     "text": [
      "\r",
      " 71%|███████   | 34/48 [14:41<06:08, 26.33s/it]"
     ]
    },
    {
     "name": "stdout",
     "output_type": "stream",
     "text": [
      "200\n",
      "50\n",
      "100\n",
      "150\n"
     ]
    },
    {
     "name": "stderr",
     "output_type": "stream",
     "text": [
      "\r",
      " 73%|███████▎  | 35/48 [15:08<05:42, 26.34s/it]"
     ]
    },
    {
     "name": "stdout",
     "output_type": "stream",
     "text": [
      "200\n",
      "50\n",
      "100\n",
      "150\n"
     ]
    },
    {
     "name": "stderr",
     "output_type": "stream",
     "text": [
      "\r",
      " 75%|███████▌  | 36/48 [15:37<05:28, 27.36s/it]"
     ]
    },
    {
     "name": "stdout",
     "output_type": "stream",
     "text": [
      "200\n",
      "50\n",
      "100\n",
      "150\n"
     ]
    },
    {
     "name": "stderr",
     "output_type": "stream",
     "text": [
      "\r",
      " 77%|███████▋  | 37/48 [16:04<04:58, 27.14s/it]"
     ]
    },
    {
     "name": "stdout",
     "output_type": "stream",
     "text": [
      "200\n",
      "50\n",
      "100\n",
      "150\n"
     ]
    },
    {
     "name": "stderr",
     "output_type": "stream",
     "text": [
      "\r",
      " 79%|███████▉  | 38/48 [16:32<04:32, 27.28s/it]"
     ]
    },
    {
     "name": "stdout",
     "output_type": "stream",
     "text": [
      "200\n",
      "50\n",
      "100\n",
      "150\n"
     ]
    },
    {
     "name": "stderr",
     "output_type": "stream",
     "text": [
      "\r",
      " 81%|████████▏ | 39/48 [16:56<03:58, 26.49s/it]"
     ]
    },
    {
     "name": "stdout",
     "output_type": "stream",
     "text": [
      "200\n",
      "50\n",
      "100\n",
      "150\n"
     ]
    },
    {
     "name": "stderr",
     "output_type": "stream",
     "text": [
      "\r",
      " 83%|████████▎ | 40/48 [17:20<03:26, 25.77s/it]"
     ]
    },
    {
     "name": "stdout",
     "output_type": "stream",
     "text": [
      "200\n",
      "50\n",
      "100\n",
      "150\n"
     ]
    },
    {
     "name": "stderr",
     "output_type": "stream",
     "text": [
      "\r",
      " 85%|████████▌ | 41/48 [17:49<03:05, 26.49s/it]"
     ]
    },
    {
     "name": "stdout",
     "output_type": "stream",
     "text": [
      "200\n",
      "50\n",
      "100\n",
      "150\n"
     ]
    },
    {
     "name": "stderr",
     "output_type": "stream",
     "text": [
      "\r",
      " 88%|████████▊ | 42/48 [18:16<02:41, 26.84s/it]"
     ]
    },
    {
     "name": "stdout",
     "output_type": "stream",
     "text": [
      "200\n",
      "50\n",
      "100\n",
      "150\n"
     ]
    },
    {
     "name": "stderr",
     "output_type": "stream",
     "text": [
      "\r",
      " 90%|████████▉ | 43/48 [18:43<02:14, 26.89s/it]"
     ]
    },
    {
     "name": "stdout",
     "output_type": "stream",
     "text": [
      "200\n",
      "50\n",
      "100\n",
      "150\n"
     ]
    },
    {
     "name": "stderr",
     "output_type": "stream",
     "text": [
      "\r",
      " 92%|█████████▏| 44/48 [19:06<01:42, 25.73s/it]"
     ]
    },
    {
     "name": "stdout",
     "output_type": "stream",
     "text": [
      "200\n",
      "50\n",
      "100\n",
      "150\n"
     ]
    },
    {
     "name": "stderr",
     "output_type": "stream",
     "text": [
      "\r",
      " 94%|█████████▍| 45/48 [19:31<01:16, 25.33s/it]"
     ]
    },
    {
     "name": "stdout",
     "output_type": "stream",
     "text": [
      "200\n",
      "50\n",
      "100\n",
      "150\n"
     ]
    },
    {
     "name": "stderr",
     "output_type": "stream",
     "text": [
      "\r",
      " 96%|█████████▌| 46/48 [19:57<00:51, 25.72s/it]"
     ]
    },
    {
     "name": "stdout",
     "output_type": "stream",
     "text": [
      "200\n",
      "50\n",
      "100\n",
      "150\n"
     ]
    },
    {
     "name": "stderr",
     "output_type": "stream",
     "text": [
      "\r",
      " 98%|█████████▊| 47/48 [20:24<00:25, 25.98s/it]"
     ]
    },
    {
     "name": "stdout",
     "output_type": "stream",
     "text": [
      "200\n",
      "50\n",
      "100\n",
      "150\n"
     ]
    },
    {
     "name": "stderr",
     "output_type": "stream",
     "text": [
      "100%|██████████| 48/48 [20:54<00:00, 26.13s/it]"
     ]
    },
    {
     "name": "stdout",
     "output_type": "stream",
     "text": [
      "200\n"
     ]
    },
    {
     "name": "stderr",
     "output_type": "stream",
     "text": [
      "\n"
     ]
    }
   ],
   "source": [
    "# gather all initial book info\n",
    "\n",
    "books_list = [] # list of dictionaries of each book\n",
    "\n",
    "for url in tqdm(url_list):\n",
    "    driver = webdriver.Chrome()\n",
    "    driver.get(url)\n",
    "    books_list += goodreads_list_scrape()\n",
    "    driver.quit()"
   ]
  },
  {
   "cell_type": "markdown",
   "execution_count": 23,
   "metadata": {},
   "outputs": [],
   "source": [
    "Saving and loading via pickle:"
   ]
  },
  {
   "cell_type": "code",
   "execution_count": 10,
   "metadata": {},
   "outputs": [],
   "source": [
    "# with open('bookslist_1909_on.pkl', 'wb') as f: \n",
    "#     pickle.dump(books_list, f)\n",
    "\n",
    "# open stored bookslist if needed\n",
    "\n",
    "with open('bookslist_1909_on.pkl', 'rb') as f:\n",
    "    loaded_bookslist = pickle.load(f)"
   ]
  },
  {
   "cell_type": "code",
   "execution_count": 39,
   "metadata": {
    "collapsed": true
   },
   "outputs": [
    {
     "ename": "NameError",
     "evalue": "name 'loaded_bookslist' is not defined",
     "output_type": "error",
     "traceback": [
      "\u001b[0;31m---------------------------------------------------------------------------\u001b[0m",
      "\u001b[0;31mNameError\u001b[0m                                 Traceback (most recent call last)",
      "\u001b[0;32m<ipython-input-39-73a331cc33c0>\u001b[0m in \u001b[0;36m<module>\u001b[0;34m\u001b[0m\n\u001b[0;32m----> 1\u001b[0;31m \u001b[0mloaded_bookslist\u001b[0m\u001b[0;34m[\u001b[0m\u001b[0;34m:\u001b[0m\u001b[0;36m5\u001b[0m\u001b[0;34m]\u001b[0m\u001b[0;34m\u001b[0m\u001b[0;34m\u001b[0m\u001b[0m\n\u001b[0m",
      "\u001b[0;31mNameError\u001b[0m: name 'loaded_bookslist' is not defined"
     ]
    }
   ],
   "source": [
    "loaded_bookslist[:3]"
   ]
  },
  {
   "cell_type": "markdown",
   "metadata": {},
   "source": [
    "## Secondary scrape: Accessing img, description, format, pages and genre"
   ]
  },
  {
   "cell_type": "code",
   "execution_count": 30,
   "metadata": {},
   "outputs": [
    {
     "data": {
      "text/plain": [
       "{'titles': 'To Catch an Heiress (Agents of the Crown, #1)',\n",
       " 'authors': 'Paul Hoffman',\n",
       " 'ratings': '3.90',\n",
       " 'num_ratings': '12,269 ratings',\n",
       " 'id': '110395',\n",
       " 'img': '',\n",
       " 'description': ' ',\n",
       " 'format': '',\n",
       " 'pages': '',\n",
       " 'genre': set()}"
      ]
     },
     "execution_count": 30,
     "metadata": {},
     "output_type": "execute_result"
    }
   ],
   "source": [
    "# going to get info for all books, starting from 1909\n",
    "\n",
    "# full_book_list = [] # <-- run if re-starting\n",
    "\n",
    "driver = webdriver.Chrome()\n",
    "\n",
    "initial_gr_signin(driver)\n",
    "\n",
    "# for dic in books_list: if running whole notebook\n",
    "for dic in loaded_bookslist:\n",
    "    dic['img'],dic['description'], dic['format'], dic['page'], dic['genre'] = secondary_scrape(dic['id'], driver)        \n",
    "    full_book_list.append(dic)\n",
    "\n",
    "full_book_list[-1]"
   ]
  },
  {
   "cell_type": "code",
   "execution_count": 134,
   "metadata": {
    "scrolled": true
   },
   "outputs": [
    {
     "data": {
      "text/plain": [
       "17727"
      ]
     },
     "execution_count": 134,
     "metadata": {},
     "output_type": "execute_result"
    }
   ],
   "source": [
    "len(full_book_list)"
   ]
  },
  {
   "cell_type": "markdown",
   "metadata": {},
   "source": [
    "## Get data into Pandas dataframe and save"
   ]
  },
  {
   "cell_type": "markdown",
   "metadata": {},
   "source": [
    "Export dataframe as csv "
   ]
  },
  {
   "cell_type": "code",
   "execution_count": 32,
   "metadata": {},
   "outputs": [],
   "source": [
    "df1 = pd.DataFrame(full_book_list)\n",
    "# df1 = df1.drop(['genre1', 'genre2'], axis=1)\n",
    "# df1.to_csv('goodread_img1.csv')"
   ]
  },
  {
   "cell_type": "code",
   "execution_count": 40,
   "metadata": {
    "collapsed": true
   },
   "outputs": [
    {
     "data": {
      "text/html": [
       "<div>\n",
       "<style scoped>\n",
       "    .dataframe tbody tr th:only-of-type {\n",
       "        vertical-align: middle;\n",
       "    }\n",
       "\n",
       "    .dataframe tbody tr th {\n",
       "        vertical-align: top;\n",
       "    }\n",
       "\n",
       "    .dataframe thead th {\n",
       "        text-align: right;\n",
       "    }\n",
       "</style>\n",
       "<table border=\"1\" class=\"dataframe\">\n",
       "  <thead>\n",
       "    <tr style=\"text-align: right;\">\n",
       "      <th></th>\n",
       "      <th>titles</th>\n",
       "      <th>authors</th>\n",
       "      <th>ratings</th>\n",
       "      <th>num_ratings</th>\n",
       "      <th>id</th>\n",
       "      <th>img</th>\n",
       "      <th>description</th>\n",
       "      <th>pages</th>\n",
       "      <th>genre</th>\n",
       "      <th>format</th>\n",
       "    </tr>\n",
       "  </thead>\n",
       "  <tbody>\n",
       "    <tr>\n",
       "      <th>0</th>\n",
       "      <td>Anne of Avonlea (Anne of Green Gables, #2)</td>\n",
       "      <td>L.M. Montgomery</td>\n",
       "      <td>4.22</td>\n",
       "      <td>126781</td>\n",
       "      <td>77390</td>\n",
       "      <td>https://i.gr-assets.com/images/S/compressed.ph...</td>\n",
       "      <td>At sixteen, Anne is grown up...almost. Her gra...</td>\n",
       "      <td>304 pages</td>\n",
       "      <td>{'Childrens', 'Classics', 'Historical', 'Histo...</td>\n",
       "      <td>NaN</td>\n",
       "    </tr>\n",
       "    <tr>\n",
       "      <th>1</th>\n",
       "      <td>Ethan Frome</td>\n",
       "      <td>Edith Wharton</td>\n",
       "      <td>3.39</td>\n",
       "      <td>100785</td>\n",
       "      <td>5246</td>\n",
       "      <td>https://i.gr-assets.com/images/S/compressed.ph...</td>\n",
       "      <td>'He seemed a part of the mute melancholy lands...</td>\n",
       "      <td>189 pages</td>\n",
       "      <td>{'Classics', 'Academic', 'Fiction', 'School', ...</td>\n",
       "      <td>NaN</td>\n",
       "    </tr>\n",
       "    <tr>\n",
       "      <th>2</th>\n",
       "      <td>The Arabian Nights</td>\n",
       "      <td>Anonymous</td>\n",
       "      <td>4.05</td>\n",
       "      <td>70660</td>\n",
       "      <td>93101</td>\n",
       "      <td>https://i.gr-assets.com/images/S/compressed.ph...</td>\n",
       "      <td>The tales of told by Shahrazad over a thousand...</td>\n",
       "      <td>1049 pages</td>\n",
       "      <td>{'Classics', 'Short Stories', 'Fantasy', 'Fict...</td>\n",
       "      <td>NaN</td>\n",
       "    </tr>\n",
       "    <tr>\n",
       "      <th>3</th>\n",
       "      <td>Martin Eden</td>\n",
       "      <td>Jack London</td>\n",
       "      <td>4.43</td>\n",
       "      <td>21445</td>\n",
       "      <td>929782</td>\n",
       "      <td>https://i.gr-assets.com/images/S/compressed.ph...</td>\n",
       "      <td>Alternate cover edition of ISBN 9780140187724 ...</td>\n",
       "      <td>480 pages</td>\n",
       "      <td>{'Classics', 'American', 'Literature', 'Fiction'}</td>\n",
       "      <td>NaN</td>\n",
       "    </tr>\n",
       "    <tr>\n",
       "      <th>4</th>\n",
       "      <td>A Girl of the Limberlost (Limberlost, #2)</td>\n",
       "      <td>Gene Stratton-Porter</td>\n",
       "      <td>4.15</td>\n",
       "      <td>17932</td>\n",
       "      <td>17567</td>\n",
       "      <td>https://i.gr-assets.com/images/S/compressed.ph...</td>\n",
       "      <td>Set amid Indiana's vast Limberlost Swamp, this...</td>\n",
       "      <td>222 pages</td>\n",
       "      <td>{'Childrens', 'Classics', 'Historical', 'Histo...</td>\n",
       "      <td>NaN</td>\n",
       "    </tr>\n",
       "  </tbody>\n",
       "</table>\n",
       "</div>"
      ],
      "text/plain": [
       "                                       titles               authors ratings  \\\n",
       "0  Anne of Avonlea (Anne of Green Gables, #2)       L.M. Montgomery    4.22   \n",
       "1                                 Ethan Frome         Edith Wharton    3.39   \n",
       "2                          The Arabian Nights             Anonymous    4.05   \n",
       "3                                 Martin Eden           Jack London    4.43   \n",
       "4   A Girl of the Limberlost (Limberlost, #2)  Gene Stratton-Porter    4.15   \n",
       "\n",
       "  num_ratings      id                                                img  \\\n",
       "0      126781   77390  https://i.gr-assets.com/images/S/compressed.ph...   \n",
       "1      100785    5246  https://i.gr-assets.com/images/S/compressed.ph...   \n",
       "2       70660   93101  https://i.gr-assets.com/images/S/compressed.ph...   \n",
       "3       21445  929782  https://i.gr-assets.com/images/S/compressed.ph...   \n",
       "4       17932   17567  https://i.gr-assets.com/images/S/compressed.ph...   \n",
       "\n",
       "                                         description       pages  \\\n",
       "0  At sixteen, Anne is grown up...almost. Her gra...   304 pages   \n",
       "1  'He seemed a part of the mute melancholy lands...   189 pages   \n",
       "2  The tales of told by Shahrazad over a thousand...  1049 pages   \n",
       "3  Alternate cover edition of ISBN 9780140187724 ...   480 pages   \n",
       "4  Set amid Indiana's vast Limberlost Swamp, this...   222 pages   \n",
       "\n",
       "                                               genre format  \n",
       "0  {'Childrens', 'Classics', 'Historical', 'Histo...    NaN  \n",
       "1  {'Classics', 'Academic', 'Fiction', 'School', ...    NaN  \n",
       "2  {'Classics', 'Short Stories', 'Fantasy', 'Fict...    NaN  \n",
       "3  {'Classics', 'American', 'Literature', 'Fiction'}    NaN  \n",
       "4  {'Childrens', 'Classics', 'Historical', 'Histo...    NaN  "
      ]
     },
     "execution_count": 40,
     "metadata": {},
     "output_type": "execute_result"
    }
   ],
   "source": [
    "df1.head()"
   ]
  },
  {
   "cell_type": "markdown",
   "metadata": {},
   "source": [
    "Import dataframe from csv"
   ]
  },
  {
   "cell_type": "code",
   "execution_count": 4,
   "metadata": {},
   "outputs": [],
   "source": [
    "df1 = pd.read_csv('goodread_img1.csv')\n",
    "df1.drop('Unnamed: 0', axis=1,inplace=True)\n",
    "df1.head();"
   ]
  },
  {
   "cell_type": "code",
   "execution_count": 25,
   "metadata": {},
   "outputs": [],
   "source": [
    "df = pd.read_csv('goodread_des1.csv')\n",
    "df.drop('Unnamed: 0', axis=1,inplace=True)\n",
    "df['isbn'] = np.nan"
   ]
  },
  {
   "cell_type": "markdown",
   "metadata": {},
   "source": [
    "## Dealing with missing images"
   ]
  },
  {
   "cell_type": "code",
   "execution_count": 35,
   "metadata": {
    "scrolled": true
   },
   "outputs": [
    {
     "name": "stdout",
     "output_type": "stream",
     "text": [
      "null: 211\n",
      "not null: 17516\n"
     ]
    }
   ],
   "source": [
    "# see how many are empty\n",
    "print('null:',df1.img.apply(lambda x: x if x != '' else np.nan).isnull().sum())\n",
    "print ('not null:',df1.img.apply(lambda x: x if x != '' else np.nan).notnull().sum())"
   ]
  },
  {
   "cell_type": "code",
   "execution_count": 8,
   "metadata": {
    "scrolled": false
   },
   "outputs": [
    {
     "data": {
      "text/plain": [
       "10928"
      ]
     },
     "execution_count": 8,
     "metadata": {},
     "output_type": "execute_result"
    }
   ],
   "source": [
    "# create list with index & goodreads id for items missing an img source\n",
    "\n",
    "no_img_id = []\n",
    "for k, v in df1.iterrows():\n",
    "    if df1.iloc[k].img == '' or type(df1.iloc[k].img) == float:\n",
    "        no_img_id.append((k, df1.iloc[k].id))\n",
    "\n",
    "len(no_img_id) # should be the same as above"
   ]
  },
  {
   "cell_type": "markdown",
   "metadata": {},
   "source": [
    "Testing get_imgs on individual site"
   ]
  },
  {
   "cell_type": "code",
   "execution_count": 10,
   "metadata": {},
   "outputs": [
    {
     "name": "stdout",
     "output_type": "stream",
     "text": [
      "cov\n",
      "https://i.gr-assets.com/images/S/compressed.photo.goodreads.com/books/1431363154l/24950845.jpg\n"
     ]
    }
   ],
   "source": [
    "\n",
    "driver = webdriver.Chrome()\n",
    "initial_gr_signin(driver)\n",
    "driver.get('https://www.goodreads.com/book/show/24950845')\n",
    "img = ''\n",
    "try:\n",
    "    img = driver.find_element_by_id('coverImage')\n",
    "    img = img.get_attribute('src')\n",
    "    print ('cov')\n",
    "\n",
    "except:\n",
    "    try:\n",
    "        img = driver.find_element_by_class('mainBookCover')\n",
    "        img = img.get_attribute('src')\n",
    "        print('main')\n",
    "\n",
    "    except:\n",
    "        try:\n",
    "            img = driver.find_element_by_xpath('/html/body/div[2]/div[3]/div[1]/div[2]/div[2]/div[1]/div[1]/div[1]/div[1]/a/img')\n",
    "            img = img.get_attribute('src')\n",
    "            print('xpath')\n",
    "        except:\n",
    "            print('nope')\n",
    "            img = np.nan\n",
    "\n",
    "# igg = get_imgs(driver)\n",
    "print(img)\n"
   ]
  },
  {
   "cell_type": "code",
   "execution_count": 36,
   "metadata": {},
   "outputs": [
    {
     "name": "stdout",
     "output_type": "stream",
     "text": [
      "3116\n"
     ]
    }
   ],
   "source": [
    "# check where in no_img_id the image search stopped\n",
    "\n",
    "ct = 0\n",
    "for i, ig in no_img_id:\n",
    "    if i == 19161909 or ig == 19161909:\n",
    "        print (ct)\n",
    "    ct += 1"
   ]
  },
  {
   "cell_type": "code",
   "execution_count": 36,
   "metadata": {},
   "outputs": [
    {
     "data": {
      "text/plain": [
       "(10928, 10928, 10717, 211)"
      ]
     },
     "execution_count": 36,
     "metadata": {},
     "output_type": "execute_result"
    }
   ],
   "source": [
    "len(df1), len(no_img_id), len(still_no_img)+found, found, len(still_no_img)"
   ]
  },
  {
   "cell_type": "code",
   "execution_count": 27,
   "metadata": {
    "collapsed": true
   },
   "outputs": [
    {
     "name": "stdout",
     "output_type": "stream",
     "text": [
      "image not found for 1069228,\n",
      "found : 0\n",
      "image not found for 5041959,\n",
      "found : 0\n",
      "image not found for 1350016,\n",
      "found : 0\n",
      "image not found for 2188544,\n",
      "found : 0\n",
      "image not found for 1740072,\n",
      "found : 0\n",
      "image not found for 1895199,\n",
      "found : 0\n",
      "image not found for 5962452,\n",
      "found : 0\n",
      "image not found for 5494385,\n",
      "found : 50\n",
      "image not found for 8701725,\n",
      "image not found for 2634450,\n",
      "image not found for 2571523,\n",
      "image not found for 2579924,\n",
      "image not found for 3278041,\n",
      "image not found for 2624442,\n",
      "image not found for 6651170,\n",
      "image not found for 959528,\n",
      "image not found for 1585444,\n",
      "image not found for 6674903,\n",
      "image not found for 2737795,\n",
      "image not found for 6525886,\n",
      "image not found for 2947536,\n",
      "image not found for 2270923,\n",
      "image not found for 2270839,\n",
      "image not found for 3770082,\n",
      "found : 100\n",
      "found : 150\n",
      "image not found for 6246317,\n",
      "image not found for 107358,\n",
      "image not found for 121328,\n",
      "image not found for 2010401,\n",
      "image not found for 3956198,\n",
      "found : 200\n",
      "image not found for 1839645,\n",
      "image not found for 10757832,\n",
      "image not found for 5982018,\n",
      "image not found for 782909,\n",
      "image not found for 5063154,\n",
      "image not found for 2435094,\n",
      "image not found for 8392788,\n",
      "image not found for 2834957,\n",
      "image not found for 3629988,\n",
      "image not found for 1427509,\n",
      "image not found for 6690765,\n",
      "image not found for 8629902,\n",
      "image not found for 1229791,\n",
      "found : 250\n",
      "found : 300\n",
      "image not found for 5619377,\n",
      "image not found for 2658053,\n",
      "image not found for 577129,\n",
      "image not found for 8138120,\n",
      "found : 350\n",
      "found : 400\n",
      "found : 450\n",
      "image not found for 295529,\n",
      "found : 500\n",
      "image not found for 2555618,\n",
      "image not found for 3481860,\n",
      "image not found for 4070520,\n",
      "image not found for 8285522,\n",
      "image not found for 7518749,\n",
      "image not found for 6203351,\n",
      "image not found for 5909629,\n",
      "found : 550\n",
      "image not found for 4937702,\n",
      "image not found for 6328247,\n",
      "image not found for 5367833,\n",
      "found : 600\n",
      "image not found for 2945037,\n",
      "found : 650\n",
      "image not found for 679445,\n",
      "image not found for 3612065,\n",
      "image not found for 2452465,\n",
      "found : 700\n",
      "image not found for 331321,\n",
      "image not found for 10324513,\n",
      "image not found for 194846,\n",
      "found : 750\n",
      "found : 800\n",
      "image not found for 17522,\n",
      "image not found for 2769267,\n",
      "image not found for 8158776,\n",
      "found : 850\n",
      "image not found for 1863458,\n",
      "image not found for 7128673,\n",
      "image not found for 312603,\n",
      "image not found for 4473333,\n",
      "image not found for 6175730,\n",
      "image not found for 21437501,\n",
      "found : 900\n",
      "found : 950\n",
      "image not found for 12836915,\n",
      "found : 1000\n",
      "image not found for 6437900,\n",
      "image not found for 10213829,\n",
      "image not found for 17167093,\n",
      "image not found for 6655931,\n",
      "found : 1050\n",
      "image not found for 10773895,\n",
      "image not found for 2020388,\n",
      "image not found for 7304311,\n",
      "image not found for 2804538,\n",
      "image not found for 7159317,\n",
      "found : 1100\n",
      "image not found for 17795743,\n",
      "found : 1150\n",
      "image not found for 17279983,\n",
      "image not found for 3624382,\n",
      "image not found for 3720608,\n",
      "image not found for 6597629,\n",
      "image not found for 1466274,\n",
      "found : 1200\n",
      "image not found for 2234991,\n",
      "image not found for 1740617,\n",
      "image not found for 1168710,\n",
      "image not found for 5056810,\n",
      "found : 1250\n",
      "found : 1300\n",
      "image not found for 2662723,\n",
      "image not found for 1576174,\n",
      "image not found for 13297215,\n",
      "image not found for 6425658,\n",
      "found : 1350\n",
      "image not found for 6839717,\n",
      "image not found for 8573650,\n",
      "image not found for 344254,\n",
      "image not found for 2664281,\n",
      "found : 1400\n",
      "found : 1450\n",
      "image not found for 11440949,\n",
      "image not found for 11091354,\n",
      "found : 1500\n",
      "image not found for 11696786,\n",
      "image not found for 12219703,\n",
      "image not found for 5966387,\n",
      "found : 1550\n",
      "image not found for 9372369,\n",
      "found : 1600\n",
      "image not found for 2815620,\n",
      "found : 1650\n",
      "image not found for 2854366,\n",
      "found : 1700\n",
      "found : 1750\n",
      "image not found for 768113,\n",
      "found : 1800\n",
      "image not found for 6543144,\n",
      "image not found for 10156061,\n",
      "image not found for 11412420,\n",
      "found : 1850\n",
      "image not found for 15712423,\n",
      "image not found for 11156523,\n",
      "found : 1900\n",
      "found : 1950\n",
      "found : 2000\n",
      "image not found for 5124922,\n",
      "image not found for 2175245,\n",
      "image not found for 1637435,\n",
      "found : 2050\n",
      "image not found for 2397897,\n",
      "found : 2100\n",
      "image not found for 9276515,\n",
      "found : 2150\n",
      "image not found for 6216137,\n",
      "found : 2200\n",
      "image not found for 11289180,\n",
      "image not found for 14877984,\n",
      "image not found for 854296,\n",
      "found : 2250\n",
      "image not found for 11794729,\n",
      "found : 2300\n",
      "found : 2350\n",
      "image not found for 353826,\n",
      "image not found for 4368906,\n",
      "image not found for 17332858,\n",
      "image not found for 3604275,\n",
      "found : 2400\n",
      "found : 2450\n",
      "image not found for 8662574,\n",
      "found : 2500\n",
      "found : 2550\n",
      "image not found for 8857716,\n",
      "image not found for 626403,\n",
      "image not found for 17339825,\n",
      "image not found for 12955531,\n",
      "image not found for 121282,\n",
      "image not found for 18597003,\n",
      "found : 2600\n",
      "found : 2650\n",
      "image not found for 4343830,\n",
      "found : 2700\n",
      "image not found for 8088963,\n",
      "image not found for 20405351,\n",
      "found : 2750\n",
      "image not found for 12907374,\n",
      "image not found for 997336,\n",
      "image not found for 13518923,\n",
      "found : 2800\n",
      "image not found for 887495,\n",
      "found : 2850\n",
      "image not found for 11512554,\n",
      "found : 2900\n",
      "image not found for 1654900,\n",
      "image not found for 19481814,\n",
      "image not found for 21546482,\n",
      "image not found for 1873651,\n",
      "image not found for 121226,\n",
      "image not found for 298854,\n",
      "image not found for 642211,\n",
      "image not found for 2928577,\n",
      "image not found for 184425,\n",
      "image not found for 1961207,\n",
      "image not found for 121367,\n",
      "image not found for 7802409,\n",
      "image not found for 574035,\n",
      "image not found for 4142887,\n",
      "image not found for 1417948,\n",
      "image not found for 2644933,\n",
      "image not found for 3728520,\n",
      "image not found for 11530400,\n",
      "image not found for 3032644,\n",
      "image not found for 1575880,\n",
      "image not found for 1586489,\n",
      "image not found for 1988628,\n",
      "image not found for 1634493,\n",
      "image not found for 1558286,\n",
      "image not found for 12676549,\n",
      "image not found for 325415,\n",
      "image not found for 11938807,\n",
      "image not found for 203829,\n",
      "image not found for 21470006,\n",
      "image not found for 8576497,\n",
      "image not found for 18109660,\n",
      "image not found for 3283586,\n",
      "image not found for 15707651,\n",
      "image not found for 851579,\n",
      "image not found for 1490693,\n",
      "image not found for 1220491,\n",
      "image not found for 12606203,\n",
      "image not found for 813350,\n",
      "image not found for 5356665,\n",
      "image not found for 187915,\n",
      "image not found for 177730,\n",
      "image not found for 1247559,\n",
      "image not found for 6250479,\n",
      "image not found for 9800971,\n",
      "image not found for 5865435,\n",
      "image not found for 1115866,\n",
      "image not found for 1323878,\n",
      "image not found for 961180,\n",
      "image not found for 5039238,\n",
      "image not found for 6183819,\n",
      "image not found for 6457601,\n",
      "image not found for 13582889,\n",
      "image not found for 3598493,\n",
      "image not found for 366631,\n",
      "image not found for 545004,\n",
      "image not found for 2438208,\n",
      "image not found for 6015220,\n",
      "image not found for 1546165,\n",
      "image not found for 767854,\n",
      "image not found for 355156,\n",
      "image not found for 166969,\n",
      "image not found for 121007,\n",
      "image not found for 11738995,\n",
      "image not found for 346607,\n",
      "found : 2950\n",
      "found : 3000\n",
      "found : 3050\n",
      "image not found for 5753716,\n",
      "found : 3100\n",
      "found : 3150\n",
      "found : 3200\n",
      "found : 3250\n",
      "found : 3300\n",
      "found : 3350\n",
      "found : 3400\n",
      "found : 3450\n",
      "found : 3500\n",
      "found : 3550\n",
      "found : 3600\n",
      "found : 3650\n",
      "found : 3700\n",
      "found : 3750\n",
      "found : 3800\n",
      "found : 3850\n",
      "found : 3900\n",
      "found : 3950\n",
      "found : 4000\n",
      "found : 4050\n",
      "found : 4100\n",
      "found : 4150\n",
      "found : 4200\n",
      "image not found for 634660,\n",
      "found : 4250\n",
      "found : 4300\n",
      "found : 4350\n",
      "found : 4400\n",
      "found : 4450\n",
      "found : 4500\n",
      "found : 4550\n",
      "found : 4600\n",
      "found : 4650\n",
      "found : 4700\n",
      "found : 4750\n",
      "found : 4800\n",
      "found : 4850\n",
      "found : 4900\n",
      "found : 4950\n",
      "found : 5000\n",
      "found : 5050\n",
      "found : 5100\n",
      "found : 5150\n",
      "found : 5200\n",
      "found : 5250\n",
      "found : 5300\n",
      "found : 5350\n",
      "found : 5400\n",
      "found : 5450\n",
      "found : 5500\n",
      "found : 5550\n",
      "found : 5600\n",
      "found : 5650\n",
      "found : 5700\n",
      "found : 5750\n",
      "found : 5800\n",
      "found : 5850\n",
      "found : 5900\n",
      "found : 5950\n",
      "found : 6000\n",
      "found : 6050\n",
      "found : 6100\n",
      "found : 6150\n",
      "found : 6200\n",
      "found : 6250\n",
      "found : 6300\n",
      "found : 6350\n",
      "found : 6400\n",
      "found : 6450\n",
      "found : 6500\n",
      "found : 6550\n",
      "found : 6600\n",
      "found : 6650\n",
      "found : 6700\n",
      "found : 6750\n",
      "found : 6800\n",
      "found : 6850\n",
      "image not found for 4572267,\n",
      "found : 6900\n",
      "found : 6950\n",
      "found : 7000\n",
      "found : 7050\n",
      "found : 7100\n",
      "found : 7150\n",
      "found : 7200\n",
      "found : 7250\n",
      "found : 7300\n",
      "found : 7350\n",
      "found : 7400\n",
      "found : 7450\n",
      "found : 7500\n",
      "found : 7550\n",
      "found : 7600\n",
      "found : 7650\n",
      "found : 7700\n",
      "found : 7750\n",
      "found : 7800\n"
     ]
    },
    {
     "name": "stdout",
     "output_type": "stream",
     "text": [
      "found : 7850\n",
      "found : 7900\n",
      "found : 7950\n",
      "found : 8000\n",
      "found : 8050\n",
      "found : 8100\n",
      "found : 8150\n",
      "found : 8200\n",
      "found : 8250\n",
      "found : 8300\n",
      "found : 8350\n",
      "found : 8400\n",
      "found : 8450\n",
      "found : 8500\n",
      "found : 8550\n",
      "found : 8600\n",
      "found : 8650\n",
      "found : 8700\n",
      "found : 8750\n",
      "found : 8800\n",
      "found : 8850\n",
      "found : 8900\n",
      "found : 8950\n",
      "found : 9000\n",
      "found : 9050\n",
      "found : 9100\n",
      "found : 9150\n",
      "found : 9200\n",
      "found : 9250\n",
      "found : 9300\n",
      "found : 9350\n",
      "found : 9400\n",
      "found : 9450\n",
      "found : 9500\n",
      "found : 9550\n",
      "found : 9600\n",
      "found : 9650\n",
      "found : 9700\n",
      "found : 9750\n",
      "found : 9800\n",
      "found : 9850\n",
      "found : 9900\n",
      "found : 9950\n",
      "found : 10000\n",
      "found : 10050\n",
      "found : 10100\n",
      "found : 10150\n",
      "found : 10200\n",
      "found : 10250\n",
      "found : 10300\n",
      "found : 10350\n",
      "found : 10400\n",
      "found : 10450\n",
      "found : 10500\n",
      "found : 10550\n",
      "found : 10600\n",
      "found : 10650\n",
      "found : 10700\n"
     ]
    }
   ],
   "source": [
    "# code to get images using function\n",
    "\n",
    "driver = webdriver.Chrome()\n",
    "initial_gr_signin(driver)\n",
    "# found = 0 \n",
    "# still_no_img = []\n",
    "skipped = 0\n",
    "\n",
    "for idx, gr_id in no_img_id:\n",
    "    if df1.iloc[idx].img != '' and type(df1.iloc[idx].img) != float:\n",
    "        if skipped % 50 == 0:\n",
    "            print (f'skipped : {skipped}')\n",
    "        skipped +=1\n",
    "        continue\n",
    "    \n",
    "    driver.get(f\"https://www.goodreads.com/book/show/{gr_id}\")\n",
    "    \n",
    "    img_src = get_imgs(driver)\n",
    "    df1.loc[idx,'img'] = img_src\n",
    "    \n",
    "    if type(img_src) == float:\n",
    "        print(f'image not found for {gr_id},')\n",
    "        still_no_img.append((idx, gr_id))\n",
    "    else:\n",
    "        found += 1\n",
    "    if found % 50 == 0 and found != 0 :\n",
    "        print (f'found : {found}')\n",
    "        \n",
    "        # save updated dataframe, image list and found\n",
    "        df1.to_csv('goodread_img1.csv')\n"
   ]
  },
  {
   "cell_type": "code",
   "execution_count": 37,
   "metadata": {},
   "outputs": [],
   "source": [
    "# final save with images (211 missing by the end)\n",
    "df1.to_csv('goodread_img1.csv')"
   ]
  },
  {
   "cell_type": "markdown",
   "metadata": {},
   "source": [
    "## Missing Description"
   ]
  },
  {
   "cell_type": "markdown",
   "metadata": {},
   "source": [
    "Find where description is missing"
   ]
  },
  {
   "cell_type": "code",
   "execution_count": 5,
   "metadata": {},
   "outputs": [],
   "source": [
    "no_description = []\n",
    "for idx, row in df1[df1.description == ' '].iterrows():\n",
    "    no_description.append((idx, row.id))\n"
   ]
  },
  {
   "cell_type": "code",
   "execution_count": 14,
   "metadata": {},
   "outputs": [
    {
     "data": {
      "text/plain": [
       "(156, 5840903)"
      ]
     },
     "execution_count": 14,
     "metadata": {},
     "output_type": "execute_result"
    }
   ],
   "source": [
    "no_description[110]"
   ]
  },
  {
   "cell_type": "code",
   "execution_count": 18,
   "metadata": {
    "collapsed": true
   },
   "outputs": [
    {
     "name": "stdout",
     "output_type": "stream",
     "text": [
      "When Jack receives a book on insects for his birthday, Maggie wishes one could get \"into\" a book. And so they do, experiencing adventures with insects of all sorts as they \"travel\" through the book. Along the way they encounter a butterfly with a grievance, extraordinary caterpillars, a hungry spider, a distinguished musician (a katydid), as well as fireflies, locusts, grasshoppers, wasps, bees, and more. The author, Edmund Selous, a lifelong observer of wildlife, produced books about animals for both children and adults. In his books for children, Selous conveys an amazing amount of information about animals through the conversations his youthful protagonists have with the animals they encounter. Each animal is brought to life so vividly through the story that the reader unconsciously absorbs the details of its existence: its physical characteristics, its habits and preferences, and its interactions with other animals.\n",
      " When Jack receives a book on insects for his birthday, Maggie wishes one could get \"into\" a book. And so they do, experiencing adventures with insects of all sorts as they \"travel\" through the book. Along the way they encounter a butterfly with a grievance, extraordinary caterpillars, a hungry spider, a distinguished musician (a katydid), as well as fireflies, locusts, grasshoppers, wasps, bees, and more. The author, Edmund Selous, a lifelong observer of wildlife, produced books about animals for both children and adults. In his books for children, Selous conveys an amazing amount of information about animals through the conversations his youthful protagonists have with the animals they encounter. Each animal is brought to life so vividly through the story that the reader unconsciously absorbs the details of its existence: its physical characteristics, its habits and preferences, and its interactions with other animals. False\n"
     ]
    }
   ],
   "source": [
    "# testing get_description on individual site\n",
    "\n",
    "\n",
    "driver = webdriver.Chrome()\n",
    "initial_gr_signin(driver)\n",
    "driver.get('https://www.goodreads.com/book/show/5840903')\n",
    "descrip = ''\n",
    "\n",
    "# more = driver.find_elements_by_xpath('//*[@id=\"description\"]/a')\n",
    "# try:\n",
    "#     # handling errors to do with an extended description\n",
    "#     more[0].click()\n",
    "#     try:\n",
    "#         describe = driver.find_element_by_id('description').text[:-7].strip()\n",
    "#         descrip = ' '.join(describe.split('\\n'))\n",
    "#     except:\n",
    "#         descrip = np.nan\n",
    "\n",
    "# except:\n",
    "#     try:\n",
    "#         describe = driver.find_element_by_id('description').text[:-7].strip()\n",
    "#         descrip = ' '.join(describe.split('\\n'))\n",
    "#     except:\n",
    "#         descrip = np.nan\n",
    "\n",
    "description = get_description(driver)\n",
    "print (description)\n",
    "# print(descrip, description, descrip == description)\n"
   ]
  },
  {
   "cell_type": "code",
   "execution_count": 22,
   "metadata": {},
   "outputs": [],
   "source": [
    "df1.to_csv('goodread_des1.csv')"
   ]
  },
  {
   "cell_type": "code",
   "execution_count": 27,
   "metadata": {},
   "outputs": [
    {
     "name": "stdout",
     "output_type": "stream",
     "text": [
      "2605 15819761\n"
     ]
    }
   ],
   "source": [
    "count = 1\n",
    "for i, ig in no_description:\n",
    "    if count == 2447:\n",
    "        print (i, ig)\n",
    "    count += 1"
   ]
  },
  {
   "cell_type": "code",
   "execution_count": 21,
   "metadata": {
    "collapsed": true
   },
   "outputs": [
    {
     "name": "stdout",
     "output_type": "stream",
     "text": [
      "description not found for 6480591,\n",
      "description not found for 483583,\n",
      "found : 50\n",
      "found : 100\n",
      "description not found for 2567639,\n",
      "description not found for 6651170,\n",
      "description not found for 3245210,\n",
      "description not found for 1585444,\n",
      "description not found for 2737795,\n",
      "description not found for 6525886,\n",
      "description not found for 2270839,\n",
      "description not found for 3770082,\n",
      "found : 150\n",
      "description not found for 2727141,\n",
      "found : 200\n",
      "description not found for 107358,\n",
      "description not found for 7705411,\n",
      "description not found for 5263927,\n",
      "description not found for 1346496,\n",
      "description not found for 2154455,\n",
      "found : 250\n",
      "description not found for 1003199,\n",
      "found : 250\n",
      "description not found for 1333884,\n",
      "description not found for 782909,\n",
      "description not found for 2435094,\n",
      "description not found for 2200868,\n",
      "description not found for 6830705,\n",
      "description not found for 1427509,\n",
      "description not found for 3891281,\n",
      "description not found for 2348468,\n",
      "found : 300\n",
      "found : 350\n",
      "found : 400\n",
      "found : 450\n",
      "description not found for 3295965,\n",
      "description not found for 2342922,\n",
      "found : 500\n",
      "description not found for 1474783,\n",
      "description not found for 2391485,\n",
      "description not found for 295529,\n",
      "description not found for 1892010,\n",
      "found : 550\n",
      "description not found for 575837,\n",
      "found : 600\n",
      "description not found for 752754,\n",
      "description not found for 9742914,\n",
      "found : 650\n",
      "description not found for 2251777,\n",
      "found : 700\n",
      "found : 750\n",
      "description not found for 4891408,\n",
      "description not found for 7615724,\n",
      "description not found for 4439260,\n",
      "description not found for 6630210,\n",
      "found : 800\n",
      "description not found for 3411088,\n",
      "found : 850\n",
      "description not found for 6413195,\n",
      "description not found for 363773,\n",
      "description not found for 859638,\n",
      "found : 900\n",
      "description not found for 2334282,\n",
      "description not found for 1863458,\n",
      "found : 950\n",
      "description not found for 21437501,\n",
      "description not found for 26947,\n",
      "description not found for 964187,\n",
      "found : 1000\n",
      "description not found for 596810,\n",
      "description not found for 11554621,\n",
      "description not found for 1862884,\n",
      "found : 1050\n",
      "description not found for 1970467,\n",
      "description not found for 161626,\n",
      "description not found for 2650942,\n",
      "description not found for 12836915,\n",
      "found : 1100\n",
      "description not found for 10213829,\n",
      "description not found for 3407835,\n",
      "found : 1150\n",
      "description not found for 2020388,\n",
      "found : 1200\n",
      "description not found for 15718070,\n",
      "found : 1250\n",
      "description not found for 18490060,\n",
      "found : 1300\n",
      "description not found for 1323360,\n",
      "description not found for 1740617,\n",
      "description not found for 1522991,\n",
      "description not found for 13434263,\n",
      "found : 1350\n",
      "description not found for 256330,\n",
      "found : 1400\n",
      "description not found for 571039,\n",
      "found : 1400\n",
      "found : 1450\n",
      "description not found for 2504418,\n",
      "found : 1500\n",
      "description not found for 2664281,\n",
      "description not found for 28190831,\n",
      "description not found for 19458535,\n",
      "description not found for 3909654,\n",
      "description not found for 80176,\n",
      "description not found for 52042,\n",
      "found : 1550\n",
      "found : 1600\n",
      "description not found for 11080209,\n",
      "description not found for 10083786,\n",
      "description not found for 11013513,\n",
      "description not found for 16101587,\n",
      "description not found for 2980218,\n",
      "found : 1650\n",
      "description not found for 935852,\n",
      "found : 1650\n",
      "description not found for 11696786,\n",
      "description not found for 13356016,\n",
      "description not found for 16071211,\n",
      "description not found for 2331287,\n",
      "description not found for 15720455,\n",
      "found : 1700\n",
      "description not found for 24789962,\n",
      "found : 1700\n",
      "description not found for 22094293,\n",
      "description not found for 597222,\n",
      "found : 1750\n",
      "found : 1800\n",
      "description not found for 17801701,\n",
      "found : 1850\n",
      "description not found for 887956,\n",
      "description not found for 910128,\n",
      "found : 1900\n",
      "found : 1950\n",
      "description not found for 2867522,\n",
      "description not found for 18846286,\n",
      "found : 2000\n",
      "found : 2050\n",
      "description not found for 12548267,\n",
      "description not found for 13444934,\n",
      "description not found for 6566531,\n",
      "description not found for 3030513,\n",
      "description not found for 1952579,\n",
      "found : 2100\n",
      "description not found for 636802,\n",
      "found : 2150\n",
      "description not found for 13646554,\n",
      "found : 2200\n",
      "description not found for 13498464,\n",
      "description not found for 15841674,\n",
      "found : 2250\n",
      "description not found for 1352798,\n",
      "found : 2300\n",
      "description not found for 5862870,\n",
      "description not found for 11079151,\n",
      "description not found for 9276515,\n",
      "description not found for 3917009,\n",
      "found : 2350\n",
      "description not found for 6499394,\n",
      "description not found for 7542715,\n",
      "description not found for 18816934,\n",
      "description not found for 11886346,\n",
      "found : 2400\n",
      "description not found for 11858172,\n",
      "description not found for 4252335,\n",
      "description not found for 1598196,\n",
      "description not found for 840423,\n",
      "description not found for 11289180,\n",
      "description not found for 9523331,\n"
     ]
    },
    {
     "ename": "KeyboardInterrupt",
     "evalue": "",
     "output_type": "error",
     "traceback": [
      "\u001b[0;31m---------------------------------------------------------------------------\u001b[0m",
      "\u001b[0;31mTypeError\u001b[0m                                 Traceback (most recent call last)",
      "\u001b[0;32m//anaconda3/lib/python3.7/site-packages/urllib3/connectionpool.py\u001b[0m in \u001b[0;36m_make_request\u001b[0;34m(self, conn, method, url, timeout, chunked, **httplib_request_kw)\u001b[0m\n\u001b[1;32m    376\u001b[0m             \u001b[0;32mtry\u001b[0m\u001b[0;34m:\u001b[0m  \u001b[0;31m# Python 2.7, use buffering of HTTP responses\u001b[0m\u001b[0;34m\u001b[0m\u001b[0;34m\u001b[0m\u001b[0m\n\u001b[0;32m--> 377\u001b[0;31m                 \u001b[0mhttplib_response\u001b[0m \u001b[0;34m=\u001b[0m \u001b[0mconn\u001b[0m\u001b[0;34m.\u001b[0m\u001b[0mgetresponse\u001b[0m\u001b[0;34m(\u001b[0m\u001b[0mbuffering\u001b[0m\u001b[0;34m=\u001b[0m\u001b[0;32mTrue\u001b[0m\u001b[0;34m)\u001b[0m\u001b[0;34m\u001b[0m\u001b[0;34m\u001b[0m\u001b[0m\n\u001b[0m\u001b[1;32m    378\u001b[0m             \u001b[0;32mexcept\u001b[0m \u001b[0mTypeError\u001b[0m\u001b[0;34m:\u001b[0m  \u001b[0;31m# Python 3\u001b[0m\u001b[0;34m\u001b[0m\u001b[0;34m\u001b[0m\u001b[0m\n",
      "\u001b[0;31mTypeError\u001b[0m: getresponse() got an unexpected keyword argument 'buffering'",
      "\nDuring handling of the above exception, another exception occurred:\n",
      "\u001b[0;31mKeyboardInterrupt\u001b[0m                         Traceback (most recent call last)",
      "\u001b[0;32m<ipython-input-21-84c647515472>\u001b[0m in \u001b[0;36m<module>\u001b[0;34m\u001b[0m\n\u001b[1;32m     11\u001b[0m         \u001b[0;32mcontinue\u001b[0m\u001b[0;34m\u001b[0m\u001b[0;34m\u001b[0m\u001b[0m\n\u001b[1;32m     12\u001b[0m \u001b[0;34m\u001b[0m\u001b[0m\n\u001b[0;32m---> 13\u001b[0;31m     \u001b[0mdriver\u001b[0m\u001b[0;34m.\u001b[0m\u001b[0mget\u001b[0m\u001b[0;34m(\u001b[0m\u001b[0;34mf\"https://www.goodreads.com/book/show/{gr_id}\"\u001b[0m\u001b[0;34m)\u001b[0m\u001b[0;34m\u001b[0m\u001b[0;34m\u001b[0m\u001b[0m\n\u001b[0m\u001b[1;32m     14\u001b[0m \u001b[0;34m\u001b[0m\u001b[0m\n\u001b[1;32m     15\u001b[0m     \u001b[0mdescription\u001b[0m \u001b[0;34m=\u001b[0m \u001b[0mget_description\u001b[0m\u001b[0;34m(\u001b[0m\u001b[0mdriver\u001b[0m\u001b[0;34m)\u001b[0m\u001b[0;34m\u001b[0m\u001b[0;34m\u001b[0m\u001b[0m\n",
      "\u001b[0;32m//anaconda3/lib/python3.7/site-packages/selenium/webdriver/remote/webdriver.py\u001b[0m in \u001b[0;36mget\u001b[0;34m(self, url)\u001b[0m\n\u001b[1;32m    331\u001b[0m         \u001b[0mLoads\u001b[0m \u001b[0ma\u001b[0m \u001b[0mweb\u001b[0m \u001b[0mpage\u001b[0m \u001b[0;32min\u001b[0m \u001b[0mthe\u001b[0m \u001b[0mcurrent\u001b[0m \u001b[0mbrowser\u001b[0m \u001b[0msession\u001b[0m\u001b[0;34m.\u001b[0m\u001b[0;34m\u001b[0m\u001b[0;34m\u001b[0m\u001b[0m\n\u001b[1;32m    332\u001b[0m         \"\"\"\n\u001b[0;32m--> 333\u001b[0;31m         \u001b[0mself\u001b[0m\u001b[0;34m.\u001b[0m\u001b[0mexecute\u001b[0m\u001b[0;34m(\u001b[0m\u001b[0mCommand\u001b[0m\u001b[0;34m.\u001b[0m\u001b[0mGET\u001b[0m\u001b[0;34m,\u001b[0m \u001b[0;34m{\u001b[0m\u001b[0;34m'url'\u001b[0m\u001b[0;34m:\u001b[0m \u001b[0murl\u001b[0m\u001b[0;34m}\u001b[0m\u001b[0;34m)\u001b[0m\u001b[0;34m\u001b[0m\u001b[0;34m\u001b[0m\u001b[0m\n\u001b[0m\u001b[1;32m    334\u001b[0m \u001b[0;34m\u001b[0m\u001b[0m\n\u001b[1;32m    335\u001b[0m     \u001b[0;34m@\u001b[0m\u001b[0mproperty\u001b[0m\u001b[0;34m\u001b[0m\u001b[0;34m\u001b[0m\u001b[0m\n",
      "\u001b[0;32m//anaconda3/lib/python3.7/site-packages/selenium/webdriver/remote/webdriver.py\u001b[0m in \u001b[0;36mexecute\u001b[0;34m(self, driver_command, params)\u001b[0m\n\u001b[1;32m    317\u001b[0m \u001b[0;34m\u001b[0m\u001b[0m\n\u001b[1;32m    318\u001b[0m         \u001b[0mparams\u001b[0m \u001b[0;34m=\u001b[0m \u001b[0mself\u001b[0m\u001b[0;34m.\u001b[0m\u001b[0m_wrap_value\u001b[0m\u001b[0;34m(\u001b[0m\u001b[0mparams\u001b[0m\u001b[0;34m)\u001b[0m\u001b[0;34m\u001b[0m\u001b[0;34m\u001b[0m\u001b[0m\n\u001b[0;32m--> 319\u001b[0;31m         \u001b[0mresponse\u001b[0m \u001b[0;34m=\u001b[0m \u001b[0mself\u001b[0m\u001b[0;34m.\u001b[0m\u001b[0mcommand_executor\u001b[0m\u001b[0;34m.\u001b[0m\u001b[0mexecute\u001b[0m\u001b[0;34m(\u001b[0m\u001b[0mdriver_command\u001b[0m\u001b[0;34m,\u001b[0m \u001b[0mparams\u001b[0m\u001b[0;34m)\u001b[0m\u001b[0;34m\u001b[0m\u001b[0;34m\u001b[0m\u001b[0m\n\u001b[0m\u001b[1;32m    320\u001b[0m         \u001b[0;32mif\u001b[0m \u001b[0mresponse\u001b[0m\u001b[0;34m:\u001b[0m\u001b[0;34m\u001b[0m\u001b[0;34m\u001b[0m\u001b[0m\n\u001b[1;32m    321\u001b[0m             \u001b[0mself\u001b[0m\u001b[0;34m.\u001b[0m\u001b[0merror_handler\u001b[0m\u001b[0;34m.\u001b[0m\u001b[0mcheck_response\u001b[0m\u001b[0;34m(\u001b[0m\u001b[0mresponse\u001b[0m\u001b[0;34m)\u001b[0m\u001b[0;34m\u001b[0m\u001b[0;34m\u001b[0m\u001b[0m\n",
      "\u001b[0;32m//anaconda3/lib/python3.7/site-packages/selenium/webdriver/remote/remote_connection.py\u001b[0m in \u001b[0;36mexecute\u001b[0;34m(self, command, params)\u001b[0m\n\u001b[1;32m    372\u001b[0m         \u001b[0mdata\u001b[0m \u001b[0;34m=\u001b[0m \u001b[0mutils\u001b[0m\u001b[0;34m.\u001b[0m\u001b[0mdump_json\u001b[0m\u001b[0;34m(\u001b[0m\u001b[0mparams\u001b[0m\u001b[0;34m)\u001b[0m\u001b[0;34m\u001b[0m\u001b[0;34m\u001b[0m\u001b[0m\n\u001b[1;32m    373\u001b[0m         \u001b[0murl\u001b[0m \u001b[0;34m=\u001b[0m \u001b[0;34m'%s%s'\u001b[0m \u001b[0;34m%\u001b[0m \u001b[0;34m(\u001b[0m\u001b[0mself\u001b[0m\u001b[0;34m.\u001b[0m\u001b[0m_url\u001b[0m\u001b[0;34m,\u001b[0m \u001b[0mpath\u001b[0m\u001b[0;34m)\u001b[0m\u001b[0;34m\u001b[0m\u001b[0;34m\u001b[0m\u001b[0m\n\u001b[0;32m--> 374\u001b[0;31m         \u001b[0;32mreturn\u001b[0m \u001b[0mself\u001b[0m\u001b[0;34m.\u001b[0m\u001b[0m_request\u001b[0m\u001b[0;34m(\u001b[0m\u001b[0mcommand_info\u001b[0m\u001b[0;34m[\u001b[0m\u001b[0;36m0\u001b[0m\u001b[0;34m]\u001b[0m\u001b[0;34m,\u001b[0m \u001b[0murl\u001b[0m\u001b[0;34m,\u001b[0m \u001b[0mbody\u001b[0m\u001b[0;34m=\u001b[0m\u001b[0mdata\u001b[0m\u001b[0;34m)\u001b[0m\u001b[0;34m\u001b[0m\u001b[0;34m\u001b[0m\u001b[0m\n\u001b[0m\u001b[1;32m    375\u001b[0m \u001b[0;34m\u001b[0m\u001b[0m\n\u001b[1;32m    376\u001b[0m     \u001b[0;32mdef\u001b[0m \u001b[0m_request\u001b[0m\u001b[0;34m(\u001b[0m\u001b[0mself\u001b[0m\u001b[0;34m,\u001b[0m \u001b[0mmethod\u001b[0m\u001b[0;34m,\u001b[0m \u001b[0murl\u001b[0m\u001b[0;34m,\u001b[0m \u001b[0mbody\u001b[0m\u001b[0;34m=\u001b[0m\u001b[0;32mNone\u001b[0m\u001b[0;34m)\u001b[0m\u001b[0;34m:\u001b[0m\u001b[0;34m\u001b[0m\u001b[0;34m\u001b[0m\u001b[0m\n",
      "\u001b[0;32m//anaconda3/lib/python3.7/site-packages/selenium/webdriver/remote/remote_connection.py\u001b[0m in \u001b[0;36m_request\u001b[0;34m(self, method, url, body)\u001b[0m\n\u001b[1;32m    395\u001b[0m \u001b[0;34m\u001b[0m\u001b[0m\n\u001b[1;32m    396\u001b[0m         \u001b[0;32mif\u001b[0m \u001b[0mself\u001b[0m\u001b[0;34m.\u001b[0m\u001b[0mkeep_alive\u001b[0m\u001b[0;34m:\u001b[0m\u001b[0;34m\u001b[0m\u001b[0;34m\u001b[0m\u001b[0m\n\u001b[0;32m--> 397\u001b[0;31m             \u001b[0mresp\u001b[0m \u001b[0;34m=\u001b[0m \u001b[0mself\u001b[0m\u001b[0;34m.\u001b[0m\u001b[0m_conn\u001b[0m\u001b[0;34m.\u001b[0m\u001b[0mrequest\u001b[0m\u001b[0;34m(\u001b[0m\u001b[0mmethod\u001b[0m\u001b[0;34m,\u001b[0m \u001b[0murl\u001b[0m\u001b[0;34m,\u001b[0m \u001b[0mbody\u001b[0m\u001b[0;34m=\u001b[0m\u001b[0mbody\u001b[0m\u001b[0;34m,\u001b[0m \u001b[0mheaders\u001b[0m\u001b[0;34m=\u001b[0m\u001b[0mheaders\u001b[0m\u001b[0;34m)\u001b[0m\u001b[0;34m\u001b[0m\u001b[0;34m\u001b[0m\u001b[0m\n\u001b[0m\u001b[1;32m    398\u001b[0m \u001b[0;34m\u001b[0m\u001b[0m\n\u001b[1;32m    399\u001b[0m             \u001b[0mstatuscode\u001b[0m \u001b[0;34m=\u001b[0m \u001b[0mresp\u001b[0m\u001b[0;34m.\u001b[0m\u001b[0mstatus\u001b[0m\u001b[0;34m\u001b[0m\u001b[0;34m\u001b[0m\u001b[0m\n",
      "\u001b[0;32m//anaconda3/lib/python3.7/site-packages/urllib3/request.py\u001b[0m in \u001b[0;36mrequest\u001b[0;34m(self, method, url, fields, headers, **urlopen_kw)\u001b[0m\n\u001b[1;32m     70\u001b[0m             return self.request_encode_body(method, url, fields=fields,\n\u001b[1;32m     71\u001b[0m                                             \u001b[0mheaders\u001b[0m\u001b[0;34m=\u001b[0m\u001b[0mheaders\u001b[0m\u001b[0;34m,\u001b[0m\u001b[0;34m\u001b[0m\u001b[0;34m\u001b[0m\u001b[0m\n\u001b[0;32m---> 72\u001b[0;31m                                             **urlopen_kw)\n\u001b[0m\u001b[1;32m     73\u001b[0m \u001b[0;34m\u001b[0m\u001b[0m\n\u001b[1;32m     74\u001b[0m     def request_encode_url(self, method, url, fields=None, headers=None,\n",
      "\u001b[0;32m//anaconda3/lib/python3.7/site-packages/urllib3/request.py\u001b[0m in \u001b[0;36mrequest_encode_body\u001b[0;34m(self, method, url, fields, headers, encode_multipart, multipart_boundary, **urlopen_kw)\u001b[0m\n\u001b[1;32m    148\u001b[0m         \u001b[0mextra_kw\u001b[0m\u001b[0;34m.\u001b[0m\u001b[0mupdate\u001b[0m\u001b[0;34m(\u001b[0m\u001b[0murlopen_kw\u001b[0m\u001b[0;34m)\u001b[0m\u001b[0;34m\u001b[0m\u001b[0;34m\u001b[0m\u001b[0m\n\u001b[1;32m    149\u001b[0m \u001b[0;34m\u001b[0m\u001b[0m\n\u001b[0;32m--> 150\u001b[0;31m         \u001b[0;32mreturn\u001b[0m \u001b[0mself\u001b[0m\u001b[0;34m.\u001b[0m\u001b[0murlopen\u001b[0m\u001b[0;34m(\u001b[0m\u001b[0mmethod\u001b[0m\u001b[0;34m,\u001b[0m \u001b[0murl\u001b[0m\u001b[0;34m,\u001b[0m \u001b[0;34m**\u001b[0m\u001b[0mextra_kw\u001b[0m\u001b[0;34m)\u001b[0m\u001b[0;34m\u001b[0m\u001b[0;34m\u001b[0m\u001b[0m\n\u001b[0m",
      "\u001b[0;32m//anaconda3/lib/python3.7/site-packages/urllib3/poolmanager.py\u001b[0m in \u001b[0;36murlopen\u001b[0;34m(self, method, url, redirect, **kw)\u001b[0m\n\u001b[1;32m    322\u001b[0m             \u001b[0mresponse\u001b[0m \u001b[0;34m=\u001b[0m \u001b[0mconn\u001b[0m\u001b[0;34m.\u001b[0m\u001b[0murlopen\u001b[0m\u001b[0;34m(\u001b[0m\u001b[0mmethod\u001b[0m\u001b[0;34m,\u001b[0m \u001b[0murl\u001b[0m\u001b[0;34m,\u001b[0m \u001b[0;34m**\u001b[0m\u001b[0mkw\u001b[0m\u001b[0;34m)\u001b[0m\u001b[0;34m\u001b[0m\u001b[0;34m\u001b[0m\u001b[0m\n\u001b[1;32m    323\u001b[0m         \u001b[0;32melse\u001b[0m\u001b[0;34m:\u001b[0m\u001b[0;34m\u001b[0m\u001b[0;34m\u001b[0m\u001b[0m\n\u001b[0;32m--> 324\u001b[0;31m             \u001b[0mresponse\u001b[0m \u001b[0;34m=\u001b[0m \u001b[0mconn\u001b[0m\u001b[0;34m.\u001b[0m\u001b[0murlopen\u001b[0m\u001b[0;34m(\u001b[0m\u001b[0mmethod\u001b[0m\u001b[0;34m,\u001b[0m \u001b[0mu\u001b[0m\u001b[0;34m.\u001b[0m\u001b[0mrequest_uri\u001b[0m\u001b[0;34m,\u001b[0m \u001b[0;34m**\u001b[0m\u001b[0mkw\u001b[0m\u001b[0;34m)\u001b[0m\u001b[0;34m\u001b[0m\u001b[0;34m\u001b[0m\u001b[0m\n\u001b[0m\u001b[1;32m    325\u001b[0m \u001b[0;34m\u001b[0m\u001b[0m\n\u001b[1;32m    326\u001b[0m         \u001b[0mredirect_location\u001b[0m \u001b[0;34m=\u001b[0m \u001b[0mredirect\u001b[0m \u001b[0;32mand\u001b[0m \u001b[0mresponse\u001b[0m\u001b[0;34m.\u001b[0m\u001b[0mget_redirect_location\u001b[0m\u001b[0;34m(\u001b[0m\u001b[0;34m)\u001b[0m\u001b[0;34m\u001b[0m\u001b[0;34m\u001b[0m\u001b[0m\n",
      "\u001b[0;32m//anaconda3/lib/python3.7/site-packages/urllib3/connectionpool.py\u001b[0m in \u001b[0;36murlopen\u001b[0;34m(self, method, url, body, headers, retries, redirect, assert_same_host, timeout, pool_timeout, release_conn, chunked, body_pos, **response_kw)\u001b[0m\n\u001b[1;32m    598\u001b[0m                                                   \u001b[0mtimeout\u001b[0m\u001b[0;34m=\u001b[0m\u001b[0mtimeout_obj\u001b[0m\u001b[0;34m,\u001b[0m\u001b[0;34m\u001b[0m\u001b[0;34m\u001b[0m\u001b[0m\n\u001b[1;32m    599\u001b[0m                                                   \u001b[0mbody\u001b[0m\u001b[0;34m=\u001b[0m\u001b[0mbody\u001b[0m\u001b[0;34m,\u001b[0m \u001b[0mheaders\u001b[0m\u001b[0;34m=\u001b[0m\u001b[0mheaders\u001b[0m\u001b[0;34m,\u001b[0m\u001b[0;34m\u001b[0m\u001b[0;34m\u001b[0m\u001b[0m\n\u001b[0;32m--> 600\u001b[0;31m                                                   chunked=chunked)\n\u001b[0m\u001b[1;32m    601\u001b[0m \u001b[0;34m\u001b[0m\u001b[0m\n\u001b[1;32m    602\u001b[0m             \u001b[0;31m# If we're going to release the connection in ``finally:``, then\u001b[0m\u001b[0;34m\u001b[0m\u001b[0;34m\u001b[0m\u001b[0;34m\u001b[0m\u001b[0m\n",
      "\u001b[0;32m//anaconda3/lib/python3.7/site-packages/urllib3/connectionpool.py\u001b[0m in \u001b[0;36m_make_request\u001b[0;34m(self, conn, method, url, timeout, chunked, **httplib_request_kw)\u001b[0m\n\u001b[1;32m    378\u001b[0m             \u001b[0;32mexcept\u001b[0m \u001b[0mTypeError\u001b[0m\u001b[0;34m:\u001b[0m  \u001b[0;31m# Python 3\u001b[0m\u001b[0;34m\u001b[0m\u001b[0;34m\u001b[0m\u001b[0m\n\u001b[1;32m    379\u001b[0m                 \u001b[0;32mtry\u001b[0m\u001b[0;34m:\u001b[0m\u001b[0;34m\u001b[0m\u001b[0;34m\u001b[0m\u001b[0m\n\u001b[0;32m--> 380\u001b[0;31m                     \u001b[0mhttplib_response\u001b[0m \u001b[0;34m=\u001b[0m \u001b[0mconn\u001b[0m\u001b[0;34m.\u001b[0m\u001b[0mgetresponse\u001b[0m\u001b[0;34m(\u001b[0m\u001b[0;34m)\u001b[0m\u001b[0;34m\u001b[0m\u001b[0;34m\u001b[0m\u001b[0m\n\u001b[0m\u001b[1;32m    381\u001b[0m                 \u001b[0;32mexcept\u001b[0m \u001b[0mException\u001b[0m \u001b[0;32mas\u001b[0m \u001b[0me\u001b[0m\u001b[0;34m:\u001b[0m\u001b[0;34m\u001b[0m\u001b[0;34m\u001b[0m\u001b[0m\n\u001b[1;32m    382\u001b[0m                     \u001b[0;31m# Remove the TypeError from the exception chain in Python 3;\u001b[0m\u001b[0;34m\u001b[0m\u001b[0;34m\u001b[0m\u001b[0;34m\u001b[0m\u001b[0m\n",
      "\u001b[0;32m//anaconda3/lib/python3.7/http/client.py\u001b[0m in \u001b[0;36mgetresponse\u001b[0;34m(self)\u001b[0m\n\u001b[1;32m   1319\u001b[0m         \u001b[0;32mtry\u001b[0m\u001b[0;34m:\u001b[0m\u001b[0;34m\u001b[0m\u001b[0;34m\u001b[0m\u001b[0m\n\u001b[1;32m   1320\u001b[0m             \u001b[0;32mtry\u001b[0m\u001b[0;34m:\u001b[0m\u001b[0;34m\u001b[0m\u001b[0;34m\u001b[0m\u001b[0m\n\u001b[0;32m-> 1321\u001b[0;31m                 \u001b[0mresponse\u001b[0m\u001b[0;34m.\u001b[0m\u001b[0mbegin\u001b[0m\u001b[0;34m(\u001b[0m\u001b[0;34m)\u001b[0m\u001b[0;34m\u001b[0m\u001b[0;34m\u001b[0m\u001b[0m\n\u001b[0m\u001b[1;32m   1322\u001b[0m             \u001b[0;32mexcept\u001b[0m \u001b[0mConnectionError\u001b[0m\u001b[0;34m:\u001b[0m\u001b[0;34m\u001b[0m\u001b[0;34m\u001b[0m\u001b[0m\n\u001b[1;32m   1323\u001b[0m                 \u001b[0mself\u001b[0m\u001b[0;34m.\u001b[0m\u001b[0mclose\u001b[0m\u001b[0;34m(\u001b[0m\u001b[0;34m)\u001b[0m\u001b[0;34m\u001b[0m\u001b[0;34m\u001b[0m\u001b[0m\n",
      "\u001b[0;32m//anaconda3/lib/python3.7/http/client.py\u001b[0m in \u001b[0;36mbegin\u001b[0;34m(self)\u001b[0m\n\u001b[1;32m    294\u001b[0m         \u001b[0;31m# read until we get a non-100 response\u001b[0m\u001b[0;34m\u001b[0m\u001b[0;34m\u001b[0m\u001b[0;34m\u001b[0m\u001b[0m\n\u001b[1;32m    295\u001b[0m         \u001b[0;32mwhile\u001b[0m \u001b[0;32mTrue\u001b[0m\u001b[0;34m:\u001b[0m\u001b[0;34m\u001b[0m\u001b[0;34m\u001b[0m\u001b[0m\n\u001b[0;32m--> 296\u001b[0;31m             \u001b[0mversion\u001b[0m\u001b[0;34m,\u001b[0m \u001b[0mstatus\u001b[0m\u001b[0;34m,\u001b[0m \u001b[0mreason\u001b[0m \u001b[0;34m=\u001b[0m \u001b[0mself\u001b[0m\u001b[0;34m.\u001b[0m\u001b[0m_read_status\u001b[0m\u001b[0;34m(\u001b[0m\u001b[0;34m)\u001b[0m\u001b[0;34m\u001b[0m\u001b[0;34m\u001b[0m\u001b[0m\n\u001b[0m\u001b[1;32m    297\u001b[0m             \u001b[0;32mif\u001b[0m \u001b[0mstatus\u001b[0m \u001b[0;34m!=\u001b[0m \u001b[0mCONTINUE\u001b[0m\u001b[0;34m:\u001b[0m\u001b[0;34m\u001b[0m\u001b[0;34m\u001b[0m\u001b[0m\n\u001b[1;32m    298\u001b[0m                 \u001b[0;32mbreak\u001b[0m\u001b[0;34m\u001b[0m\u001b[0;34m\u001b[0m\u001b[0m\n",
      "\u001b[0;32m//anaconda3/lib/python3.7/http/client.py\u001b[0m in \u001b[0;36m_read_status\u001b[0;34m(self)\u001b[0m\n\u001b[1;32m    255\u001b[0m \u001b[0;34m\u001b[0m\u001b[0m\n\u001b[1;32m    256\u001b[0m     \u001b[0;32mdef\u001b[0m \u001b[0m_read_status\u001b[0m\u001b[0;34m(\u001b[0m\u001b[0mself\u001b[0m\u001b[0;34m)\u001b[0m\u001b[0;34m:\u001b[0m\u001b[0;34m\u001b[0m\u001b[0;34m\u001b[0m\u001b[0m\n\u001b[0;32m--> 257\u001b[0;31m         \u001b[0mline\u001b[0m \u001b[0;34m=\u001b[0m \u001b[0mstr\u001b[0m\u001b[0;34m(\u001b[0m\u001b[0mself\u001b[0m\u001b[0;34m.\u001b[0m\u001b[0mfp\u001b[0m\u001b[0;34m.\u001b[0m\u001b[0mreadline\u001b[0m\u001b[0;34m(\u001b[0m\u001b[0m_MAXLINE\u001b[0m \u001b[0;34m+\u001b[0m \u001b[0;36m1\u001b[0m\u001b[0;34m)\u001b[0m\u001b[0;34m,\u001b[0m \u001b[0;34m\"iso-8859-1\"\u001b[0m\u001b[0;34m)\u001b[0m\u001b[0;34m\u001b[0m\u001b[0;34m\u001b[0m\u001b[0m\n\u001b[0m\u001b[1;32m    258\u001b[0m         \u001b[0;32mif\u001b[0m \u001b[0mlen\u001b[0m\u001b[0;34m(\u001b[0m\u001b[0mline\u001b[0m\u001b[0;34m)\u001b[0m \u001b[0;34m>\u001b[0m \u001b[0m_MAXLINE\u001b[0m\u001b[0;34m:\u001b[0m\u001b[0;34m\u001b[0m\u001b[0;34m\u001b[0m\u001b[0m\n\u001b[1;32m    259\u001b[0m             \u001b[0;32mraise\u001b[0m \u001b[0mLineTooLong\u001b[0m\u001b[0;34m(\u001b[0m\u001b[0;34m\"status line\"\u001b[0m\u001b[0;34m)\u001b[0m\u001b[0;34m\u001b[0m\u001b[0;34m\u001b[0m\u001b[0m\n",
      "\u001b[0;32m//anaconda3/lib/python3.7/socket.py\u001b[0m in \u001b[0;36mreadinto\u001b[0;34m(self, b)\u001b[0m\n\u001b[1;32m    587\u001b[0m         \u001b[0;32mwhile\u001b[0m \u001b[0;32mTrue\u001b[0m\u001b[0;34m:\u001b[0m\u001b[0;34m\u001b[0m\u001b[0;34m\u001b[0m\u001b[0m\n\u001b[1;32m    588\u001b[0m             \u001b[0;32mtry\u001b[0m\u001b[0;34m:\u001b[0m\u001b[0;34m\u001b[0m\u001b[0;34m\u001b[0m\u001b[0m\n\u001b[0;32m--> 589\u001b[0;31m                 \u001b[0;32mreturn\u001b[0m \u001b[0mself\u001b[0m\u001b[0;34m.\u001b[0m\u001b[0m_sock\u001b[0m\u001b[0;34m.\u001b[0m\u001b[0mrecv_into\u001b[0m\u001b[0;34m(\u001b[0m\u001b[0mb\u001b[0m\u001b[0;34m)\u001b[0m\u001b[0;34m\u001b[0m\u001b[0;34m\u001b[0m\u001b[0m\n\u001b[0m\u001b[1;32m    590\u001b[0m             \u001b[0;32mexcept\u001b[0m \u001b[0mtimeout\u001b[0m\u001b[0;34m:\u001b[0m\u001b[0;34m\u001b[0m\u001b[0;34m\u001b[0m\u001b[0m\n\u001b[1;32m    591\u001b[0m                 \u001b[0mself\u001b[0m\u001b[0;34m.\u001b[0m\u001b[0m_timeout_occurred\u001b[0m \u001b[0;34m=\u001b[0m \u001b[0;32mTrue\u001b[0m\u001b[0;34m\u001b[0m\u001b[0;34m\u001b[0m\u001b[0m\n",
      "\u001b[0;31mKeyboardInterrupt\u001b[0m: "
     ]
    }
   ],
   "source": [
    "# code to get description using function\n",
    "\n",
    "driver = webdriver.Chrome()\n",
    "initial_gr_signin(driver)\n",
    "found = 0 \n",
    "still_no_des = []\n",
    "skipped = 0\n",
    "\n",
    "for idx, gr_id in no_description:\n",
    "    if df1.iloc[idx].description != ' ' and type(df1.iloc[idx].description) != float:\n",
    "        continue\n",
    "    \n",
    "    driver.get(f\"https://www.goodreads.com/book/show/{gr_id}\")\n",
    "    \n",
    "    description = get_description(driver)\n",
    "    df1.loc[idx,'description'] = description\n",
    "    \n",
    "    if type(description) == float:\n",
    "        print(f'description not found for {gr_id},')\n",
    "        still_no_des.append((idx, gr_id))\n",
    "    else:\n",
    "        found += 1\n",
    "    if found % 50 == 0 and found != 0 :\n",
    "        print (f'found : {found}')\n",
    "        \n",
    "        # save updated dataframe, image list and found\n",
    "        df1.to_csv('goodread_des1.csv')\n"
   ]
  },
  {
   "cell_type": "markdown",
   "metadata": {},
   "source": [
    "makes sense: 6480591 , 483583 \n",
    "\n",
    "What's up with : Henry James?"
   ]
  },
  {
   "cell_type": "markdown",
   "metadata": {},
   "source": [
    "## Missing Genres"
   ]
  },
  {
   "cell_type": "code",
   "execution_count": 3,
   "metadata": {},
   "outputs": [
    {
     "ename": "SyntaxError",
     "evalue": "invalid syntax (<ipython-input-3-7eee880c0f25>, line 6)",
     "output_type": "error",
     "traceback": [
      "\u001b[0;36m  File \u001b[0;32m\"<ipython-input-3-7eee880c0f25>\"\u001b[0;36m, line \u001b[0;32m6\u001b[0m\n\u001b[0;31m    df['bag_of_words'] ''\u001b[0m\n\u001b[0m                        ^\u001b[0m\n\u001b[0;31mSyntaxError\u001b[0m\u001b[0;31m:\u001b[0m invalid syntax\n"
     ]
    }
   ],
   "source": [
    "# run at onset of df creation, if scraping from the top\n",
    "\n",
    "df['au_ge'] = ''\n",
    "df['desc_clean'] = ''\n",
    "df['key_words'] = ''\n",
    "df['bag_of_words'] = ''"
   ]
  },
  {
   "cell_type": "code",
   "execution_count": 36,
   "metadata": {
    "collapsed": true
   },
   "outputs": [
    {
     "name": "stdout",
     "output_type": "stream",
     "text": [
      "found all : 50\n",
      "found all : 100\n",
      "found all : 100\n",
      "found all : 150\n",
      "found all : 200\n",
      "found all : 250\n",
      "found all : 250\n",
      "found all : 300\n",
      "found all : 350\n",
      "found all : 400\n",
      "found all : 450\n",
      "found all : 450\n",
      "found all : 500\n",
      "found all : 550\n",
      "found all : 600\n",
      "found all : 600\n",
      "found all : 650\n",
      "found all : 700\n",
      "found all : 700\n",
      "found all : 750\n",
      "found all : 800\n",
      "found all : 850\n",
      "found all : 900\n",
      "found all : 900\n",
      "found all : 950\n",
      "found all : 1000\n",
      "found all : 1000\n",
      "found all : 1050\n",
      "found all : 1100\n",
      "found all : 1150\n",
      "found all : 1200\n",
      "found all : 1200\n",
      "found all : 1250\n",
      "found all : 1250\n",
      "found all : 1300\n",
      "found all : 1300\n",
      "found all : 1350\n",
      "found all : 1400\n",
      "found all : 1450\n",
      "found all : 1500\n",
      "found all : 1550\n",
      "found all : 1600\n",
      "found all : 1650\n",
      "found all : 1700\n",
      "found all : 1750\n",
      "found all : 1800\n",
      "found all : 1850\n",
      "found all : 1900\n",
      "found all : 1950\n",
      "found all : 1950\n",
      "found all : 1950\n",
      "found all : 1950\n",
      "found all : 2000\n",
      "found all : 2000\n",
      "found all : 2000\n",
      "found all : 2000\n",
      "found all : 2050\n",
      "found all : 2100\n",
      "found all : 2150\n",
      "found all : 2200\n",
      "found all : 2200\n",
      "found all : 2250\n",
      "found all : 2300\n",
      "found all : 2300\n",
      "found all : 2300\n",
      "found all : 2350\n",
      "found all : 2400\n",
      "found all : 2450\n",
      "found all : 2450\n",
      "found all : 2500\n",
      "found all : 2550\n",
      "found all : 2600\n",
      "found all : 2650\n",
      "found all : 2700\n",
      "found all : 2700\n",
      "found all : 2700\n",
      "found all : 2750\n",
      "found all : 2750\n",
      "found all : 2800\n",
      "found all : 2850\n",
      "found all : 2900\n",
      "found all : 2950\n",
      "found all : 3000\n",
      "found all : 3000\n",
      "found all : 3050\n",
      "found all : 3100\n",
      "found all : 3150\n",
      "found all : 3200\n",
      "found all : 3250\n",
      "found all : 3300\n",
      "found all : 3350\n",
      "found all : 3350\n",
      "found all : 3400\n",
      "found all : 3450\n",
      "found all : 3500\n",
      "found all : 3550\n",
      "found all : 3600\n",
      "found all : 3650\n",
      "found all : 3700\n",
      "found all : 3750\n",
      "found all : 3800\n",
      "found all : 3850\n",
      "found all : 3900\n",
      "found all : 3950\n",
      "found all : 4000\n",
      "found all : 4050\n",
      "found all : 4100\n",
      "found all : 4150\n",
      "found all : 4200\n",
      "found all : 4250\n",
      "found all : 4300\n",
      "found all : 4350\n",
      "found all : 4400\n",
      "found all : 4400\n",
      "found all : 4450\n",
      "found all : 4500\n",
      "found all : 4550\n",
      "found all : 4600\n",
      "found all : 4600\n",
      "found all : 4650\n",
      "found all : 4700\n",
      "found all : 4750\n",
      "found all : 4800\n",
      "found all : 4850\n",
      "found all : 4900\n",
      "found all : 4950\n",
      "found all : 5000\n",
      "found all : 5050\n",
      "found all : 5100\n",
      "found all : 5150\n",
      "found all : 5200\n",
      "found all : 5200\n",
      "found all : 5250\n",
      "found all : 5300\n",
      "found all : 5350\n",
      "found all : 5400\n",
      "found all : 5450\n",
      "found all : 5500\n",
      "found all : 5550\n",
      "found all : 5600\n",
      "found all : 5650\n",
      "found all : 5700\n",
      "found all : 5750\n",
      "found all : 5800\n",
      "found all : 5850\n",
      "found all : 5900\n",
      "found all : 5950\n",
      "found all : 6000\n",
      "found all : 6000\n",
      "found all : 6050\n",
      "found all : 6100\n",
      "found all : 6100\n",
      "found all : 6150\n",
      "found all : 6200\n",
      "found all : 6250\n",
      "found all : 6300\n",
      "found all : 6350\n",
      "found all : 6400\n",
      "found all : 6450\n",
      "found all : 6500\n",
      "found all : 6550\n",
      "found all : 6600\n",
      "found all : 6600\n",
      "found all : 6650\n",
      "found all : 6650\n",
      "found all : 6700\n",
      "found all : 6750\n",
      "found all : 6800\n"
     ]
    },
    {
     "ename": "KeyboardInterrupt",
     "evalue": "",
     "output_type": "error",
     "traceback": [
      "\u001b[0;31m---------------------------------------------------------------------------\u001b[0m",
      "\u001b[0;31mTypeError\u001b[0m                                 Traceback (most recent call last)",
      "\u001b[0;32m//anaconda3/lib/python3.7/site-packages/urllib3/connectionpool.py\u001b[0m in \u001b[0;36m_make_request\u001b[0;34m(self, conn, method, url, timeout, chunked, **httplib_request_kw)\u001b[0m\n\u001b[1;32m    376\u001b[0m             \u001b[0;32mtry\u001b[0m\u001b[0;34m:\u001b[0m  \u001b[0;31m# Python 2.7, use buffering of HTTP responses\u001b[0m\u001b[0;34m\u001b[0m\u001b[0;34m\u001b[0m\u001b[0m\n\u001b[0;32m--> 377\u001b[0;31m                 \u001b[0mhttplib_response\u001b[0m \u001b[0;34m=\u001b[0m \u001b[0mconn\u001b[0m\u001b[0;34m.\u001b[0m\u001b[0mgetresponse\u001b[0m\u001b[0;34m(\u001b[0m\u001b[0mbuffering\u001b[0m\u001b[0;34m=\u001b[0m\u001b[0;32mTrue\u001b[0m\u001b[0;34m)\u001b[0m\u001b[0;34m\u001b[0m\u001b[0;34m\u001b[0m\u001b[0m\n\u001b[0m\u001b[1;32m    378\u001b[0m             \u001b[0;32mexcept\u001b[0m \u001b[0mTypeError\u001b[0m\u001b[0;34m:\u001b[0m  \u001b[0;31m# Python 3\u001b[0m\u001b[0;34m\u001b[0m\u001b[0;34m\u001b[0m\u001b[0m\n",
      "\u001b[0;31mTypeError\u001b[0m: getresponse() got an unexpected keyword argument 'buffering'",
      "\nDuring handling of the above exception, another exception occurred:\n",
      "\u001b[0;31mKeyboardInterrupt\u001b[0m                         Traceback (most recent call last)",
      "\u001b[0;32m<ipython-input-36-3fe62ab4a2d3>\u001b[0m in \u001b[0;36m<module>\u001b[0;34m\u001b[0m\n\u001b[1;32m     11\u001b[0m \u001b[0;34m\u001b[0m\u001b[0m\n\u001b[1;32m     12\u001b[0m \u001b[0;32mfor\u001b[0m \u001b[0midx\u001b[0m\u001b[0;34m,\u001b[0m \u001b[0mrow\u001b[0m \u001b[0;32min\u001b[0m \u001b[0mdf\u001b[0m\u001b[0;34m.\u001b[0m\u001b[0miterrows\u001b[0m\u001b[0;34m(\u001b[0m\u001b[0;34m)\u001b[0m\u001b[0;34m:\u001b[0m\u001b[0;34m\u001b[0m\u001b[0;34m\u001b[0m\u001b[0m\n\u001b[0;32m---> 13\u001b[0;31m     \u001b[0mdriver\u001b[0m\u001b[0;34m.\u001b[0m\u001b[0mget\u001b[0m\u001b[0;34m(\u001b[0m\u001b[0;34mf\"https://www.goodreads.com/book/show/{row.id}\"\u001b[0m\u001b[0;34m)\u001b[0m\u001b[0;34m\u001b[0m\u001b[0;34m\u001b[0m\u001b[0m\n\u001b[0m\u001b[1;32m     14\u001b[0m     \u001b[0mform\u001b[0m\u001b[0;34m,\u001b[0m \u001b[0mpage\u001b[0m\u001b[0;34m,\u001b[0m \u001b[0misbn\u001b[0m \u001b[0;34m=\u001b[0m \u001b[0mget_form_page_isbn\u001b[0m\u001b[0;34m(\u001b[0m\u001b[0mdriver\u001b[0m\u001b[0;34m)\u001b[0m\u001b[0;34m\u001b[0m\u001b[0;34m\u001b[0m\u001b[0m\n\u001b[1;32m     15\u001b[0m     \u001b[0mgenre\u001b[0m \u001b[0;34m=\u001b[0m \u001b[0mget_genre\u001b[0m\u001b[0;34m(\u001b[0m\u001b[0mdriver\u001b[0m\u001b[0;34m)\u001b[0m\u001b[0;34m\u001b[0m\u001b[0;34m\u001b[0m\u001b[0m\n",
      "\u001b[0;32m//anaconda3/lib/python3.7/site-packages/selenium/webdriver/remote/webdriver.py\u001b[0m in \u001b[0;36mget\u001b[0;34m(self, url)\u001b[0m\n\u001b[1;32m    331\u001b[0m         \u001b[0mLoads\u001b[0m \u001b[0ma\u001b[0m \u001b[0mweb\u001b[0m \u001b[0mpage\u001b[0m \u001b[0;32min\u001b[0m \u001b[0mthe\u001b[0m \u001b[0mcurrent\u001b[0m \u001b[0mbrowser\u001b[0m \u001b[0msession\u001b[0m\u001b[0;34m.\u001b[0m\u001b[0;34m\u001b[0m\u001b[0;34m\u001b[0m\u001b[0m\n\u001b[1;32m    332\u001b[0m         \"\"\"\n\u001b[0;32m--> 333\u001b[0;31m         \u001b[0mself\u001b[0m\u001b[0;34m.\u001b[0m\u001b[0mexecute\u001b[0m\u001b[0;34m(\u001b[0m\u001b[0mCommand\u001b[0m\u001b[0;34m.\u001b[0m\u001b[0mGET\u001b[0m\u001b[0;34m,\u001b[0m \u001b[0;34m{\u001b[0m\u001b[0;34m'url'\u001b[0m\u001b[0;34m:\u001b[0m \u001b[0murl\u001b[0m\u001b[0;34m}\u001b[0m\u001b[0;34m)\u001b[0m\u001b[0;34m\u001b[0m\u001b[0;34m\u001b[0m\u001b[0m\n\u001b[0m\u001b[1;32m    334\u001b[0m \u001b[0;34m\u001b[0m\u001b[0m\n\u001b[1;32m    335\u001b[0m     \u001b[0;34m@\u001b[0m\u001b[0mproperty\u001b[0m\u001b[0;34m\u001b[0m\u001b[0;34m\u001b[0m\u001b[0m\n",
      "\u001b[0;32m//anaconda3/lib/python3.7/site-packages/selenium/webdriver/remote/webdriver.py\u001b[0m in \u001b[0;36mexecute\u001b[0;34m(self, driver_command, params)\u001b[0m\n\u001b[1;32m    317\u001b[0m \u001b[0;34m\u001b[0m\u001b[0m\n\u001b[1;32m    318\u001b[0m         \u001b[0mparams\u001b[0m \u001b[0;34m=\u001b[0m \u001b[0mself\u001b[0m\u001b[0;34m.\u001b[0m\u001b[0m_wrap_value\u001b[0m\u001b[0;34m(\u001b[0m\u001b[0mparams\u001b[0m\u001b[0;34m)\u001b[0m\u001b[0;34m\u001b[0m\u001b[0;34m\u001b[0m\u001b[0m\n\u001b[0;32m--> 319\u001b[0;31m         \u001b[0mresponse\u001b[0m \u001b[0;34m=\u001b[0m \u001b[0mself\u001b[0m\u001b[0;34m.\u001b[0m\u001b[0mcommand_executor\u001b[0m\u001b[0;34m.\u001b[0m\u001b[0mexecute\u001b[0m\u001b[0;34m(\u001b[0m\u001b[0mdriver_command\u001b[0m\u001b[0;34m,\u001b[0m \u001b[0mparams\u001b[0m\u001b[0;34m)\u001b[0m\u001b[0;34m\u001b[0m\u001b[0;34m\u001b[0m\u001b[0m\n\u001b[0m\u001b[1;32m    320\u001b[0m         \u001b[0;32mif\u001b[0m \u001b[0mresponse\u001b[0m\u001b[0;34m:\u001b[0m\u001b[0;34m\u001b[0m\u001b[0;34m\u001b[0m\u001b[0m\n\u001b[1;32m    321\u001b[0m             \u001b[0mself\u001b[0m\u001b[0;34m.\u001b[0m\u001b[0merror_handler\u001b[0m\u001b[0;34m.\u001b[0m\u001b[0mcheck_response\u001b[0m\u001b[0;34m(\u001b[0m\u001b[0mresponse\u001b[0m\u001b[0;34m)\u001b[0m\u001b[0;34m\u001b[0m\u001b[0;34m\u001b[0m\u001b[0m\n",
      "\u001b[0;32m//anaconda3/lib/python3.7/site-packages/selenium/webdriver/remote/remote_connection.py\u001b[0m in \u001b[0;36mexecute\u001b[0;34m(self, command, params)\u001b[0m\n\u001b[1;32m    372\u001b[0m         \u001b[0mdata\u001b[0m \u001b[0;34m=\u001b[0m \u001b[0mutils\u001b[0m\u001b[0;34m.\u001b[0m\u001b[0mdump_json\u001b[0m\u001b[0;34m(\u001b[0m\u001b[0mparams\u001b[0m\u001b[0;34m)\u001b[0m\u001b[0;34m\u001b[0m\u001b[0;34m\u001b[0m\u001b[0m\n\u001b[1;32m    373\u001b[0m         \u001b[0murl\u001b[0m \u001b[0;34m=\u001b[0m \u001b[0;34m'%s%s'\u001b[0m \u001b[0;34m%\u001b[0m \u001b[0;34m(\u001b[0m\u001b[0mself\u001b[0m\u001b[0;34m.\u001b[0m\u001b[0m_url\u001b[0m\u001b[0;34m,\u001b[0m \u001b[0mpath\u001b[0m\u001b[0;34m)\u001b[0m\u001b[0;34m\u001b[0m\u001b[0;34m\u001b[0m\u001b[0m\n\u001b[0;32m--> 374\u001b[0;31m         \u001b[0;32mreturn\u001b[0m \u001b[0mself\u001b[0m\u001b[0;34m.\u001b[0m\u001b[0m_request\u001b[0m\u001b[0;34m(\u001b[0m\u001b[0mcommand_info\u001b[0m\u001b[0;34m[\u001b[0m\u001b[0;36m0\u001b[0m\u001b[0;34m]\u001b[0m\u001b[0;34m,\u001b[0m \u001b[0murl\u001b[0m\u001b[0;34m,\u001b[0m \u001b[0mbody\u001b[0m\u001b[0;34m=\u001b[0m\u001b[0mdata\u001b[0m\u001b[0;34m)\u001b[0m\u001b[0;34m\u001b[0m\u001b[0;34m\u001b[0m\u001b[0m\n\u001b[0m\u001b[1;32m    375\u001b[0m \u001b[0;34m\u001b[0m\u001b[0m\n\u001b[1;32m    376\u001b[0m     \u001b[0;32mdef\u001b[0m \u001b[0m_request\u001b[0m\u001b[0;34m(\u001b[0m\u001b[0mself\u001b[0m\u001b[0;34m,\u001b[0m \u001b[0mmethod\u001b[0m\u001b[0;34m,\u001b[0m \u001b[0murl\u001b[0m\u001b[0;34m,\u001b[0m \u001b[0mbody\u001b[0m\u001b[0;34m=\u001b[0m\u001b[0;32mNone\u001b[0m\u001b[0;34m)\u001b[0m\u001b[0;34m:\u001b[0m\u001b[0;34m\u001b[0m\u001b[0;34m\u001b[0m\u001b[0m\n",
      "\u001b[0;32m//anaconda3/lib/python3.7/site-packages/selenium/webdriver/remote/remote_connection.py\u001b[0m in \u001b[0;36m_request\u001b[0;34m(self, method, url, body)\u001b[0m\n\u001b[1;32m    395\u001b[0m \u001b[0;34m\u001b[0m\u001b[0m\n\u001b[1;32m    396\u001b[0m         \u001b[0;32mif\u001b[0m \u001b[0mself\u001b[0m\u001b[0;34m.\u001b[0m\u001b[0mkeep_alive\u001b[0m\u001b[0;34m:\u001b[0m\u001b[0;34m\u001b[0m\u001b[0;34m\u001b[0m\u001b[0m\n\u001b[0;32m--> 397\u001b[0;31m             \u001b[0mresp\u001b[0m \u001b[0;34m=\u001b[0m \u001b[0mself\u001b[0m\u001b[0;34m.\u001b[0m\u001b[0m_conn\u001b[0m\u001b[0;34m.\u001b[0m\u001b[0mrequest\u001b[0m\u001b[0;34m(\u001b[0m\u001b[0mmethod\u001b[0m\u001b[0;34m,\u001b[0m \u001b[0murl\u001b[0m\u001b[0;34m,\u001b[0m \u001b[0mbody\u001b[0m\u001b[0;34m=\u001b[0m\u001b[0mbody\u001b[0m\u001b[0;34m,\u001b[0m \u001b[0mheaders\u001b[0m\u001b[0;34m=\u001b[0m\u001b[0mheaders\u001b[0m\u001b[0;34m)\u001b[0m\u001b[0;34m\u001b[0m\u001b[0;34m\u001b[0m\u001b[0m\n\u001b[0m\u001b[1;32m    398\u001b[0m \u001b[0;34m\u001b[0m\u001b[0m\n\u001b[1;32m    399\u001b[0m             \u001b[0mstatuscode\u001b[0m \u001b[0;34m=\u001b[0m \u001b[0mresp\u001b[0m\u001b[0;34m.\u001b[0m\u001b[0mstatus\u001b[0m\u001b[0;34m\u001b[0m\u001b[0;34m\u001b[0m\u001b[0m\n",
      "\u001b[0;32m//anaconda3/lib/python3.7/site-packages/urllib3/request.py\u001b[0m in \u001b[0;36mrequest\u001b[0;34m(self, method, url, fields, headers, **urlopen_kw)\u001b[0m\n\u001b[1;32m     70\u001b[0m             return self.request_encode_body(method, url, fields=fields,\n\u001b[1;32m     71\u001b[0m                                             \u001b[0mheaders\u001b[0m\u001b[0;34m=\u001b[0m\u001b[0mheaders\u001b[0m\u001b[0;34m,\u001b[0m\u001b[0;34m\u001b[0m\u001b[0;34m\u001b[0m\u001b[0m\n\u001b[0;32m---> 72\u001b[0;31m                                             **urlopen_kw)\n\u001b[0m\u001b[1;32m     73\u001b[0m \u001b[0;34m\u001b[0m\u001b[0m\n\u001b[1;32m     74\u001b[0m     def request_encode_url(self, method, url, fields=None, headers=None,\n",
      "\u001b[0;32m//anaconda3/lib/python3.7/site-packages/urllib3/request.py\u001b[0m in \u001b[0;36mrequest_encode_body\u001b[0;34m(self, method, url, fields, headers, encode_multipart, multipart_boundary, **urlopen_kw)\u001b[0m\n\u001b[1;32m    148\u001b[0m         \u001b[0mextra_kw\u001b[0m\u001b[0;34m.\u001b[0m\u001b[0mupdate\u001b[0m\u001b[0;34m(\u001b[0m\u001b[0murlopen_kw\u001b[0m\u001b[0;34m)\u001b[0m\u001b[0;34m\u001b[0m\u001b[0;34m\u001b[0m\u001b[0m\n\u001b[1;32m    149\u001b[0m \u001b[0;34m\u001b[0m\u001b[0m\n\u001b[0;32m--> 150\u001b[0;31m         \u001b[0;32mreturn\u001b[0m \u001b[0mself\u001b[0m\u001b[0;34m.\u001b[0m\u001b[0murlopen\u001b[0m\u001b[0;34m(\u001b[0m\u001b[0mmethod\u001b[0m\u001b[0;34m,\u001b[0m \u001b[0murl\u001b[0m\u001b[0;34m,\u001b[0m \u001b[0;34m**\u001b[0m\u001b[0mextra_kw\u001b[0m\u001b[0;34m)\u001b[0m\u001b[0;34m\u001b[0m\u001b[0;34m\u001b[0m\u001b[0m\n\u001b[0m",
      "\u001b[0;32m//anaconda3/lib/python3.7/site-packages/urllib3/poolmanager.py\u001b[0m in \u001b[0;36murlopen\u001b[0;34m(self, method, url, redirect, **kw)\u001b[0m\n\u001b[1;32m    322\u001b[0m             \u001b[0mresponse\u001b[0m \u001b[0;34m=\u001b[0m \u001b[0mconn\u001b[0m\u001b[0;34m.\u001b[0m\u001b[0murlopen\u001b[0m\u001b[0;34m(\u001b[0m\u001b[0mmethod\u001b[0m\u001b[0;34m,\u001b[0m \u001b[0murl\u001b[0m\u001b[0;34m,\u001b[0m \u001b[0;34m**\u001b[0m\u001b[0mkw\u001b[0m\u001b[0;34m)\u001b[0m\u001b[0;34m\u001b[0m\u001b[0;34m\u001b[0m\u001b[0m\n\u001b[1;32m    323\u001b[0m         \u001b[0;32melse\u001b[0m\u001b[0;34m:\u001b[0m\u001b[0;34m\u001b[0m\u001b[0;34m\u001b[0m\u001b[0m\n\u001b[0;32m--> 324\u001b[0;31m             \u001b[0mresponse\u001b[0m \u001b[0;34m=\u001b[0m \u001b[0mconn\u001b[0m\u001b[0;34m.\u001b[0m\u001b[0murlopen\u001b[0m\u001b[0;34m(\u001b[0m\u001b[0mmethod\u001b[0m\u001b[0;34m,\u001b[0m \u001b[0mu\u001b[0m\u001b[0;34m.\u001b[0m\u001b[0mrequest_uri\u001b[0m\u001b[0;34m,\u001b[0m \u001b[0;34m**\u001b[0m\u001b[0mkw\u001b[0m\u001b[0;34m)\u001b[0m\u001b[0;34m\u001b[0m\u001b[0;34m\u001b[0m\u001b[0m\n\u001b[0m\u001b[1;32m    325\u001b[0m \u001b[0;34m\u001b[0m\u001b[0m\n\u001b[1;32m    326\u001b[0m         \u001b[0mredirect_location\u001b[0m \u001b[0;34m=\u001b[0m \u001b[0mredirect\u001b[0m \u001b[0;32mand\u001b[0m \u001b[0mresponse\u001b[0m\u001b[0;34m.\u001b[0m\u001b[0mget_redirect_location\u001b[0m\u001b[0;34m(\u001b[0m\u001b[0;34m)\u001b[0m\u001b[0;34m\u001b[0m\u001b[0;34m\u001b[0m\u001b[0m\n",
      "\u001b[0;32m//anaconda3/lib/python3.7/site-packages/urllib3/connectionpool.py\u001b[0m in \u001b[0;36murlopen\u001b[0;34m(self, method, url, body, headers, retries, redirect, assert_same_host, timeout, pool_timeout, release_conn, chunked, body_pos, **response_kw)\u001b[0m\n\u001b[1;32m    598\u001b[0m                                                   \u001b[0mtimeout\u001b[0m\u001b[0;34m=\u001b[0m\u001b[0mtimeout_obj\u001b[0m\u001b[0;34m,\u001b[0m\u001b[0;34m\u001b[0m\u001b[0;34m\u001b[0m\u001b[0m\n\u001b[1;32m    599\u001b[0m                                                   \u001b[0mbody\u001b[0m\u001b[0;34m=\u001b[0m\u001b[0mbody\u001b[0m\u001b[0;34m,\u001b[0m \u001b[0mheaders\u001b[0m\u001b[0;34m=\u001b[0m\u001b[0mheaders\u001b[0m\u001b[0;34m,\u001b[0m\u001b[0;34m\u001b[0m\u001b[0;34m\u001b[0m\u001b[0m\n\u001b[0;32m--> 600\u001b[0;31m                                                   chunked=chunked)\n\u001b[0m\u001b[1;32m    601\u001b[0m \u001b[0;34m\u001b[0m\u001b[0m\n\u001b[1;32m    602\u001b[0m             \u001b[0;31m# If we're going to release the connection in ``finally:``, then\u001b[0m\u001b[0;34m\u001b[0m\u001b[0;34m\u001b[0m\u001b[0;34m\u001b[0m\u001b[0m\n",
      "\u001b[0;32m//anaconda3/lib/python3.7/site-packages/urllib3/connectionpool.py\u001b[0m in \u001b[0;36m_make_request\u001b[0;34m(self, conn, method, url, timeout, chunked, **httplib_request_kw)\u001b[0m\n\u001b[1;32m    378\u001b[0m             \u001b[0;32mexcept\u001b[0m \u001b[0mTypeError\u001b[0m\u001b[0;34m:\u001b[0m  \u001b[0;31m# Python 3\u001b[0m\u001b[0;34m\u001b[0m\u001b[0;34m\u001b[0m\u001b[0m\n\u001b[1;32m    379\u001b[0m                 \u001b[0;32mtry\u001b[0m\u001b[0;34m:\u001b[0m\u001b[0;34m\u001b[0m\u001b[0;34m\u001b[0m\u001b[0m\n\u001b[0;32m--> 380\u001b[0;31m                     \u001b[0mhttplib_response\u001b[0m \u001b[0;34m=\u001b[0m \u001b[0mconn\u001b[0m\u001b[0;34m.\u001b[0m\u001b[0mgetresponse\u001b[0m\u001b[0;34m(\u001b[0m\u001b[0;34m)\u001b[0m\u001b[0;34m\u001b[0m\u001b[0;34m\u001b[0m\u001b[0m\n\u001b[0m\u001b[1;32m    381\u001b[0m                 \u001b[0;32mexcept\u001b[0m \u001b[0mException\u001b[0m \u001b[0;32mas\u001b[0m \u001b[0me\u001b[0m\u001b[0;34m:\u001b[0m\u001b[0;34m\u001b[0m\u001b[0;34m\u001b[0m\u001b[0m\n\u001b[1;32m    382\u001b[0m                     \u001b[0;31m# Remove the TypeError from the exception chain in Python 3;\u001b[0m\u001b[0;34m\u001b[0m\u001b[0;34m\u001b[0m\u001b[0;34m\u001b[0m\u001b[0m\n",
      "\u001b[0;32m//anaconda3/lib/python3.7/http/client.py\u001b[0m in \u001b[0;36mgetresponse\u001b[0;34m(self)\u001b[0m\n\u001b[1;32m   1319\u001b[0m         \u001b[0;32mtry\u001b[0m\u001b[0;34m:\u001b[0m\u001b[0;34m\u001b[0m\u001b[0;34m\u001b[0m\u001b[0m\n\u001b[1;32m   1320\u001b[0m             \u001b[0;32mtry\u001b[0m\u001b[0;34m:\u001b[0m\u001b[0;34m\u001b[0m\u001b[0;34m\u001b[0m\u001b[0m\n\u001b[0;32m-> 1321\u001b[0;31m                 \u001b[0mresponse\u001b[0m\u001b[0;34m.\u001b[0m\u001b[0mbegin\u001b[0m\u001b[0;34m(\u001b[0m\u001b[0;34m)\u001b[0m\u001b[0;34m\u001b[0m\u001b[0;34m\u001b[0m\u001b[0m\n\u001b[0m\u001b[1;32m   1322\u001b[0m             \u001b[0;32mexcept\u001b[0m \u001b[0mConnectionError\u001b[0m\u001b[0;34m:\u001b[0m\u001b[0;34m\u001b[0m\u001b[0;34m\u001b[0m\u001b[0m\n\u001b[1;32m   1323\u001b[0m                 \u001b[0mself\u001b[0m\u001b[0;34m.\u001b[0m\u001b[0mclose\u001b[0m\u001b[0;34m(\u001b[0m\u001b[0;34m)\u001b[0m\u001b[0;34m\u001b[0m\u001b[0;34m\u001b[0m\u001b[0m\n",
      "\u001b[0;32m//anaconda3/lib/python3.7/http/client.py\u001b[0m in \u001b[0;36mbegin\u001b[0;34m(self)\u001b[0m\n\u001b[1;32m    294\u001b[0m         \u001b[0;31m# read until we get a non-100 response\u001b[0m\u001b[0;34m\u001b[0m\u001b[0;34m\u001b[0m\u001b[0;34m\u001b[0m\u001b[0m\n\u001b[1;32m    295\u001b[0m         \u001b[0;32mwhile\u001b[0m \u001b[0;32mTrue\u001b[0m\u001b[0;34m:\u001b[0m\u001b[0;34m\u001b[0m\u001b[0;34m\u001b[0m\u001b[0m\n\u001b[0;32m--> 296\u001b[0;31m             \u001b[0mversion\u001b[0m\u001b[0;34m,\u001b[0m \u001b[0mstatus\u001b[0m\u001b[0;34m,\u001b[0m \u001b[0mreason\u001b[0m \u001b[0;34m=\u001b[0m \u001b[0mself\u001b[0m\u001b[0;34m.\u001b[0m\u001b[0m_read_status\u001b[0m\u001b[0;34m(\u001b[0m\u001b[0;34m)\u001b[0m\u001b[0;34m\u001b[0m\u001b[0;34m\u001b[0m\u001b[0m\n\u001b[0m\u001b[1;32m    297\u001b[0m             \u001b[0;32mif\u001b[0m \u001b[0mstatus\u001b[0m \u001b[0;34m!=\u001b[0m \u001b[0mCONTINUE\u001b[0m\u001b[0;34m:\u001b[0m\u001b[0;34m\u001b[0m\u001b[0;34m\u001b[0m\u001b[0m\n\u001b[1;32m    298\u001b[0m                 \u001b[0;32mbreak\u001b[0m\u001b[0;34m\u001b[0m\u001b[0;34m\u001b[0m\u001b[0m\n",
      "\u001b[0;32m//anaconda3/lib/python3.7/http/client.py\u001b[0m in \u001b[0;36m_read_status\u001b[0;34m(self)\u001b[0m\n\u001b[1;32m    255\u001b[0m \u001b[0;34m\u001b[0m\u001b[0m\n\u001b[1;32m    256\u001b[0m     \u001b[0;32mdef\u001b[0m \u001b[0m_read_status\u001b[0m\u001b[0;34m(\u001b[0m\u001b[0mself\u001b[0m\u001b[0;34m)\u001b[0m\u001b[0;34m:\u001b[0m\u001b[0;34m\u001b[0m\u001b[0;34m\u001b[0m\u001b[0m\n\u001b[0;32m--> 257\u001b[0;31m         \u001b[0mline\u001b[0m \u001b[0;34m=\u001b[0m \u001b[0mstr\u001b[0m\u001b[0;34m(\u001b[0m\u001b[0mself\u001b[0m\u001b[0;34m.\u001b[0m\u001b[0mfp\u001b[0m\u001b[0;34m.\u001b[0m\u001b[0mreadline\u001b[0m\u001b[0;34m(\u001b[0m\u001b[0m_MAXLINE\u001b[0m \u001b[0;34m+\u001b[0m \u001b[0;36m1\u001b[0m\u001b[0;34m)\u001b[0m\u001b[0;34m,\u001b[0m \u001b[0;34m\"iso-8859-1\"\u001b[0m\u001b[0;34m)\u001b[0m\u001b[0;34m\u001b[0m\u001b[0;34m\u001b[0m\u001b[0m\n\u001b[0m\u001b[1;32m    258\u001b[0m         \u001b[0;32mif\u001b[0m \u001b[0mlen\u001b[0m\u001b[0;34m(\u001b[0m\u001b[0mline\u001b[0m\u001b[0;34m)\u001b[0m \u001b[0;34m>\u001b[0m \u001b[0m_MAXLINE\u001b[0m\u001b[0;34m:\u001b[0m\u001b[0;34m\u001b[0m\u001b[0;34m\u001b[0m\u001b[0m\n\u001b[1;32m    259\u001b[0m             \u001b[0;32mraise\u001b[0m \u001b[0mLineTooLong\u001b[0m\u001b[0;34m(\u001b[0m\u001b[0;34m\"status line\"\u001b[0m\u001b[0;34m)\u001b[0m\u001b[0;34m\u001b[0m\u001b[0;34m\u001b[0m\u001b[0m\n",
      "\u001b[0;32m//anaconda3/lib/python3.7/socket.py\u001b[0m in \u001b[0;36mreadinto\u001b[0;34m(self, b)\u001b[0m\n\u001b[1;32m    587\u001b[0m         \u001b[0;32mwhile\u001b[0m \u001b[0;32mTrue\u001b[0m\u001b[0;34m:\u001b[0m\u001b[0;34m\u001b[0m\u001b[0;34m\u001b[0m\u001b[0m\n\u001b[1;32m    588\u001b[0m             \u001b[0;32mtry\u001b[0m\u001b[0;34m:\u001b[0m\u001b[0;34m\u001b[0m\u001b[0;34m\u001b[0m\u001b[0m\n\u001b[0;32m--> 589\u001b[0;31m                 \u001b[0;32mreturn\u001b[0m \u001b[0mself\u001b[0m\u001b[0;34m.\u001b[0m\u001b[0m_sock\u001b[0m\u001b[0;34m.\u001b[0m\u001b[0mrecv_into\u001b[0m\u001b[0;34m(\u001b[0m\u001b[0mb\u001b[0m\u001b[0;34m)\u001b[0m\u001b[0;34m\u001b[0m\u001b[0;34m\u001b[0m\u001b[0m\n\u001b[0m\u001b[1;32m    590\u001b[0m             \u001b[0;32mexcept\u001b[0m \u001b[0mtimeout\u001b[0m\u001b[0;34m:\u001b[0m\u001b[0;34m\u001b[0m\u001b[0;34m\u001b[0m\u001b[0m\n\u001b[1;32m    591\u001b[0m                 \u001b[0mself\u001b[0m\u001b[0;34m.\u001b[0m\u001b[0m_timeout_occurred\u001b[0m \u001b[0;34m=\u001b[0m \u001b[0;32mTrue\u001b[0m\u001b[0;34m\u001b[0m\u001b[0;34m\u001b[0m\u001b[0m\n",
      "\u001b[0;31mKeyboardInterrupt\u001b[0m: "
     ]
    }
   ],
   "source": [
    "# code to get form,page,isbn,genre and desc using functions\n",
    "\n",
    "driver = webdriver.Chrome()\n",
    "initial_gr_signin(driver)\n",
    "found = 0 \n",
    "no_form = []\n",
    "no_page = []\n",
    "no_isbn = []\n",
    "no_des = []\n",
    "skipped = 0\n",
    "\n",
    "\n",
    "for idx, row in df.iloc[start:].iterrows():\n",
    "    driver.get(f\"https://www.goodreads.com/book/show/{row.id}\")\n",
    "    form, page, isbn = get_form_page_isbn(driver)\n",
    "    genre = get_genre(driver)\n",
    "    \n",
    "    df.loc[idx,'format'] = form\n",
    "    df.loc[idx,'pages'] = page\n",
    "    df.loc[idx,'isbn'] = isbn\n",
    "    df.loc[idx,'genre'] = genre\n",
    "    \n",
    "    description = get_description(driver)\n",
    "    df.loc[idx,'description'] = description\n",
    "    if type(description) == float:\n",
    "        no_des.append((idx, row.id))\n",
    "\n",
    "    if type(form) == float:\n",
    "        no_form.append((idx, row.id))\n",
    "    elif type(page) == float:\n",
    "        no_page.append((idx, row.id))\n",
    "    elif type(isbn) == float:\n",
    "        no_isbn.append((idx, row.id))\n",
    "    elif type(genre) == float:\n",
    "        no_genre.append((idx, row.id))\n",
    "\n",
    "    found += 1\n",
    "        \n",
    "    if found % 50 == 0:\n",
    "        df_lite = df.iloc[start:end]\n",
    "        print (f'found all : {found}')\n",
    "        \n",
    "        clean_bag_save(df_lite, 'goodreads_updated')\n",
    "\n",
    "        start += 50\n",
    "\n",
    "\n",
    "df.to_csv('goodreads_updated.csv')\n",
    "df.to_json(r'goodreads_updated.json',orient='index')\n"
   ]
  },
  {
   "cell_type": "code",
   "execution_count": 37,
   "metadata": {},
   "outputs": [],
   "source": [
    "df.to_csv('goodreads_updated.csv')"
   ]
  },
  {
   "cell_type": "markdown",
   "metadata": {},
   "source": [
    "# Data Cleaning"
   ]
  },
  {
   "cell_type": "markdown",
   "metadata": {},
   "source": [
    "## Clean data \n",
    "\n",
    "- look for nan values, empty descriptions, clean types (str -> int), (organize pictures)\n",
    "    ratings, number of ratings, pages (str -> int)"
   ]
  },
  {
   "cell_type": "markdown",
   "metadata": {},
   "source": [
    "Add bag of words, au_ge and keywords"
   ]
  },
  {
   "cell_type": "code",
   "execution_count": null,
   "metadata": {},
   "outputs": [],
   "source": []
  },
  {
   "cell_type": "code",
   "execution_count": null,
   "metadata": {},
   "outputs": [],
   "source": []
  },
  {
   "cell_type": "markdown",
   "metadata": {},
   "source": [
    "Process and create bag of words"
   ]
  },
  {
   "cell_type": "code",
   "execution_count": 40,
   "metadata": {},
   "outputs": [
    {
     "data": {
      "text/plain": [
       "'hi bye'"
      ]
     },
     "execution_count": 40,
     "metadata": {},
     "output_type": "execute_result"
    }
   ],
   "source": [
    "au_ge, keywords = process_and_almost_bag(df.authors, df.genre, df.desc_clean)\n",
    "boow = make_bow(aug, kee)"
   ]
  }
 ],
 "metadata": {
  "kernelspec": {
   "display_name": "Python 3",
   "language": "python",
   "name": "python3"
  },
  "language_info": {
   "codemirror_mode": {
    "name": "ipython",
    "version": 3
   },
   "file_extension": ".py",
   "mimetype": "text/x-python",
   "name": "python",
   "nbconvert_exporter": "python",
   "pygments_lexer": "ipython3",
   "version": "3.7.3-final"
  },
  "toc": {
   "base_numbering": 1,
   "nav_menu": {},
   "number_sections": true,
   "sideBar": true,
   "skip_h1_title": false,
   "title_cell": "Table of Contents",
   "title_sidebar": "Contents",
   "toc_cell": false,
   "toc_position": {},
   "toc_section_display": true,
   "toc_window_display": false
  }
 },
 "nbformat": 4,
 "nbformat_minor": 2
}