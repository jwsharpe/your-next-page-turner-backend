{
 "cells": [
  {
   "cell_type": "markdown",
   "metadata": {},
   "source": [
    "# Data Cleaning"
   ]
  },
  {
   "cell_type": "code",
   "execution_count": 1,
   "metadata": {},
   "outputs": [],
   "source": [
    "%reload_ext autoreload\n",
    "%autoreload 2\n",
    "\n",
    "# File imports\n",
    "import signin_config\n",
    "from book_functions import *\n",
    "\n",
    "# Base imports\n",
    "import pandas as pd\n",
    "import numpy as np\n",
    "import seaborn as sns\n",
    "import matplotlib.pyplot as plt\n",
    "%matplotlib inline\n",
    "\n",
    "# NLP imports\n",
    "from sklearn.feature_extraction.text import TfidfVectorizer\n",
    "from sklearn.metrics.pairwise import linear_kernel\n",
    "from scipy import stats\n",
    "import nltk\n",
    "from nltk.corpus import gutenberg, stopwords\n",
    "from nltk.collocations import *\n",
    "from nltk import FreqDist\n",
    "from nltk import word_tokenize\n",
    "import string\n",
    "import re\n",
    "import gensim\n",
    "from gensim.utils import simple_preprocess\n",
    "from gensim.parsing.preprocessing import STOPWORDS\n",
    "from nltk.corpus import stopwords\n",
    "from nltk.stem import WordNetLemmatizer, SnowballStemmer\n",
    "from nltk.stem.porter import *\n",
    "\n",
    "# !pip install rake-nltk\n",
    "from rake_nltk import Rake\n",
    "\n",
    "\n",
    "# scraping imports\n",
    "from selenium import webdriver\n",
    "from selenium.webdriver.common.by import By\n",
    "from selenium.webdriver.common.keys import Keys\n",
    "from selenium.common.exceptions import TimeoutException\n",
    "from selenium.webdriver.support.ui import WebDriverWait\n",
    "from selenium.webdriver.support import expected_conditions as EC"
   ]
  },
  {
   "cell_type": "code",
   "execution_count": 2,
   "metadata": {},
   "outputs": [],
   "source": [
    "pd.set_option('display.float_format', lambda x: '%.3f' % x)"
   ]
  },
  {
   "cell_type": "markdown",
   "metadata": {},
   "source": [
    "\n",
    "## Clean data \n",
    "\n",
    "- look for nan values, empty descriptions, clean types (str -> int), (organize pictures)\n",
    "    ratings, number of ratings, pages (str -> int)\n"
   ]
  },
  {
   "cell_type": "markdown",
   "metadata": {},
   "source": [
    "Merging with other dataframe -->"
   ]
  },
  {
   "cell_type": "code",
   "execution_count": 31,
   "metadata": {},
   "outputs": [],
   "source": [
    "# df = pd.read_csv('goodread_data2_reb1.csv')\n",
    "# df1 = df1 = pd.read_csv('cleaned_gr_data_quan2.csv')\n",
    "# df_genres = pd.concat([df,df1], sort=True)\n",
    "# df_parent = pd.concat([df,df1], sort=True)"
   ]
  },
  {
   "cell_type": "code",
   "execution_count": 32,
   "metadata": {},
   "outputs": [],
   "source": [
    "# df_genres.drop(['Unnamed: 0','format'], axis=1, inplace=True) # drop format and random first column\n",
    "# df_genres.pages = df_genres.pages.apply(lambda x: float(str(x).split(' ')[0]))\n",
    "# df_genres.genre = df_genres.genre.apply(lambda x: x.replace('{','').replace('}',''))\n",
    "# df_genres.genre = df_genres.genre.apply(lambda x: x.replace(\"'\",''))\n",
    "# df_genres['genre'] = df_genres['genre'].map(lambda x: x.lower().split(','))"
   ]
  },
  {
   "cell_type": "code",
   "execution_count": 135,
   "metadata": {},
   "outputs": [],
   "source": [
    "df = pd.read_csv('goodread_img1.csv')\n",
    "df.drop(['Unnamed: 0'], axis=1,inplace=True)#,'pages','format'], axis=1,inplace=True)"
   ]
  },
  {
   "cell_type": "code",
   "execution_count": 41,
   "metadata": {},
   "outputs": [],
   "source": [
    "df.genre = df.genre.apply(lambda x: x.replace('{','').replace('}',''))\n",
    "df.genre = df.genre.apply(lambda x: x.replace(\"'\",''))\n",
    "df['genre'] = df['genre'].map(lambda x: x.lower().split(','))"
   ]
  },
  {
   "cell_type": "markdown",
   "metadata": {},
   "source": [
    "## NLP cleaning\n",
    "\n",
    "Filtering, Stemming, Lemming and TF-IDF to produce an nlp-friendly dataset named 'nlp'"
   ]
  },
  {
   "cell_type": "markdown",
   "metadata": {},
   "source": [
    "Functions to clean:"
   ]
  },
  {
   "cell_type": "code",
   "execution_count": 42,
   "metadata": {},
   "outputs": [],
   "source": [
    "# new stopwords_list and regex pattern\n",
    "\n",
    "pattern = \"([a-zA-Z]+(?:'[a-z]+)?)\"\n",
    "stopwords_list = stopwords.words('english')\n",
    "stopwords_list += list(string.punctuation)\n",
    "stopwords_list += ['0', '1', '2', '3', '4', '5', '6', '7', '8', '9']\n",
    "stopwords_list += ['book', 'author', 'novel', 'year', 'come', 'stories','story','thing','alex', 'stephanie', \n",
    "                   'bestseller']"
   ]
  },
  {
   "cell_type": "code",
   "execution_count": 43,
   "metadata": {},
   "outputs": [],
   "source": [
    "nlp = pd.DataFrame(df.description)\n",
    "nlp['describe_raw'] = nlp.description.apply(lambda info: nltk.regexp_tokenize(info, pattern));\n",
    "nlp['raw_token'] = nlp.describe_raw.apply(lambda x: [word.lower() for word in x]);\n",
    "nlp['token_list'] = nlp.raw_token.apply(lambda x : [word for word in x if word not in stopwords_list]);\n",
    "nlp['freq_dist'] = nlp.describe_raw.apply(lambda x: FreqDist(x));\n",
    "nlp['freq_dist_top'] = nlp.freq_dist.apply(lambda x: x.most_common(20));\n",
    "\n",
    "# apply tfidf to vectorize\n",
    "tf = TfidfVectorizer(analyzer='word', ngram_range=(1, 3), min_df=0, stop_words='english')\n",
    "nlp['tfidf'] = tf.fit_transform(nlp['description'])"
   ]
  },
  {
   "cell_type": "markdown",
   "metadata": {},
   "source": [
    "# TF-IDF Content-Based Recommendation System"
   ]
  },
  {
   "cell_type": "markdown",
   "metadata": {},
   "source": [
    "## Based on Description\n",
    "Cosine Similarities:\n"
   ]
  },
  {
   "cell_type": "code",
   "execution_count": 44,
   "metadata": {
    "collapsed": true
   },
   "outputs": [
    {
     "ename": "KeyboardInterrupt",
     "evalue": "",
     "output_type": "error",
     "traceback": [
      "\u001b[0;31m---------------------------------------------------------------------------\u001b[0m",
      "\u001b[0;31mKeyboardInterrupt\u001b[0m                         Traceback (most recent call last)",
      "\u001b[0;32m<ipython-input-44-b7e160159e36>\u001b[0m in \u001b[0;36m<module>\u001b[0;34m\u001b[0m\n\u001b[1;32m     13\u001b[0m     \u001b[0msimilar_items\u001b[0m \u001b[0;34m=\u001b[0m \u001b[0;34m[\u001b[0m\u001b[0;34m(\u001b[0m\u001b[0mcosine_similarities\u001b[0m\u001b[0;34m[\u001b[0m\u001b[0midx\u001b[0m\u001b[0;34m]\u001b[0m\u001b[0;34m[\u001b[0m\u001b[0mi\u001b[0m\u001b[0;34m]\u001b[0m\u001b[0;34m,\u001b[0m \u001b[0mds\u001b[0m\u001b[0;34m[\u001b[0m\u001b[0;34m'id'\u001b[0m\u001b[0;34m]\u001b[0m\u001b[0;34m[\u001b[0m\u001b[0mi\u001b[0m\u001b[0;34m]\u001b[0m\u001b[0;34m)\u001b[0m \u001b[0;32mfor\u001b[0m \u001b[0mi\u001b[0m \u001b[0;32min\u001b[0m \u001b[0msimilar_indices\u001b[0m\u001b[0;34m]\u001b[0m\u001b[0;34m\u001b[0m\u001b[0;34m\u001b[0m\u001b[0m\n\u001b[1;32m     14\u001b[0m \u001b[0;34m\u001b[0m\u001b[0m\n\u001b[0;32m---> 15\u001b[0;31m     \u001b[0mresults\u001b[0m\u001b[0;34m[\u001b[0m\u001b[0mrow\u001b[0m\u001b[0;34m[\u001b[0m\u001b[0;34m'id'\u001b[0m\u001b[0;34m]\u001b[0m\u001b[0;34m]\u001b[0m \u001b[0;34m=\u001b[0m \u001b[0msimilar_items\u001b[0m\u001b[0;34m[\u001b[0m\u001b[0;36m1\u001b[0m\u001b[0;34m:\u001b[0m\u001b[0;34m]\u001b[0m\u001b[0;34m\u001b[0m\u001b[0;34m\u001b[0m\u001b[0m\n\u001b[0m\u001b[1;32m     16\u001b[0m \u001b[0;34m\u001b[0m\u001b[0m\n\u001b[1;32m     17\u001b[0m \u001b[0mprint\u001b[0m\u001b[0;34m(\u001b[0m\u001b[0;34m'done!'\u001b[0m\u001b[0;34m)\u001b[0m\u001b[0;34m\u001b[0m\u001b[0;34m\u001b[0m\u001b[0m\n",
      "\u001b[0;32m//anaconda3/lib/python3.7/site-packages/pandas/core/series.py\u001b[0m in \u001b[0;36m__getitem__\u001b[0;34m(self, key)\u001b[0m\n\u001b[1;32m   1069\u001b[0m         \u001b[0mkey\u001b[0m \u001b[0;34m=\u001b[0m \u001b[0mcom\u001b[0m\u001b[0;34m.\u001b[0m\u001b[0mapply_if_callable\u001b[0m\u001b[0;34m(\u001b[0m\u001b[0mkey\u001b[0m\u001b[0;34m,\u001b[0m \u001b[0mself\u001b[0m\u001b[0;34m)\u001b[0m\u001b[0;34m\u001b[0m\u001b[0;34m\u001b[0m\u001b[0m\n\u001b[1;32m   1070\u001b[0m         \u001b[0;32mtry\u001b[0m\u001b[0;34m:\u001b[0m\u001b[0;34m\u001b[0m\u001b[0;34m\u001b[0m\u001b[0m\n\u001b[0;32m-> 1071\u001b[0;31m             \u001b[0mresult\u001b[0m \u001b[0;34m=\u001b[0m \u001b[0mself\u001b[0m\u001b[0;34m.\u001b[0m\u001b[0mindex\u001b[0m\u001b[0;34m.\u001b[0m\u001b[0mget_value\u001b[0m\u001b[0;34m(\u001b[0m\u001b[0mself\u001b[0m\u001b[0;34m,\u001b[0m \u001b[0mkey\u001b[0m\u001b[0;34m)\u001b[0m\u001b[0;34m\u001b[0m\u001b[0;34m\u001b[0m\u001b[0m\n\u001b[0m\u001b[1;32m   1072\u001b[0m \u001b[0;34m\u001b[0m\u001b[0m\n\u001b[1;32m   1073\u001b[0m             \u001b[0;32mif\u001b[0m \u001b[0;32mnot\u001b[0m \u001b[0mis_scalar\u001b[0m\u001b[0;34m(\u001b[0m\u001b[0mresult\u001b[0m\u001b[0;34m)\u001b[0m\u001b[0;34m:\u001b[0m\u001b[0;34m\u001b[0m\u001b[0;34m\u001b[0m\u001b[0m\n",
      "\u001b[0;32m//anaconda3/lib/python3.7/site-packages/pandas/core/indexes/base.py\u001b[0m in \u001b[0;36mget_value\u001b[0;34m(self, series, key)\u001b[0m\n\u001b[1;32m   4724\u001b[0m \u001b[0;34m\u001b[0m\u001b[0m\n\u001b[1;32m   4725\u001b[0m         \u001b[0ms\u001b[0m \u001b[0;34m=\u001b[0m \u001b[0mcom\u001b[0m\u001b[0;34m.\u001b[0m\u001b[0mvalues_from_object\u001b[0m\u001b[0;34m(\u001b[0m\u001b[0mseries\u001b[0m\u001b[0;34m)\u001b[0m\u001b[0;34m\u001b[0m\u001b[0;34m\u001b[0m\u001b[0m\n\u001b[0;32m-> 4726\u001b[0;31m         \u001b[0mk\u001b[0m \u001b[0;34m=\u001b[0m \u001b[0mcom\u001b[0m\u001b[0;34m.\u001b[0m\u001b[0mvalues_from_object\u001b[0m\u001b[0;34m(\u001b[0m\u001b[0mkey\u001b[0m\u001b[0;34m)\u001b[0m\u001b[0;34m\u001b[0m\u001b[0;34m\u001b[0m\u001b[0m\n\u001b[0m\u001b[1;32m   4727\u001b[0m \u001b[0;34m\u001b[0m\u001b[0m\n\u001b[1;32m   4728\u001b[0m         \u001b[0mk\u001b[0m \u001b[0;34m=\u001b[0m \u001b[0mself\u001b[0m\u001b[0;34m.\u001b[0m\u001b[0m_convert_scalar_indexer\u001b[0m\u001b[0;34m(\u001b[0m\u001b[0mk\u001b[0m\u001b[0;34m,\u001b[0m \u001b[0mkind\u001b[0m\u001b[0;34m=\u001b[0m\u001b[0;34m\"getitem\"\u001b[0m\u001b[0;34m)\u001b[0m\u001b[0;34m\u001b[0m\u001b[0;34m\u001b[0m\u001b[0m\n",
      "\u001b[0;31mKeyboardInterrupt\u001b[0m: "
     ]
    }
   ],
   "source": [
    "ds = df.copy(deep=False)\n",
    "\n",
    "#getting stuck at 3998 for some reason\n",
    "tf = TfidfVectorizer(analyzer='word', ngram_range=(1, 3), min_df=0, stop_words='english')\n",
    "tfidf_matrix = tf.fit_transform(ds['description'])\n",
    "\n",
    "cosine_similarities = linear_kernel(tfidf_matrix, tfidf_matrix)\n",
    "\n",
    "results = {}\n",
    "\n",
    "for idx, row in ds.iterrows():\n",
    "    similar_indices = cosine_similarities[idx].argsort()[:-100:-1] # not sure why this is here\n",
    "    similar_items = [(cosine_similarities[idx][i], ds['id'][i]) for i in similar_indices]\n",
    "\n",
    "    results[row['id']] = similar_items[1:]\n",
    "    \n",
    "print('done!')\n"
   ]
  },
  {
   "cell_type": "code",
   "execution_count": 106,
   "metadata": {},
   "outputs": [
    {
     "data": {
      "text/html": [
       "<div>\n",
       "<style scoped>\n",
       "    .dataframe tbody tr th:only-of-type {\n",
       "        vertical-align: middle;\n",
       "    }\n",
       "\n",
       "    .dataframe tbody tr th {\n",
       "        vertical-align: top;\n",
       "    }\n",
       "\n",
       "    .dataframe thead th {\n",
       "        text-align: right;\n",
       "    }\n",
       "</style>\n",
       "<table border=\"1\" class=\"dataframe\">\n",
       "  <thead>\n",
       "    <tr style=\"text-align: right;\">\n",
       "      <th></th>\n",
       "      <th>titles</th>\n",
       "      <th>authors</th>\n",
       "      <th>ratings</th>\n",
       "      <th>num_ratings</th>\n",
       "      <th>id</th>\n",
       "      <th>img</th>\n",
       "      <th>description</th>\n",
       "      <th>genre</th>\n",
       "      <th>key_words</th>\n",
       "    </tr>\n",
       "  </thead>\n",
       "  <tbody>\n",
       "    <tr>\n",
       "      <th>0</th>\n",
       "      <td>Anne of Avonlea (Anne of Green Gables, #2)</td>\n",
       "      <td>l.m.montgomery</td>\n",
       "      <td>4.22</td>\n",
       "      <td>126781</td>\n",
       "      <td>77390</td>\n",
       "      <td>https://i.gr-assets.com/images/S/compressed.ph...</td>\n",
       "      <td>At sixteen Anne is grown upalmost Her gray eye...</td>\n",
       "      <td>[childrens, classics, historical, historicalfi...</td>\n",
       "      <td>[temper, arrived, avonlea, people, red, hair, ...</td>\n",
       "    </tr>\n",
       "    <tr>\n",
       "      <th>1</th>\n",
       "      <td>Ethan Frome</td>\n",
       "      <td>edithwharton</td>\n",
       "      <td>3.39</td>\n",
       "      <td>100785</td>\n",
       "      <td>5246</td>\n",
       "      <td>https://i.gr-assets.com/images/S/compressed.ph...</td>\n",
       "      <td>He seemed a part of the mute melancholy landsc...</td>\n",
       "      <td>[classics, academic, fiction, school, literature]</td>\n",
       "      <td>[seemed, hypochondriac, wife, zeena, possibili...</td>\n",
       "    </tr>\n",
       "    <tr>\n",
       "      <th>2</th>\n",
       "      <td>The Arabian Nights</td>\n",
       "      <td>anonymous</td>\n",
       "      <td>4.05</td>\n",
       "      <td>70660</td>\n",
       "      <td>93101</td>\n",
       "      <td>https://i.gr-assets.com/images/S/compressed.ph...</td>\n",
       "      <td>The tales of told by Shahrazad over a thousand...</td>\n",
       "      <td>[classics, shortstories, fantasy, fiction]</td>\n",
       "      <td>[bottles, one, nights, told, tale, intimate, r...</td>\n",
       "    </tr>\n",
       "    <tr>\n",
       "      <th>3</th>\n",
       "      <td>Martin Eden</td>\n",
       "      <td>jacklondon</td>\n",
       "      <td>4.43</td>\n",
       "      <td>21445</td>\n",
       "      <td>929782</td>\n",
       "      <td>https://i.gr-assets.com/images/S/compressed.ph...</td>\n",
       "      <td>Alternate cover edition of ISBN   The semiauto...</td>\n",
       "      <td>[classics, american, literature, fiction]</td>\n",
       "      <td>[story, aggressively, dreams, eden, san, franc...</td>\n",
       "    </tr>\n",
       "    <tr>\n",
       "      <th>4</th>\n",
       "      <td>A Girl of the Limberlost (Limberlost, #2)</td>\n",
       "      <td>genestratton-porter</td>\n",
       "      <td>4.15</td>\n",
       "      <td>17932</td>\n",
       "      <td>17567</td>\n",
       "      <td>https://i.gr-assets.com/images/S/compressed.ph...</td>\n",
       "      <td>Set amid Indianas vast Limberlost Swamp this t...</td>\n",
       "      <td>[childrens, classics, historical, historicalfi...</td>\n",
       "      <td>[northern, indiana, oil, production, gene, str...</td>\n",
       "    </tr>\n",
       "  </tbody>\n",
       "</table>\n",
       "</div>"
      ],
      "text/plain": [
       "                                       titles              authors ratings  \\\n",
       "0  Anne of Avonlea (Anne of Green Gables, #2)       l.m.montgomery    4.22   \n",
       "1                                 Ethan Frome         edithwharton    3.39   \n",
       "2                          The Arabian Nights            anonymous    4.05   \n",
       "3                                 Martin Eden           jacklondon    4.43   \n",
       "4   A Girl of the Limberlost (Limberlost, #2)  genestratton-porter    4.15   \n",
       "\n",
       "  num_ratings      id                                                img  \\\n",
       "0      126781   77390  https://i.gr-assets.com/images/S/compressed.ph...   \n",
       "1      100785    5246  https://i.gr-assets.com/images/S/compressed.ph...   \n",
       "2       70660   93101  https://i.gr-assets.com/images/S/compressed.ph...   \n",
       "3       21445  929782  https://i.gr-assets.com/images/S/compressed.ph...   \n",
       "4       17932   17567  https://i.gr-assets.com/images/S/compressed.ph...   \n",
       "\n",
       "                                         description  \\\n",
       "0  At sixteen Anne is grown upalmost Her gray eye...   \n",
       "1  He seemed a part of the mute melancholy landsc...   \n",
       "2  The tales of told by Shahrazad over a thousand...   \n",
       "3  Alternate cover edition of ISBN   The semiauto...   \n",
       "4  Set amid Indianas vast Limberlost Swamp this t...   \n",
       "\n",
       "                                               genre  \\\n",
       "0  [childrens, classics, historical, historicalfi...   \n",
       "1  [classics, academic, fiction, school, literature]   \n",
       "2         [classics, shortstories, fantasy, fiction]   \n",
       "3          [classics, american, literature, fiction]   \n",
       "4  [childrens, classics, historical, historicalfi...   \n",
       "\n",
       "                                           key_words  \n",
       "0  [temper, arrived, avonlea, people, red, hair, ...  \n",
       "1  [seemed, hypochondriac, wife, zeena, possibili...  \n",
       "2  [bottles, one, nights, told, tale, intimate, r...  \n",
       "3  [story, aggressively, dreams, eden, san, franc...  \n",
       "4  [northern, indiana, oil, production, gene, str...  "
      ]
     },
     "execution_count": 106,
     "metadata": {},
     "output_type": "execute_result"
    }
   ],
   "source": [
    "df.description."
   ]
  },
  {
   "cell_type": "code",
   "execution_count": null,
   "metadata": {},
   "outputs": [],
   "source": [
    "recommend(item_id=11, num=5)"
   ]
  },
  {
   "cell_type": "markdown",
   "metadata": {},
   "source": [
    "# Get Keywords"
   ]
  },
  {
   "cell_type": "code",
   "execution_count": 12,
   "metadata": {},
   "outputs": [],
   "source": [
    "dff = pd.read_csv('goodreads_updated.csv')\n",
    "dff.drop('Unnamed: 0', axis=1,inplace=True)\n",
    "dff = dff.iloc[:7000]"
   ]
  },
  {
   "cell_type": "code",
   "execution_count": 28,
   "metadata": {},
   "outputs": [],
   "source": [
    "# create author and genre column clean\n",
    "dff['au_ge'] = dff.authors.apply(lambda x: x.lower().replace(' ','')) + ' ' + dff.genre.apply(lambda x: x.replace(' ','').replace(',',' ') if x!='set()' and type(x)!=float else ' ')\n",
    "dff['au_ge'] = dff.au_ge.apply(lambda x: x.lower() if type(x) != float else x)  # run this line before bow"
   ]
  },
  {
   "cell_type": "code",
   "execution_count": 32,
   "metadata": {},
   "outputs": [],
   "source": [
    "# clean description for keyword search\n",
    "\n",
    "dff['desc_clean'] = dff.description\n",
    "for c in string.punctuation:\n",
    "    dff.desc_clean = dff.desc_clean.apply(lambda x: x.replace(c,\"\") if type(x)!=float else x)\n",
    "for s in string.digits:\n",
    "    dff.desc_clean = dff.desc_clean.apply(lambda x: x.replace(s,\"\") if type(x)!=float else x)\n",
    "    dff.desc_clean = dff.desc_clean.apply(lambda x: x.replace('”','') if type(x)!=float else x)\n",
    "    dff.desc_clean = dff.desc_clean.apply(lambda x: x.replace('“','') if type(x)!=float else x)"
   ]
  },
  {
   "cell_type": "code",
   "execution_count": 35,
   "metadata": {},
   "outputs": [],
   "source": [
    "dff['key_words'] = \"\"\n",
    "for idx, row in dff.iterrows():\n",
    "    plot = row['desc_clean']\n",
    "    if type(plot) == float:\n",
    "        continue\n",
    "    \n",
    "    # instantiating Rake, by default is uses english stopwords from NLTK\n",
    "    # and discard all puntuation characters\n",
    "    r = Rake()\n",
    "    # extracting the words by passing the text\n",
    "    r.extract_keywords_from_text(plot)\n",
    "    # getting the dictionary with key words and their scores\n",
    "    key_words_dict_scores = r.get_word_degrees()\n",
    "\n",
    "    # assigning the key words to the new column\n",
    "    keys = list(key_words_dict_scores.keys())\n",
    "    keys = ' '.join(keys)\n",
    "    dff.loc[idx, 'key_words'] = keys"
   ]
  },
  {
   "cell_type": "code",
   "execution_count": 37,
   "metadata": {},
   "outputs": [],
   "source": [
    "dff['bag_of_words'] = dff.au_ge.apply(lambda x: x if type(x)!=float else '') + ' ' + dff.key_words.apply(lambda x: x if type(x)!=float else '')"
   ]
  },
  {
   "cell_type": "code",
   "execution_count": 38,
   "metadata": {},
   "outputs": [
    {
     "data": {
      "text/html": [
       "<div>\n",
       "<style scoped>\n",
       "    .dataframe tbody tr th:only-of-type {\n",
       "        vertical-align: middle;\n",
       "    }\n",
       "\n",
       "    .dataframe tbody tr th {\n",
       "        vertical-align: top;\n",
       "    }\n",
       "\n",
       "    .dataframe thead th {\n",
       "        text-align: right;\n",
       "    }\n",
       "</style>\n",
       "<table border=\"1\" class=\"dataframe\">\n",
       "  <thead>\n",
       "    <tr style=\"text-align: right;\">\n",
       "      <th></th>\n",
       "      <th>titles</th>\n",
       "      <th>authors</th>\n",
       "      <th>ratings</th>\n",
       "      <th>num_ratings</th>\n",
       "      <th>id</th>\n",
       "      <th>img</th>\n",
       "      <th>description</th>\n",
       "      <th>pages</th>\n",
       "      <th>genre</th>\n",
       "      <th>format</th>\n",
       "      <th>isbn</th>\n",
       "      <th>au_ge</th>\n",
       "      <th>desc_clean</th>\n",
       "      <th>key_words</th>\n",
       "      <th>bag_of_words</th>\n",
       "    </tr>\n",
       "  </thead>\n",
       "  <tbody>\n",
       "    <tr>\n",
       "      <th>1056</th>\n",
       "      <td>The Appetite of Tyranny: Including Letters to ...</td>\n",
       "      <td>Charles Bryce</td>\n",
       "      <td>3.36</td>\n",
       "      <td>89</td>\n",
       "      <td>6218430</td>\n",
       "      <td>https://i.gr-assets.com/images/S/compressed.ph...</td>\n",
       "      <td>This book was converted from its physical edit...</td>\n",
       "      <td>0</td>\n",
       "      <td>History, Politics, Nonfiction, Writing, Essays...</td>\n",
       "      <td>NaN</td>\n",
       "      <td>NaN</td>\n",
       "      <td>charlesbryce history politics nonfiction writi...</td>\n",
       "      <td>This book was converted from its physical edit...</td>\n",
       "      <td>free may find web purchase physical edition di...</td>\n",
       "      <td>charlesbryce history politics nonfiction writi...</td>\n",
       "    </tr>\n",
       "    <tr>\n",
       "      <th>1077</th>\n",
       "      <td>Bones (Sanders of the River #5)</td>\n",
       "      <td>Franz Kafka</td>\n",
       "      <td>3.63</td>\n",
       "      <td>62</td>\n",
       "      <td>8305682</td>\n",
       "      <td>https://i.gr-assets.com/images/S/compressed.ph...</td>\n",
       "      <td>It is a time when the major world powers are v...</td>\n",
       "      <td>NaN</td>\n",
       "      <td>Mystery, Crime, Classics</td>\n",
       "      <td>NaN</td>\n",
       "      <td>NaN</td>\n",
       "      <td>franzkafka mystery crime classics</td>\n",
       "      <td>It is a time when the major world powers are v...</td>\n",
       "      <td>trusty lieutenant hamilton takes colonial hono...</td>\n",
       "      <td>franzkafka mystery crime classics trusty lieut...</td>\n",
       "    </tr>\n",
       "    <tr>\n",
       "      <th>2841</th>\n",
       "      <td>The Human Voice: A Play = La Voix Humaine</td>\n",
       "      <td>Jean Cocteau</td>\n",
       "      <td>4.03</td>\n",
       "      <td>271</td>\n",
       "      <td>80276</td>\n",
       "      <td>https://i.gr-assets.com/images/S/compressed.ph...</td>\n",
       "      <td>\"Une femme seule dans une chambre en désordre ...</td>\n",
       "      <td>NaN</td>\n",
       "      <td>Plays, Plays, Theatre, Drama, Cultural, France</td>\n",
       "      <td>paperback</td>\n",
       "      <td>9780573033810</td>\n",
       "      <td>jeancocteau plays plays theatre drama cultural...</td>\n",
       "      <td>Une femme seule dans une chambre en désordre t...</td>\n",
       "      <td>une femme seule dans chambre en désordre télép...</td>\n",
       "      <td>jeancocteau plays plays theatre drama cultural...</td>\n",
       "    </tr>\n",
       "    <tr>\n",
       "      <th>2562</th>\n",
       "      <td>Tarzan and the Golden Lion (Tarzan, #9)</td>\n",
       "      <td>Edgar Rice Burroughs</td>\n",
       "      <td>3.76</td>\n",
       "      <td>1373</td>\n",
       "      <td>828196</td>\n",
       "      <td>https://i.gr-assets.com/images/S/compressed.ph...</td>\n",
       "      <td>Tarzan had been betrayed. Drugged and helpless...</td>\n",
       "      <td>191</td>\n",
       "      <td>Fantasy, Adventure, Fiction, Classics</td>\n",
       "      <td>mass market paperback</td>\n",
       "      <td>9780345289988</td>\n",
       "      <td>edgarriceburroughs fantasy adventure fiction c...</td>\n",
       "      <td>Tarzan had been betrayed Drugged and helpless ...</td>\n",
       "      <td>flaming god opar last bastion dreadful priests...</td>\n",
       "      <td>edgarriceburroughs fantasy adventure fiction c...</td>\n",
       "    </tr>\n",
       "    <tr>\n",
       "      <th>6047</th>\n",
       "      <td>Shackleton's Boat Journey</td>\n",
       "      <td>Emil M. Cioran</td>\n",
       "      <td>4.31</td>\n",
       "      <td>760</td>\n",
       "      <td>222233</td>\n",
       "      <td>https://i.gr-assets.com/images/S/compressed.ph...</td>\n",
       "      <td>This is an account of the Shackleton boat jour...</td>\n",
       "      <td>164</td>\n",
       "      <td>History, Nonfiction, Adventure, Biography, Travel</td>\n",
       "      <td>paperback</td>\n",
       "      <td>9781841580630</td>\n",
       "      <td>emilm.cioran history nonfiction adventure biog...</td>\n",
       "      <td>This is an account of the Shackleton boat jour...</td>\n",
       "      <td>breathtaking survival stories getting antarcti...</td>\n",
       "      <td>emilm.cioran history nonfiction adventure biog...</td>\n",
       "    </tr>\n",
       "  </tbody>\n",
       "</table>\n",
       "</div>"
      ],
      "text/plain": [
       "                                                 titles               authors  \\\n",
       "1056  The Appetite of Tyranny: Including Letters to ...         Charles Bryce   \n",
       "1077                    Bones (Sanders of the River #5)           Franz Kafka   \n",
       "2841          The Human Voice: A Play = La Voix Humaine          Jean Cocteau   \n",
       "2562            Tarzan and the Golden Lion (Tarzan, #9)  Edgar Rice Burroughs   \n",
       "6047                          Shackleton's Boat Journey        Emil M. Cioran   \n",
       "\n",
       "     ratings num_ratings       id  \\\n",
       "1056    3.36          89  6218430   \n",
       "1077    3.63          62  8305682   \n",
       "2841    4.03         271    80276   \n",
       "2562    3.76        1373   828196   \n",
       "6047    4.31         760   222233   \n",
       "\n",
       "                                                    img  \\\n",
       "1056  https://i.gr-assets.com/images/S/compressed.ph...   \n",
       "1077  https://i.gr-assets.com/images/S/compressed.ph...   \n",
       "2841  https://i.gr-assets.com/images/S/compressed.ph...   \n",
       "2562  https://i.gr-assets.com/images/S/compressed.ph...   \n",
       "6047  https://i.gr-assets.com/images/S/compressed.ph...   \n",
       "\n",
       "                                            description pages  \\\n",
       "1056  This book was converted from its physical edit...     0   \n",
       "1077  It is a time when the major world powers are v...   NaN   \n",
       "2841  \"Une femme seule dans une chambre en désordre ...   NaN   \n",
       "2562  Tarzan had been betrayed. Drugged and helpless...   191   \n",
       "6047  This is an account of the Shackleton boat jour...   164   \n",
       "\n",
       "                                                  genre  \\\n",
       "1056  History, Politics, Nonfiction, Writing, Essays...   \n",
       "1077                           Mystery, Crime, Classics   \n",
       "2841     Plays, Plays, Theatre, Drama, Cultural, France   \n",
       "2562              Fantasy, Adventure, Fiction, Classics   \n",
       "6047  History, Nonfiction, Adventure, Biography, Travel   \n",
       "\n",
       "                     format           isbn  \\\n",
       "1056                    NaN            NaN   \n",
       "1077                    NaN            NaN   \n",
       "2841              paperback  9780573033810   \n",
       "2562  mass market paperback  9780345289988   \n",
       "6047              paperback  9781841580630   \n",
       "\n",
       "                                                  au_ge  \\\n",
       "1056  charlesbryce history politics nonfiction writi...   \n",
       "1077                  franzkafka mystery crime classics   \n",
       "2841  jeancocteau plays plays theatre drama cultural...   \n",
       "2562  edgarriceburroughs fantasy adventure fiction c...   \n",
       "6047  emilm.cioran history nonfiction adventure biog...   \n",
       "\n",
       "                                             desc_clean  \\\n",
       "1056  This book was converted from its physical edit...   \n",
       "1077  It is a time when the major world powers are v...   \n",
       "2841  Une femme seule dans une chambre en désordre t...   \n",
       "2562  Tarzan had been betrayed Drugged and helpless ...   \n",
       "6047  This is an account of the Shackleton boat jour...   \n",
       "\n",
       "                                              key_words  \\\n",
       "1056  free may find web purchase physical edition di...   \n",
       "1077  trusty lieutenant hamilton takes colonial hono...   \n",
       "2841  une femme seule dans chambre en désordre télép...   \n",
       "2562  flaming god opar last bastion dreadful priests...   \n",
       "6047  breathtaking survival stories getting antarcti...   \n",
       "\n",
       "                                           bag_of_words  \n",
       "1056  charlesbryce history politics nonfiction writi...  \n",
       "1077  franzkafka mystery crime classics trusty lieut...  \n",
       "2841  jeancocteau plays plays theatre drama cultural...  \n",
       "2562  edgarriceburroughs fantasy adventure fiction c...  \n",
       "6047  emilm.cioran history nonfiction adventure biog...  "
      ]
     },
     "execution_count": 38,
     "metadata": {},
     "output_type": "execute_result"
    }
   ],
   "source": [
    "dff.sample(5)"
   ]
  },
  {
   "cell_type": "code",
   "execution_count": 40,
   "metadata": {},
   "outputs": [],
   "source": [
    "dff.to_json(r'goodreads_updated.json',orient='index')"
   ]
  },
  {
   "cell_type": "markdown",
   "metadata": {},
   "source": [
    "# Bag of Words"
   ]
  },
  {
   "cell_type": "code",
   "execution_count": 524,
   "metadata": {
    "collapsed": true
   },
   "outputs": [
    {
     "ename": "TypeError",
     "evalue": "can only join an iterable",
     "output_type": "error",
     "traceback": [
      "\u001b[0;31m---------------------------------------------------------------------------\u001b[0m",
      "\u001b[0;31mTypeError\u001b[0m                                 Traceback (most recent call last)",
      "\u001b[0;32m<ipython-input-524-7f3e12895a41>\u001b[0m in \u001b[0;36m<module>\u001b[0;34m\u001b[0m\n\u001b[1;32m      5\u001b[0m     \u001b[0;32mfor\u001b[0m \u001b[0mcol\u001b[0m \u001b[0;32min\u001b[0m \u001b[0mcolumns\u001b[0m\u001b[0;34m:\u001b[0m\u001b[0;34m\u001b[0m\u001b[0;34m\u001b[0m\u001b[0m\n\u001b[1;32m      6\u001b[0m         \u001b[0;32mif\u001b[0m \u001b[0mcol\u001b[0m \u001b[0;34m!=\u001b[0m \u001b[0;34m'authors'\u001b[0m\u001b[0;34m:\u001b[0m\u001b[0;34m\u001b[0m\u001b[0;34m\u001b[0m\u001b[0m\n\u001b[0;32m----> 7\u001b[0;31m             \u001b[0mwords\u001b[0m \u001b[0;34m=\u001b[0m \u001b[0mwords\u001b[0m \u001b[0;34m+\u001b[0m \u001b[0;34m' '\u001b[0m\u001b[0;34m.\u001b[0m\u001b[0mjoin\u001b[0m\u001b[0;34m(\u001b[0m\u001b[0mrow\u001b[0m\u001b[0;34m[\u001b[0m\u001b[0mcol\u001b[0m\u001b[0;34m]\u001b[0m\u001b[0;34m)\u001b[0m\u001b[0;34m+\u001b[0m \u001b[0;34m' '\u001b[0m\u001b[0;34m\u001b[0m\u001b[0;34m\u001b[0m\u001b[0m\n\u001b[0m\u001b[1;32m      8\u001b[0m         \u001b[0;32melse\u001b[0m\u001b[0;34m:\u001b[0m\u001b[0;34m\u001b[0m\u001b[0;34m\u001b[0m\u001b[0m\n\u001b[1;32m      9\u001b[0m             \u001b[0mwords\u001b[0m \u001b[0;34m=\u001b[0m \u001b[0mwords\u001b[0m \u001b[0;34m+\u001b[0m \u001b[0mrow\u001b[0m\u001b[0;34m[\u001b[0m\u001b[0mcol\u001b[0m\u001b[0;34m]\u001b[0m\u001b[0;34m+\u001b[0m \u001b[0;34m' '\u001b[0m\u001b[0;34m\u001b[0m\u001b[0;34m\u001b[0m\u001b[0m\n",
      "\u001b[0;31mTypeError\u001b[0m: can only join an iterable"
     ]
    }
   ],
   "source": [
    "dff['bag_of_words'] = dff.au_ge + ' ' + dff.key_words"
   ]
  },
  {
   "cell_type": "code",
   "execution_count": null,
   "metadata": {},
   "outputs": [],
   "source": []
  },
  {
   "cell_type": "markdown",
   "metadata": {},
   "source": [
    "Stop here - clean below before final push"
   ]
  },
  {
   "cell_type": "markdown",
   "metadata": {},
   "source": [
    "# NLP Topic Modeling"
   ]
  },
  {
   "cell_type": "markdown",
   "metadata": {},
   "source": [
    "## Preprocessing data"
   ]
  },
  {
   "cell_type": "code",
   "execution_count": 130,
   "metadata": {},
   "outputs": [],
   "source": [
    "processed_docs = df['description'].map(preprocess)"
   ]
  },
  {
   "cell_type": "code",
   "execution_count": 131,
   "metadata": {},
   "outputs": [],
   "source": [
    "dictionary = gensim.corpora.Dictionary(processed_docs)"
   ]
  },
  {
   "cell_type": "code",
   "execution_count": 132,
   "metadata": {},
   "outputs": [],
   "source": [
    "dictionary.filter_extremes(no_below=20, no_above=0.66, keep_n=10000)"
   ]
  },
  {
   "cell_type": "markdown",
   "metadata": {},
   "source": [
    "## Bag of Words on dataset"
   ]
  },
  {
   "cell_type": "code",
   "execution_count": 133,
   "metadata": {},
   "outputs": [],
   "source": [
    "bow_corpus = [dictionary.doc2bow(doc) for doc in processed_docs]"
   ]
  },
  {
   "cell_type": "code",
   "execution_count": 134,
   "metadata": {},
   "outputs": [],
   "source": [
    "bow_doc_2001 = bow_corpus[2001]"
   ]
  },
  {
   "cell_type": "code",
   "execution_count": 135,
   "metadata": {},
   "outputs": [],
   "source": [
    "from gensim import corpora, models\n",
    "tfidf = models.TfidfModel(bow_corpus)\n",
    "corpus_tfidf = tfidf[bow_corpus]"
   ]
  },
  {
   "cell_type": "code",
   "execution_count": 140,
   "metadata": {},
   "outputs": [],
   "source": [
    "lda_model = gensim.models.LdaMulticore(bow_corpus, num_topics=10, id2word=dictionary, passes=4, workers=2)"
   ]
  },
  {
   "cell_type": "code",
   "execution_count": 141,
   "metadata": {
    "collapsed": true
   },
   "outputs": [
    {
     "name": "stdout",
     "output_type": "stream",
     "text": [
      "Topic: 0 \n",
      "Words: 0.021*\"love\" + 0.012*\"life\" + 0.010*\"famili\" + 0.010*\"world\" + 0.009*\"girl\" + 0.009*\"know\" + 0.008*\"night\" + 0.008*\"secret\" + 0.007*\"power\" + 0.007*\"live\"\n",
      "Topic: 1 \n",
      "Words: 0.011*\"time\" + 0.010*\"life\" + 0.009*\"girl\" + 0.009*\"want\" + 0.007*\"world\" + 0.007*\"like\" + 0.007*\"know\" + 0.007*\"think\" + 0.007*\"secret\" + 0.007*\"peopl\"\n",
      "Topic: 2 \n",
      "Words: 0.013*\"famili\" + 0.013*\"life\" + 0.011*\"live\" + 0.010*\"love\" + 0.009*\"world\" + 0.007*\"time\" + 0.006*\"year\" + 0.006*\"work\" + 0.005*\"write\" + 0.005*\"woman\"\n",
      "Topic: 3 \n",
      "Words: 0.015*\"world\" + 0.013*\"love\" + 0.010*\"vampir\" + 0.009*\"live\" + 0.009*\"power\" + 0.008*\"magic\" + 0.008*\"secret\" + 0.008*\"life\" + 0.007*\"human\" + 0.006*\"danger\"\n",
      "Topic: 4 \n",
      "Words: 0.013*\"know\" + 0.011*\"dead\" + 0.011*\"world\" + 0.008*\"want\" + 0.008*\"like\" + 0.007*\"time\" + 0.007*\"life\" + 0.006*\"bestsel\" + 0.006*\"power\" + 0.006*\"rise\"\n",
      "Topic: 5 \n",
      "Words: 0.013*\"world\" + 0.007*\"live\" + 0.006*\"life\" + 0.006*\"famili\" + 0.006*\"lose\" + 0.005*\"take\" + 0.005*\"dead\" + 0.005*\"bestsel\" + 0.005*\"adventur\" + 0.004*\"work\"\n",
      "Topic: 6 \n",
      "Words: 0.014*\"life\" + 0.010*\"world\" + 0.008*\"know\" + 0.008*\"power\" + 0.007*\"citi\" + 0.007*\"live\" + 0.007*\"time\" + 0.007*\"secret\" + 0.007*\"begin\" + 0.006*\"home\"\n",
      "Topic: 7 \n",
      "Words: 0.013*\"power\" + 0.010*\"love\" + 0.009*\"friend\" + 0.008*\"life\" + 0.008*\"forc\" + 0.007*\"secret\" + 0.007*\"beauti\" + 0.007*\"turn\" + 0.006*\"year\" + 0.006*\"mother\"\n",
      "Topic: 8 \n",
      "Words: 0.015*\"time\" + 0.013*\"world\" + 0.011*\"life\" + 0.010*\"live\" + 0.006*\"peopl\" + 0.006*\"america\" + 0.005*\"young\" + 0.005*\"great\" + 0.005*\"power\" + 0.005*\"like\"\n",
      "Topic: 9 \n",
      "Words: 0.013*\"famili\" + 0.011*\"love\" + 0.009*\"citi\" + 0.009*\"world\" + 0.009*\"mother\" + 0.008*\"father\" + 0.008*\"murder\" + 0.008*\"death\" + 0.008*\"secret\" + 0.007*\"leav\"\n"
     ]
    }
   ],
   "source": [
    "for idx, topic in lda_model.print_topics(-1):\n",
    "    print('Topic: {} \\nWords: {}'.format(idx, topic))"
   ]
  },
  {
   "cell_type": "code",
   "execution_count": 142,
   "metadata": {
    "collapsed": true
   },
   "outputs": [
    {
     "name": "stdout",
     "output_type": "stream",
     "text": [
      "Topic: 0 Word: 0.003*\"love\" + 0.003*\"life\" + 0.003*\"time\" + 0.003*\"kate\" + 0.003*\"live\" + 0.002*\"famili\" + 0.002*\"know\" + 0.002*\"want\" + 0.002*\"world\" + 0.002*\"woman\"\n",
      "Topic: 1 Word: 0.003*\"girl\" + 0.003*\"love\" + 0.003*\"world\" + 0.003*\"famili\" + 0.003*\"secret\" + 0.003*\"time\" + 0.002*\"know\" + 0.002*\"life\" + 0.002*\"father\" + 0.002*\"live\"\n",
      "Topic: 2 Word: 0.003*\"world\" + 0.003*\"life\" + 0.002*\"live\" + 0.002*\"love\" + 0.002*\"know\" + 0.002*\"famili\" + 0.002*\"time\" + 0.002*\"like\" + 0.002*\"think\" + 0.002*\"power\"\n",
      "Topic: 3 Word: 0.003*\"love\" + 0.003*\"life\" + 0.003*\"want\" + 0.003*\"know\" + 0.003*\"friend\" + 0.003*\"world\" + 0.002*\"famili\" + 0.002*\"secret\" + 0.002*\"time\" + 0.002*\"live\"\n",
      "Topic: 4 Word: 0.003*\"life\" + 0.003*\"love\" + 0.003*\"know\" + 0.003*\"famili\" + 0.003*\"friend\" + 0.002*\"time\" + 0.002*\"leav\" + 0.002*\"girl\" + 0.002*\"come\" + 0.002*\"world\"\n",
      "Topic: 5 Word: 0.004*\"love\" + 0.003*\"vampir\" + 0.003*\"life\" + 0.003*\"famili\" + 0.002*\"world\" + 0.002*\"live\" + 0.002*\"know\" + 0.002*\"power\" + 0.002*\"peopl\" + 0.002*\"mother\"\n",
      "Topic: 6 Word: 0.003*\"world\" + 0.003*\"life\" + 0.003*\"love\" + 0.003*\"live\" + 0.003*\"famili\" + 0.002*\"magic\" + 0.002*\"power\" + 0.002*\"friend\" + 0.002*\"know\" + 0.002*\"girl\"\n",
      "Topic: 7 Word: 0.004*\"vampir\" + 0.003*\"love\" + 0.003*\"world\" + 0.002*\"time\" + 0.002*\"life\" + 0.002*\"friend\" + 0.002*\"human\" + 0.002*\"like\" + 0.002*\"dark\" + 0.002*\"power\"\n",
      "Topic: 8 Word: 0.003*\"love\" + 0.003*\"world\" + 0.003*\"life\" + 0.002*\"secret\" + 0.002*\"know\" + 0.002*\"live\" + 0.002*\"think\" + 0.002*\"human\" + 0.002*\"dead\" + 0.002*\"turn\"\n",
      "Topic: 9 Word: 0.003*\"world\" + 0.003*\"famili\" + 0.003*\"time\" + 0.003*\"life\" + 0.002*\"murder\" + 0.002*\"live\" + 0.002*\"love\" + 0.002*\"year\" + 0.002*\"work\" + 0.002*\"killer\"\n"
     ]
    }
   ],
   "source": [
    "lda_model_tfidf = gensim.models.LdaMulticore(corpus_tfidf, num_topics=10, id2word=dictionary, passes=2, workers=4)\n",
    "for idx, topic in lda_model_tfidf.print_topics(-1):\n",
    "    print('Topic: {} Word: {}'.format(idx, topic))"
   ]
  },
  {
   "cell_type": "code",
   "execution_count": 148,
   "metadata": {
    "collapsed": true
   },
   "outputs": [
    {
     "data": {
      "text/plain": [
       "['mother',\n",
       " 'death',\n",
       " 'year',\n",
       " 'carter',\n",
       " 'kane',\n",
       " 'live',\n",
       " 'suitcas',\n",
       " 'travel',\n",
       " 'globe',\n",
       " 'father',\n",
       " 'brilliant',\n",
       " 'egyptologist',\n",
       " 'julius',\n",
       " 'kane',\n",
       " 'carter',\n",
       " 'homeschool',\n",
       " 'younger',\n",
       " 'sister',\n",
       " 'sadi',\n",
       " 'live',\n",
       " 'grandpar',\n",
       " 'london',\n",
       " 'sadi',\n",
       " 'carter',\n",
       " 'want',\n",
       " 'school',\n",
       " 'friend',\n",
       " 'chanc',\n",
       " 'normal',\n",
       " 'life',\n",
       " 'carter',\n",
       " 'sadi',\n",
       " 'long',\n",
       " 'time',\n",
       " 'father',\n",
       " 'year',\n",
       " 'live',\n",
       " 'apart',\n",
       " 'sibl',\n",
       " 'common',\n",
       " 'christma',\n",
       " 'sadi',\n",
       " 'carter',\n",
       " 'reunit',\n",
       " 'father',\n",
       " 'bring',\n",
       " 'british',\n",
       " 'museum',\n",
       " 'promis',\n",
       " 'go',\n",
       " 'thing',\n",
       " 'right',\n",
       " 'accord',\n",
       " 'plan',\n",
       " 'carter',\n",
       " 'sadi',\n",
       " 'watch',\n",
       " 'julius',\n",
       " 'summon',\n",
       " 'mysteri',\n",
       " 'figur',\n",
       " 'quick',\n",
       " 'banish',\n",
       " 'father',\n",
       " 'caus',\n",
       " 'fieri',\n",
       " 'explos',\n",
       " 'soon',\n",
       " 'carter',\n",
       " 'sadi',\n",
       " 'discov',\n",
       " 'god',\n",
       " 'ancient',\n",
       " 'egypt',\n",
       " 'wake',\n",
       " 'worst',\n",
       " 'frighten',\n",
       " 'scheme',\n",
       " 'save',\n",
       " 'father',\n",
       " 'embark',\n",
       " 'danger',\n",
       " 'journey',\n",
       " 'quest',\n",
       " 'bring',\n",
       " 'closer',\n",
       " 'truth',\n",
       " 'famili',\n",
       " 'link',\n",
       " 'hous',\n",
       " 'life',\n",
       " 'secret',\n",
       " 'order',\n",
       " 'exist',\n",
       " 'time',\n",
       " 'pharaoh']"
      ]
     },
     "execution_count": 148,
     "metadata": {},
     "output_type": "execute_result"
    }
   ],
   "source": [
    "processed_docs[7090447]"
   ]
  },
  {
   "cell_type": "code",
   "execution_count": null,
   "metadata": {},
   "outputs": [],
   "source": [
    "for index, score in sorted(lda_model[bow_corpus[4310]], key=lambda tup: -1*tup[1]):\n",
    "    print(\"\\nScore: {}\\t \\nTopic: {}\".format(score, lda_model.print_topic(index, 10)))"
   ]
  },
  {
   "cell_type": "code",
   "execution_count": null,
   "metadata": {},
   "outputs": [],
   "source": [
    "for index, score in sorted(lda_model_tfidf[bow_corpus[4310]], key=lambda tup: -1*tup[1]):\n",
    "    print(\"\\nScore: {}\\t \\nTopic: {}\".format(score, lda_model_tfidf.print_topic(index, 10)))"
   ]
  },
  {
   "cell_type": "markdown",
   "metadata": {},
   "source": [
    "then on unseen document"
   ]
  },
  {
   "cell_type": "markdown",
   "metadata": {},
   "source": [
    "## Topic Clustering"
   ]
  },
  {
   "cell_type": "code",
   "execution_count": null,
   "metadata": {},
   "outputs": [],
   "source": []
  },
  {
   "cell_type": "markdown",
   "metadata": {},
   "source": [
    "### Pearson Correlation"
   ]
  },
  {
   "cell_type": "markdown",
   "metadata": {},
   "source": [
    "from https://github.com/nikitaa30/Content-based-Recommender-System/blob/master/recommender_system.py"
   ]
  },
  {
   "cell_type": "code",
   "execution_count": null,
   "metadata": {},
   "outputs": [],
   "source": []
  },
  {
   "cell_type": "markdown",
   "metadata": {},
   "source": [
    "## EDA of continuous data"
   ]
  },
  {
   "cell_type": "code",
   "execution_count": 248,
   "metadata": {
    "scrolled": true
   },
   "outputs": [
    {
     "data": {
      "text/plain": [
       "count   4183.000\n",
       "mean     380.532\n",
       "std      191.497\n",
       "min        2.000\n",
       "25%      292.000\n",
       "50%      356.000\n",
       "75%      435.000\n",
       "max     5216.000\n",
       "Name: pages, dtype: float64"
      ]
     },
     "execution_count": 248,
     "metadata": {},
     "output_type": "execute_result"
    }
   ],
   "source": [
    "df_genres.pages.describe()"
   ]
  },
  {
   "cell_type": "code",
   "execution_count": 77,
   "metadata": {},
   "outputs": [
    {
     "data": {
      "image/png": "[encoded data removed]",
      "text/plain": [
       "<Figure size 432x288 with 1 Axes>"
      ]
     },
     "metadata": {
      "needs_background": "light"
     },
     "output_type": "display_data"
    }
   ],
   "source": [
    "sns.boxplot(df_genres.pages);"
   ]
  },
  {
   "cell_type": "code",
   "execution_count": 102,
   "metadata": {},
   "outputs": [
    {
     "data": {
      "text/plain": [
       "count      1990.000\n",
       "mean      85340.892\n",
       "std      160750.248\n",
       "min         293.000\n",
       "25%       29074.250\n",
       "50%       47486.000\n",
       "75%       83685.750\n",
       "max     3140387.000\n",
       "Name: num_ratings, dtype: float64"
      ]
     },
     "execution_count": 102,
     "metadata": {},
     "output_type": "execute_result"
    }
   ],
   "source": [
    "df_genres.num_ratings.describe()"
   ]
  },
  {
   "cell_type": "code",
   "execution_count": 98,
   "metadata": {},
   "outputs": [
    {
     "data": {
      "image/png": "[encoded data removed]",
      "text/plain": [
       "<Figure size 432x288 with 1 Axes>"
      ]
     },
     "metadata": {
      "needs_background": "light"
     },
     "output_type": "display_data"
    }
   ],
   "source": [
    "sns.boxplot(df_genres.num_ratings);"
   ]
  },
  {
   "cell_type": "code",
   "execution_count": 175,
   "metadata": {},
   "outputs": [
    {
     "data": {
      "text/plain": [
       "<matplotlib.axes._subplots.AxesSubplot at 0x1a485dec18>"
      ]
     },
     "execution_count": 175,
     "metadata": {},
     "output_type": "execute_result"
    },
    {
     "data": {
      "image/png": "[encoded data removed]",
      "text/plain": [
       "<Figure size 432x288 with 1 Axes>"
      ]
     },
     "metadata": {
      "needs_background": "light"
     },
     "output_type": "display_data"
    }
   ],
   "source": [
    "sns.boxplot(less.num_ratings)"
   ]
  },
  {
   "cell_type": "code",
   "execution_count": 166,
   "metadata": {
    "scrolled": true
   },
   "outputs": [
    {
     "data": {
      "text/plain": [
       "1394.3333333333333"
      ]
     },
     "execution_count": 166,
     "metadata": {},
     "output_type": "execute_result"
    }
   ],
   "source": [
    "len(df)/3"
   ]
  },
  {
   "cell_type": "code",
   "execution_count": 168,
   "metadata": {},
   "outputs": [
    {
     "data": {
      "text/plain": [
       "1055"
      ]
     },
     "execution_count": 168,
     "metadata": {},
     "output_type": "execute_result"
    }
   ],
   "source": [
    "len(df[(df.num_ratings > 80000)]) #& (df.num_ratings > 27000)])"
   ]
  },
  {
   "cell_type": "code",
   "execution_count": 150,
   "metadata": {
    "scrolled": false
   },
   "outputs": [
    {
     "data": {
      "text/plain": [
       "count      4183.000\n",
       "mean      92458.276\n",
       "std      222317.413\n",
       "min         293.000\n",
       "25%       27043.500\n",
       "50%       44106.000\n",
       "75%       80462.000\n",
       "max     5851687.000\n",
       "Name: num_ratings, dtype: float64"
      ]
     },
     "execution_count": 150,
     "metadata": {},
     "output_type": "execute_result"
    }
   ],
   "source": [
    "df.num_ratings.describe()"
   ]
  },
  {
   "cell_type": "code",
   "execution_count": 511,
   "metadata": {
    "scrolled": true
   },
   "outputs": [],
   "source": [
    "df = pd.read_csv('keywords.csv')"
   ]
  }
 ],
 "metadata": {
  "kernelspec": {
   "display_name": "Python 3",
   "language": "python",
   "name": "python3"
  },
  "language_info": {
   "codemirror_mode": {
    "name": "ipython",
    "version": 3
   },
   "file_extension": ".py",
   "mimetype": "text/x-python",
   "name": "python",
   "nbconvert_exporter": "python",
   "pygments_lexer": "ipython3",
   "version": "3.7.3"
  },
  "toc": {
   "base_numbering": 1,
   "nav_menu": {},
   "number_sections": true,
   "sideBar": true,
   "skip_h1_title": false,
   "title_cell": "Table of Contents",
   "title_sidebar": "Contents",
   "toc_cell": false,
   "toc_position": {},
   "toc_section_display": true,
   "toc_window_display": false
  }
 },
 "nbformat": 4,
 "nbformat_minor": 2
}
