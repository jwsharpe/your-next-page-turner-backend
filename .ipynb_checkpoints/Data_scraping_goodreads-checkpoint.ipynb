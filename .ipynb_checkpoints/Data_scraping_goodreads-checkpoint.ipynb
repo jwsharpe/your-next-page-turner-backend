{
 "cells": [
  {
   "cell_type": "markdown",
   "metadata": {},
   "source": [
    "# Imports"
   ]
  },
  {
   "cell_type": "markdown",
   "metadata": {},
   "source": [
    "Imports -"
   ]
  },
  {
   "cell_type": "code",
   "execution_count": 34,
   "metadata": {},
   "outputs": [],
   "source": [
    "%reload_ext autoreload\n",
    "%autoreload 2\n",
    "\n",
    "from book_functions import *\n",
    "from signin_config import *\n",
    "\n",
    "from tqdm import tqdm\n",
    "import pandas as pd\n",
    "import re\n",
    "import requests\n",
    "import signin_config\n",
    "import pickle\n",
    "import time\n",
    "from bs4 import BeautifulSoup\n",
    "from selenium import webdriver\n",
    "from selenium.webdriver.common.by import By\n",
    "from selenium.webdriver.common.keys import Keys\n",
    "from selenium.common.exceptions import TimeoutException\n",
    "from selenium.webdriver.support.ui import WebDriverWait\n",
    "from selenium.webdriver.support import expected_conditions as EC\n",
    "from imblearn.over_sampling import SMOTE\n",
    "import time\n",
    "from selenium.webdriver.chrome.options import Options"
   ]
  },
  {
   "cell_type": "markdown",
   "metadata": {},
   "source": [
    "# Scraping goodreads"
   ]
  },
  {
   "cell_type": "markdown",
   "metadata": {},
   "source": [
    "## Get intial 'top 200' urls list\n",
    "Retrieve:\n",
    "\n",
    "\n",
    "*continuous*: top rating, # of reviews, IBSN, GR_id#\n",
    "      \n",
    "*categorical*: author, image, top genre, description"
   ]
  },
  {
   "cell_type": "markdown",
   "metadata": {},
   "source": [
    "--> add code for gathering list of top titles from past 50 years"
   ]
  },
  {
   "cell_type": "code",
   "execution_count": 2,
   "metadata": {},
   "outputs": [],
   "source": [
    "url_list = get_urls()"
   ]
  },
  {
   "cell_type": "markdown",
   "metadata": {},
   "source": [
    "## Use urls to get : title, authors, # of reviews and id"
   ]
  },
  {
   "cell_type": "code",
   "execution_count": 3,
   "metadata": {
    "collapsed": true
   },
   "outputs": [
    {
     "name": "stdout",
     "output_type": "stream",
     "text": [
      "50\n",
      "100\n",
      "150\n",
      "200\n"
     ]
    },
    {
     "data": {
      "text/plain": [
       "[{'titles': 'The Catcher in the Rye',\n",
       "  'authors': 'J.D. Salinger',\n",
       "  'ratings': '3.80',\n",
       "  'num_ratings': '2,534,332 ratings',\n",
       "  'id': '5107'},\n",
       " {'titles': 'Foundation (Foundation #1)',\n",
       "  'authors': 'Isaac Asimov',\n",
       "  'ratings': '4.16',\n",
       "  'num_ratings': '375,111 ratings',\n",
       "  'id': '29579'},\n",
       " {'titles': 'Prince Caspian (Chronicles of Narnia, #2)',\n",
       "  'authors': 'C.S. Lewis',\n",
       "  'ratings': '3.97',\n",
       "  'num_ratings': '321,748 ratings',\n",
       "  'id': '121749'},\n",
       " {'titles': 'The Day of the Triffids',\n",
       "  'authors': 'John Wyndham',\n",
       "  'ratings': '4.01',\n",
       "  'num_ratings': '84,027 ratings',\n",
       "  'id': '530965'},\n",
       " {'titles': 'The Illustrated Man',\n",
       "  'authors': 'Ray Bradbury',\n",
       "  'ratings': '4.14',\n",
       "  'num_ratings': '70,754 ratings',\n",
       "  'id': '24830'},\n",
       " {'titles': 'The End of the Affair',\n",
       "  'authors': 'Graham Greene',\n",
       "  'ratings': '3.94',\n",
       "  'num_ratings': '45,108 ratings',\n",
       "  'id': '29641'},\n",
       " {'titles': 'My Cousin Rachel',\n",
       "  'authors': 'Daphne du Maurier',\n",
       "  'ratings': '3.96',\n",
       "  'num_ratings': '34,651 ratings',\n",
       "  'id': '18869970'},\n",
       " {'titles': 'Memoirs of Hadrian',\n",
       "  'authors': 'Marguerite Yourcenar',\n",
       "  'ratings': '4.25',\n",
       "  'num_ratings': '16,587 ratings',\n",
       "  'id': '12172'},\n",
       " {'titles': 'The Daughter of Time (Inspector Alan Grant, #5)',\n",
       "  'authors': 'Josephine Tey',\n",
       "  'ratings': '3.93',\n",
       "  'num_ratings': '21,911 ratings',\n",
       "  'id': '77661'},\n",
       " {'titles': 'The Wisdom of Insecurity: A Message for an Age of Anxiety',\n",
       "  'authors': 'Alan W. Watts',\n",
       "  'ratings': '4.25',\n",
       "  'num_ratings': '11,922 ratings',\n",
       "  'id': '551520'},\n",
       " {'titles': 'The Rebel',\n",
       "  'authors': 'Albert Camus',\n",
       "  'ratings': '4.15',\n",
       "  'num_ratings': '11,107 ratings',\n",
       "  'id': '11990'},\n",
       " {'titles': 'The Origins of Totalitarianism',\n",
       "  'authors': 'Hannah Arendt',\n",
       "  'ratings': '4.28',\n",
       "  'num_ratings': '7,258 ratings',\n",
       "  'id': '396931'},\n",
       " {'titles': 'The Puppet Masters',\n",
       "  'authors': 'Robert A. Heinlein',\n",
       "  'ratings': '3.87',\n",
       "  'num_ratings': '28,635 ratings',\n",
       "  'id': '7171856'},\n",
       " {'titles': 'All-of-a-Kind Family (All-of-a-Kind-Family, #1)',\n",
       "  'authors': 'Sydney Taylor',\n",
       "  'ratings': '4.22',\n",
       "  'num_ratings': '22,511 ratings',\n",
       "  'id': '7926'},\n",
       " {'titles': 'The Poetry of Pablo Neruda',\n",
       "  'authors': 'Pablo Neruda',\n",
       "  'ratings': '4.44',\n",
       "  'num_ratings': '16,510 ratings',\n",
       "  'id': '5936'},\n",
       " {'titles': 'Speak, Memory',\n",
       "  'authors': 'Vladimir Nabokov',\n",
       "  'ratings': '4.19',\n",
       "  'num_ratings': '11,014 ratings',\n",
       "  'id': '30594'},\n",
       " {'titles': 'The Caine Mutiny',\n",
       "  'authors': 'Herman Wouk',\n",
       "  'ratings': '4.25',\n",
       "  'num_ratings': '19,845 ratings',\n",
       "  'id': '368772'},\n",
       " {'titles': 'From Here to Eternity',\n",
       "  'authors': 'James Jones',\n",
       "  'ratings': '4.09',\n",
       "  'num_ratings': '15,520 ratings',\n",
       "  'id': '116114'},\n",
       " {'titles': 'The Last Temptation of Christ',\n",
       "  'authors': 'Nikos Kazantzakis',\n",
       "  'ratings': '4.16',\n",
       "  'num_ratings': '11,439 ratings',\n",
       "  'id': '8737'},\n",
       " {'titles': 'The True Believer: Thoughts on the Nature of Mass Movements',\n",
       "  'authors': 'Eric Hoffer',\n",
       "  'ratings': '4.23',\n",
       "  'num_ratings': '6,834 ratings',\n",
       "  'id': '15916'},\n",
       " {'titles': 'Bestiario',\n",
       "  'authors': 'Julio Cortázar',\n",
       "  'ratings': '4.25',\n",
       "  'num_ratings': '12,754 ratings',\n",
       "  'id': '191373'},\n",
       " {'titles': 'The Stars, Like Dust (Galactic Empire, #1)',\n",
       "  'authors': 'Isaac Asimov',\n",
       "  'ratings': '3.74',\n",
       "  'num_ratings': '15,464 ratings',\n",
       "  'id': '41822'},\n",
       " {'titles': 'They Came to Baghdad',\n",
       "  'authors': 'Agatha Christie',\n",
       "  'ratings': '3.79',\n",
       "  'num_ratings': '13,395 ratings',\n",
       "  'id': '140337'},\n",
       " {'titles': 'The Ballad of the Sad Café and Other Stories',\n",
       "  'authors': 'Carson McCullers',\n",
       "  'ratings': '4.01',\n",
       "  'num_ratings': '10,270 ratings',\n",
       "  'id': '45791'},\n",
       " {'titles': 'Ginger Pye (The Pyes, #1)',\n",
       "  'authors': 'Eleanor Estes',\n",
       "  'ratings': '3.68',\n",
       "  'num_ratings': '11,561 ratings',\n",
       "  'id': '822392'},\n",
       " {'titles': 'Molloy',\n",
       "  'authors': 'Samuel Beckett',\n",
       "  'ratings': '4.06',\n",
       "  'num_ratings': '5,805 ratings',\n",
       "  'id': '446542'},\n",
       " {'titles': 'Annapurna',\n",
       "  'authors': 'Maurice Herzog',\n",
       "  'ratings': '4.07',\n",
       "  'num_ratings': '7,398 ratings',\n",
       "  'id': '40175'},\n",
       " {'titles': 'A Question of Upbringing (A Dance to the Music of Time, #1)',\n",
       "  'authors': 'Anthony Powell',\n",
       "  'ratings': '3.70',\n",
       "  'num_ratings': '3,863 ratings',\n",
       "  'id': '16116'},\n",
       " {'titles': 'Désirée',\n",
       "  'authors': 'Annemarie Selinko',\n",
       "  'ratings': '4.07',\n",
       "  'num_ratings': '8,213 ratings',\n",
       "  'id': '84049'},\n",
       " {'titles': 'A Man Called Peter: The Story of Peter Marshall',\n",
       "  'authors': 'Catherine Marshall',\n",
       "  'ratings': '4.26',\n",
       "  'num_ratings': '9,421 ratings',\n",
       "  'id': '229117'},\n",
       " {'titles': 'Der Richter und sein Henker',\n",
       "  'authors': 'Friedrich Dürrenmatt',\n",
       "  'ratings': '3.73',\n",
       "  'num_ratings': '7,834 ratings',\n",
       "  'id': '35090'},\n",
       " {'titles': 'Last Term at Malory Towers (Malory Towers, #6)',\n",
       "  'authors': 'Enid Blyton',\n",
       "  'ratings': '4.14',\n",
       "  'num_ratings': '8,094 ratings',\n",
       "  'id': '539072'},\n",
       " {'titles': 'Five on a Hike Together (Famous Five, #10)',\n",
       "  'authors': 'Enid Blyton',\n",
       "  'ratings': '3.98',\n",
       "  'num_ratings': '7,034 ratings',\n",
       "  'id': '735321'},\n",
       " {'titles': 'ന്റുപ്പൂപ്പാക്കൊരാനേണ്ടാർന്ന് | Ntuppuppaakkoraanaendaarnnu',\n",
       "  'authors': 'Vaikom Muhammad Basheer',\n",
       "  'ratings': '4.08',\n",
       "  'num_ratings': '2,447 ratings',\n",
       "  'id': '13645110'},\n",
       " {'titles': 'The Cruel Sea',\n",
       "  'authors': 'Nicholas Monsarrat',\n",
       "  'ratings': '4.20',\n",
       "  'num_ratings': '5,665 ratings',\n",
       "  'id': '183586'},\n",
       " {'titles': 'Ellen Tebbits (Ellen & Otis, #1)',\n",
       "  'authors': 'Beverly Cleary',\n",
       "  'ratings': '3.95',\n",
       "  'num_ratings': '7,536 ratings',\n",
       "  'id': '89548'},\n",
       " {'titles': 'The Quiet Gentleman',\n",
       "  'authors': 'Georgette Heyer',\n",
       "  'ratings': '3.95',\n",
       "  'num_ratings': '6,757 ratings',\n",
       "  'id': '311151'},\n",
       " {'titles': 'La colmena',\n",
       "  'authors': 'Camilo José Cela',\n",
       "  'ratings': '3.77',\n",
       "  'num_ratings': '5,196 ratings',\n",
       "  'id': '61773'},\n",
       " {'titles': 'Minima Moralia: Reflections on a Damaged Life',\n",
       "  'authors': 'Theodor W. Adorno',\n",
       "  'ratings': '4.25',\n",
       "  'num_ratings': '3,024 ratings',\n",
       "  'id': '201388'},\n",
       " {'titles': 'The Sea Around Us',\n",
       "  'authors': 'Rachel Carson',\n",
       "  'ratings': '4.19',\n",
       "  'num_ratings': '2,573 ratings',\n",
       "  'id': '542766'},\n",
       " {'titles': 'Hangsaman',\n",
       "  'authors': 'Shirley Jackson',\n",
       "  'ratings': '3.74',\n",
       "  'num_ratings': '3,272 ratings',\n",
       "  'id': '131177'},\n",
       " {'titles': 'The Collected Poems, Vol. 1: 1909-1939',\n",
       "  'authors': 'William Carlos Williams',\n",
       "  'ratings': '4.19',\n",
       "  'num_ratings': '6,058 ratings',\n",
       "  'id': '72155'},\n",
       " {'titles': 'The Log from the Sea of Cortez',\n",
       "  'authors': 'John Steinbeck',\n",
       "  'ratings': '3.84',\n",
       "  'num_ratings': '4,128 ratings',\n",
       "  'id': '4803'},\n",
       " {'titles': 'The Under Dog and Other Stories (Hercule Poirot, #29)',\n",
       "  'authors': 'Agatha Christie',\n",
       "  'ratings': '3.74',\n",
       "  'num_ratings': '3,466 ratings',\n",
       "  'id': '565273'},\n",
       " {'titles': 'Malone Dies',\n",
       "  'authors': 'Samuel Beckett',\n",
       "  'ratings': '3.87',\n",
       "  'num_ratings': '3,526 ratings',\n",
       "  'id': '54042'},\n",
       " {'titles': 'Lie Down in Darkness',\n",
       "  'authors': 'William Styron',\n",
       "  'ratings': '3.84',\n",
       "  'num_ratings': '2,836 ratings',\n",
       "  'id': '180630'},\n",
       " {'titles': 'La balada del café triste',\n",
       "  'authors': 'Carson McCullers',\n",
       "  'ratings': '3.60',\n",
       "  'num_ratings': '4,234 ratings',\n",
       "  'id': '13581353'},\n",
       " {'titles': 'Atlas of Human Anatomy for the Artist',\n",
       "  'authors': 'Stephen Rogers Peck',\n",
       "  'ratings': '4.06',\n",
       "  'num_ratings': '5,825 ratings',\n",
       "  'id': '327243'},\n",
       " {'titles': 'Letters and Papers from Prison',\n",
       "  'authors': 'Dietrich Bonhoeffer',\n",
       "  'ratings': '4.31',\n",
       "  'num_ratings': '3,030 ratings',\n",
       "  'id': '760019'},\n",
       " {'titles': 'The Sabbath: Its Meaning for Modern Man',\n",
       "  'authors': 'Abraham Joshua Heschel',\n",
       "  'ratings': '4.37',\n",
       "  'num_ratings': '3,585 ratings',\n",
       "  'id': '345500'},\n",
       " {'titles': 'Forbidden Colors',\n",
       "  'authors': 'Yukio Mishima',\n",
       "  'ratings': '3.93',\n",
       "  'num_ratings': '2,584 ratings',\n",
       "  'id': '62811'},\n",
       " {'titles': 'A Stillness at Appomattox',\n",
       "  'authors': 'Bruce Catton',\n",
       "  'ratings': '4.35',\n",
       "  'num_ratings': '5,349 ratings',\n",
       "  'id': '891922'},\n",
       " {'titles': 'Тютюн',\n",
       "  'authors': 'Димитър Димов',\n",
       "  'ratings': '4.39',\n",
       "  'num_ratings': '5,356 ratings',\n",
       "  'id': '2124105'},\n",
       " {'titles': 'The Clue of the Black Keys (Nancy Drew Mystery Stories, #28)',\n",
       "  'authors': 'Carolyn Keene',\n",
       "  'ratings': '3.88',\n",
       "  'num_ratings': '4,343 ratings',\n",
       "  'id': '862001'},\n",
       " {'titles': 'Shamanism: Archaic Techniques of Ecstasy',\n",
       "  'authors': 'Mircea Eliade',\n",
       "  'ratings': '4.22',\n",
       "  'num_ratings': '2,165 ratings',\n",
       "  'id': '28022'},\n",
       " {'titles': 'The Martian Way and Other Stories',\n",
       "  'authors': 'Isaac Asimov',\n",
       "  'ratings': '4.01',\n",
       "  'num_ratings': '4,027 ratings',\n",
       "  'id': '416672'},\n",
       " {'titles': 'A Sound of Thunder',\n",
       "  'authors': 'Ray Bradbury',\n",
       "  'ratings': '4.11',\n",
       "  'num_ratings': '3,703 ratings',\n",
       "  'id': '17568373'},\n",
       " {'titles': 'Well Done, Secret Seven (The Secret Seven, #3)',\n",
       "  'authors': 'Enid Blyton',\n",
       "  'ratings': '3.83',\n",
       "  'num_ratings': '4,258 ratings',\n",
       "  'id': '124671'},\n",
       " {'titles': \"Between Planets (Heinlein's Juveniles, #5)\",\n",
       "  'authors': 'Robert A. Heinlein',\n",
       "  'ratings': '3.84',\n",
       "  'num_ratings': '4,776 ratings',\n",
       "  'id': '50854'},\n",
       " {'titles': 'Inny świat',\n",
       "  'authors': 'Gustaw Herling-Grudziński',\n",
       "  'ratings': '4.03',\n",
       "  'num_ratings': '4,916 ratings',\n",
       "  'id': '1876528'},\n",
       " {'titles': 'Приключения Чиполлино',\n",
       "  'authors': 'Gianni Rodari',\n",
       "  'ratings': '4.12',\n",
       "  'num_ratings': '5,502 ratings',\n",
       "  'id': '1243909'},\n",
       " {'titles': 'The Sands of Mars',\n",
       "  'authors': 'Arthur C. Clarke',\n",
       "  'ratings': '3.74',\n",
       "  'num_ratings': '3,240 ratings',\n",
       "  'id': '149063'},\n",
       " {'titles': \"The Dragons of Blueland (My Father's Dragon, #3)\",\n",
       "  'authors': 'Ruth Stiles Gannett',\n",
       "  'ratings': '4.12',\n",
       "  'num_ratings': '3,643 ratings',\n",
       "  'id': '962781'},\n",
       " {'titles': 'The Weapon Shops of Isher',\n",
       "  'authors': 'A.E. van Vogt',\n",
       "  'ratings': '3.99',\n",
       "  'num_ratings': '4,053 ratings',\n",
       "  'id': '358902'},\n",
       " {'titles': 'Camilla (Camilla, #1)',\n",
       "  'authors': \"Madeleine L'Engle\",\n",
       "  'ratings': '3.61',\n",
       "  'num_ratings': '3,246 ratings',\n",
       "  'id': '479260'},\n",
       " {'titles': 'Skating Shoes (Shoes, #7)',\n",
       "  'authors': 'Noel Streatfeild',\n",
       "  'ratings': '4.10',\n",
       "  'num_ratings': '3,128 ratings',\n",
       "  'id': '10453'},\n",
       " {'titles': 'صفة صلاة النبي صلى الله عليه وسلم من التكبير إلى التسليم كأنك تراها',\n",
       "  'authors': 'Muhammad Nasiruddin al-Albani محمد ناصر الدين الألباني',\n",
       "  'ratings': '4.47',\n",
       "  'num_ratings': '1,418 ratings',\n",
       "  'id': '6722203'},\n",
       " {'titles': \"Mr. Lincoln's Army\",\n",
       "  'authors': 'Bruce Catton',\n",
       "  'ratings': '4.29',\n",
       "  'num_ratings': '2,207 ratings',\n",
       "  'id': '562407'},\n",
       " {'titles': 'Irish Red',\n",
       "  'authors': 'Jim Kjelgaard',\n",
       "  'ratings': '4.16',\n",
       "  'num_ratings': '3,951 ratings',\n",
       "  'id': '819138'},\n",
       " {'titles': 'The Opposing Shore',\n",
       "  'authors': 'Julien Gracq',\n",
       "  'ratings': '4.05',\n",
       "  'num_ratings': '810 ratings',\n",
       "  'id': '2033025'},\n",
       " {'titles': 'Celtic Art: The Methods of Construction',\n",
       "  'authors': 'George Bain',\n",
       "  'ratings': '3.97',\n",
       "  'num_ratings': '2,774 ratings',\n",
       "  'id': '618205'},\n",
       " {'titles': 'The Gatehouse Mystery (Trixie Belden #3)',\n",
       "  'authors': 'Julie Campbell',\n",
       "  'ratings': '4.12',\n",
       "  'num_ratings': '3,447 ratings',\n",
       "  'id': '183106'},\n",
       " {'titles': 'Ramayana',\n",
       "  'authors': 'Vālmīki',\n",
       "  'ratings': '4.19',\n",
       "  'num_ratings': '2,427 ratings',\n",
       "  'id': '141155'},\n",
       " {'titles': 'Album of Horses',\n",
       "  'authors': 'Marguerite Henry',\n",
       "  'ratings': '4.33',\n",
       "  'num_ratings': '3,479 ratings',\n",
       "  'id': '464328'},\n",
       " {'titles': 'Gray Lensman (Lensman, #4)',\n",
       "  'authors': 'E.E. \"Doc\" Smith',\n",
       "  'ratings': '3.97',\n",
       "  'num_ratings': '3,235 ratings',\n",
       "  'id': '826525'},\n",
       " {'titles': 'The Grass Harp',\n",
       "  'authors': 'Truman Capote',\n",
       "  'ratings': '3.91',\n",
       "  'num_ratings': '2,090 ratings',\n",
       "  'id': '142781'},\n",
       " {'titles': 'Christ and Culture',\n",
       "  'authors': 'H. Richard Niebuhr',\n",
       "  'ratings': '3.92',\n",
       "  'num_ratings': '2,419 ratings',\n",
       "  'id': '73189'},\n",
       " {'titles': 'Murder by the Book (Nero Wolfe, #19)',\n",
       "  'authors': 'Rex Stout',\n",
       "  'ratings': '4.10',\n",
       "  'num_ratings': '2,813 ratings',\n",
       "  'id': '77611'},\n",
       " {'titles': 'The Conformist',\n",
       "  'authors': 'Alberto Moravia',\n",
       "  'ratings': '3.97',\n",
       "  'num_ratings': '1,763 ratings',\n",
       "  'id': '67146'},\n",
       " {'titles': 'Spiderweb for Two: A Melendy Maze',\n",
       "  'authors': 'Elizabeth Enright',\n",
       "  'ratings': '3.95',\n",
       "  'num_ratings': '3,075 ratings',\n",
       "  'id': '421643'},\n",
       " {'titles': 'The Apple and the Arrow',\n",
       "  'authors': 'Mary Buff',\n",
       "  'ratings': '3.91',\n",
       "  'num_ratings': '2,398 ratings',\n",
       "  'id': '1077704'},\n",
       " {'titles': 'Simplify Your Life: 100 Ways to Slow Down and Enjoy the Things That Really Matter',\n",
       "  'authors': 'Elaine St. James',\n",
       "  'ratings': '3.82',\n",
       "  'num_ratings': '1,651 ratings',\n",
       "  'id': '830893'},\n",
       " {'titles': 'The Goshawk',\n",
       "  'authors': 'T.H. White',\n",
       "  'ratings': '3.89',\n",
       "  'num_ratings': '1,118 ratings',\n",
       "  'id': '1188127'},\n",
       " {'titles': \"God and Man at Yale: The Superstitions of 'Academic Freedom'\",\n",
       "  'authors': 'William F. Buckley Jr.',\n",
       "  'ratings': '3.74',\n",
       "  'num_ratings': '1,494 ratings',\n",
       "  'id': '844573'},\n",
       " {'titles': 'A History of the Crusades, Vol. I: The First Crusade and the Foundations of the Kingdom of Jerusalem',\n",
       "  'authors': 'Steven Runciman',\n",
       "  'ratings': '4.24',\n",
       "  'num_ratings': '1,308 ratings',\n",
       "  'id': '428519'},\n",
       " {'titles': 'Closing the Ring (The Second World War, #5)',\n",
       "  'authors': 'Winston S. Churchill',\n",
       "  'ratings': '4.38',\n",
       "  'num_ratings': '1,501 ratings',\n",
       "  'id': '112933'},\n",
       " {'titles': \"Star Man's Son, 2250 A.D\",\n",
       "  'authors': 'Andre Norton',\n",
       "  'ratings': '4.03',\n",
       "  'num_ratings': '2,371 ratings',\n",
       "  'id': '222366'},\n",
       " {'titles': 'دو قرن سکوت',\n",
       "  'authors': 'Abdolhosein Zarrinkob',\n",
       "  'ratings': '4.00 ',\n",
       "  'num_ratings': '1,462 ratings',\n",
       "  'id': '521942'},\n",
       " {'titles': 'Collected Short Stories: Volume 1',\n",
       "  'authors': 'W. Somerset Maugham',\n",
       "  'ratings': '4.34',\n",
       "  'num_ratings': '1,766 ratings',\n",
       "  'id': '150549'},\n",
       " {'titles': 'Man of the Family (Little Britches, #2)',\n",
       "  'authors': 'Ralph Moody',\n",
       "  'ratings': '4.48',\n",
       "  'num_ratings': '2,372 ratings',\n",
       "  'id': '1503431'},\n",
       " {'titles': 'Night at the Vulcan (Roderick Alleyn, #16)',\n",
       "  'authors': 'Ngaio Marsh',\n",
       "  'ratings': '4.06',\n",
       "  'num_ratings': '2,491 ratings',\n",
       "  'id': '835701'},\n",
       " {'titles': 'The Chairs',\n",
       "  'authors': 'Eugène Ionesco',\n",
       "  'ratings': '3.87',\n",
       "  'num_ratings': '2,180 ratings',\n",
       "  'id': '259238'},\n",
       " {'titles': 'Duplicate Death (Inspectors Hannasyde & Hemingway #7)',\n",
       "  'authors': 'Georgette Heyer',\n",
       "  'ratings': '3.77',\n",
       "  'num_ratings': '2,160 ratings',\n",
       "  'id': '311193'},\n",
       " {'titles': \"Power of Awareness: New Edition Incorporating Neville's Later Notes\",\n",
       "  'authors': 'Victoria Goddard Neville',\n",
       "  'ratings': '4.44',\n",
       "  'num_ratings': '1,257 ratings',\n",
       "  'id': '93971'},\n",
       " {'titles': 'Fires on the Plain',\n",
       "  'authors': 'Shōhei Ōoka',\n",
       "  'ratings': '3.97',\n",
       "  'num_ratings': '1,073 ratings',\n",
       "  'id': '64492'},\n",
       " {'titles': 'The Rose Tattoo',\n",
       "  'authors': 'Tennessee Williams',\n",
       "  'ratings': '3.68',\n",
       "  'num_ratings': '1,722 ratings',\n",
       "  'id': '528230'},\n",
       " {'titles': 'The Light at Tern Rock',\n",
       "  'authors': 'Julia L. Sauer',\n",
       "  'ratings': '3.80',\n",
       "  'num_ratings': '1,746 ratings',\n",
       "  'id': '298070'},\n",
       " {'titles': 'The Way Some People Die',\n",
       "  'authors': 'Ross Macdonald',\n",
       "  'ratings': '4.02',\n",
       "  'num_ratings': '2,150 ratings',\n",
       "  'id': '867621'},\n",
       " {'titles': 'The Forgotten Language: An Introduction to the Understanding of Dreams, Fairy Tales, and Myths',\n",
       "  'authors': 'Erich Fromm',\n",
       "  'ratings': '3.81',\n",
       "  'num_ratings': '941 ratings',\n",
       "  'id': '156968'},\n",
       " {'titles': 'An English Murder',\n",
       "  'authors': 'Cyril Hare',\n",
       "  'ratings': '3.76',\n",
       "  'num_ratings': '1,651 ratings',\n",
       "  'id': '1686848'},\n",
       " {'titles': 'How To Read Better & Faster',\n",
       "  'authors': 'Norman Lewis',\n",
       "  'ratings': '4.09',\n",
       "  'num_ratings': '584 ratings',\n",
       "  'id': '227556'},\n",
       " {'titles': 'Aion (Collected Works 9ii)',\n",
       "  'authors': 'C.G. Jung',\n",
       "  'ratings': '4.33',\n",
       "  'num_ratings': '735 ratings',\n",
       "  'id': '729924'},\n",
       " {'titles': 'The Mystery of the Vanished Prince (The Five Find-Outers, #9)',\n",
       "  'authors': 'Enid Blyton',\n",
       "  'ratings': '3.98',\n",
       "  'num_ratings': '2,051 ratings',\n",
       "  'id': '1088664'},\n",
       " {'titles': 'Memoirs of a Revolutionary',\n",
       "  'authors': 'Victor Serge',\n",
       "  'ratings': '4.43',\n",
       "  'num_ratings': '568 ratings',\n",
       "  'id': '189954'},\n",
       " {'titles': 'The Blessing',\n",
       "  'authors': 'Nancy Mitford',\n",
       "  'ratings': '3.80',\n",
       "  'num_ratings': '1,725 ratings',\n",
       "  'id': '153530'},\n",
       " {'titles': 'Beyond Lies the Wub',\n",
       "  'authors': 'Philip K. Dick',\n",
       "  'ratings': '3.85',\n",
       "  'num_ratings': '2,112 ratings',\n",
       "  'id': '11481021'},\n",
       " {'titles': 'The Holy Sinner',\n",
       "  'authors': 'Thomas Mann',\n",
       "  'ratings': '3.94',\n",
       "  'num_ratings': '1,095 ratings',\n",
       "  'id': '250524'},\n",
       " {'titles': 'Het behouden huis',\n",
       "  'authors': 'Willem Frederik Hermans',\n",
       "  'ratings': '3.51',\n",
       "  'num_ratings': '1,859 ratings',\n",
       "  'id': '1798450'},\n",
       " {'titles': 'Fancies and Goodnights',\n",
       "  'authors': 'John Collier',\n",
       "  'ratings': '4.09',\n",
       "  'num_ratings': '790 ratings',\n",
       "  'id': '84405'},\n",
       " {'titles': 'Goya',\n",
       "  'authors': 'Lion Feuchtwanger',\n",
       "  'ratings': '4.33',\n",
       "  'num_ratings': '1,310 ratings',\n",
       "  'id': '2060436'},\n",
       " {'titles': 'Le diable et le bon dieu',\n",
       "  'authors': 'Jean-Paul Sartre',\n",
       "  'ratings': '4.07',\n",
       "  'num_ratings': '1,438 ratings',\n",
       "  'id': '87328'},\n",
       " {'titles': 'The Autobiography of an Unknown Indian',\n",
       "  'authors': 'Nirad C. Chaudhuri',\n",
       "  'ratings': '3.86',\n",
       "  'num_ratings': '466 ratings',\n",
       "  'id': '96255'},\n",
       " {'titles': 'The Horseman on the Roof',\n",
       "  'authors': 'Jean Giono',\n",
       "  'ratings': '3.93',\n",
       "  'num_ratings': '1,105 ratings',\n",
       "  'id': '143820'},\n",
       " {'titles': 'Spartacus',\n",
       "  'authors': 'Howard Fast',\n",
       "  'ratings': '3.82',\n",
       "  'num_ratings': '1,419 ratings',\n",
       "  'id': '93537'},\n",
       " {'titles': \"A Soldier's Story\",\n",
       "  'authors': 'Omar Nelson Bradley',\n",
       "  'ratings': '4.08',\n",
       "  'num_ratings': '1,058 ratings',\n",
       "  'id': '664372'},\n",
       " {'titles': \"The President's Lady\",\n",
       "  'authors': 'Irving Stone',\n",
       "  'ratings': '3.94',\n",
       "  'num_ratings': '1,493 ratings',\n",
       "  'id': '148417'},\n",
       " {'titles': 'Tempest-Tost (Salterton Trilogy, #1)',\n",
       "  'authors': 'Robertson Davies',\n",
       "  'ratings': '4.05',\n",
       "  'num_ratings': '1,620 ratings',\n",
       "  'id': '347358'},\n",
       " {'titles': 'The Wailing Siren Mystery (Hardy Boys, #30)',\n",
       "  'authors': 'Franklin W. Dixon',\n",
       "  'ratings': '3.75',\n",
       "  'num_ratings': '1,641 ratings',\n",
       "  'id': '760120'},\n",
       " {'titles': 'Dark Benediction',\n",
       "  'authors': 'Walter M. Miller Jr.',\n",
       "  'ratings': '3.78',\n",
       "  'num_ratings': '550 ratings',\n",
       "  'id': '1372926'},\n",
       " {'titles': 'Centerburg Tales: More Adventures of Homer Price',\n",
       "  'authors': 'Robert McCloskey',\n",
       "  'ratings': '4.17',\n",
       "  'num_ratings': '1,628 ratings',\n",
       "  'id': '266832'},\n",
       " {'titles': 'A History of the English Language',\n",
       "  'authors': 'Albert C. Baugh',\n",
       "  'ratings': '3.91',\n",
       "  'num_ratings': '748 ratings',\n",
       "  'id': '124003'},\n",
       " {'titles': 'The Greeks and the Irrational',\n",
       "  'authors': 'E.R. Dodds',\n",
       "  'ratings': '4.20',\n",
       "  'num_ratings': '623 ratings',\n",
       "  'id': '862835'},\n",
       " {'titles': 'Fallen Into the Pit (The Felse Investigations #1)',\n",
       "  'authors': 'Ellis Peters',\n",
       "  'ratings': '3.70',\n",
       "  'num_ratings': '884 ratings',\n",
       "  'id': '523368'},\n",
       " {'titles': 'The Financial Expert',\n",
       "  'authors': 'R.K. Narayan',\n",
       "  'ratings': '3.77',\n",
       "  'num_ratings': '1,228 ratings',\n",
       "  'id': '344676'},\n",
       " {'titles': 'Merry Hall',\n",
       "  'authors': 'Beverley Nichols',\n",
       "  'ratings': '4.20',\n",
       "  'num_ratings': '725 ratings',\n",
       "  'id': '102827'},\n",
       " {'titles': 'Successful Drawing',\n",
       "  'authors': 'Andrew Loomis',\n",
       "  'ratings': '4.35',\n",
       "  'num_ratings': '1,045 ratings',\n",
       "  'id': '2001015'},\n",
       " {'titles': 'Triple Jeopardy (Nero Wolfe, #20)',\n",
       "  'authors': 'Rex Stout',\n",
       "  'ratings': '4.11',\n",
       "  'num_ratings': '1,367 ratings',\n",
       "  'id': '77630'},\n",
       " {'titles': \"The Psychology of Man's Possible Evolution\",\n",
       "  'authors': 'P.D. Ouspensky',\n",
       "  'ratings': '4.08',\n",
       "  'num_ratings': '804 ratings',\n",
       "  'id': '552494'},\n",
       " {'titles': \"McNally's Gamble (Archy McNally, #7)\",\n",
       "  'authors': 'Lawrence Sanders',\n",
       "  'ratings': '3.88',\n",
       "  'num_ratings': '1,433 ratings',\n",
       "  'id': '430833'},\n",
       " {'titles': 'Dongeng Calon Arang',\n",
       "  'authors': 'Pramoedya Ananta Toer',\n",
       "  'ratings': '3.48',\n",
       "  'num_ratings': '1,328 ratings',\n",
       "  'id': '963139'},\n",
       " {'titles': 'Chicago: City on the Make',\n",
       "  'authors': 'Nelson Algren',\n",
       "  'ratings': '4.17',\n",
       "  'num_ratings': '888 ratings',\n",
       "  'id': '261521'},\n",
       " {'titles': 'دستور الأخلاق في القرآن',\n",
       "  'authors': 'محمد عبد الله دراز',\n",
       "  'ratings': '4.30',\n",
       "  'num_ratings': '134 ratings',\n",
       "  'id': '6635187'},\n",
       " {'titles': 'The Greeks',\n",
       "  'authors': 'H.D.F. Kitto',\n",
       "  'ratings': '4.02',\n",
       "  'num_ratings': '868 ratings',\n",
       "  'id': '958674'},\n",
       " {'titles': 'The Middle Pillar: The Balance Between Mind and Magic',\n",
       "  'authors': 'Israel Regardie',\n",
       "  'ratings': '4.18',\n",
       "  'num_ratings': '845 ratings',\n",
       "  'id': '377494'},\n",
       " {'titles': 'A Game of Hide and Seek',\n",
       "  'authors': 'Elizabeth Taylor',\n",
       "  'ratings': '3.77',\n",
       "  'num_ratings': '784 ratings',\n",
       "  'id': '1865139'},\n",
       " {'titles': 'Tauben im Gras',\n",
       "  'authors': 'Wolfgang Koeppen',\n",
       "  'ratings': '3.24',\n",
       "  'num_ratings': '1,208 ratings',\n",
       "  'id': '1769233'},\n",
       " {'titles': 'Catherine of Siena',\n",
       "  'authors': 'Sigrid Undset',\n",
       "  'ratings': '4.31',\n",
       "  'num_ratings': '546 ratings',\n",
       "  'id': '6630200'},\n",
       " {'titles': 'Temptation',\n",
       "  'authors': 'Victoria Christopher Murray',\n",
       "  'ratings': '4.43',\n",
       "  'num_ratings': '1,113 ratings',\n",
       "  'id': '1813548'},\n",
       " {'titles': 'The Chinese Maze Murders',\n",
       "  'authors': 'Robert van Gulik',\n",
       "  'ratings': '4.11',\n",
       "  'num_ratings': '1,214 ratings',\n",
       "  'id': '1055477'},\n",
       " {'titles': 'A Walker in the City',\n",
       "  'authors': 'Alfred Kazin',\n",
       "  'ratings': '3.91',\n",
       "  'num_ratings': '484 ratings',\n",
       "  'id': '1059787'},\n",
       " {'titles': 'Minn of the Mississippi',\n",
       "  'authors': 'Holling Clancy Holling',\n",
       "  'ratings': '3.98',\n",
       "  'num_ratings': '1,000 ratings',\n",
       "  'id': '178760'},\n",
       " {'titles': 'Round the Bend',\n",
       "  'authors': 'Nevil Shute',\n",
       "  'ratings': '4.08',\n",
       "  'num_ratings': '1,167 ratings',\n",
       "  'id': '953962'},\n",
       " {'titles': \"Sink 'Em All: Submarine Warfare in the Pacific\",\n",
       "  'authors': 'Charles A. Lockwood',\n",
       "  'ratings': '4.20',\n",
       "  'num_ratings': '896 ratings',\n",
       "  'id': '22088217'},\n",
       " {'titles': 'Three to Get Married',\n",
       "  'authors': 'Fulton J. Sheen',\n",
       "  'ratings': '4.57',\n",
       "  'num_ratings': '551 ratings',\n",
       "  'id': '10034956'},\n",
       " {'titles': 'The Riders of High Rock',\n",
       "  'authors': \"Louis L'Amour\",\n",
       "  'ratings': '3.82',\n",
       "  'num_ratings': '1,268 ratings',\n",
       "  'id': '696824'},\n",
       " {'titles': 'A History of the Crusades, Vol. II: The Kingdom of Jerusalem and the Frankish East, 1100-1187',\n",
       "  'authors': 'Steven Runciman',\n",
       "  'ratings': '4.36',\n",
       "  'num_ratings': '623 ratings',\n",
       "  'id': '428520'},\n",
       " {'titles': 'Man Is Not Alone: A Philosophy of Religion',\n",
       "  'authors': 'Abraham Joshua Heschel',\n",
       "  'ratings': '4.38',\n",
       "  'num_ratings': '485 ratings',\n",
       "  'id': '345504'},\n",
       " {'titles': 'American Diplomacy',\n",
       "  'authors': 'George F. Kennan',\n",
       "  'ratings': '4.03',\n",
       "  'num_ratings': '515 ratings',\n",
       "  'id': '90764'},\n",
       " {'titles': 'The Penguin Dictionary of Classical Mythology',\n",
       "  'authors': 'Pierre Grimal',\n",
       "  'ratings': '4.25',\n",
       "  'num_ratings': '490 ratings',\n",
       "  'id': '423051'},\n",
       " {'titles': 'The Gods of the Greeks',\n",
       "  'authors': 'Karl Kerényi',\n",
       "  'ratings': '4.15',\n",
       "  'num_ratings': '474 ratings',\n",
       "  'id': '1080876'},\n",
       " {'titles': 'The Rustlers of West Fork',\n",
       "  'authors': \"Louis L'Amour\",\n",
       "  'ratings': '3.81',\n",
       "  'num_ratings': '1,172 ratings',\n",
       "  'id': '6581586'},\n",
       " {'titles': 'I Can Fly',\n",
       "  'authors': 'Ruth Krauss',\n",
       "  'ratings': '4.24',\n",
       "  'num_ratings': '1,098 ratings',\n",
       "  'id': '42278'},\n",
       " {'titles': 'La Leçon',\n",
       "  'authors': 'Eugène Ionesco',\n",
       "  'ratings': '3.65',\n",
       "  'num_ratings': '1,193 ratings',\n",
       "  'id': '912579'},\n",
       " {'titles': \"Exile's Return: A Literary Odyssey of the 1920s\",\n",
       "  'authors': 'Malcolm Cowley',\n",
       "  'ratings': '4.00 ',\n",
       "  'num_ratings': '372 ratings',\n",
       "  'id': '272481'},\n",
       " {'titles': 'The Last Night of the World',\n",
       "  'authors': 'Ray Bradbury',\n",
       "  'ratings': '3.60',\n",
       "  'num_ratings': '876 ratings',\n",
       "  'id': '16083181'},\n",
       " {'titles': 'The Pedestrian: A Fantasy in One Act',\n",
       "  'authors': 'Ray Bradbury',\n",
       "  'ratings': '3.81',\n",
       "  'num_ratings': '889 ratings',\n",
       "  'id': '1920425'},\n",
       " {'titles': 'Collected Short Stories: Volume 2 (Collected Short Stories of W. Somerset Maugham, #2)',\n",
       "  'authors': 'W. Somerset Maugham',\n",
       "  'ratings': '4.35',\n",
       "  'num_ratings': '879 ratings',\n",
       "  'id': '90312'},\n",
       " {'titles': 'The Necessary Angel: Essays on Reality and the Imagination',\n",
       "  'authors': 'Wallace Stevens',\n",
       "  'ratings': '4.19',\n",
       "  'num_ratings': '708 ratings',\n",
       "  'id': '125201'},\n",
       " {'titles': 'A Celtic Miscellany: Translations from the Celtic Literatures',\n",
       "  'authors': 'Kenneth Hurlstone Jackson',\n",
       "  'ratings': '3.98',\n",
       "  'num_ratings': '528 ratings',\n",
       "  'id': '556637'},\n",
       " {'titles': 'One Lonely Night',\n",
       "  'authors': '(Translator)',\n",
       "  'ratings': '3.62',\n",
       "  'num_ratings': '641 ratings',\n",
       "  'id': '224740'},\n",
       " {'titles': 'A History of the Crusades, Vol. III: The Kingdom of Acre and the Later Crusades',\n",
       "  'authors': 'Mickey Spillane',\n",
       "  'ratings': '4.36',\n",
       "  'num_ratings': '487 ratings',\n",
       "  'id': '428522'},\n",
       " {'titles': \"Walt Disney's Alice In Wonderland (A Little Golden Book)\",\n",
       "  'authors': 'Steven Runciman',\n",
       "  'ratings': '4.39',\n",
       "  'num_ratings': '1,199 ratings',\n",
       "  'id': '38685'},\n",
       " {'titles': 'A Dragon Apparent: Travels in Cambodia, Laos & Vietnam',\n",
       "  'authors': 'Teddy Slater',\n",
       "  'ratings': '3.91',\n",
       "  'num_ratings': '417 ratings',\n",
       "  'id': '1287676'},\n",
       " {'titles': 'Indonesia Menggugat: Pidato Pembelaan Bung Karno di Depan Pengadilan Kolonial',\n",
       "  'authors': 'Norman Lewis',\n",
       "  'ratings': '4.25',\n",
       "  'num_ratings': '340 ratings',\n",
       "  'id': '1399329'},\n",
       " {'titles': 'The Dam Busters',\n",
       "  'authors': 'Sukarno',\n",
       "  'ratings': '4.26',\n",
       "  'num_ratings': '872 ratings',\n",
       "  'id': '147578'},\n",
       " {'titles': 'Finders Keepers',\n",
       "  'authors': 'Paul Brickhill',\n",
       "  'ratings': '3.35',\n",
       "  'num_ratings': '867 ratings',\n",
       "  'id': '673475'},\n",
       " {'titles': 'Trouble Shooter',\n",
       "  'authors': 'William Lipkind',\n",
       "  'ratings': '3.89',\n",
       "  'num_ratings': '867 ratings',\n",
       "  'id': '1123552'},\n",
       " {'titles': 'Picture',\n",
       "  'authors': \"Louis L'Amour\",\n",
       "  'ratings': '4.04',\n",
       "  'num_ratings': '338 ratings',\n",
       "  'id': '324954'},\n",
       " {'titles': 'Client-Centered Therapy: Its Current Practice, Implications and Theory',\n",
       "  'authors': 'Lillian Ross',\n",
       "  'ratings': '4.19',\n",
       "  'num_ratings': '377 ratings',\n",
       "  'id': '1181940'},\n",
       " {'titles': 'The Ring-O-bells Mystery (Barney Mysteries, #3)',\n",
       "  'authors': 'Carl R. Rogers',\n",
       "  'ratings': '4.00 ',\n",
       "  'num_ratings': '865 ratings',\n",
       "  'id': '1392428'},\n",
       " {'titles': 'Verrà la morte e avrà i tuoi occhi',\n",
       "  'authors': 'Enid Blyton',\n",
       "  'ratings': '4.45',\n",
       "  'num_ratings': '687 ratings',\n",
       "  'id': '6897840'},\n",
       " {'titles': 'Jefferson and the Rights of Man',\n",
       "  'authors': 'Cesare Pavese',\n",
       "  'ratings': '4.14',\n",
       "  'num_ratings': '548 ratings',\n",
       "  'id': '1532332'},\n",
       " {'titles': 'Do Not Go Gentle Into That Good Night',\n",
       "  'authors': 'Dumas Malone',\n",
       "  'ratings': '4.49',\n",
       "  'num_ratings': '673 ratings',\n",
       "  'id': '6619539'},\n",
       " {'titles': 'School for Love',\n",
       "  'authors': 'Dylan Thomas',\n",
       "  'ratings': '3.82',\n",
       "  'num_ratings': '420 ratings',\n",
       "  'id': '3338936'},\n",
       " {'titles': \"Maigret and the Burglar's Wife (Maigret, #38)\",\n",
       "  'authors': 'Olivia Manning',\n",
       "  'ratings': '3.85',\n",
       "  'num_ratings': '790 ratings',\n",
       "  'id': '140751'},\n",
       " {'titles': 'The King and I',\n",
       "  'authors': 'Georges Simenon',\n",
       "  'ratings': '4.23',\n",
       "  'num_ratings': '1,052 ratings',\n",
       "  'id': '5675009'},\n",
       " {'titles': 'And Where Were You, Adam?',\n",
       "  'authors': 'Richard Rodgers',\n",
       "  'ratings': '3.87',\n",
       "  'num_ratings': '685 ratings',\n",
       "  'id': '943294'},\n",
       " {'titles': 'English Grammar and Composition: Complete Course',\n",
       "  'authors': '(Composer)',\n",
       "  'ratings': '4.17',\n",
       "  'num_ratings': '161 ratings',\n",
       "  'id': '172117'},\n",
       " {'titles': 'The Mechanical Bride: Folklore of Industrial Man',\n",
       "  'authors': 'Heinrich Böll',\n",
       "  'ratings': '4.03',\n",
       "  'num_ratings': '257 ratings',\n",
       "  'id': '2800'},\n",
       " {'titles': 'Hedda Gabler and Other Plays',\n",
       "  'authors': 'John E. Warriner',\n",
       "  'ratings': '3.93',\n",
       "  'num_ratings': '661 ratings',\n",
       "  'id': '688700'},\n",
       " {'titles': 'The Social History of Art: Volume 1: From Prehistoric Times to the Middle Ages',\n",
       "  'authors': 'Marshall McLuhan',\n",
       "  'ratings': '4.12',\n",
       "  'num_ratings': '219 ratings',\n",
       "  'id': '1512658'},\n",
       " {'titles': 'Noddy And His Car',\n",
       "  'authors': 'Henrik Ibsen',\n",
       "  'ratings': '3.92',\n",
       "  'num_ratings': '559 ratings',\n",
       "  'id': '488268'},\n",
       " {'titles': 'The Watersplash (Miss Silver, #21)',\n",
       "  'authors': 'Arnold Hauser',\n",
       "  'ratings': '3.89',\n",
       "  'num_ratings': '693 ratings',\n",
       "  'id': '1440136'},\n",
       " {'titles': 'Floating Clouds',\n",
       "  'authors': 'Enid Blyton',\n",
       "  'ratings': '3.50',\n",
       "  'num_ratings': '285 ratings',\n",
       "  'id': '360765'},\n",
       " {'titles': 'Love in a Dry Season',\n",
       "  'authors': 'Patricia Wentworth',\n",
       "  'ratings': '3.76',\n",
       "  'num_ratings': '430 ratings',\n",
       "  'id': '102218'},\n",
       " {'titles': 'Mist Over Pendle',\n",
       "  'authors': 'Fumiko Hayashi',\n",
       "  'ratings': '3.99',\n",
       "  'num_ratings': '507 ratings',\n",
       "  'id': '1046918'},\n",
       " {'titles': 'Collected Short Stories: Volume 3 (Collected Short Stories of W. Somerset Maugham, #3)',\n",
       "  'authors': '(Translation)',\n",
       "  'ratings': '4.23',\n",
       "  'num_ratings': '674 ratings',\n",
       "  'id': '90311'},\n",
       " {'titles': 'The Lute Player',\n",
       "  'authors': 'Shelby Foote',\n",
       "  'ratings': '3.79',\n",
       "  'num_ratings': '562 ratings',\n",
       "  'id': '2019141'},\n",
       " {'titles': 'My View of the World',\n",
       "  'authors': 'Robert Neill',\n",
       "  'ratings': '3.98',\n",
       "  'num_ratings': '179 ratings',\n",
       "  'id': '1157019'},\n",
       " {'titles': 'Quantum Theory',\n",
       "  'authors': 'W. Somerset Maugham',\n",
       "  'ratings': '4.15',\n",
       "  'num_ratings': '306 ratings',\n",
       "  'id': '204525'},\n",
       " {'titles': 'Systematic Theology, Vol 1',\n",
       "  'authors': 'Norah Lofts',\n",
       "  'ratings': '4.04',\n",
       "  'num_ratings': '471 ratings',\n",
       "  'id': '175143'},\n",
       " {'titles': 'Anna Where Are You (Miss Silver, #20)',\n",
       "  'authors': 'Erwin Schrödinger',\n",
       "  'ratings': '3.84',\n",
       "  'num_ratings': '616 ratings',\n",
       "  'id': '1711161'},\n",
       " {'titles': 'The Long Divorce (Gervase Fen, #8)',\n",
       "  'authors': 'David Bohm',\n",
       "  'ratings': '4.04',\n",
       "  'num_ratings': '580 ratings',\n",
       "  'id': '971832'},\n",
       " {'titles': 'The Fog Horn',\n",
       "  'authors': 'Paul Tillich',\n",
       "  'ratings': '4.32',\n",
       "  'num_ratings': '536 ratings',\n",
       "  'id': '357496'},\n",
       " {'titles': 'Gestalt Therapy: Excitement and Growth in the Human Personality',\n",
       "  'authors': 'Patricia Wentworth',\n",
       "  'ratings': '4.11',\n",
       "  'num_ratings': '257 ratings',\n",
       "  'id': '402217'},\n",
       " {'titles': 'Sherlock Holmes: Selected Stories',\n",
       "  'authors': 'Edmund Crispin',\n",
       "  'ratings': '4.28',\n",
       "  'num_ratings': '633 ratings',\n",
       "  'id': '76198'},\n",
       " {'titles': 'The Beetle Leg',\n",
       "  'authors': 'Ray Bradbury',\n",
       "  'ratings': '3.65',\n",
       "  'num_ratings': '318 ratings',\n",
       "  'id': '1004655'},\n",
       " {'titles': 'Florence Nightingale',\n",
       "  'authors': 'Frederick Salomon Perls',\n",
       "  'ratings': '3.97',\n",
       "  'num_ratings': '265 ratings',\n",
       "  'id': '1019969'},\n",
       " {'titles': 'The Rosemary Tree',\n",
       "  'authors': 'Arthur Conan Doyle',\n",
       "  'ratings': '4.12',\n",
       "  'num_ratings': '483 ratings',\n",
       "  'id': '420182'},\n",
       " {'titles': 'The Shetland Bus',\n",
       "  'authors': 'John Hawkes',\n",
       "  'ratings': '4.09',\n",
       "  'num_ratings': '392 ratings',\n",
       "  'id': '295598'}]"
      ]
     },
     "execution_count": 3,
     "metadata": {},
     "output_type": "execute_result"
    }
   ],
   "source": [
    "# test goodreads_list_scrape()\n",
    "\n",
    "driver = webdriver.Chrome()\n",
    "driver.get(url_list[0])\n",
    "goodreads_list_scrape(driver)"
   ]
  },
  {
   "cell_type": "code",
   "execution_count": 21,
   "metadata": {
    "collapsed": true
   },
   "outputs": [
    {
     "name": "stderr",
     "output_type": "stream",
     "text": [
      "\r",
      "  0%|          | 0/48 [00:00<?, ?it/s]"
     ]
    },
    {
     "name": "stdout",
     "output_type": "stream",
     "text": [
      "50\n",
      "100\n",
      "150\n"
     ]
    },
    {
     "name": "stderr",
     "output_type": "stream",
     "text": [
      "\r",
      "  2%|▏         | 1/48 [00:23<18:44, 23.93s/it]"
     ]
    },
    {
     "name": "stdout",
     "output_type": "stream",
     "text": [
      "200\n",
      "50\n",
      "100\n",
      "150\n"
     ]
    },
    {
     "name": "stderr",
     "output_type": "stream",
     "text": [
      "\r",
      "  4%|▍         | 2/48 [00:48<18:36, 24.27s/it]"
     ]
    },
    {
     "name": "stdout",
     "output_type": "stream",
     "text": [
      "200\n",
      "50\n",
      "100\n",
      "150\n"
     ]
    },
    {
     "name": "stderr",
     "output_type": "stream",
     "text": [
      "\r",
      "  6%|▋         | 3/48 [01:12<18:03, 24.09s/it]"
     ]
    },
    {
     "name": "stdout",
     "output_type": "stream",
     "text": [
      "200\n",
      "50\n",
      "100\n",
      "150\n"
     ]
    },
    {
     "name": "stderr",
     "output_type": "stream",
     "text": [
      "\r",
      "  8%|▊         | 4/48 [01:37<17:44, 24.20s/it]"
     ]
    },
    {
     "name": "stdout",
     "output_type": "stream",
     "text": [
      "200\n",
      "50\n",
      "100\n",
      "150\n"
     ]
    },
    {
     "name": "stderr",
     "output_type": "stream",
     "text": [
      "\r",
      " 10%|█         | 5/48 [02:05<18:14, 25.45s/it]"
     ]
    },
    {
     "name": "stdout",
     "output_type": "stream",
     "text": [
      "200\n",
      "50\n",
      "100\n",
      "150\n"
     ]
    },
    {
     "name": "stderr",
     "output_type": "stream",
     "text": [
      "\r",
      " 12%|█▎        | 6/48 [02:34<18:31, 26.47s/it]"
     ]
    },
    {
     "name": "stdout",
     "output_type": "stream",
     "text": [
      "200\n",
      "50\n",
      "100\n",
      "150\n"
     ]
    },
    {
     "name": "stderr",
     "output_type": "stream",
     "text": [
      "\r",
      " 15%|█▍        | 7/48 [03:03<18:38, 27.27s/it]"
     ]
    },
    {
     "name": "stdout",
     "output_type": "stream",
     "text": [
      "200\n",
      "50\n",
      "100\n",
      "150\n"
     ]
    },
    {
     "name": "stderr",
     "output_type": "stream",
     "text": [
      "\r",
      " 17%|█▋        | 8/48 [03:27<17:34, 26.35s/it]"
     ]
    },
    {
     "name": "stdout",
     "output_type": "stream",
     "text": [
      "200\n",
      "50\n",
      "100\n",
      "150\n"
     ]
    },
    {
     "name": "stderr",
     "output_type": "stream",
     "text": [
      "\r",
      " 19%|█▉        | 9/48 [03:55<17:22, 26.74s/it]"
     ]
    },
    {
     "name": "stdout",
     "output_type": "stream",
     "text": [
      "50\n",
      "100\n",
      "150\n"
     ]
    },
    {
     "name": "stderr",
     "output_type": "stream",
     "text": [
      "\r",
      " 21%|██        | 10/48 [04:18<16:20, 25.81s/it]"
     ]
    },
    {
     "name": "stdout",
     "output_type": "stream",
     "text": [
      "200\n",
      "50\n",
      "100\n",
      "150\n"
     ]
    },
    {
     "name": "stderr",
     "output_type": "stream",
     "text": [
      "\r",
      " 23%|██▎       | 11/48 [04:40<15:12, 24.67s/it]"
     ]
    },
    {
     "name": "stdout",
     "output_type": "stream",
     "text": [
      "200\n",
      "50\n",
      "100\n",
      "150\n"
     ]
    },
    {
     "name": "stderr",
     "output_type": "stream",
     "text": [
      "\r",
      " 25%|██▌       | 12/48 [05:07<15:03, 25.11s/it]"
     ]
    },
    {
     "name": "stdout",
     "output_type": "stream",
     "text": [
      "200\n",
      "50\n",
      "100\n",
      "150\n"
     ]
    },
    {
     "name": "stderr",
     "output_type": "stream",
     "text": [
      "\r",
      " 27%|██▋       | 13/48 [05:35<15:10, 26.02s/it]"
     ]
    },
    {
     "name": "stdout",
     "output_type": "stream",
     "text": [
      "200\n",
      "50\n",
      "100\n",
      "150\n"
     ]
    },
    {
     "name": "stderr",
     "output_type": "stream",
     "text": [
      "\r",
      " 29%|██▉       | 14/48 [05:59<14:25, 25.45s/it]"
     ]
    },
    {
     "name": "stdout",
     "output_type": "stream",
     "text": [
      "200\n",
      "50\n",
      "100\n",
      "150\n"
     ]
    },
    {
     "name": "stderr",
     "output_type": "stream",
     "text": [
      "\r",
      " 31%|███▏      | 15/48 [06:27<14:27, 26.28s/it]"
     ]
    },
    {
     "name": "stdout",
     "output_type": "stream",
     "text": [
      "200\n",
      "50\n",
      "100\n",
      "150\n"
     ]
    },
    {
     "name": "stderr",
     "output_type": "stream",
     "text": [
      "\r",
      " 33%|███▎      | 16/48 [07:00<15:00, 28.13s/it]"
     ]
    },
    {
     "name": "stdout",
     "output_type": "stream",
     "text": [
      "200\n",
      "50\n",
      "100\n",
      "150\n"
     ]
    },
    {
     "name": "stderr",
     "output_type": "stream",
     "text": [
      "\r",
      " 35%|███▌      | 17/48 [07:26<14:13, 27.53s/it]"
     ]
    },
    {
     "name": "stdout",
     "output_type": "stream",
     "text": [
      "200\n",
      "50\n",
      "100\n",
      "150\n"
     ]
    },
    {
     "name": "stderr",
     "output_type": "stream",
     "text": [
      "\r",
      " 38%|███▊      | 18/48 [07:50<13:20, 26.69s/it]"
     ]
    },
    {
     "name": "stdout",
     "output_type": "stream",
     "text": [
      "200\n",
      "50\n",
      "100\n",
      "150\n"
     ]
    },
    {
     "name": "stderr",
     "output_type": "stream",
     "text": [
      "\r",
      " 40%|███▉      | 19/48 [08:15<12:36, 26.09s/it]"
     ]
    },
    {
     "name": "stdout",
     "output_type": "stream",
     "text": [
      "200\n",
      "50\n",
      "100\n",
      "150\n"
     ]
    },
    {
     "name": "stderr",
     "output_type": "stream",
     "text": [
      "\r",
      " 42%|████▏     | 20/48 [08:41<12:06, 25.95s/it]"
     ]
    },
    {
     "name": "stdout",
     "output_type": "stream",
     "text": [
      "200\n",
      "50\n",
      "100\n",
      "150\n"
     ]
    },
    {
     "name": "stderr",
     "output_type": "stream",
     "text": [
      "\r",
      " 44%|████▍     | 21/48 [09:06<11:34, 25.73s/it]"
     ]
    },
    {
     "name": "stdout",
     "output_type": "stream",
     "text": [
      "200\n",
      "50\n",
      "100\n",
      "150\n"
     ]
    },
    {
     "name": "stderr",
     "output_type": "stream",
     "text": [
      "\r",
      " 46%|████▌     | 22/48 [09:32<11:08, 25.71s/it]"
     ]
    },
    {
     "name": "stdout",
     "output_type": "stream",
     "text": [
      "200\n",
      "50\n",
      "100\n",
      "150\n"
     ]
    },
    {
     "name": "stderr",
     "output_type": "stream",
     "text": [
      "\r",
      " 48%|████▊     | 23/48 [09:58<10:49, 25.98s/it]"
     ]
    },
    {
     "name": "stdout",
     "output_type": "stream",
     "text": [
      "200\n",
      "50\n",
      "100\n",
      "150\n",
      "200\n"
     ]
    },
    {
     "name": "stderr",
     "output_type": "stream",
     "text": [
      "\r",
      " 50%|█████     | 24/48 [10:24<10:20, 25.84s/it]"
     ]
    },
    {
     "name": "stdout",
     "output_type": "stream",
     "text": [
      "50\n",
      "100\n",
      "150\n"
     ]
    },
    {
     "name": "stderr",
     "output_type": "stream",
     "text": [
      "\r",
      " 52%|█████▏    | 25/48 [10:47<09:35, 25.04s/it]"
     ]
    },
    {
     "name": "stdout",
     "output_type": "stream",
     "text": [
      "200\n",
      "50\n",
      "100\n",
      "150\n"
     ]
    },
    {
     "name": "stderr",
     "output_type": "stream",
     "text": [
      "\r",
      " 54%|█████▍    | 26/48 [11:13<09:18, 25.38s/it]"
     ]
    },
    {
     "name": "stdout",
     "output_type": "stream",
     "text": [
      "200\n",
      "50\n",
      "100\n",
      "150\n"
     ]
    },
    {
     "name": "stderr",
     "output_type": "stream",
     "text": [
      "\r",
      " 56%|█████▋    | 27/48 [11:38<08:51, 25.32s/it]"
     ]
    },
    {
     "name": "stdout",
     "output_type": "stream",
     "text": [
      "200\n",
      "50\n",
      "100\n",
      "150\n"
     ]
    },
    {
     "name": "stderr",
     "output_type": "stream",
     "text": [
      "\r",
      " 58%|█████▊    | 28/48 [12:03<08:20, 25.00s/it]"
     ]
    },
    {
     "name": "stdout",
     "output_type": "stream",
     "text": [
      "200\n",
      "50\n",
      "100\n",
      "150\n"
     ]
    },
    {
     "name": "stderr",
     "output_type": "stream",
     "text": [
      "\r",
      " 60%|██████    | 29/48 [12:28<07:57, 25.15s/it]"
     ]
    },
    {
     "name": "stdout",
     "output_type": "stream",
     "text": [
      "200\n",
      "50\n",
      "100\n",
      "150\n"
     ]
    },
    {
     "name": "stderr",
     "output_type": "stream",
     "text": [
      "\r",
      " 62%|██████▎   | 30/48 [12:57<07:51, 26.21s/it]"
     ]
    },
    {
     "name": "stdout",
     "output_type": "stream",
     "text": [
      "200\n",
      "50\n",
      "100\n",
      "150\n"
     ]
    },
    {
     "name": "stderr",
     "output_type": "stream",
     "text": [
      "\r",
      " 65%|██████▍   | 31/48 [13:22<07:19, 25.85s/it]"
     ]
    },
    {
     "name": "stdout",
     "output_type": "stream",
     "text": [
      "200\n",
      "50\n",
      "100\n",
      "150\n"
     ]
    },
    {
     "name": "stderr",
     "output_type": "stream",
     "text": [
      "\r",
      " 67%|██████▋   | 32/48 [13:49<06:59, 26.24s/it]"
     ]
    },
    {
     "name": "stdout",
     "output_type": "stream",
     "text": [
      "200\n",
      "50\n",
      "100\n",
      "150\n"
     ]
    },
    {
     "name": "stderr",
     "output_type": "stream",
     "text": [
      "\r",
      " 69%|██████▉   | 33/48 [14:14<06:28, 25.88s/it]"
     ]
    },
    {
     "name": "stdout",
     "output_type": "stream",
     "text": [
      "200\n",
      "50\n",
      "100\n",
      "150\n"
     ]
    },
    {
     "name": "stderr",
     "output_type": "stream",
     "text": [
      "\r",
      " 71%|███████   | 34/48 [14:41<06:08, 26.33s/it]"
     ]
    },
    {
     "name": "stdout",
     "output_type": "stream",
     "text": [
      "200\n",
      "50\n",
      "100\n",
      "150\n"
     ]
    },
    {
     "name": "stderr",
     "output_type": "stream",
     "text": [
      "\r",
      " 73%|███████▎  | 35/48 [15:08<05:42, 26.34s/it]"
     ]
    },
    {
     "name": "stdout",
     "output_type": "stream",
     "text": [
      "200\n",
      "50\n",
      "100\n",
      "150\n"
     ]
    },
    {
     "name": "stderr",
     "output_type": "stream",
     "text": [
      "\r",
      " 75%|███████▌  | 36/48 [15:37<05:28, 27.36s/it]"
     ]
    },
    {
     "name": "stdout",
     "output_type": "stream",
     "text": [
      "200\n",
      "50\n",
      "100\n",
      "150\n"
     ]
    },
    {
     "name": "stderr",
     "output_type": "stream",
     "text": [
      "\r",
      " 77%|███████▋  | 37/48 [16:04<04:58, 27.14s/it]"
     ]
    },
    {
     "name": "stdout",
     "output_type": "stream",
     "text": [
      "200\n",
      "50\n",
      "100\n",
      "150\n"
     ]
    },
    {
     "name": "stderr",
     "output_type": "stream",
     "text": [
      "\r",
      " 79%|███████▉  | 38/48 [16:32<04:32, 27.28s/it]"
     ]
    },
    {
     "name": "stdout",
     "output_type": "stream",
     "text": [
      "200\n",
      "50\n",
      "100\n",
      "150\n"
     ]
    },
    {
     "name": "stderr",
     "output_type": "stream",
     "text": [
      "\r",
      " 81%|████████▏ | 39/48 [16:56<03:58, 26.49s/it]"
     ]
    },
    {
     "name": "stdout",
     "output_type": "stream",
     "text": [
      "200\n",
      "50\n",
      "100\n",
      "150\n"
     ]
    },
    {
     "name": "stderr",
     "output_type": "stream",
     "text": [
      "\r",
      " 83%|████████▎ | 40/48 [17:20<03:26, 25.77s/it]"
     ]
    },
    {
     "name": "stdout",
     "output_type": "stream",
     "text": [
      "200\n",
      "50\n",
      "100\n",
      "150\n"
     ]
    },
    {
     "name": "stderr",
     "output_type": "stream",
     "text": [
      "\r",
      " 85%|████████▌ | 41/48 [17:49<03:05, 26.49s/it]"
     ]
    },
    {
     "name": "stdout",
     "output_type": "stream",
     "text": [
      "200\n",
      "50\n",
      "100\n",
      "150\n"
     ]
    },
    {
     "name": "stderr",
     "output_type": "stream",
     "text": [
      "\r",
      " 88%|████████▊ | 42/48 [18:16<02:41, 26.84s/it]"
     ]
    },
    {
     "name": "stdout",
     "output_type": "stream",
     "text": [
      "200\n",
      "50\n",
      "100\n",
      "150\n"
     ]
    },
    {
     "name": "stderr",
     "output_type": "stream",
     "text": [
      "\r",
      " 90%|████████▉ | 43/48 [18:43<02:14, 26.89s/it]"
     ]
    },
    {
     "name": "stdout",
     "output_type": "stream",
     "text": [
      "200\n",
      "50\n",
      "100\n",
      "150\n"
     ]
    },
    {
     "name": "stderr",
     "output_type": "stream",
     "text": [
      "\r",
      " 92%|█████████▏| 44/48 [19:06<01:42, 25.73s/it]"
     ]
    },
    {
     "name": "stdout",
     "output_type": "stream",
     "text": [
      "200\n",
      "50\n",
      "100\n",
      "150\n"
     ]
    },
    {
     "name": "stderr",
     "output_type": "stream",
     "text": [
      "\r",
      " 94%|█████████▍| 45/48 [19:31<01:16, 25.33s/it]"
     ]
    },
    {
     "name": "stdout",
     "output_type": "stream",
     "text": [
      "200\n",
      "50\n",
      "100\n",
      "150\n"
     ]
    },
    {
     "name": "stderr",
     "output_type": "stream",
     "text": [
      "\r",
      " 96%|█████████▌| 46/48 [19:57<00:51, 25.72s/it]"
     ]
    },
    {
     "name": "stdout",
     "output_type": "stream",
     "text": [
      "200\n",
      "50\n",
      "100\n",
      "150\n"
     ]
    },
    {
     "name": "stderr",
     "output_type": "stream",
     "text": [
      "\r",
      " 98%|█████████▊| 47/48 [20:24<00:25, 25.98s/it]"
     ]
    },
    {
     "name": "stdout",
     "output_type": "stream",
     "text": [
      "200\n",
      "50\n",
      "100\n",
      "150\n"
     ]
    },
    {
     "name": "stderr",
     "output_type": "stream",
     "text": [
      "100%|██████████| 48/48 [20:54<00:00, 26.13s/it]"
     ]
    },
    {
     "name": "stdout",
     "output_type": "stream",
     "text": [
      "200\n"
     ]
    },
    {
     "name": "stderr",
     "output_type": "stream",
     "text": [
      "\n"
     ]
    }
   ],
   "source": [
    "# gather all initial book info\n",
    "\n",
    "books_list = [] # list of dictionaries of each book\n",
    "\n",
    "for url in tqdm(url_list):\n",
    "    driver = webdriver.Chrome()\n",
    "    driver.get(url)\n",
    "    books_list += goodreads_list_scrape()\n",
    "    driver.quit()"
   ]
  },
  {
   "cell_type": "code",
   "execution_count": 23,
   "metadata": {},
   "outputs": [],
   "source": [
    "# with open('bookslist_1909_on.pkl', 'wb') as f: \n",
    "#     pickle.dump(books_list, f)"
   ]
  },
  {
   "cell_type": "code",
   "execution_count": 10,
   "metadata": {},
   "outputs": [],
   "source": [
    "# open stored bookslist if needed\n",
    "\n",
    "with open('bookslist_1909_on.pkl', 'rb') as f:\n",
    "    loaded_bookslist = pickle.load(f)"
   ]
  },
  {
   "cell_type": "code",
   "execution_count": 39,
   "metadata": {
    "collapsed": true
   },
   "outputs": [
    {
     "ename": "NameError",
     "evalue": "name 'loaded_bookslist' is not defined",
     "output_type": "error",
     "traceback": [
      "\u001b[0;31m---------------------------------------------------------------------------\u001b[0m",
      "\u001b[0;31mNameError\u001b[0m                                 Traceback (most recent call last)",
      "\u001b[0;32m<ipython-input-39-73a331cc33c0>\u001b[0m in \u001b[0;36m<module>\u001b[0;34m\u001b[0m\n\u001b[0;32m----> 1\u001b[0;31m \u001b[0mloaded_bookslist\u001b[0m\u001b[0;34m[\u001b[0m\u001b[0;34m:\u001b[0m\u001b[0;36m5\u001b[0m\u001b[0;34m]\u001b[0m\u001b[0;34m\u001b[0m\u001b[0;34m\u001b[0m\u001b[0m\n\u001b[0m",
      "\u001b[0;31mNameError\u001b[0m: name 'loaded_bookslist' is not defined"
     ]
    }
   ],
   "source": [
    "loaded_bookslist[:3]"
   ]
  },
  {
   "cell_type": "markdown",
   "metadata": {},
   "source": [
    "## Secondary scrape: Accessing img, description, format, pages and genre"
   ]
  },
  {
   "cell_type": "code",
   "execution_count": 30,
   "metadata": {},
   "outputs": [
    {
     "data": {
      "text/plain": [
       "{'titles': 'To Catch an Heiress (Agents of the Crown, #1)',\n",
       " 'authors': 'Paul Hoffman',\n",
       " 'ratings': '3.90',\n",
       " 'num_ratings': '12,269 ratings',\n",
       " 'id': '110395',\n",
       " 'img': '',\n",
       " 'description': ' ',\n",
       " 'format': '',\n",
       " 'pages': '',\n",
       " 'genre': set()}"
      ]
     },
     "execution_count": 30,
     "metadata": {},
     "output_type": "execute_result"
    }
   ],
   "source": [
    "# going to get info for all books, starting from 1909\n",
    "\n",
    "# full_book_list = [] # <-- run if re-starting\n",
    "\n",
    "driver = webdriver.Chrome()\n",
    "\n",
    "initial_gr_signin(driver)\n",
    "\n",
    "# for dic in books_list: if running whole notebook\n",
    "for dic in loaded_bookslist:\n",
    "    dic['img'],dic['description'], dic['format'], dic['page'], dic['genre'] = secondary_scrape(dic['id'], driver)        \n",
    "    full_book_list.append(dic)\n",
    "\n",
    "full_book_list[-1]"
   ]
  },
  {
   "cell_type": "code",
   "execution_count": 134,
   "metadata": {
    "scrolled": true
   },
   "outputs": [
    {
     "data": {
      "text/plain": [
       "17727"
      ]
     },
     "execution_count": 134,
     "metadata": {},
     "output_type": "execute_result"
    }
   ],
   "source": [
    "len(full_book_list)"
   ]
  },
  {
   "cell_type": "markdown",
   "metadata": {},
   "source": [
    "## Get data into Pandas dataframe and save"
   ]
  },
  {
   "cell_type": "markdown",
   "metadata": {},
   "source": [
    "Export dataframe as csv "
   ]
  },
  {
   "cell_type": "code",
   "execution_count": 32,
   "metadata": {},
   "outputs": [],
   "source": [
    "df1 = pd.DataFrame(full_book_list)\n",
    "# df1 = df1.drop(['genre1', 'genre2'], axis=1)\n",
    "# df1.to_csv('goodread_img1.csv')"
   ]
  },
  {
   "cell_type": "code",
   "execution_count": 40,
   "metadata": {
    "collapsed": true
   },
   "outputs": [
    {
     "data": {
      "text/html": [
       "<div>\n",
       "<style scoped>\n",
       "    .dataframe tbody tr th:only-of-type {\n",
       "        vertical-align: middle;\n",
       "    }\n",
       "\n",
       "    .dataframe tbody tr th {\n",
       "        vertical-align: top;\n",
       "    }\n",
       "\n",
       "    .dataframe thead th {\n",
       "        text-align: right;\n",
       "    }\n",
       "</style>\n",
       "<table border=\"1\" class=\"dataframe\">\n",
       "  <thead>\n",
       "    <tr style=\"text-align: right;\">\n",
       "      <th></th>\n",
       "      <th>titles</th>\n",
       "      <th>authors</th>\n",
       "      <th>ratings</th>\n",
       "      <th>num_ratings</th>\n",
       "      <th>id</th>\n",
       "      <th>img</th>\n",
       "      <th>description</th>\n",
       "      <th>pages</th>\n",
       "      <th>genre</th>\n",
       "      <th>format</th>\n",
       "    </tr>\n",
       "  </thead>\n",
       "  <tbody>\n",
       "    <tr>\n",
       "      <th>0</th>\n",
       "      <td>Anne of Avonlea (Anne of Green Gables, #2)</td>\n",
       "      <td>L.M. Montgomery</td>\n",
       "      <td>4.22</td>\n",
       "      <td>126781</td>\n",
       "      <td>77390</td>\n",
       "      <td>https://i.gr-assets.com/images/S/compressed.ph...</td>\n",
       "      <td>At sixteen, Anne is grown up...almost. Her gra...</td>\n",
       "      <td>304 pages</td>\n",
       "      <td>{'Childrens', 'Classics', 'Historical', 'Histo...</td>\n",
       "      <td>NaN</td>\n",
       "    </tr>\n",
       "    <tr>\n",
       "      <th>1</th>\n",
       "      <td>Ethan Frome</td>\n",
       "      <td>Edith Wharton</td>\n",
       "      <td>3.39</td>\n",
       "      <td>100785</td>\n",
       "      <td>5246</td>\n",
       "      <td>https://i.gr-assets.com/images/S/compressed.ph...</td>\n",
       "      <td>'He seemed a part of the mute melancholy lands...</td>\n",
       "      <td>189 pages</td>\n",
       "      <td>{'Classics', 'Academic', 'Fiction', 'School', ...</td>\n",
       "      <td>NaN</td>\n",
       "    </tr>\n",
       "    <tr>\n",
       "      <th>2</th>\n",
       "      <td>The Arabian Nights</td>\n",
       "      <td>Anonymous</td>\n",
       "      <td>4.05</td>\n",
       "      <td>70660</td>\n",
       "      <td>93101</td>\n",
       "      <td>https://i.gr-assets.com/images/S/compressed.ph...</td>\n",
       "      <td>The tales of told by Shahrazad over a thousand...</td>\n",
       "      <td>1049 pages</td>\n",
       "      <td>{'Classics', 'Short Stories', 'Fantasy', 'Fict...</td>\n",
       "      <td>NaN</td>\n",
       "    </tr>\n",
       "    <tr>\n",
       "      <th>3</th>\n",
       "      <td>Martin Eden</td>\n",
       "      <td>Jack London</td>\n",
       "      <td>4.43</td>\n",
       "      <td>21445</td>\n",
       "      <td>929782</td>\n",
       "      <td>https://i.gr-assets.com/images/S/compressed.ph...</td>\n",
       "      <td>Alternate cover edition of ISBN 9780140187724 ...</td>\n",
       "      <td>480 pages</td>\n",
       "      <td>{'Classics', 'American', 'Literature', 'Fiction'}</td>\n",
       "      <td>NaN</td>\n",
       "    </tr>\n",
       "    <tr>\n",
       "      <th>4</th>\n",
       "      <td>A Girl of the Limberlost (Limberlost, #2)</td>\n",
       "      <td>Gene Stratton-Porter</td>\n",
       "      <td>4.15</td>\n",
       "      <td>17932</td>\n",
       "      <td>17567</td>\n",
       "      <td>https://i.gr-assets.com/images/S/compressed.ph...</td>\n",
       "      <td>Set amid Indiana's vast Limberlost Swamp, this...</td>\n",
       "      <td>222 pages</td>\n",
       "      <td>{'Childrens', 'Classics', 'Historical', 'Histo...</td>\n",
       "      <td>NaN</td>\n",
       "    </tr>\n",
       "  </tbody>\n",
       "</table>\n",
       "</div>"
      ],
      "text/plain": [
       "                                       titles               authors ratings  \\\n",
       "0  Anne of Avonlea (Anne of Green Gables, #2)       L.M. Montgomery    4.22   \n",
       "1                                 Ethan Frome         Edith Wharton    3.39   \n",
       "2                          The Arabian Nights             Anonymous    4.05   \n",
       "3                                 Martin Eden           Jack London    4.43   \n",
       "4   A Girl of the Limberlost (Limberlost, #2)  Gene Stratton-Porter    4.15   \n",
       "\n",
       "  num_ratings      id                                                img  \\\n",
       "0      126781   77390  https://i.gr-assets.com/images/S/compressed.ph...   \n",
       "1      100785    5246  https://i.gr-assets.com/images/S/compressed.ph...   \n",
       "2       70660   93101  https://i.gr-assets.com/images/S/compressed.ph...   \n",
       "3       21445  929782  https://i.gr-assets.com/images/S/compressed.ph...   \n",
       "4       17932   17567  https://i.gr-assets.com/images/S/compressed.ph...   \n",
       "\n",
       "                                         description       pages  \\\n",
       "0  At sixteen, Anne is grown up...almost. Her gra...   304 pages   \n",
       "1  'He seemed a part of the mute melancholy lands...   189 pages   \n",
       "2  The tales of told by Shahrazad over a thousand...  1049 pages   \n",
       "3  Alternate cover edition of ISBN 9780140187724 ...   480 pages   \n",
       "4  Set amid Indiana's vast Limberlost Swamp, this...   222 pages   \n",
       "\n",
       "                                               genre format  \n",
       "0  {'Childrens', 'Classics', 'Historical', 'Histo...    NaN  \n",
       "1  {'Classics', 'Academic', 'Fiction', 'School', ...    NaN  \n",
       "2  {'Classics', 'Short Stories', 'Fantasy', 'Fict...    NaN  \n",
       "3  {'Classics', 'American', 'Literature', 'Fiction'}    NaN  \n",
       "4  {'Childrens', 'Classics', 'Historical', 'Histo...    NaN  "
      ]
     },
     "execution_count": 40,
     "metadata": {},
     "output_type": "execute_result"
    }
   ],
   "source": [
    "df1.head()"
   ]
  },
  {
   "cell_type": "markdown",
   "metadata": {},
   "source": [
    "Import dataframe from csv"
   ]
  },
  {
   "cell_type": "code",
   "execution_count": 4,
   "metadata": {},
   "outputs": [],
   "source": [
    "df1 = pd.read_csv('goodread_img1.csv')\n",
    "df1.drop('Unnamed: 0', axis=1,inplace=True)\n",
    "df1.head();"
   ]
  },
  {
   "cell_type": "code",
   "execution_count": 25,
   "metadata": {},
   "outputs": [],
   "source": [
    "df = pd.read_csv('goodread_des1.csv')\n",
    "df.drop('Unnamed: 0', axis=1,inplace=True)\n",
    "df['isbn'] = np.nan"
   ]
  },
  {
   "cell_type": "markdown",
   "metadata": {},
   "source": [
    "## Dealing with missing images"
   ]
  },
  {
   "cell_type": "code",
   "execution_count": 35,
   "metadata": {
    "scrolled": true
   },
   "outputs": [
    {
     "name": "stdout",
     "output_type": "stream",
     "text": [
      "null: 211\n",
      "not null: 17516\n"
     ]
    }
   ],
   "source": [
    "# see how many are empty\n",
    "print('null:',df1.img.apply(lambda x: x if x != '' else np.nan).isnull().sum())\n",
    "print ('not null:',df1.img.apply(lambda x: x if x != '' else np.nan).notnull().sum())"
   ]
  },
  {
   "cell_type": "code",
   "execution_count": 8,
   "metadata": {
    "scrolled": false
   },
   "outputs": [
    {
     "data": {
      "text/plain": [
       "10928"
      ]
     },
     "execution_count": 8,
     "metadata": {},
     "output_type": "execute_result"
    }
   ],
   "source": [
    "# create list with index & goodreads id for items missing an img source\n",
    "\n",
    "no_img_id = []\n",
    "for k, v in df1.iterrows():\n",
    "    if df1.iloc[k].img == '' or type(df1.iloc[k].img) == float:\n",
    "        no_img_id.append((k, df1.iloc[k].id))\n",
    "\n",
    "len(no_img_id) # should be the same as above"
   ]
  },
  {
   "cell_type": "markdown",
   "metadata": {},
   "source": [
    "Testing get_imgs on individual site"
   ]
  },
  {
   "cell_type": "code",
   "execution_count": 10,
   "metadata": {},
   "outputs": [
    {
     "name": "stdout",
     "output_type": "stream",
     "text": [
      "cov\n",
      "https://i.gr-assets.com/images/S/compressed.photo.goodreads.com/books/1431363154l/24950845.jpg\n"
     ]
    }
   ],
   "source": [
    "\n",
    "driver = webdriver.Chrome()\n",
    "initial_gr_signin(driver)\n",
    "driver.get('https://www.goodreads.com/book/show/24950845')\n",
    "img = ''\n",
    "try:\n",
    "    img = driver.find_element_by_id('coverImage')\n",
    "    img = img.get_attribute('src')\n",
    "    print ('cov')\n",
    "\n",
    "except:\n",
    "    try:\n",
    "        img = driver.find_element_by_class('mainBookCover')\n",
    "        img = img.get_attribute('src')\n",
    "        print('main')\n",
    "\n",
    "    except:\n",
    "        try:\n",
    "            img = driver.find_element_by_xpath('/html/body/div[2]/div[3]/div[1]/div[2]/div[2]/div[1]/div[1]/div[1]/div[1]/a/img')\n",
    "            img = img.get_attribute('src')\n",
    "            print('xpath')\n",
    "        except:\n",
    "            print('nope')\n",
    "            img = np.nan\n",
    "\n",
    "# igg = get_imgs(driver)\n",
    "print(img)\n"
   ]
  },
  {
   "cell_type": "code",
   "execution_count": 36,
   "metadata": {},
   "outputs": [
    {
     "name": "stdout",
     "output_type": "stream",
     "text": [
      "3116\n"
     ]
    }
   ],
   "source": [
    "# check where in no_img_id the image search stopped\n",
    "\n",
    "ct = 0\n",
    "for i, ig in no_img_id:\n",
    "    if i == 19161909 or ig == 19161909:\n",
    "        print (ct)\n",
    "    ct += 1"
   ]
  },
  {
   "cell_type": "code",
   "execution_count": 36,
   "metadata": {},
   "outputs": [
    {
     "data": {
      "text/plain": [
       "(10928, 10928, 10717, 211)"
      ]
     },
     "execution_count": 36,
     "metadata": {},
     "output_type": "execute_result"
    }
   ],
   "source": [
    "len(df1), len(no_img_id), len(still_no_img)+found, found, len(still_no_img)"
   ]
  },
  {
   "cell_type": "code",
   "execution_count": 27,
   "metadata": {
    "collapsed": true
   },
   "outputs": [
    {
     "name": "stdout",
     "output_type": "stream",
     "text": [
      "image not found for 1069228,\n",
      "found : 0\n",
      "image not found for 5041959,\n",
      "found : 0\n",
      "image not found for 1350016,\n",
      "found : 0\n",
      "image not found for 2188544,\n",
      "found : 0\n",
      "image not found for 1740072,\n",
      "found : 0\n",
      "image not found for 1895199,\n",
      "found : 0\n",
      "image not found for 5962452,\n",
      "found : 0\n",
      "image not found for 5494385,\n",
      "found : 50\n",
      "image not found for 8701725,\n",
      "image not found for 2634450,\n",
      "image not found for 2571523,\n",
      "image not found for 2579924,\n",
      "image not found for 3278041,\n",
      "image not found for 2624442,\n",
      "image not found for 6651170,\n",
      "image not found for 959528,\n",
      "image not found for 1585444,\n",
      "image not found for 6674903,\n",
      "image not found for 2737795,\n",
      "image not found for 6525886,\n",
      "image not found for 2947536,\n",
      "image not found for 2270923,\n",
      "image not found for 2270839,\n",
      "image not found for 3770082,\n",
      "found : 100\n",
      "found : 150\n",
      "image not found for 6246317,\n",
      "image not found for 107358,\n",
      "image not found for 121328,\n",
      "image not found for 2010401,\n",
      "image not found for 3956198,\n",
      "found : 200\n",
      "image not found for 1839645,\n",
      "image not found for 10757832,\n",
      "image not found for 5982018,\n",
      "image not found for 782909,\n",
      "image not found for 5063154,\n",
      "image not found for 2435094,\n",
      "image not found for 8392788,\n",
      "image not found for 2834957,\n",
      "image not found for 3629988,\n",
      "image not found for 1427509,\n",
      "image not found for 6690765,\n",
      "image not found for 8629902,\n",
      "image not found for 1229791,\n",
      "found : 250\n",
      "found : 300\n",
      "image not found for 5619377,\n",
      "image not found for 2658053,\n",
      "image not found for 577129,\n",
      "image not found for 8138120,\n",
      "found : 350\n",
      "found : 400\n",
      "found : 450\n",
      "image not found for 295529,\n",
      "found : 500\n",
      "image not found for 2555618,\n",
      "image not found for 3481860,\n",
      "image not found for 4070520,\n",
      "image not found for 8285522,\n",
      "image not found for 7518749,\n",
      "image not found for 6203351,\n",
      "image not found for 5909629,\n",
      "found : 550\n",
      "image not found for 4937702,\n",
      "image not found for 6328247,\n",
      "image not found for 5367833,\n",
      "found : 600\n",
      "image not found for 2945037,\n",
      "found : 650\n",
      "image not found for 679445,\n",
      "image not found for 3612065,\n",
      "image not found for 2452465,\n",
      "found : 700\n",
      "image not found for 331321,\n",
      "image not found for 10324513,\n",
      "image not found for 194846,\n",
      "found : 750\n",
      "found : 800\n",
      "image not found for 17522,\n",
      "image not found for 2769267,\n",
      "image not found for 8158776,\n",
      "found : 850\n",
      "image not found for 1863458,\n",
      "image not found for 7128673,\n",
      "image not found for 312603,\n",
      "image not found for 4473333,\n",
      "image not found for 6175730,\n",
      "image not found for 21437501,\n",
      "found : 900\n",
      "found : 950\n",
      "image not found for 12836915,\n",
      "found : 1000\n",
      "image not found for 6437900,\n",
      "image not found for 10213829,\n",
      "image not found for 17167093,\n",
      "image not found for 6655931,\n",
      "found : 1050\n",
      "image not found for 10773895,\n",
      "image not found for 2020388,\n",
      "image not found for 7304311,\n",
      "image not found for 2804538,\n",
      "image not found for 7159317,\n",
      "found : 1100\n",
      "image not found for 17795743,\n",
      "found : 1150\n",
      "image not found for 17279983,\n",
      "image not found for 3624382,\n",
      "image not found for 3720608,\n",
      "image not found for 6597629,\n",
      "image not found for 1466274,\n",
      "found : 1200\n",
      "image not found for 2234991,\n",
      "image not found for 1740617,\n",
      "image not found for 1168710,\n",
      "image not found for 5056810,\n",
      "found : 1250\n",
      "found : 1300\n",
      "image not found for 2662723,\n",
      "image not found for 1576174,\n",
      "image not found for 13297215,\n",
      "image not found for 6425658,\n",
      "found : 1350\n",
      "image not found for 6839717,\n",
      "image not found for 8573650,\n",
      "image not found for 344254,\n",
      "image not found for 2664281,\n",
      "found : 1400\n",
      "found : 1450\n",
      "image not found for 11440949,\n",
      "image not found for 11091354,\n",
      "found : 1500\n",
      "image not found for 11696786,\n",
      "image not found for 12219703,\n",
      "image not found for 5966387,\n",
      "found : 1550\n",
      "image not found for 9372369,\n",
      "found : 1600\n",
      "image not found for 2815620,\n",
      "found : 1650\n",
      "image not found for 2854366,\n",
      "found : 1700\n",
      "found : 1750\n",
      "image not found for 768113,\n",
      "found : 1800\n",
      "image not found for 6543144,\n",
      "image not found for 10156061,\n",
      "image not found for 11412420,\n",
      "found : 1850\n",
      "image not found for 15712423,\n",
      "image not found for 11156523,\n",
      "found : 1900\n",
      "found : 1950\n",
      "found : 2000\n",
      "image not found for 5124922,\n",
      "image not found for 2175245,\n",
      "image not found for 1637435,\n",
      "found : 2050\n",
      "image not found for 2397897,\n",
      "found : 2100\n",
      "image not found for 9276515,\n",
      "found : 2150\n",
      "image not found for 6216137,\n",
      "found : 2200\n",
      "image not found for 11289180,\n",
      "image not found for 14877984,\n",
      "image not found for 854296,\n",
      "found : 2250\n",
      "image not found for 11794729,\n",
      "found : 2300\n",
      "found : 2350\n",
      "image not found for 353826,\n",
      "image not found for 4368906,\n",
      "image not found for 17332858,\n",
      "image not found for 3604275,\n",
      "found : 2400\n",
      "found : 2450\n",
      "image not found for 8662574,\n",
      "found : 2500\n",
      "found : 2550\n",
      "image not found for 8857716,\n",
      "image not found for 626403,\n",
      "image not found for 17339825,\n",
      "image not found for 12955531,\n",
      "image not found for 121282,\n",
      "image not found for 18597003,\n",
      "found : 2600\n",
      "found : 2650\n",
      "image not found for 4343830,\n",
      "found : 2700\n",
      "image not found for 8088963,\n",
      "image not found for 20405351,\n",
      "found : 2750\n",
      "image not found for 12907374,\n",
      "image not found for 997336,\n",
      "image not found for 13518923,\n",
      "found : 2800\n",
      "image not found for 887495,\n",
      "found : 2850\n",
      "image not found for 11512554,\n",
      "found : 2900\n",
      "image not found for 1654900,\n",
      "image not found for 19481814,\n",
      "image not found for 21546482,\n",
      "image not found for 1873651,\n",
      "image not found for 121226,\n",
      "image not found for 298854,\n",
      "image not found for 642211,\n",
      "image not found for 2928577,\n",
      "image not found for 184425,\n",
      "image not found for 1961207,\n",
      "image not found for 121367,\n",
      "image not found for 7802409,\n",
      "image not found for 574035,\n",
      "image not found for 4142887,\n",
      "image not found for 1417948,\n",
      "image not found for 2644933,\n",
      "image not found for 3728520,\n",
      "image not found for 11530400,\n",
      "image not found for 3032644,\n",
      "image not found for 1575880,\n",
      "image not found for 1586489,\n",
      "image not found for 1988628,\n",
      "image not found for 1634493,\n",
      "image not found for 1558286,\n",
      "image not found for 12676549,\n",
      "image not found for 325415,\n",
      "image not found for 11938807,\n",
      "image not found for 203829,\n",
      "image not found for 21470006,\n",
      "image not found for 8576497,\n",
      "image not found for 18109660,\n",
      "image not found for 3283586,\n",
      "image not found for 15707651,\n",
      "image not found for 851579,\n",
      "image not found for 1490693,\n",
      "image not found for 1220491,\n",
      "image not found for 12606203,\n",
      "image not found for 813350,\n",
      "image not found for 5356665,\n",
      "image not found for 187915,\n",
      "image not found for 177730,\n",
      "image not found for 1247559,\n",
      "image not found for 6250479,\n",
      "image not found for 9800971,\n",
      "image not found for 5865435,\n",
      "image not found for 1115866,\n",
      "image not found for 1323878,\n",
      "image not found for 961180,\n",
      "image not found for 5039238,\n",
      "image not found for 6183819,\n",
      "image not found for 6457601,\n",
      "image not found for 13582889,\n",
      "image not found for 3598493,\n",
      "image not found for 366631,\n",
      "image not found for 545004,\n",
      "image not found for 2438208,\n",
      "image not found for 6015220,\n",
      "image not found for 1546165,\n",
      "image not found for 767854,\n",
      "image not found for 355156,\n",
      "image not found for 166969,\n",
      "image not found for 121007,\n",
      "image not found for 11738995,\n",
      "image not found for 346607,\n",
      "found : 2950\n",
      "found : 3000\n",
      "found : 3050\n",
      "image not found for 5753716,\n",
      "found : 3100\n",
      "found : 3150\n",
      "found : 3200\n",
      "found : 3250\n",
      "found : 3300\n",
      "found : 3350\n",
      "found : 3400\n",
      "found : 3450\n",
      "found : 3500\n",
      "found : 3550\n",
      "found : 3600\n",
      "found : 3650\n",
      "found : 3700\n",
      "found : 3750\n",
      "found : 3800\n",
      "found : 3850\n",
      "found : 3900\n",
      "found : 3950\n",
      "found : 4000\n",
      "found : 4050\n",
      "found : 4100\n",
      "found : 4150\n",
      "found : 4200\n",
      "image not found for 634660,\n",
      "found : 4250\n",
      "found : 4300\n",
      "found : 4350\n",
      "found : 4400\n",
      "found : 4450\n",
      "found : 4500\n",
      "found : 4550\n",
      "found : 4600\n",
      "found : 4650\n",
      "found : 4700\n",
      "found : 4750\n",
      "found : 4800\n",
      "found : 4850\n",
      "found : 4900\n",
      "found : 4950\n",
      "found : 5000\n",
      "found : 5050\n",
      "found : 5100\n",
      "found : 5150\n",
      "found : 5200\n",
      "found : 5250\n",
      "found : 5300\n",
      "found : 5350\n",
      "found : 5400\n",
      "found : 5450\n",
      "found : 5500\n",
      "found : 5550\n",
      "found : 5600\n",
      "found : 5650\n",
      "found : 5700\n",
      "found : 5750\n",
      "found : 5800\n",
      "found : 5850\n",
      "found : 5900\n",
      "found : 5950\n",
      "found : 6000\n",
      "found : 6050\n",
      "found : 6100\n",
      "found : 6150\n",
      "found : 6200\n",
      "found : 6250\n",
      "found : 6300\n",
      "found : 6350\n",
      "found : 6400\n",
      "found : 6450\n",
      "found : 6500\n",
      "found : 6550\n",
      "found : 6600\n",
      "found : 6650\n",
      "found : 6700\n",
      "found : 6750\n",
      "found : 6800\n",
      "found : 6850\n",
      "image not found for 4572267,\n",
      "found : 6900\n",
      "found : 6950\n",
      "found : 7000\n",
      "found : 7050\n",
      "found : 7100\n",
      "found : 7150\n",
      "found : 7200\n",
      "found : 7250\n",
      "found : 7300\n",
      "found : 7350\n",
      "found : 7400\n",
      "found : 7450\n",
      "found : 7500\n",
      "found : 7550\n",
      "found : 7600\n",
      "found : 7650\n",
      "found : 7700\n",
      "found : 7750\n",
      "found : 7800\n"
     ]
    },
    {
     "name": "stdout",
     "output_type": "stream",
     "text": [
      "found : 7850\n",
      "found : 7900\n",
      "found : 7950\n",
      "found : 8000\n",
      "found : 8050\n",
      "found : 8100\n",
      "found : 8150\n",
      "found : 8200\n",
      "found : 8250\n",
      "found : 8300\n",
      "found : 8350\n",
      "found : 8400\n",
      "found : 8450\n",
      "found : 8500\n",
      "found : 8550\n",
      "found : 8600\n",
      "found : 8650\n",
      "found : 8700\n",
      "found : 8750\n",
      "found : 8800\n",
      "found : 8850\n",
      "found : 8900\n",
      "found : 8950\n",
      "found : 9000\n",
      "found : 9050\n",
      "found : 9100\n",
      "found : 9150\n",
      "found : 9200\n",
      "found : 9250\n",
      "found : 9300\n",
      "found : 9350\n",
      "found : 9400\n",
      "found : 9450\n",
      "found : 9500\n",
      "found : 9550\n",
      "found : 9600\n",
      "found : 9650\n",
      "found : 9700\n",
      "found : 9750\n",
      "found : 9800\n",
      "found : 9850\n",
      "found : 9900\n",
      "found : 9950\n",
      "found : 10000\n",
      "found : 10050\n",
      "found : 10100\n",
      "found : 10150\n",
      "found : 10200\n",
      "found : 10250\n",
      "found : 10300\n",
      "found : 10350\n",
      "found : 10400\n",
      "found : 10450\n",
      "found : 10500\n",
      "found : 10550\n",
      "found : 10600\n",
      "found : 10650\n",
      "found : 10700\n"
     ]
    }
   ],
   "source": [
    "# code to get images using function\n",
    "\n",
    "driver = webdriver.Chrome()\n",
    "initial_gr_signin(driver)\n",
    "# found = 0 \n",
    "# still_no_img = []\n",
    "skipped = 0\n",
    "\n",
    "for idx, gr_id in no_img_id:\n",
    "    if df1.iloc[idx].img != '' and type(df1.iloc[idx].img) != float:\n",
    "        if skipped % 50 == 0:\n",
    "            print (f'skipped : {skipped}')\n",
    "        skipped +=1\n",
    "        continue\n",
    "    \n",
    "    driver.get(f\"https://www.goodreads.com/book/show/{gr_id}\")\n",
    "    \n",
    "    img_src = get_imgs(driver)\n",
    "    df1.loc[idx,'img'] = img_src\n",
    "    \n",
    "    if type(img_src) == float:\n",
    "        print(f'image not found for {gr_id},')\n",
    "        still_no_img.append((idx, gr_id))\n",
    "    else:\n",
    "        found += 1\n",
    "    if found % 50 == 0 and found != 0 :\n",
    "        print (f'found : {found}')\n",
    "        \n",
    "        # save updated dataframe, image list and found\n",
    "        df1.to_csv('goodread_img1.csv')\n"
   ]
  },
  {
   "cell_type": "code",
   "execution_count": 37,
   "metadata": {},
   "outputs": [],
   "source": [
    "# final save with images (211 missing by the end)\n",
    "df1.to_csv('goodread_img1.csv')"
   ]
  },
  {
   "cell_type": "markdown",
   "metadata": {},
   "source": [
    "## Missing Description"
   ]
  },
  {
   "cell_type": "markdown",
   "metadata": {},
   "source": [
    "Find where description is missing"
   ]
  },
  {
   "cell_type": "code",
   "execution_count": 5,
   "metadata": {},
   "outputs": [],
   "source": [
    "no_description = []\n",
    "for idx, row in df1[df1.description == ' '].iterrows():\n",
    "    no_description.append((idx, row.id))\n"
   ]
  },
  {
   "cell_type": "code",
   "execution_count": 14,
   "metadata": {},
   "outputs": [
    {
     "data": {
      "text/plain": [
       "(156, 5840903)"
      ]
     },
     "execution_count": 14,
     "metadata": {},
     "output_type": "execute_result"
    }
   ],
   "source": [
    "no_description[110]"
   ]
  },
  {
   "cell_type": "code",
   "execution_count": 18,
   "metadata": {
    "collapsed": true
   },
   "outputs": [
    {
     "name": "stdout",
     "output_type": "stream",
     "text": [
      "When Jack receives a book on insects for his birthday, Maggie wishes one could get \"into\" a book. And so they do, experiencing adventures with insects of all sorts as they \"travel\" through the book. Along the way they encounter a butterfly with a grievance, extraordinary caterpillars, a hungry spider, a distinguished musician (a katydid), as well as fireflies, locusts, grasshoppers, wasps, bees, and more. The author, Edmund Selous, a lifelong observer of wildlife, produced books about animals for both children and adults. In his books for children, Selous conveys an amazing amount of information about animals through the conversations his youthful protagonists have with the animals they encounter. Each animal is brought to life so vividly through the story that the reader unconsciously absorbs the details of its existence: its physical characteristics, its habits and preferences, and its interactions with other animals.\n",
      " When Jack receives a book on insects for his birthday, Maggie wishes one could get \"into\" a book. And so they do, experiencing adventures with insects of all sorts as they \"travel\" through the book. Along the way they encounter a butterfly with a grievance, extraordinary caterpillars, a hungry spider, a distinguished musician (a katydid), as well as fireflies, locusts, grasshoppers, wasps, bees, and more. The author, Edmund Selous, a lifelong observer of wildlife, produced books about animals for both children and adults. In his books for children, Selous conveys an amazing amount of information about animals through the conversations his youthful protagonists have with the animals they encounter. Each animal is brought to life so vividly through the story that the reader unconsciously absorbs the details of its existence: its physical characteristics, its habits and preferences, and its interactions with other animals. False\n"
     ]
    }
   ],
   "source": [
    "# testing get_description on individual site\n",
    "\n",
    "\n",
    "driver = webdriver.Chrome()\n",
    "initial_gr_signin(driver)\n",
    "driver.get('https://www.goodreads.com/book/show/5840903')\n",
    "descrip = ''\n",
    "\n",
    "# more = driver.find_elements_by_xpath('//*[@id=\"description\"]/a')\n",
    "# try:\n",
    "#     # handling errors to do with an extended description\n",
    "#     more[0].click()\n",
    "#     try:\n",
    "#         describe = driver.find_element_by_id('description').text[:-7].strip()\n",
    "#         descrip = ' '.join(describe.split('\\n'))\n",
    "#     except:\n",
    "#         descrip = np.nan\n",
    "\n",
    "# except:\n",
    "#     try:\n",
    "#         describe = driver.find_element_by_id('description').text[:-7].strip()\n",
    "#         descrip = ' '.join(describe.split('\\n'))\n",
    "#     except:\n",
    "#         descrip = np.nan\n",
    "\n",
    "description = get_description(driver)\n",
    "print (description)\n",
    "# print(descrip, description, descrip == description)\n"
   ]
  },
  {
   "cell_type": "code",
   "execution_count": 22,
   "metadata": {},
   "outputs": [],
   "source": [
    "df1.to_csv('goodread_des1.csv')"
   ]
  },
  {
   "cell_type": "code",
   "execution_count": 27,
   "metadata": {},
   "outputs": [
    {
     "name": "stdout",
     "output_type": "stream",
     "text": [
      "2605 15819761\n"
     ]
    }
   ],
   "source": [
    "count = 1\n",
    "for i, ig in no_description:\n",
    "    if count == 2447:\n",
    "        print (i, ig)\n",
    "    count += 1"
   ]
  },
  {
   "cell_type": "code",
   "execution_count": 21,
   "metadata": {
    "collapsed": true
   },
   "outputs": [
    {
     "name": "stdout",
     "output_type": "stream",
     "text": [
      "description not found for 6480591,\n",
      "description not found for 483583,\n",
      "found : 50\n",
      "found : 100\n",
      "description not found for 2567639,\n",
      "description not found for 6651170,\n",
      "description not found for 3245210,\n",
      "description not found for 1585444,\n",
      "description not found for 2737795,\n",
      "description not found for 6525886,\n",
      "description not found for 2270839,\n",
      "description not found for 3770082,\n",
      "found : 150\n",
      "description not found for 2727141,\n",
      "found : 200\n",
      "description not found for 107358,\n",
      "description not found for 7705411,\n",
      "description not found for 5263927,\n",
      "description not found for 1346496,\n",
      "description not found for 2154455,\n",
      "found : 250\n",
      "description not found for 1003199,\n",
      "found : 250\n",
      "description not found for 1333884,\n",
      "description not found for 782909,\n",
      "description not found for 2435094,\n",
      "description not found for 2200868,\n",
      "description not found for 6830705,\n",
      "description not found for 1427509,\n",
      "description not found for 3891281,\n",
      "description not found for 2348468,\n",
      "found : 300\n",
      "found : 350\n",
      "found : 400\n",
      "found : 450\n",
      "description not found for 3295965,\n",
      "description not found for 2342922,\n",
      "found : 500\n",
      "description not found for 1474783,\n",
      "description not found for 2391485,\n",
      "description not found for 295529,\n",
      "description not found for 1892010,\n",
      "found : 550\n",
      "description not found for 575837,\n",
      "found : 600\n",
      "description not found for 752754,\n",
      "description not found for 9742914,\n",
      "found : 650\n",
      "description not found for 2251777,\n",
      "found : 700\n",
      "found : 750\n",
      "description not found for 4891408,\n",
      "description not found for 7615724,\n",
      "description not found for 4439260,\n",
      "description not found for 6630210,\n",
      "found : 800\n",
      "description not found for 3411088,\n",
      "found : 850\n",
      "description not found for 6413195,\n",
      "description not found for 363773,\n",
      "description not found for 859638,\n",
      "found : 900\n",
      "description not found for 2334282,\n",
      "description not found for 1863458,\n",
      "found : 950\n",
      "description not found for 21437501,\n",
      "description not found for 26947,\n",
      "description not found for 964187,\n",
      "found : 1000\n",
      "description not found for 596810,\n",
      "description not found for 11554621,\n",
      "description not found for 1862884,\n",
      "found : 1050\n",
      "description not found for 1970467,\n",
      "description not found for 161626,\n",
      "description not found for 2650942,\n",
      "description not found for 12836915,\n",
      "found : 1100\n",
      "description not found for 10213829,\n",
      "description not found for 3407835,\n",
      "found : 1150\n",
      "description not found for 2020388,\n",
      "found : 1200\n",
      "description not found for 15718070,\n",
      "found : 1250\n",
      "description not found for 18490060,\n",
      "found : 1300\n",
      "description not found for 1323360,\n",
      "description not found for 1740617,\n",
      "description not found for 1522991,\n",
      "description not found for 13434263,\n",
      "found : 1350\n",
      "description not found for 256330,\n",
      "found : 1400\n",
      "description not found for 571039,\n",
      "found : 1400\n",
      "found : 1450\n",
      "description not found for 2504418,\n",
      "found : 1500\n",
      "description not found for 2664281,\n",
      "description not found for 28190831,\n",
      "description not found for 19458535,\n",
      "description not found for 3909654,\n",
      "description not found for 80176,\n",
      "description not found for 52042,\n",
      "found : 1550\n",
      "found : 1600\n",
      "description not found for 11080209,\n",
      "description not found for 10083786,\n",
      "description not found for 11013513,\n",
      "description not found for 16101587,\n",
      "description not found for 2980218,\n",
      "found : 1650\n",
      "description not found for 935852,\n",
      "found : 1650\n",
      "description not found for 11696786,\n",
      "description not found for 13356016,\n",
      "description not found for 16071211,\n",
      "description not found for 2331287,\n",
      "description not found for 15720455,\n",
      "found : 1700\n",
      "description not found for 24789962,\n",
      "found : 1700\n",
      "description not found for 22094293,\n",
      "description not found for 597222,\n",
      "found : 1750\n",
      "found : 1800\n",
      "description not found for 17801701,\n",
      "found : 1850\n",
      "description not found for 887956,\n",
      "description not found for 910128,\n",
      "found : 1900\n",
      "found : 1950\n",
      "description not found for 2867522,\n",
      "description not found for 18846286,\n",
      "found : 2000\n",
      "found : 2050\n",
      "description not found for 12548267,\n",
      "description not found for 13444934,\n",
      "description not found for 6566531,\n",
      "description not found for 3030513,\n",
      "description not found for 1952579,\n",
      "found : 2100\n",
      "description not found for 636802,\n",
      "found : 2150\n",
      "description not found for 13646554,\n",
      "found : 2200\n",
      "description not found for 13498464,\n",
      "description not found for 15841674,\n",
      "found : 2250\n",
      "description not found for 1352798,\n",
      "found : 2300\n",
      "description not found for 5862870,\n",
      "description not found for 11079151,\n",
      "description not found for 9276515,\n",
      "description not found for 3917009,\n",
      "found : 2350\n",
      "description not found for 6499394,\n",
      "description not found for 7542715,\n",
      "description not found for 18816934,\n",
      "description not found for 11886346,\n",
      "found : 2400\n",
      "description not found for 11858172,\n",
      "description not found for 4252335,\n",
      "description not found for 1598196,\n",
      "description not found for 840423,\n",
      "description not found for 11289180,\n",
      "description not found for 9523331,\n"
     ]
    },
    {
     "ename": "KeyboardInterrupt",
     "evalue": "",
     "output_type": "error",
     "traceback": [
      "\u001b[0;31m---------------------------------------------------------------------------\u001b[0m",
      "\u001b[0;31mTypeError\u001b[0m                                 Traceback (most recent call last)",
      "\u001b[0;32m//anaconda3/lib/python3.7/site-packages/urllib3/connectionpool.py\u001b[0m in \u001b[0;36m_make_request\u001b[0;34m(self, conn, method, url, timeout, chunked, **httplib_request_kw)\u001b[0m\n\u001b[1;32m    376\u001b[0m             \u001b[0;32mtry\u001b[0m\u001b[0;34m:\u001b[0m  \u001b[0;31m# Python 2.7, use buffering of HTTP responses\u001b[0m\u001b[0;34m\u001b[0m\u001b[0;34m\u001b[0m\u001b[0m\n\u001b[0;32m--> 377\u001b[0;31m                 \u001b[0mhttplib_response\u001b[0m \u001b[0;34m=\u001b[0m \u001b[0mconn\u001b[0m\u001b[0;34m.\u001b[0m\u001b[0mgetresponse\u001b[0m\u001b[0;34m(\u001b[0m\u001b[0mbuffering\u001b[0m\u001b[0;34m=\u001b[0m\u001b[0;32mTrue\u001b[0m\u001b[0;34m)\u001b[0m\u001b[0;34m\u001b[0m\u001b[0;34m\u001b[0m\u001b[0m\n\u001b[0m\u001b[1;32m    378\u001b[0m             \u001b[0;32mexcept\u001b[0m \u001b[0mTypeError\u001b[0m\u001b[0;34m:\u001b[0m  \u001b[0;31m# Python 3\u001b[0m\u001b[0;34m\u001b[0m\u001b[0;34m\u001b[0m\u001b[0m\n",
      "\u001b[0;31mTypeError\u001b[0m: getresponse() got an unexpected keyword argument 'buffering'",
      "\nDuring handling of the above exception, another exception occurred:\n",
      "\u001b[0;31mKeyboardInterrupt\u001b[0m                         Traceback (most recent call last)",
      "\u001b[0;32m<ipython-input-21-84c647515472>\u001b[0m in \u001b[0;36m<module>\u001b[0;34m\u001b[0m\n\u001b[1;32m     11\u001b[0m         \u001b[0;32mcontinue\u001b[0m\u001b[0;34m\u001b[0m\u001b[0;34m\u001b[0m\u001b[0m\n\u001b[1;32m     12\u001b[0m \u001b[0;34m\u001b[0m\u001b[0m\n\u001b[0;32m---> 13\u001b[0;31m     \u001b[0mdriver\u001b[0m\u001b[0;34m.\u001b[0m\u001b[0mget\u001b[0m\u001b[0;34m(\u001b[0m\u001b[0;34mf\"https://www.goodreads.com/book/show/{gr_id}\"\u001b[0m\u001b[0;34m)\u001b[0m\u001b[0;34m\u001b[0m\u001b[0;34m\u001b[0m\u001b[0m\n\u001b[0m\u001b[1;32m     14\u001b[0m \u001b[0;34m\u001b[0m\u001b[0m\n\u001b[1;32m     15\u001b[0m     \u001b[0mdescription\u001b[0m \u001b[0;34m=\u001b[0m \u001b[0mget_description\u001b[0m\u001b[0;34m(\u001b[0m\u001b[0mdriver\u001b[0m\u001b[0;34m)\u001b[0m\u001b[0;34m\u001b[0m\u001b[0;34m\u001b[0m\u001b[0m\n",
      "\u001b[0;32m//anaconda3/lib/python3.7/site-packages/selenium/webdriver/remote/webdriver.py\u001b[0m in \u001b[0;36mget\u001b[0;34m(self, url)\u001b[0m\n\u001b[1;32m    331\u001b[0m         \u001b[0mLoads\u001b[0m \u001b[0ma\u001b[0m \u001b[0mweb\u001b[0m \u001b[0mpage\u001b[0m \u001b[0;32min\u001b[0m \u001b[0mthe\u001b[0m \u001b[0mcurrent\u001b[0m \u001b[0mbrowser\u001b[0m \u001b[0msession\u001b[0m\u001b[0;34m.\u001b[0m\u001b[0;34m\u001b[0m\u001b[0;34m\u001b[0m\u001b[0m\n\u001b[1;32m    332\u001b[0m         \"\"\"\n\u001b[0;32m--> 333\u001b[0;31m         \u001b[0mself\u001b[0m\u001b[0;34m.\u001b[0m\u001b[0mexecute\u001b[0m\u001b[0;34m(\u001b[0m\u001b[0mCommand\u001b[0m\u001b[0;34m.\u001b[0m\u001b[0mGET\u001b[0m\u001b[0;34m,\u001b[0m \u001b[0;34m{\u001b[0m\u001b[0;34m'url'\u001b[0m\u001b[0;34m:\u001b[0m \u001b[0murl\u001b[0m\u001b[0;34m}\u001b[0m\u001b[0;34m)\u001b[0m\u001b[0;34m\u001b[0m\u001b[0;34m\u001b[0m\u001b[0m\n\u001b[0m\u001b[1;32m    334\u001b[0m \u001b[0;34m\u001b[0m\u001b[0m\n\u001b[1;32m    335\u001b[0m     \u001b[0;34m@\u001b[0m\u001b[0mproperty\u001b[0m\u001b[0;34m\u001b[0m\u001b[0;34m\u001b[0m\u001b[0m\n",
      "\u001b[0;32m//anaconda3/lib/python3.7/site-packages/selenium/webdriver/remote/webdriver.py\u001b[0m in \u001b[0;36mexecute\u001b[0;34m(self, driver_command, params)\u001b[0m\n\u001b[1;32m    317\u001b[0m \u001b[0;34m\u001b[0m\u001b[0m\n\u001b[1;32m    318\u001b[0m         \u001b[0mparams\u001b[0m \u001b[0;34m=\u001b[0m \u001b[0mself\u001b[0m\u001b[0;34m.\u001b[0m\u001b[0m_wrap_value\u001b[0m\u001b[0;34m(\u001b[0m\u001b[0mparams\u001b[0m\u001b[0;34m)\u001b[0m\u001b[0;34m\u001b[0m\u001b[0;34m\u001b[0m\u001b[0m\n\u001b[0;32m--> 319\u001b[0;31m         \u001b[0mresponse\u001b[0m \u001b[0;34m=\u001b[0m \u001b[0mself\u001b[0m\u001b[0;34m.\u001b[0m\u001b[0mcommand_executor\u001b[0m\u001b[0;34m.\u001b[0m\u001b[0mexecute\u001b[0m\u001b[0;34m(\u001b[0m\u001b[0mdriver_command\u001b[0m\u001b[0;34m,\u001b[0m \u001b[0mparams\u001b[0m\u001b[0;34m)\u001b[0m\u001b[0;34m\u001b[0m\u001b[0;34m\u001b[0m\u001b[0m\n\u001b[0m\u001b[1;32m    320\u001b[0m         \u001b[0;32mif\u001b[0m \u001b[0mresponse\u001b[0m\u001b[0;34m:\u001b[0m\u001b[0;34m\u001b[0m\u001b[0;34m\u001b[0m\u001b[0m\n\u001b[1;32m    321\u001b[0m             \u001b[0mself\u001b[0m\u001b[0;34m.\u001b[0m\u001b[0merror_handler\u001b[0m\u001b[0;34m.\u001b[0m\u001b[0mcheck_response\u001b[0m\u001b[0;34m(\u001b[0m\u001b[0mresponse\u001b[0m\u001b[0;34m)\u001b[0m\u001b[0;34m\u001b[0m\u001b[0;34m\u001b[0m\u001b[0m\n",
      "\u001b[0;32m//anaconda3/lib/python3.7/site-packages/selenium/webdriver/remote/remote_connection.py\u001b[0m in \u001b[0;36mexecute\u001b[0;34m(self, command, params)\u001b[0m\n\u001b[1;32m    372\u001b[0m         \u001b[0mdata\u001b[0m \u001b[0;34m=\u001b[0m \u001b[0mutils\u001b[0m\u001b[0;34m.\u001b[0m\u001b[0mdump_json\u001b[0m\u001b[0;34m(\u001b[0m\u001b[0mparams\u001b[0m\u001b[0;34m)\u001b[0m\u001b[0;34m\u001b[0m\u001b[0;34m\u001b[0m\u001b[0m\n\u001b[1;32m    373\u001b[0m         \u001b[0murl\u001b[0m \u001b[0;34m=\u001b[0m \u001b[0;34m'%s%s'\u001b[0m \u001b[0;34m%\u001b[0m \u001b[0;34m(\u001b[0m\u001b[0mself\u001b[0m\u001b[0;34m.\u001b[0m\u001b[0m_url\u001b[0m\u001b[0;34m,\u001b[0m \u001b[0mpath\u001b[0m\u001b[0;34m)\u001b[0m\u001b[0;34m\u001b[0m\u001b[0;34m\u001b[0m\u001b[0m\n\u001b[0;32m--> 374\u001b[0;31m         \u001b[0;32mreturn\u001b[0m \u001b[0mself\u001b[0m\u001b[0;34m.\u001b[0m\u001b[0m_request\u001b[0m\u001b[0;34m(\u001b[0m\u001b[0mcommand_info\u001b[0m\u001b[0;34m[\u001b[0m\u001b[0;36m0\u001b[0m\u001b[0;34m]\u001b[0m\u001b[0;34m,\u001b[0m \u001b[0murl\u001b[0m\u001b[0;34m,\u001b[0m \u001b[0mbody\u001b[0m\u001b[0;34m=\u001b[0m\u001b[0mdata\u001b[0m\u001b[0;34m)\u001b[0m\u001b[0;34m\u001b[0m\u001b[0;34m\u001b[0m\u001b[0m\n\u001b[0m\u001b[1;32m    375\u001b[0m \u001b[0;34m\u001b[0m\u001b[0m\n\u001b[1;32m    376\u001b[0m     \u001b[0;32mdef\u001b[0m \u001b[0m_request\u001b[0m\u001b[0;34m(\u001b[0m\u001b[0mself\u001b[0m\u001b[0;34m,\u001b[0m \u001b[0mmethod\u001b[0m\u001b[0;34m,\u001b[0m \u001b[0murl\u001b[0m\u001b[0;34m,\u001b[0m \u001b[0mbody\u001b[0m\u001b[0;34m=\u001b[0m\u001b[0;32mNone\u001b[0m\u001b[0;34m)\u001b[0m\u001b[0;34m:\u001b[0m\u001b[0;34m\u001b[0m\u001b[0;34m\u001b[0m\u001b[0m\n",
      "\u001b[0;32m//anaconda3/lib/python3.7/site-packages/selenium/webdriver/remote/remote_connection.py\u001b[0m in \u001b[0;36m_request\u001b[0;34m(self, method, url, body)\u001b[0m\n\u001b[1;32m    395\u001b[0m \u001b[0;34m\u001b[0m\u001b[0m\n\u001b[1;32m    396\u001b[0m         \u001b[0;32mif\u001b[0m \u001b[0mself\u001b[0m\u001b[0;34m.\u001b[0m\u001b[0mkeep_alive\u001b[0m\u001b[0;34m:\u001b[0m\u001b[0;34m\u001b[0m\u001b[0;34m\u001b[0m\u001b[0m\n\u001b[0;32m--> 397\u001b[0;31m             \u001b[0mresp\u001b[0m \u001b[0;34m=\u001b[0m \u001b[0mself\u001b[0m\u001b[0;34m.\u001b[0m\u001b[0m_conn\u001b[0m\u001b[0;34m.\u001b[0m\u001b[0mrequest\u001b[0m\u001b[0;34m(\u001b[0m\u001b[0mmethod\u001b[0m\u001b[0;34m,\u001b[0m \u001b[0murl\u001b[0m\u001b[0;34m,\u001b[0m \u001b[0mbody\u001b[0m\u001b[0;34m=\u001b[0m\u001b[0mbody\u001b[0m\u001b[0;34m,\u001b[0m \u001b[0mheaders\u001b[0m\u001b[0;34m=\u001b[0m\u001b[0mheaders\u001b[0m\u001b[0;34m)\u001b[0m\u001b[0;34m\u001b[0m\u001b[0;34m\u001b[0m\u001b[0m\n\u001b[0m\u001b[1;32m    398\u001b[0m \u001b[0;34m\u001b[0m\u001b[0m\n\u001b[1;32m    399\u001b[0m             \u001b[0mstatuscode\u001b[0m \u001b[0;34m=\u001b[0m \u001b[0mresp\u001b[0m\u001b[0;34m.\u001b[0m\u001b[0mstatus\u001b[0m\u001b[0;34m\u001b[0m\u001b[0;34m\u001b[0m\u001b[0m\n",
      "\u001b[0;32m//anaconda3/lib/python3.7/site-packages/urllib3/request.py\u001b[0m in \u001b[0;36mrequest\u001b[0;34m(self, method, url, fields, headers, **urlopen_kw)\u001b[0m\n\u001b[1;32m     70\u001b[0m             return self.request_encode_body(method, url, fields=fields,\n\u001b[1;32m     71\u001b[0m                                             \u001b[0mheaders\u001b[0m\u001b[0;34m=\u001b[0m\u001b[0mheaders\u001b[0m\u001b[0;34m,\u001b[0m\u001b[0;34m\u001b[0m\u001b[0;34m\u001b[0m\u001b[0m\n\u001b[0;32m---> 72\u001b[0;31m                                             **urlopen_kw)\n\u001b[0m\u001b[1;32m     73\u001b[0m \u001b[0;34m\u001b[0m\u001b[0m\n\u001b[1;32m     74\u001b[0m     def request_encode_url(self, method, url, fields=None, headers=None,\n",
      "\u001b[0;32m//anaconda3/lib/python3.7/site-packages/urllib3/request.py\u001b[0m in \u001b[0;36mrequest_encode_body\u001b[0;34m(self, method, url, fields, headers, encode_multipart, multipart_boundary, **urlopen_kw)\u001b[0m\n\u001b[1;32m    148\u001b[0m         \u001b[0mextra_kw\u001b[0m\u001b[0;34m.\u001b[0m\u001b[0mupdate\u001b[0m\u001b[0;34m(\u001b[0m\u001b[0murlopen_kw\u001b[0m\u001b[0;34m)\u001b[0m\u001b[0;34m\u001b[0m\u001b[0;34m\u001b[0m\u001b[0m\n\u001b[1;32m    149\u001b[0m \u001b[0;34m\u001b[0m\u001b[0m\n\u001b[0;32m--> 150\u001b[0;31m         \u001b[0;32mreturn\u001b[0m \u001b[0mself\u001b[0m\u001b[0;34m.\u001b[0m\u001b[0murlopen\u001b[0m\u001b[0;34m(\u001b[0m\u001b[0mmethod\u001b[0m\u001b[0;34m,\u001b[0m \u001b[0murl\u001b[0m\u001b[0;34m,\u001b[0m \u001b[0;34m**\u001b[0m\u001b[0mextra_kw\u001b[0m\u001b[0;34m)\u001b[0m\u001b[0;34m\u001b[0m\u001b[0;34m\u001b[0m\u001b[0m\n\u001b[0m",
      "\u001b[0;32m//anaconda3/lib/python3.7/site-packages/urllib3/poolmanager.py\u001b[0m in \u001b[0;36murlopen\u001b[0;34m(self, method, url, redirect, **kw)\u001b[0m\n\u001b[1;32m    322\u001b[0m             \u001b[0mresponse\u001b[0m \u001b[0;34m=\u001b[0m \u001b[0mconn\u001b[0m\u001b[0;34m.\u001b[0m\u001b[0murlopen\u001b[0m\u001b[0;34m(\u001b[0m\u001b[0mmethod\u001b[0m\u001b[0;34m,\u001b[0m \u001b[0murl\u001b[0m\u001b[0;34m,\u001b[0m \u001b[0;34m**\u001b[0m\u001b[0mkw\u001b[0m\u001b[0;34m)\u001b[0m\u001b[0;34m\u001b[0m\u001b[0;34m\u001b[0m\u001b[0m\n\u001b[1;32m    323\u001b[0m         \u001b[0;32melse\u001b[0m\u001b[0;34m:\u001b[0m\u001b[0;34m\u001b[0m\u001b[0;34m\u001b[0m\u001b[0m\n\u001b[0;32m--> 324\u001b[0;31m             \u001b[0mresponse\u001b[0m \u001b[0;34m=\u001b[0m \u001b[0mconn\u001b[0m\u001b[0;34m.\u001b[0m\u001b[0murlopen\u001b[0m\u001b[0;34m(\u001b[0m\u001b[0mmethod\u001b[0m\u001b[0;34m,\u001b[0m \u001b[0mu\u001b[0m\u001b[0;34m.\u001b[0m\u001b[0mrequest_uri\u001b[0m\u001b[0;34m,\u001b[0m \u001b[0;34m**\u001b[0m\u001b[0mkw\u001b[0m\u001b[0;34m)\u001b[0m\u001b[0;34m\u001b[0m\u001b[0;34m\u001b[0m\u001b[0m\n\u001b[0m\u001b[1;32m    325\u001b[0m \u001b[0;34m\u001b[0m\u001b[0m\n\u001b[1;32m    326\u001b[0m         \u001b[0mredirect_location\u001b[0m \u001b[0;34m=\u001b[0m \u001b[0mredirect\u001b[0m \u001b[0;32mand\u001b[0m \u001b[0mresponse\u001b[0m\u001b[0;34m.\u001b[0m\u001b[0mget_redirect_location\u001b[0m\u001b[0;34m(\u001b[0m\u001b[0;34m)\u001b[0m\u001b[0;34m\u001b[0m\u001b[0;34m\u001b[0m\u001b[0m\n",
      "\u001b[0;32m//anaconda3/lib/python3.7/site-packages/urllib3/connectionpool.py\u001b[0m in \u001b[0;36murlopen\u001b[0;34m(self, method, url, body, headers, retries, redirect, assert_same_host, timeout, pool_timeout, release_conn, chunked, body_pos, **response_kw)\u001b[0m\n\u001b[1;32m    598\u001b[0m                                                   \u001b[0mtimeout\u001b[0m\u001b[0;34m=\u001b[0m\u001b[0mtimeout_obj\u001b[0m\u001b[0;34m,\u001b[0m\u001b[0;34m\u001b[0m\u001b[0;34m\u001b[0m\u001b[0m\n\u001b[1;32m    599\u001b[0m                                                   \u001b[0mbody\u001b[0m\u001b[0;34m=\u001b[0m\u001b[0mbody\u001b[0m\u001b[0;34m,\u001b[0m \u001b[0mheaders\u001b[0m\u001b[0;34m=\u001b[0m\u001b[0mheaders\u001b[0m\u001b[0;34m,\u001b[0m\u001b[0;34m\u001b[0m\u001b[0;34m\u001b[0m\u001b[0m\n\u001b[0;32m--> 600\u001b[0;31m                                                   chunked=chunked)\n\u001b[0m\u001b[1;32m    601\u001b[0m \u001b[0;34m\u001b[0m\u001b[0m\n\u001b[1;32m    602\u001b[0m             \u001b[0;31m# If we're going to release the connection in ``finally:``, then\u001b[0m\u001b[0;34m\u001b[0m\u001b[0;34m\u001b[0m\u001b[0;34m\u001b[0m\u001b[0m\n",
      "\u001b[0;32m//anaconda3/lib/python3.7/site-packages/urllib3/connectionpool.py\u001b[0m in \u001b[0;36m_make_request\u001b[0;34m(self, conn, method, url, timeout, chunked, **httplib_request_kw)\u001b[0m\n\u001b[1;32m    378\u001b[0m             \u001b[0;32mexcept\u001b[0m \u001b[0mTypeError\u001b[0m\u001b[0;34m:\u001b[0m  \u001b[0;31m# Python 3\u001b[0m\u001b[0;34m\u001b[0m\u001b[0;34m\u001b[0m\u001b[0m\n\u001b[1;32m    379\u001b[0m                 \u001b[0;32mtry\u001b[0m\u001b[0;34m:\u001b[0m\u001b[0;34m\u001b[0m\u001b[0;34m\u001b[0m\u001b[0m\n\u001b[0;32m--> 380\u001b[0;31m                     \u001b[0mhttplib_response\u001b[0m \u001b[0;34m=\u001b[0m \u001b[0mconn\u001b[0m\u001b[0;34m.\u001b[0m\u001b[0mgetresponse\u001b[0m\u001b[0;34m(\u001b[0m\u001b[0;34m)\u001b[0m\u001b[0;34m\u001b[0m\u001b[0;34m\u001b[0m\u001b[0m\n\u001b[0m\u001b[1;32m    381\u001b[0m                 \u001b[0;32mexcept\u001b[0m \u001b[0mException\u001b[0m \u001b[0;32mas\u001b[0m \u001b[0me\u001b[0m\u001b[0;34m:\u001b[0m\u001b[0;34m\u001b[0m\u001b[0;34m\u001b[0m\u001b[0m\n\u001b[1;32m    382\u001b[0m                     \u001b[0;31m# Remove the TypeError from the exception chain in Python 3;\u001b[0m\u001b[0;34m\u001b[0m\u001b[0;34m\u001b[0m\u001b[0;34m\u001b[0m\u001b[0m\n",
      "\u001b[0;32m//anaconda3/lib/python3.7/http/client.py\u001b[0m in \u001b[0;36mgetresponse\u001b[0;34m(self)\u001b[0m\n\u001b[1;32m   1319\u001b[0m         \u001b[0;32mtry\u001b[0m\u001b[0;34m:\u001b[0m\u001b[0;34m\u001b[0m\u001b[0;34m\u001b[0m\u001b[0m\n\u001b[1;32m   1320\u001b[0m             \u001b[0;32mtry\u001b[0m\u001b[0;34m:\u001b[0m\u001b[0;34m\u001b[0m\u001b[0;34m\u001b[0m\u001b[0m\n\u001b[0;32m-> 1321\u001b[0;31m                 \u001b[0mresponse\u001b[0m\u001b[0;34m.\u001b[0m\u001b[0mbegin\u001b[0m\u001b[0;34m(\u001b[0m\u001b[0;34m)\u001b[0m\u001b[0;34m\u001b[0m\u001b[0;34m\u001b[0m\u001b[0m\n\u001b[0m\u001b[1;32m   1322\u001b[0m             \u001b[0;32mexcept\u001b[0m \u001b[0mConnectionError\u001b[0m\u001b[0;34m:\u001b[0m\u001b[0;34m\u001b[0m\u001b[0;34m\u001b[0m\u001b[0m\n\u001b[1;32m   1323\u001b[0m                 \u001b[0mself\u001b[0m\u001b[0;34m.\u001b[0m\u001b[0mclose\u001b[0m\u001b[0;34m(\u001b[0m\u001b[0;34m)\u001b[0m\u001b[0;34m\u001b[0m\u001b[0;34m\u001b[0m\u001b[0m\n",
      "\u001b[0;32m//anaconda3/lib/python3.7/http/client.py\u001b[0m in \u001b[0;36mbegin\u001b[0;34m(self)\u001b[0m\n\u001b[1;32m    294\u001b[0m         \u001b[0;31m# read until we get a non-100 response\u001b[0m\u001b[0;34m\u001b[0m\u001b[0;34m\u001b[0m\u001b[0;34m\u001b[0m\u001b[0m\n\u001b[1;32m    295\u001b[0m         \u001b[0;32mwhile\u001b[0m \u001b[0;32mTrue\u001b[0m\u001b[0;34m:\u001b[0m\u001b[0;34m\u001b[0m\u001b[0;34m\u001b[0m\u001b[0m\n\u001b[0;32m--> 296\u001b[0;31m             \u001b[0mversion\u001b[0m\u001b[0;34m,\u001b[0m \u001b[0mstatus\u001b[0m\u001b[0;34m,\u001b[0m \u001b[0mreason\u001b[0m \u001b[0;34m=\u001b[0m \u001b[0mself\u001b[0m\u001b[0;34m.\u001b[0m\u001b[0m_read_status\u001b[0m\u001b[0;34m(\u001b[0m\u001b[0;34m)\u001b[0m\u001b[0;34m\u001b[0m\u001b[0;34m\u001b[0m\u001b[0m\n\u001b[0m\u001b[1;32m    297\u001b[0m             \u001b[0;32mif\u001b[0m \u001b[0mstatus\u001b[0m \u001b[0;34m!=\u001b[0m \u001b[0mCONTINUE\u001b[0m\u001b[0;34m:\u001b[0m\u001b[0;34m\u001b[0m\u001b[0;34m\u001b[0m\u001b[0m\n\u001b[1;32m    298\u001b[0m                 \u001b[0;32mbreak\u001b[0m\u001b[0;34m\u001b[0m\u001b[0;34m\u001b[0m\u001b[0m\n",
      "\u001b[0;32m//anaconda3/lib/python3.7/http/client.py\u001b[0m in \u001b[0;36m_read_status\u001b[0;34m(self)\u001b[0m\n\u001b[1;32m    255\u001b[0m \u001b[0;34m\u001b[0m\u001b[0m\n\u001b[1;32m    256\u001b[0m     \u001b[0;32mdef\u001b[0m \u001b[0m_read_status\u001b[0m\u001b[0;34m(\u001b[0m\u001b[0mself\u001b[0m\u001b[0;34m)\u001b[0m\u001b[0;34m:\u001b[0m\u001b[0;34m\u001b[0m\u001b[0;34m\u001b[0m\u001b[0m\n\u001b[0;32m--> 257\u001b[0;31m         \u001b[0mline\u001b[0m \u001b[0;34m=\u001b[0m \u001b[0mstr\u001b[0m\u001b[0;34m(\u001b[0m\u001b[0mself\u001b[0m\u001b[0;34m.\u001b[0m\u001b[0mfp\u001b[0m\u001b[0;34m.\u001b[0m\u001b[0mreadline\u001b[0m\u001b[0;34m(\u001b[0m\u001b[0m_MAXLINE\u001b[0m \u001b[0;34m+\u001b[0m \u001b[0;36m1\u001b[0m\u001b[0;34m)\u001b[0m\u001b[0;34m,\u001b[0m \u001b[0;34m\"iso-8859-1\"\u001b[0m\u001b[0;34m)\u001b[0m\u001b[0;34m\u001b[0m\u001b[0;34m\u001b[0m\u001b[0m\n\u001b[0m\u001b[1;32m    258\u001b[0m         \u001b[0;32mif\u001b[0m \u001b[0mlen\u001b[0m\u001b[0;34m(\u001b[0m\u001b[0mline\u001b[0m\u001b[0;34m)\u001b[0m \u001b[0;34m>\u001b[0m \u001b[0m_MAXLINE\u001b[0m\u001b[0;34m:\u001b[0m\u001b[0;34m\u001b[0m\u001b[0;34m\u001b[0m\u001b[0m\n\u001b[1;32m    259\u001b[0m             \u001b[0;32mraise\u001b[0m \u001b[0mLineTooLong\u001b[0m\u001b[0;34m(\u001b[0m\u001b[0;34m\"status line\"\u001b[0m\u001b[0;34m)\u001b[0m\u001b[0;34m\u001b[0m\u001b[0;34m\u001b[0m\u001b[0m\n",
      "\u001b[0;32m//anaconda3/lib/python3.7/socket.py\u001b[0m in \u001b[0;36mreadinto\u001b[0;34m(self, b)\u001b[0m\n\u001b[1;32m    587\u001b[0m         \u001b[0;32mwhile\u001b[0m \u001b[0;32mTrue\u001b[0m\u001b[0;34m:\u001b[0m\u001b[0;34m\u001b[0m\u001b[0;34m\u001b[0m\u001b[0m\n\u001b[1;32m    588\u001b[0m             \u001b[0;32mtry\u001b[0m\u001b[0;34m:\u001b[0m\u001b[0;34m\u001b[0m\u001b[0;34m\u001b[0m\u001b[0m\n\u001b[0;32m--> 589\u001b[0;31m                 \u001b[0;32mreturn\u001b[0m \u001b[0mself\u001b[0m\u001b[0;34m.\u001b[0m\u001b[0m_sock\u001b[0m\u001b[0;34m.\u001b[0m\u001b[0mrecv_into\u001b[0m\u001b[0;34m(\u001b[0m\u001b[0mb\u001b[0m\u001b[0;34m)\u001b[0m\u001b[0;34m\u001b[0m\u001b[0;34m\u001b[0m\u001b[0m\n\u001b[0m\u001b[1;32m    590\u001b[0m             \u001b[0;32mexcept\u001b[0m \u001b[0mtimeout\u001b[0m\u001b[0;34m:\u001b[0m\u001b[0;34m\u001b[0m\u001b[0;34m\u001b[0m\u001b[0m\n\u001b[1;32m    591\u001b[0m                 \u001b[0mself\u001b[0m\u001b[0;34m.\u001b[0m\u001b[0m_timeout_occurred\u001b[0m \u001b[0;34m=\u001b[0m \u001b[0;32mTrue\u001b[0m\u001b[0;34m\u001b[0m\u001b[0;34m\u001b[0m\u001b[0m\n",
      "\u001b[0;31mKeyboardInterrupt\u001b[0m: "
     ]
    }
   ],
   "source": [
    "# code to get description using function\n",
    "\n",
    "driver = webdriver.Chrome()\n",
    "initial_gr_signin(driver)\n",
    "found = 0 \n",
    "still_no_des = []\n",
    "skipped = 0\n",
    "\n",
    "for idx, gr_id in no_description:\n",
    "    if df1.iloc[idx].description != ' ' and type(df1.iloc[idx].description) != float:\n",
    "        continue\n",
    "    \n",
    "    driver.get(f\"https://www.goodreads.com/book/show/{gr_id}\")\n",
    "    \n",
    "    description = get_description(driver)\n",
    "    df1.loc[idx,'description'] = description\n",
    "    \n",
    "    if type(description) == float:\n",
    "        print(f'description not found for {gr_id},')\n",
    "        still_no_des.append((idx, gr_id))\n",
    "    else:\n",
    "        found += 1\n",
    "    if found % 50 == 0 and found != 0 :\n",
    "        print (f'found : {found}')\n",
    "        \n",
    "        # save updated dataframe, image list and found\n",
    "        df1.to_csv('goodread_des1.csv')\n"
   ]
  },
  {
   "cell_type": "markdown",
   "metadata": {},
   "source": [
    "makes sense: 6480591 , 483583 \n",
    "\n",
    "What's up with : Henry James?"
   ]
  },
  {
   "cell_type": "markdown",
   "metadata": {},
   "source": [
    "## Missing Genres"
   ]
  },
  {
   "cell_type": "code",
   "execution_count": 1,
   "metadata": {},
   "outputs": [
    {
     "ename": "NameError",
     "evalue": "name 'df' is not defined",
     "output_type": "error",
     "traceback": [
      "\u001b[0;31m---------------------------------------------------------------------------\u001b[0m",
      "\u001b[0;31mNameError\u001b[0m                                 Traceback (most recent call last)",
      "\u001b[0;32m<ipython-input-1-c42a15b2c7cf>\u001b[0m in \u001b[0;36m<module>\u001b[0;34m\u001b[0m\n\u001b[0;32m----> 1\u001b[0;31m \u001b[0mdf\u001b[0m\u001b[0;34m.\u001b[0m\u001b[0mhead\u001b[0m\u001b[0;34m(\u001b[0m\u001b[0;34m)\u001b[0m\u001b[0;34m\u001b[0m\u001b[0;34m\u001b[0m\u001b[0m\n\u001b[0m",
      "\u001b[0;31mNameError\u001b[0m: name 'df' is not defined"
     ]
    }
   ],
   "source": [
    "df['au_ge'] = ''\n",
    "df['desc_clean'] = ''\n",
    "df['key_words'] = ''\n",
    "df['bag_of_words'] ''"
   ]
  },
  {
   "cell_type": "code",
   "execution_count": 36,
   "metadata": {
    "collapsed": true
   },
   "outputs": [
    {
     "name": "stdout",
     "output_type": "stream",
     "text": [
      "found all : 50\n",
      "found all : 100\n",
      "found all : 100\n",
      "found all : 150\n",
      "found all : 200\n",
      "found all : 250\n",
      "found all : 250\n",
      "found all : 300\n",
      "found all : 350\n",
      "found all : 400\n",
      "found all : 450\n",
      "found all : 450\n",
      "found all : 500\n",
      "found all : 550\n",
      "found all : 600\n",
      "found all : 600\n",
      "found all : 650\n",
      "found all : 700\n",
      "found all : 700\n",
      "found all : 750\n",
      "found all : 800\n",
      "found all : 850\n",
      "found all : 900\n",
      "found all : 900\n",
      "found all : 950\n",
      "found all : 1000\n",
      "found all : 1000\n",
      "found all : 1050\n",
      "found all : 1100\n",
      "found all : 1150\n",
      "found all : 1200\n",
      "found all : 1200\n",
      "found all : 1250\n",
      "found all : 1250\n",
      "found all : 1300\n",
      "found all : 1300\n",
      "found all : 1350\n",
      "found all : 1400\n",
      "found all : 1450\n",
      "found all : 1500\n",
      "found all : 1550\n",
      "found all : 1600\n",
      "found all : 1650\n",
      "found all : 1700\n",
      "found all : 1750\n",
      "found all : 1800\n",
      "found all : 1850\n",
      "found all : 1900\n",
      "found all : 1950\n",
      "found all : 1950\n",
      "found all : 1950\n",
      "found all : 1950\n",
      "found all : 2000\n",
      "found all : 2000\n",
      "found all : 2000\n",
      "found all : 2000\n",
      "found all : 2050\n",
      "found all : 2100\n",
      "found all : 2150\n",
      "found all : 2200\n",
      "found all : 2200\n",
      "found all : 2250\n",
      "found all : 2300\n",
      "found all : 2300\n",
      "found all : 2300\n",
      "found all : 2350\n",
      "found all : 2400\n",
      "found all : 2450\n",
      "found all : 2450\n",
      "found all : 2500\n",
      "found all : 2550\n",
      "found all : 2600\n",
      "found all : 2650\n",
      "found all : 2700\n",
      "found all : 2700\n",
      "found all : 2700\n",
      "found all : 2750\n",
      "found all : 2750\n",
      "found all : 2800\n",
      "found all : 2850\n",
      "found all : 2900\n",
      "found all : 2950\n",
      "found all : 3000\n",
      "found all : 3000\n",
      "found all : 3050\n",
      "found all : 3100\n",
      "found all : 3150\n",
      "found all : 3200\n",
      "found all : 3250\n",
      "found all : 3300\n",
      "found all : 3350\n",
      "found all : 3350\n",
      "found all : 3400\n",
      "found all : 3450\n",
      "found all : 3500\n",
      "found all : 3550\n",
      "found all : 3600\n",
      "found all : 3650\n",
      "found all : 3700\n",
      "found all : 3750\n",
      "found all : 3800\n",
      "found all : 3850\n",
      "found all : 3900\n",
      "found all : 3950\n",
      "found all : 4000\n",
      "found all : 4050\n",
      "found all : 4100\n",
      "found all : 4150\n",
      "found all : 4200\n",
      "found all : 4250\n",
      "found all : 4300\n",
      "found all : 4350\n",
      "found all : 4400\n",
      "found all : 4400\n",
      "found all : 4450\n",
      "found all : 4500\n",
      "found all : 4550\n",
      "found all : 4600\n",
      "found all : 4600\n",
      "found all : 4650\n",
      "found all : 4700\n",
      "found all : 4750\n",
      "found all : 4800\n",
      "found all : 4850\n",
      "found all : 4900\n",
      "found all : 4950\n",
      "found all : 5000\n",
      "found all : 5050\n",
      "found all : 5100\n",
      "found all : 5150\n",
      "found all : 5200\n",
      "found all : 5200\n",
      "found all : 5250\n",
      "found all : 5300\n",
      "found all : 5350\n",
      "found all : 5400\n",
      "found all : 5450\n",
      "found all : 5500\n",
      "found all : 5550\n",
      "found all : 5600\n",
      "found all : 5650\n",
      "found all : 5700\n",
      "found all : 5750\n",
      "found all : 5800\n",
      "found all : 5850\n",
      "found all : 5900\n",
      "found all : 5950\n",
      "found all : 6000\n",
      "found all : 6000\n",
      "found all : 6050\n",
      "found all : 6100\n",
      "found all : 6100\n",
      "found all : 6150\n",
      "found all : 6200\n",
      "found all : 6250\n",
      "found all : 6300\n",
      "found all : 6350\n",
      "found all : 6400\n",
      "found all : 6450\n",
      "found all : 6500\n",
      "found all : 6550\n",
      "found all : 6600\n",
      "found all : 6600\n",
      "found all : 6650\n",
      "found all : 6650\n",
      "found all : 6700\n",
      "found all : 6750\n",
      "found all : 6800\n"
     ]
    },
    {
     "ename": "KeyboardInterrupt",
     "evalue": "",
     "output_type": "error",
     "traceback": [
      "\u001b[0;31m---------------------------------------------------------------------------\u001b[0m",
      "\u001b[0;31mTypeError\u001b[0m                                 Traceback (most recent call last)",
      "\u001b[0;32m//anaconda3/lib/python3.7/site-packages/urllib3/connectionpool.py\u001b[0m in \u001b[0;36m_make_request\u001b[0;34m(self, conn, method, url, timeout, chunked, **httplib_request_kw)\u001b[0m\n\u001b[1;32m    376\u001b[0m             \u001b[0;32mtry\u001b[0m\u001b[0;34m:\u001b[0m  \u001b[0;31m# Python 2.7, use buffering of HTTP responses\u001b[0m\u001b[0;34m\u001b[0m\u001b[0;34m\u001b[0m\u001b[0m\n\u001b[0;32m--> 377\u001b[0;31m                 \u001b[0mhttplib_response\u001b[0m \u001b[0;34m=\u001b[0m \u001b[0mconn\u001b[0m\u001b[0;34m.\u001b[0m\u001b[0mgetresponse\u001b[0m\u001b[0;34m(\u001b[0m\u001b[0mbuffering\u001b[0m\u001b[0;34m=\u001b[0m\u001b[0;32mTrue\u001b[0m\u001b[0;34m)\u001b[0m\u001b[0;34m\u001b[0m\u001b[0;34m\u001b[0m\u001b[0m\n\u001b[0m\u001b[1;32m    378\u001b[0m             \u001b[0;32mexcept\u001b[0m \u001b[0mTypeError\u001b[0m\u001b[0;34m:\u001b[0m  \u001b[0;31m# Python 3\u001b[0m\u001b[0;34m\u001b[0m\u001b[0;34m\u001b[0m\u001b[0m\n",
      "\u001b[0;31mTypeError\u001b[0m: getresponse() got an unexpected keyword argument 'buffering'",
      "\nDuring handling of the above exception, another exception occurred:\n",
      "\u001b[0;31mKeyboardInterrupt\u001b[0m                         Traceback (most recent call last)",
      "\u001b[0;32m<ipython-input-36-3fe62ab4a2d3>\u001b[0m in \u001b[0;36m<module>\u001b[0;34m\u001b[0m\n\u001b[1;32m     11\u001b[0m \u001b[0;34m\u001b[0m\u001b[0m\n\u001b[1;32m     12\u001b[0m \u001b[0;32mfor\u001b[0m \u001b[0midx\u001b[0m\u001b[0;34m,\u001b[0m \u001b[0mrow\u001b[0m \u001b[0;32min\u001b[0m \u001b[0mdf\u001b[0m\u001b[0;34m.\u001b[0m\u001b[0miterrows\u001b[0m\u001b[0;34m(\u001b[0m\u001b[0;34m)\u001b[0m\u001b[0;34m:\u001b[0m\u001b[0;34m\u001b[0m\u001b[0;34m\u001b[0m\u001b[0m\n\u001b[0;32m---> 13\u001b[0;31m     \u001b[0mdriver\u001b[0m\u001b[0;34m.\u001b[0m\u001b[0mget\u001b[0m\u001b[0;34m(\u001b[0m\u001b[0;34mf\"https://www.goodreads.com/book/show/{row.id}\"\u001b[0m\u001b[0;34m)\u001b[0m\u001b[0;34m\u001b[0m\u001b[0;34m\u001b[0m\u001b[0m\n\u001b[0m\u001b[1;32m     14\u001b[0m     \u001b[0mform\u001b[0m\u001b[0;34m,\u001b[0m \u001b[0mpage\u001b[0m\u001b[0;34m,\u001b[0m \u001b[0misbn\u001b[0m \u001b[0;34m=\u001b[0m \u001b[0mget_form_page_isbn\u001b[0m\u001b[0;34m(\u001b[0m\u001b[0mdriver\u001b[0m\u001b[0;34m)\u001b[0m\u001b[0;34m\u001b[0m\u001b[0;34m\u001b[0m\u001b[0m\n\u001b[1;32m     15\u001b[0m     \u001b[0mgenre\u001b[0m \u001b[0;34m=\u001b[0m \u001b[0mget_genre\u001b[0m\u001b[0;34m(\u001b[0m\u001b[0mdriver\u001b[0m\u001b[0;34m)\u001b[0m\u001b[0;34m\u001b[0m\u001b[0;34m\u001b[0m\u001b[0m\n",
      "\u001b[0;32m//anaconda3/lib/python3.7/site-packages/selenium/webdriver/remote/webdriver.py\u001b[0m in \u001b[0;36mget\u001b[0;34m(self, url)\u001b[0m\n\u001b[1;32m    331\u001b[0m         \u001b[0mLoads\u001b[0m \u001b[0ma\u001b[0m \u001b[0mweb\u001b[0m \u001b[0mpage\u001b[0m \u001b[0;32min\u001b[0m \u001b[0mthe\u001b[0m \u001b[0mcurrent\u001b[0m \u001b[0mbrowser\u001b[0m \u001b[0msession\u001b[0m\u001b[0;34m.\u001b[0m\u001b[0;34m\u001b[0m\u001b[0;34m\u001b[0m\u001b[0m\n\u001b[1;32m    332\u001b[0m         \"\"\"\n\u001b[0;32m--> 333\u001b[0;31m         \u001b[0mself\u001b[0m\u001b[0;34m.\u001b[0m\u001b[0mexecute\u001b[0m\u001b[0;34m(\u001b[0m\u001b[0mCommand\u001b[0m\u001b[0;34m.\u001b[0m\u001b[0mGET\u001b[0m\u001b[0;34m,\u001b[0m \u001b[0;34m{\u001b[0m\u001b[0;34m'url'\u001b[0m\u001b[0;34m:\u001b[0m \u001b[0murl\u001b[0m\u001b[0;34m}\u001b[0m\u001b[0;34m)\u001b[0m\u001b[0;34m\u001b[0m\u001b[0;34m\u001b[0m\u001b[0m\n\u001b[0m\u001b[1;32m    334\u001b[0m \u001b[0;34m\u001b[0m\u001b[0m\n\u001b[1;32m    335\u001b[0m     \u001b[0;34m@\u001b[0m\u001b[0mproperty\u001b[0m\u001b[0;34m\u001b[0m\u001b[0;34m\u001b[0m\u001b[0m\n",
      "\u001b[0;32m//anaconda3/lib/python3.7/site-packages/selenium/webdriver/remote/webdriver.py\u001b[0m in \u001b[0;36mexecute\u001b[0;34m(self, driver_command, params)\u001b[0m\n\u001b[1;32m    317\u001b[0m \u001b[0;34m\u001b[0m\u001b[0m\n\u001b[1;32m    318\u001b[0m         \u001b[0mparams\u001b[0m \u001b[0;34m=\u001b[0m \u001b[0mself\u001b[0m\u001b[0;34m.\u001b[0m\u001b[0m_wrap_value\u001b[0m\u001b[0;34m(\u001b[0m\u001b[0mparams\u001b[0m\u001b[0;34m)\u001b[0m\u001b[0;34m\u001b[0m\u001b[0;34m\u001b[0m\u001b[0m\n\u001b[0;32m--> 319\u001b[0;31m         \u001b[0mresponse\u001b[0m \u001b[0;34m=\u001b[0m \u001b[0mself\u001b[0m\u001b[0;34m.\u001b[0m\u001b[0mcommand_executor\u001b[0m\u001b[0;34m.\u001b[0m\u001b[0mexecute\u001b[0m\u001b[0;34m(\u001b[0m\u001b[0mdriver_command\u001b[0m\u001b[0;34m,\u001b[0m \u001b[0mparams\u001b[0m\u001b[0;34m)\u001b[0m\u001b[0;34m\u001b[0m\u001b[0;34m\u001b[0m\u001b[0m\n\u001b[0m\u001b[1;32m    320\u001b[0m         \u001b[0;32mif\u001b[0m \u001b[0mresponse\u001b[0m\u001b[0;34m:\u001b[0m\u001b[0;34m\u001b[0m\u001b[0;34m\u001b[0m\u001b[0m\n\u001b[1;32m    321\u001b[0m             \u001b[0mself\u001b[0m\u001b[0;34m.\u001b[0m\u001b[0merror_handler\u001b[0m\u001b[0;34m.\u001b[0m\u001b[0mcheck_response\u001b[0m\u001b[0;34m(\u001b[0m\u001b[0mresponse\u001b[0m\u001b[0;34m)\u001b[0m\u001b[0;34m\u001b[0m\u001b[0;34m\u001b[0m\u001b[0m\n",
      "\u001b[0;32m//anaconda3/lib/python3.7/site-packages/selenium/webdriver/remote/remote_connection.py\u001b[0m in \u001b[0;36mexecute\u001b[0;34m(self, command, params)\u001b[0m\n\u001b[1;32m    372\u001b[0m         \u001b[0mdata\u001b[0m \u001b[0;34m=\u001b[0m \u001b[0mutils\u001b[0m\u001b[0;34m.\u001b[0m\u001b[0mdump_json\u001b[0m\u001b[0;34m(\u001b[0m\u001b[0mparams\u001b[0m\u001b[0;34m)\u001b[0m\u001b[0;34m\u001b[0m\u001b[0;34m\u001b[0m\u001b[0m\n\u001b[1;32m    373\u001b[0m         \u001b[0murl\u001b[0m \u001b[0;34m=\u001b[0m \u001b[0;34m'%s%s'\u001b[0m \u001b[0;34m%\u001b[0m \u001b[0;34m(\u001b[0m\u001b[0mself\u001b[0m\u001b[0;34m.\u001b[0m\u001b[0m_url\u001b[0m\u001b[0;34m,\u001b[0m \u001b[0mpath\u001b[0m\u001b[0;34m)\u001b[0m\u001b[0;34m\u001b[0m\u001b[0;34m\u001b[0m\u001b[0m\n\u001b[0;32m--> 374\u001b[0;31m         \u001b[0;32mreturn\u001b[0m \u001b[0mself\u001b[0m\u001b[0;34m.\u001b[0m\u001b[0m_request\u001b[0m\u001b[0;34m(\u001b[0m\u001b[0mcommand_info\u001b[0m\u001b[0;34m[\u001b[0m\u001b[0;36m0\u001b[0m\u001b[0;34m]\u001b[0m\u001b[0;34m,\u001b[0m \u001b[0murl\u001b[0m\u001b[0;34m,\u001b[0m \u001b[0mbody\u001b[0m\u001b[0;34m=\u001b[0m\u001b[0mdata\u001b[0m\u001b[0;34m)\u001b[0m\u001b[0;34m\u001b[0m\u001b[0;34m\u001b[0m\u001b[0m\n\u001b[0m\u001b[1;32m    375\u001b[0m \u001b[0;34m\u001b[0m\u001b[0m\n\u001b[1;32m    376\u001b[0m     \u001b[0;32mdef\u001b[0m \u001b[0m_request\u001b[0m\u001b[0;34m(\u001b[0m\u001b[0mself\u001b[0m\u001b[0;34m,\u001b[0m \u001b[0mmethod\u001b[0m\u001b[0;34m,\u001b[0m \u001b[0murl\u001b[0m\u001b[0;34m,\u001b[0m \u001b[0mbody\u001b[0m\u001b[0;34m=\u001b[0m\u001b[0;32mNone\u001b[0m\u001b[0;34m)\u001b[0m\u001b[0;34m:\u001b[0m\u001b[0;34m\u001b[0m\u001b[0;34m\u001b[0m\u001b[0m\n",
      "\u001b[0;32m//anaconda3/lib/python3.7/site-packages/selenium/webdriver/remote/remote_connection.py\u001b[0m in \u001b[0;36m_request\u001b[0;34m(self, method, url, body)\u001b[0m\n\u001b[1;32m    395\u001b[0m \u001b[0;34m\u001b[0m\u001b[0m\n\u001b[1;32m    396\u001b[0m         \u001b[0;32mif\u001b[0m \u001b[0mself\u001b[0m\u001b[0;34m.\u001b[0m\u001b[0mkeep_alive\u001b[0m\u001b[0;34m:\u001b[0m\u001b[0;34m\u001b[0m\u001b[0;34m\u001b[0m\u001b[0m\n\u001b[0;32m--> 397\u001b[0;31m             \u001b[0mresp\u001b[0m \u001b[0;34m=\u001b[0m \u001b[0mself\u001b[0m\u001b[0;34m.\u001b[0m\u001b[0m_conn\u001b[0m\u001b[0;34m.\u001b[0m\u001b[0mrequest\u001b[0m\u001b[0;34m(\u001b[0m\u001b[0mmethod\u001b[0m\u001b[0;34m,\u001b[0m \u001b[0murl\u001b[0m\u001b[0;34m,\u001b[0m \u001b[0mbody\u001b[0m\u001b[0;34m=\u001b[0m\u001b[0mbody\u001b[0m\u001b[0;34m,\u001b[0m \u001b[0mheaders\u001b[0m\u001b[0;34m=\u001b[0m\u001b[0mheaders\u001b[0m\u001b[0;34m)\u001b[0m\u001b[0;34m\u001b[0m\u001b[0;34m\u001b[0m\u001b[0m\n\u001b[0m\u001b[1;32m    398\u001b[0m \u001b[0;34m\u001b[0m\u001b[0m\n\u001b[1;32m    399\u001b[0m             \u001b[0mstatuscode\u001b[0m \u001b[0;34m=\u001b[0m \u001b[0mresp\u001b[0m\u001b[0;34m.\u001b[0m\u001b[0mstatus\u001b[0m\u001b[0;34m\u001b[0m\u001b[0;34m\u001b[0m\u001b[0m\n",
      "\u001b[0;32m//anaconda3/lib/python3.7/site-packages/urllib3/request.py\u001b[0m in \u001b[0;36mrequest\u001b[0;34m(self, method, url, fields, headers, **urlopen_kw)\u001b[0m\n\u001b[1;32m     70\u001b[0m             return self.request_encode_body(method, url, fields=fields,\n\u001b[1;32m     71\u001b[0m                                             \u001b[0mheaders\u001b[0m\u001b[0;34m=\u001b[0m\u001b[0mheaders\u001b[0m\u001b[0;34m,\u001b[0m\u001b[0;34m\u001b[0m\u001b[0;34m\u001b[0m\u001b[0m\n\u001b[0;32m---> 72\u001b[0;31m                                             **urlopen_kw)\n\u001b[0m\u001b[1;32m     73\u001b[0m \u001b[0;34m\u001b[0m\u001b[0m\n\u001b[1;32m     74\u001b[0m     def request_encode_url(self, method, url, fields=None, headers=None,\n",
      "\u001b[0;32m//anaconda3/lib/python3.7/site-packages/urllib3/request.py\u001b[0m in \u001b[0;36mrequest_encode_body\u001b[0;34m(self, method, url, fields, headers, encode_multipart, multipart_boundary, **urlopen_kw)\u001b[0m\n\u001b[1;32m    148\u001b[0m         \u001b[0mextra_kw\u001b[0m\u001b[0;34m.\u001b[0m\u001b[0mupdate\u001b[0m\u001b[0;34m(\u001b[0m\u001b[0murlopen_kw\u001b[0m\u001b[0;34m)\u001b[0m\u001b[0;34m\u001b[0m\u001b[0;34m\u001b[0m\u001b[0m\n\u001b[1;32m    149\u001b[0m \u001b[0;34m\u001b[0m\u001b[0m\n\u001b[0;32m--> 150\u001b[0;31m         \u001b[0;32mreturn\u001b[0m \u001b[0mself\u001b[0m\u001b[0;34m.\u001b[0m\u001b[0murlopen\u001b[0m\u001b[0;34m(\u001b[0m\u001b[0mmethod\u001b[0m\u001b[0;34m,\u001b[0m \u001b[0murl\u001b[0m\u001b[0;34m,\u001b[0m \u001b[0;34m**\u001b[0m\u001b[0mextra_kw\u001b[0m\u001b[0;34m)\u001b[0m\u001b[0;34m\u001b[0m\u001b[0;34m\u001b[0m\u001b[0m\n\u001b[0m",
      "\u001b[0;32m//anaconda3/lib/python3.7/site-packages/urllib3/poolmanager.py\u001b[0m in \u001b[0;36murlopen\u001b[0;34m(self, method, url, redirect, **kw)\u001b[0m\n\u001b[1;32m    322\u001b[0m             \u001b[0mresponse\u001b[0m \u001b[0;34m=\u001b[0m \u001b[0mconn\u001b[0m\u001b[0;34m.\u001b[0m\u001b[0murlopen\u001b[0m\u001b[0;34m(\u001b[0m\u001b[0mmethod\u001b[0m\u001b[0;34m,\u001b[0m \u001b[0murl\u001b[0m\u001b[0;34m,\u001b[0m \u001b[0;34m**\u001b[0m\u001b[0mkw\u001b[0m\u001b[0;34m)\u001b[0m\u001b[0;34m\u001b[0m\u001b[0;34m\u001b[0m\u001b[0m\n\u001b[1;32m    323\u001b[0m         \u001b[0;32melse\u001b[0m\u001b[0;34m:\u001b[0m\u001b[0;34m\u001b[0m\u001b[0;34m\u001b[0m\u001b[0m\n\u001b[0;32m--> 324\u001b[0;31m             \u001b[0mresponse\u001b[0m \u001b[0;34m=\u001b[0m \u001b[0mconn\u001b[0m\u001b[0;34m.\u001b[0m\u001b[0murlopen\u001b[0m\u001b[0;34m(\u001b[0m\u001b[0mmethod\u001b[0m\u001b[0;34m,\u001b[0m \u001b[0mu\u001b[0m\u001b[0;34m.\u001b[0m\u001b[0mrequest_uri\u001b[0m\u001b[0;34m,\u001b[0m \u001b[0;34m**\u001b[0m\u001b[0mkw\u001b[0m\u001b[0;34m)\u001b[0m\u001b[0;34m\u001b[0m\u001b[0;34m\u001b[0m\u001b[0m\n\u001b[0m\u001b[1;32m    325\u001b[0m \u001b[0;34m\u001b[0m\u001b[0m\n\u001b[1;32m    326\u001b[0m         \u001b[0mredirect_location\u001b[0m \u001b[0;34m=\u001b[0m \u001b[0mredirect\u001b[0m \u001b[0;32mand\u001b[0m \u001b[0mresponse\u001b[0m\u001b[0;34m.\u001b[0m\u001b[0mget_redirect_location\u001b[0m\u001b[0;34m(\u001b[0m\u001b[0;34m)\u001b[0m\u001b[0;34m\u001b[0m\u001b[0;34m\u001b[0m\u001b[0m\n",
      "\u001b[0;32m//anaconda3/lib/python3.7/site-packages/urllib3/connectionpool.py\u001b[0m in \u001b[0;36murlopen\u001b[0;34m(self, method, url, body, headers, retries, redirect, assert_same_host, timeout, pool_timeout, release_conn, chunked, body_pos, **response_kw)\u001b[0m\n\u001b[1;32m    598\u001b[0m                                                   \u001b[0mtimeout\u001b[0m\u001b[0;34m=\u001b[0m\u001b[0mtimeout_obj\u001b[0m\u001b[0;34m,\u001b[0m\u001b[0;34m\u001b[0m\u001b[0;34m\u001b[0m\u001b[0m\n\u001b[1;32m    599\u001b[0m                                                   \u001b[0mbody\u001b[0m\u001b[0;34m=\u001b[0m\u001b[0mbody\u001b[0m\u001b[0;34m,\u001b[0m \u001b[0mheaders\u001b[0m\u001b[0;34m=\u001b[0m\u001b[0mheaders\u001b[0m\u001b[0;34m,\u001b[0m\u001b[0;34m\u001b[0m\u001b[0;34m\u001b[0m\u001b[0m\n\u001b[0;32m--> 600\u001b[0;31m                                                   chunked=chunked)\n\u001b[0m\u001b[1;32m    601\u001b[0m \u001b[0;34m\u001b[0m\u001b[0m\n\u001b[1;32m    602\u001b[0m             \u001b[0;31m# If we're going to release the connection in ``finally:``, then\u001b[0m\u001b[0;34m\u001b[0m\u001b[0;34m\u001b[0m\u001b[0;34m\u001b[0m\u001b[0m\n",
      "\u001b[0;32m//anaconda3/lib/python3.7/site-packages/urllib3/connectionpool.py\u001b[0m in \u001b[0;36m_make_request\u001b[0;34m(self, conn, method, url, timeout, chunked, **httplib_request_kw)\u001b[0m\n\u001b[1;32m    378\u001b[0m             \u001b[0;32mexcept\u001b[0m \u001b[0mTypeError\u001b[0m\u001b[0;34m:\u001b[0m  \u001b[0;31m# Python 3\u001b[0m\u001b[0;34m\u001b[0m\u001b[0;34m\u001b[0m\u001b[0m\n\u001b[1;32m    379\u001b[0m                 \u001b[0;32mtry\u001b[0m\u001b[0;34m:\u001b[0m\u001b[0;34m\u001b[0m\u001b[0;34m\u001b[0m\u001b[0m\n\u001b[0;32m--> 380\u001b[0;31m                     \u001b[0mhttplib_response\u001b[0m \u001b[0;34m=\u001b[0m \u001b[0mconn\u001b[0m\u001b[0;34m.\u001b[0m\u001b[0mgetresponse\u001b[0m\u001b[0;34m(\u001b[0m\u001b[0;34m)\u001b[0m\u001b[0;34m\u001b[0m\u001b[0;34m\u001b[0m\u001b[0m\n\u001b[0m\u001b[1;32m    381\u001b[0m                 \u001b[0;32mexcept\u001b[0m \u001b[0mException\u001b[0m \u001b[0;32mas\u001b[0m \u001b[0me\u001b[0m\u001b[0;34m:\u001b[0m\u001b[0;34m\u001b[0m\u001b[0;34m\u001b[0m\u001b[0m\n\u001b[1;32m    382\u001b[0m                     \u001b[0;31m# Remove the TypeError from the exception chain in Python 3;\u001b[0m\u001b[0;34m\u001b[0m\u001b[0;34m\u001b[0m\u001b[0;34m\u001b[0m\u001b[0m\n",
      "\u001b[0;32m//anaconda3/lib/python3.7/http/client.py\u001b[0m in \u001b[0;36mgetresponse\u001b[0;34m(self)\u001b[0m\n\u001b[1;32m   1319\u001b[0m         \u001b[0;32mtry\u001b[0m\u001b[0;34m:\u001b[0m\u001b[0;34m\u001b[0m\u001b[0;34m\u001b[0m\u001b[0m\n\u001b[1;32m   1320\u001b[0m             \u001b[0;32mtry\u001b[0m\u001b[0;34m:\u001b[0m\u001b[0;34m\u001b[0m\u001b[0;34m\u001b[0m\u001b[0m\n\u001b[0;32m-> 1321\u001b[0;31m                 \u001b[0mresponse\u001b[0m\u001b[0;34m.\u001b[0m\u001b[0mbegin\u001b[0m\u001b[0;34m(\u001b[0m\u001b[0;34m)\u001b[0m\u001b[0;34m\u001b[0m\u001b[0;34m\u001b[0m\u001b[0m\n\u001b[0m\u001b[1;32m   1322\u001b[0m             \u001b[0;32mexcept\u001b[0m \u001b[0mConnectionError\u001b[0m\u001b[0;34m:\u001b[0m\u001b[0;34m\u001b[0m\u001b[0;34m\u001b[0m\u001b[0m\n\u001b[1;32m   1323\u001b[0m                 \u001b[0mself\u001b[0m\u001b[0;34m.\u001b[0m\u001b[0mclose\u001b[0m\u001b[0;34m(\u001b[0m\u001b[0;34m)\u001b[0m\u001b[0;34m\u001b[0m\u001b[0;34m\u001b[0m\u001b[0m\n",
      "\u001b[0;32m//anaconda3/lib/python3.7/http/client.py\u001b[0m in \u001b[0;36mbegin\u001b[0;34m(self)\u001b[0m\n\u001b[1;32m    294\u001b[0m         \u001b[0;31m# read until we get a non-100 response\u001b[0m\u001b[0;34m\u001b[0m\u001b[0;34m\u001b[0m\u001b[0;34m\u001b[0m\u001b[0m\n\u001b[1;32m    295\u001b[0m         \u001b[0;32mwhile\u001b[0m \u001b[0;32mTrue\u001b[0m\u001b[0;34m:\u001b[0m\u001b[0;34m\u001b[0m\u001b[0;34m\u001b[0m\u001b[0m\n\u001b[0;32m--> 296\u001b[0;31m             \u001b[0mversion\u001b[0m\u001b[0;34m,\u001b[0m \u001b[0mstatus\u001b[0m\u001b[0;34m,\u001b[0m \u001b[0mreason\u001b[0m \u001b[0;34m=\u001b[0m \u001b[0mself\u001b[0m\u001b[0;34m.\u001b[0m\u001b[0m_read_status\u001b[0m\u001b[0;34m(\u001b[0m\u001b[0;34m)\u001b[0m\u001b[0;34m\u001b[0m\u001b[0;34m\u001b[0m\u001b[0m\n\u001b[0m\u001b[1;32m    297\u001b[0m             \u001b[0;32mif\u001b[0m \u001b[0mstatus\u001b[0m \u001b[0;34m!=\u001b[0m \u001b[0mCONTINUE\u001b[0m\u001b[0;34m:\u001b[0m\u001b[0;34m\u001b[0m\u001b[0;34m\u001b[0m\u001b[0m\n\u001b[1;32m    298\u001b[0m                 \u001b[0;32mbreak\u001b[0m\u001b[0;34m\u001b[0m\u001b[0;34m\u001b[0m\u001b[0m\n",
      "\u001b[0;32m//anaconda3/lib/python3.7/http/client.py\u001b[0m in \u001b[0;36m_read_status\u001b[0;34m(self)\u001b[0m\n\u001b[1;32m    255\u001b[0m \u001b[0;34m\u001b[0m\u001b[0m\n\u001b[1;32m    256\u001b[0m     \u001b[0;32mdef\u001b[0m \u001b[0m_read_status\u001b[0m\u001b[0;34m(\u001b[0m\u001b[0mself\u001b[0m\u001b[0;34m)\u001b[0m\u001b[0;34m:\u001b[0m\u001b[0;34m\u001b[0m\u001b[0;34m\u001b[0m\u001b[0m\n\u001b[0;32m--> 257\u001b[0;31m         \u001b[0mline\u001b[0m \u001b[0;34m=\u001b[0m \u001b[0mstr\u001b[0m\u001b[0;34m(\u001b[0m\u001b[0mself\u001b[0m\u001b[0;34m.\u001b[0m\u001b[0mfp\u001b[0m\u001b[0;34m.\u001b[0m\u001b[0mreadline\u001b[0m\u001b[0;34m(\u001b[0m\u001b[0m_MAXLINE\u001b[0m \u001b[0;34m+\u001b[0m \u001b[0;36m1\u001b[0m\u001b[0;34m)\u001b[0m\u001b[0;34m,\u001b[0m \u001b[0;34m\"iso-8859-1\"\u001b[0m\u001b[0;34m)\u001b[0m\u001b[0;34m\u001b[0m\u001b[0;34m\u001b[0m\u001b[0m\n\u001b[0m\u001b[1;32m    258\u001b[0m         \u001b[0;32mif\u001b[0m \u001b[0mlen\u001b[0m\u001b[0;34m(\u001b[0m\u001b[0mline\u001b[0m\u001b[0;34m)\u001b[0m \u001b[0;34m>\u001b[0m \u001b[0m_MAXLINE\u001b[0m\u001b[0;34m:\u001b[0m\u001b[0;34m\u001b[0m\u001b[0;34m\u001b[0m\u001b[0m\n\u001b[1;32m    259\u001b[0m             \u001b[0;32mraise\u001b[0m \u001b[0mLineTooLong\u001b[0m\u001b[0;34m(\u001b[0m\u001b[0;34m\"status line\"\u001b[0m\u001b[0;34m)\u001b[0m\u001b[0;34m\u001b[0m\u001b[0;34m\u001b[0m\u001b[0m\n",
      "\u001b[0;32m//anaconda3/lib/python3.7/socket.py\u001b[0m in \u001b[0;36mreadinto\u001b[0;34m(self, b)\u001b[0m\n\u001b[1;32m    587\u001b[0m         \u001b[0;32mwhile\u001b[0m \u001b[0;32mTrue\u001b[0m\u001b[0;34m:\u001b[0m\u001b[0;34m\u001b[0m\u001b[0;34m\u001b[0m\u001b[0m\n\u001b[1;32m    588\u001b[0m             \u001b[0;32mtry\u001b[0m\u001b[0;34m:\u001b[0m\u001b[0;34m\u001b[0m\u001b[0;34m\u001b[0m\u001b[0m\n\u001b[0;32m--> 589\u001b[0;31m                 \u001b[0;32mreturn\u001b[0m \u001b[0mself\u001b[0m\u001b[0;34m.\u001b[0m\u001b[0m_sock\u001b[0m\u001b[0;34m.\u001b[0m\u001b[0mrecv_into\u001b[0m\u001b[0;34m(\u001b[0m\u001b[0mb\u001b[0m\u001b[0;34m)\u001b[0m\u001b[0;34m\u001b[0m\u001b[0;34m\u001b[0m\u001b[0m\n\u001b[0m\u001b[1;32m    590\u001b[0m             \u001b[0;32mexcept\u001b[0m \u001b[0mtimeout\u001b[0m\u001b[0;34m:\u001b[0m\u001b[0;34m\u001b[0m\u001b[0;34m\u001b[0m\u001b[0m\n\u001b[1;32m    591\u001b[0m                 \u001b[0mself\u001b[0m\u001b[0;34m.\u001b[0m\u001b[0m_timeout_occurred\u001b[0m \u001b[0;34m=\u001b[0m \u001b[0;32mTrue\u001b[0m\u001b[0;34m\u001b[0m\u001b[0;34m\u001b[0m\u001b[0m\n",
      "\u001b[0;31mKeyboardInterrupt\u001b[0m: "
     ]
    }
   ],
   "source": [
    "# code to get form,page,isbn,genre and desc using functions\n",
    "\n",
    "driver = webdriver.Chrome()\n",
    "initial_gr_signin(driver)\n",
    "found = 0 \n",
    "no_form = []\n",
    "no_page = []\n",
    "no_isbn = []\n",
    "no_des = []\n",
    "skipped = 0\n",
    "\n",
    "\n",
    "for idx, row in df.iloc[start:start+50].iterrows():\n",
    "    driver.get(f\"https://www.goodreads.com/book/show/{row.id}\")\n",
    "    form, page, isbn = get_form_page_isbn(driver)\n",
    "    genre = get_genre(driver)\n",
    "    \n",
    "    df.loc[idx,'format'] = form\n",
    "    df.loc[idx,'pages'] = page\n",
    "    df.loc[idx,'isbn'] = isbn\n",
    "    df.loc[idx,'genre'] = genre\n",
    "    if idx > 2605:\n",
    "        description = get_description(driver)\n",
    "        df.loc[idx,'description'] = description\n",
    "        if type(description) == float:\n",
    "            no_des.append((idx, row.id))\n",
    "    \n",
    "    if type(form) == float:\n",
    "        no_form.append((idx, row.id))\n",
    "    elif type(page) == float:\n",
    "        no_page.append((idx, row.id))\n",
    "    elif type(isbn) == float:\n",
    "        no_isbn.append((idx, row.id))\n",
    "    elif type(genre) == float:\n",
    "        no_genre.append((idx, row.id))\n",
    "\n",
    "    found += 1\n",
    "        \n",
    "    if found % 50 == 0 and found_all != 0 :,kjytre\n",
    "        df_lite = df.iloc[start:end]\n",
    "        print (f'found all : {found}')\n",
    "        \n",
    "        clean_bag_save(df_lite, 'goodreads_updated')\n",
    "\n",
    "        start += 50\n",
    "\n",
    "\n",
    "df.to_csv('goodreads_updated.csv')\n",
    "df.to_json(r'goodreads_updated.json',orient='index')\n"
   ]
  },
  {
   "cell_type": "code",
   "execution_count": 37,
   "metadata": {},
   "outputs": [],
   "source": [
    "df.to_csv('goodreads_updated.csv')"
   ]
  },
  {
   "cell_type": "markdown",
   "metadata": {},
   "source": [
    "# Data Cleaning"
   ]
  },
  {
   "cell_type": "markdown",
   "metadata": {},
   "source": [
    "## Clean data \n",
    "\n",
    "- look for nan values, empty descriptions, clean types (str -> int), (organize pictures)\n",
    "    ratings, number of ratings, pages (str -> int)"
   ]
  },
  {
   "cell_type": "markdown",
   "metadata": {},
   "source": [
    "Add bag of words, au_ge and keywords"
   ]
  },
  {
   "cell_type": "code",
   "execution_count": null,
   "metadata": {},
   "outputs": [],
   "source": []
  },
  {
   "cell_type": "code",
   "execution_count": null,
   "metadata": {},
   "outputs": [],
   "source": []
  },
  {
   "cell_type": "markdown",
   "metadata": {},
   "source": [
    "Process and create bag of words"
   ]
  },
  {
   "cell_type": "code",
   "execution_count": 40,
   "metadata": {},
   "outputs": [
    {
     "data": {
      "text/plain": [
       "'hi bye'"
      ]
     },
     "execution_count": 40,
     "metadata": {},
     "output_type": "execute_result"
    }
   ],
   "source": [
    "au_ge, keywords = process_and_almost_bag(df.authors, df.genre, df.desc_clean)\n",
    "boow = make_bow(aug, kee)"
   ]
  },
  {
   "cell_type": "markdown",
   "metadata": {},
   "source": [
    "## NLP cleaning"
   ]
  },
  {
   "cell_type": "markdown",
   "metadata": {},
   "source": [
    "Filtering, Stemming, Lemming and TF-IDF"
   ]
  },
  {
   "cell_type": "markdown",
   "metadata": {},
   "source": [
    "## Topic Clustering"
   ]
  },
  {
   "cell_type": "markdown",
   "metadata": {},
   "source": [
    "oops i think i messed up ratings... review before sending off again."
   ]
  },
  {
   "cell_type": "code",
   "execution_count": 137,
   "metadata": {},
   "outputs": [
    {
     "data": {
      "text/plain": [
       "count     17727\n",
       "unique     9301\n",
       "top          37\n",
       "freq         22\n",
       "Name: num_ratings, dtype: object"
      ]
     },
     "execution_count": 137,
     "metadata": {},
     "output_type": "execute_result"
    }
   ],
   "source": [
    "\n",
    "# df1.num_ratings = df1.num_ratings.apply(lambda x: str(x).split(' ')[0].replace(',',''))\n",
    "# df1.num_ratings.describe()"
   ]
  },
  {
   "cell_type": "code",
   "execution_count": 138,
   "metadata": {
    "collapsed": true
   },
   "outputs": [
    {
     "data": {
      "text/plain": [
       "0        126781\n",
       "1        100785\n",
       "2         70660\n",
       "3         21445\n",
       "4         17932\n",
       "          ...  \n",
       "17722     13386\n",
       "17723     12123\n",
       "17724      6812\n",
       "17725     11684\n",
       "17726     12269\n",
       "Name: num_ratings, Length: 17727, dtype: object"
      ]
     },
     "execution_count": 138,
     "metadata": {},
     "output_type": "execute_result"
    }
   ],
   "source": [
    "df1.num_ratings"
   ]
  },
  {
   "cell_type": "code",
   "execution_count": null,
   "metadata": {},
   "outputs": [],
   "source": []
  }
 ],
 "metadata": {
  "kernelspec": {
   "display_name": "Python 3",
   "language": "python",
   "name": "python3"
  },
  "language_info": {
   "codemirror_mode": {
    "name": "ipython",
    "version": 3
   },
   "file_extension": ".py",
   "mimetype": "text/x-python",
   "name": "python",
   "nbconvert_exporter": "python",
   "pygments_lexer": "ipython3",
   "version": "3.7.3"
  },
  "toc": {
   "base_numbering": 1,
   "nav_menu": {},
   "number_sections": true,
   "sideBar": true,
   "skip_h1_title": false,
   "title_cell": "Table of Contents",
   "title_sidebar": "Contents",
   "toc_cell": false,
   "toc_position": {},
   "toc_section_display": true,
   "toc_window_display": false
  }
 },
 "nbformat": 4,
 "nbformat_minor": 2
}
