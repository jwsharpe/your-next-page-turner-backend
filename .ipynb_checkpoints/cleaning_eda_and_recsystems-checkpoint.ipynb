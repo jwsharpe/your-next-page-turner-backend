{
 "cells": [
  {
   "cell_type": "code",
   "execution_count": 1,
   "metadata": {},
   "outputs": [],
   "source": [
    "from book_functions import *\n",
    "\n",
    "import re\n",
    "import os\n",
    "import time\n",
    "import random\n",
    "import requests\n",
    "import string\n",
    "import numpy as np\n",
    "import pandas as pd\n",
    "import matplotlib.pyplot as plt\n",
    "import seaborn as sns\n",
    "%matplotlib inline\n",
    "import json, codecs\n",
    "import pickle \n",
    "from os import system\n",
    "from math import floor\n",
    "from copy import deepcopy\n",
    "from rake_nltk import Rake\n",
    "\n",
    "from sklearn.feature_extraction.text import TfidfVectorizer, CountVectorizer\n",
    "from sklearn.metrics.pairwise import linear_kernel, cosine_similarity\n",
    "from nltk.stem.snowball import SnowballStemmer\n",
    "from nltk.stem.wordnet import WordNetLemmatizer\n",
    "from nltk.corpus import wordnet\n",
    "from surprise import Reader, Dataset, SVD"
   ]
  },
  {
   "cell_type": "code",
   "execution_count": 2,
   "metadata": {},
   "outputs": [],
   "source": [
    "# optional display setting for jupyter notebook\n",
    "pd.set_option('display.float_format', lambda x: '%.3f' % x)"
   ]
  },
  {
   "cell_type": "markdown",
   "metadata": {},
   "source": [
    "# Collect Data from Tables"
   ]
  },
  {
   "cell_type": "code",
   "execution_count": 3,
   "metadata": {},
   "outputs": [],
   "source": [
    "# data from 1999 - 2009\n",
    "df = pd.read_csv('goodreads_data_quan1.csv')\n",
    "df.drop(index=1899,inplace=True) # book with unclean data\n",
    "\n",
    "# data from 2009 - 2019\n",
    "df1 = pd.read_csv('goodread_data2_reb1.csv')\n",
    "\n",
    "\n",
    "# combine the dataframes\n",
    "dff = pd.concat([df,df1], sort=False)\n",
    "dff.drop('format',axis=1,inplace=True)\n",
    "dff.dropna(inplace=True)\n",
    "dff.reset_index(inplace=True)\n",
    "dff.drop(['Unnamed: 0','index'],axis=1,inplace=True)\n",
    "dff.set_index('titles', inplace=True)"
   ]
  },
  {
   "cell_type": "code",
   "execution_count": 4,
   "metadata": {},
   "outputs": [],
   "source": [
    "# clean dataframe\n",
    "\n",
    "# str -> float\n",
    "dff.ratings = dff.ratings.apply(lambda x: float(x))\n",
    "dff.num_ratings = dff.num_ratings.apply(lambda x: int(x.replace(' ratings','').replace(',','')))\n",
    "dff.pages = dff.pages.apply(lambda x: int(x.replace(' pages','')))\n",
    "\n",
    "dff.dropna(inplace=True)\n",
    "\n",
    "# clean up genre (as a string)\n",
    "dff.genre = dff.genre.apply(lambda x: x.replace('{','').replace('}',''))\n",
    "dff.genre = dff.genre.apply(lambda x: x.replace(\"'\",''))\n",
    "dff.genre = dff.genre.apply(lambda x: x.split(', ')) # makes genre into a list of strings"
   ]
  },
  {
   "cell_type": "code",
   "execution_count": 5,
   "metadata": {},
   "outputs": [],
   "source": [
    "# final dataframe used - includes cleaned description, keywords, and bag of words\n",
    "df_keywords = pd.read_csv('KEEP_df_with_keywords.csv')\n",
    "df_keywords.drop(['Unnamed: 0','index'], axis=1, inplace=True)\n",
    "df_keywords.set_index('titles',inplace=True)\n",
    "df_keywords.columns = ['authors', 'description', 'genre', 'id', 'num_ratings', 'pages',\n",
    "       'ratings', 'Key_words', 'bag_of_description']\n",
    "\n",
    "\n",
    "# open and save similarity matrix in np arry for recommendation system\n",
    "obj_text = codecs.open('sim_matrix.json', 'r', encoding='utf-8').read()\n",
    "b_new = json.loads(obj_text)\n",
    "sim_matrix  = np.array(b_new)"
   ]
  },
  {
   "cell_type": "markdown",
   "metadata": {},
   "source": [
    "# EDA\n"
   ]
  },
  {
   "cell_type": "code",
   "execution_count": 11,
   "metadata": {},
   "outputs": [
    {
     "data": {
      "image/png": "[encoded data removed]",
      "text/plain": [
       "<Figure size 432x288 with 1 Axes>"
      ]
     },
     "metadata": {
      "needs_background": "light"
     },
     "output_type": "display_data"
    }
   ],
   "source": [
    "ax = sns.boxplot(dff.pages, palette='autumn', width=0.5)\n",
    "ax.set(xlabel='Pages in Book',xlim=(0,1500), title=('Boxplot of Pages (without 10 outliers)'));"
   ]
  },
  {
   "cell_type": "code",
   "execution_count": 12,
   "metadata": {},
   "outputs": [
    {
     "data": {
      "image/png": "[encoded data removed]",
      "text/plain": [
       "<Figure size 1080x432 with 1 Axes>"
      ]
     },
     "metadata": {
      "needs_background": "light"
     },
     "output_type": "display_data"
    }
   ],
   "source": [
    "ax = plt.subplots(figsize=(15,6))\n",
    "ax = sns.boxplot(dff.num_ratings, palette='Purples_r', width=0.5)\n",
    "ax.set(xlabel='Number of Ratings',xlim=(0,200000), title=('Number of Ratings per Book (300 outliers)'));"
   ]
  },
  {
   "cell_type": "markdown",
   "metadata": {},
   "source": [
    "Exploring Stats on Genres"
   ]
  },
  {
   "cell_type": "code",
   "execution_count": 21,
   "metadata": {
    "scrolled": false
   },
   "outputs": [
    {
     "data": {
      "text/plain": [
       "count                                            2198\n",
       "unique                                           1279\n",
       "top       {'Mystery', 'Crime', 'Thriller', 'Fiction'}\n",
       "freq                                               59\n",
       "Name: genre, dtype: object"
      ]
     },
     "execution_count": 21,
     "metadata": {},
     "output_type": "execute_result"
    }
   ],
   "source": [
    "df.genre.describe()"
   ]
  },
  {
   "cell_type": "code",
   "execution_count": 40,
   "metadata": {},
   "outputs": [
    {
     "name": "stdout",
     "output_type": "stream",
     "text": [
      "Mode genres: Fiction\n",
      "Number of books in Fiction: 2610\n"
     ]
    }
   ],
   "source": [
    "import statistics \n",
    "from statistics import mode \n",
    "\n",
    "lll = list(dff.genre)\n",
    "genres = []\n",
    "for i in range(len(lll)):\n",
    "    item = lll[i]\n",
    "    genres+=item\n",
    "    if 'Fantasy' in item and 'Family' in item:\n",
    "        raa = i\n",
    "genre_unique = list(set(genres))\n",
    "\n",
    "gmode = mode(genres)\n",
    "\n",
    "print(f'Mode genres: {gmode}')\n",
    "print (f\"Number of books in {gmode}: {genres.count(gmode)}\")"
   ]
  },
  {
   "cell_type": "markdown",
   "metadata": {},
   "source": [
    "Fantasy: 1341\n",
    "Science Fiction: 680\n",
    "Romance: 1241\n",
    "Chick Lit: 364\n",
    "Thriller/Mystery/Crime: 1387\n",
    "Nonfiction/Self Help/History/Art/Politics: 1156"
   ]
  },
  {
   "cell_type": "code",
   "execution_count": 44,
   "metadata": {
    "scrolled": false
   },
   "outputs": [
    {
     "data": {
      "text/plain": [
       "authors        0\n",
       "ratings        0\n",
       "num_ratings    0\n",
       "id             0\n",
       "description    0\n",
       "pages          0\n",
       "genre          0\n",
       "dtype: int64"
      ]
     },
     "execution_count": 44,
     "metadata": {},
     "output_type": "execute_result"
    }
   ],
   "source": [
    "dff.isna().sum()"
   ]
  },
  {
   "cell_type": "markdown",
   "metadata": {},
   "source": [
    "# Simple Rec System"
   ]
  },
  {
   "cell_type": "code",
   "execution_count": 5,
   "metadata": {},
   "outputs": [
    {
     "data": {
      "text/html": [
       "<div>\n",
       "<style scoped>\n",
       "    .dataframe tbody tr th:only-of-type {\n",
       "        vertical-align: middle;\n",
       "    }\n",
       "\n",
       "    .dataframe tbody tr th {\n",
       "        vertical-align: top;\n",
       "    }\n",
       "\n",
       "    .dataframe thead th {\n",
       "        text-align: right;\n",
       "    }\n",
       "</style>\n",
       "<table border=\"1\" class=\"dataframe\">\n",
       "  <thead>\n",
       "    <tr style=\"text-align: right;\">\n",
       "      <th></th>\n",
       "      <th>authors</th>\n",
       "      <th>ratings</th>\n",
       "      <th>num_ratings</th>\n",
       "      <th>id</th>\n",
       "      <th>description</th>\n",
       "      <th>pages</th>\n",
       "      <th>genre</th>\n",
       "    </tr>\n",
       "    <tr>\n",
       "      <th>titles</th>\n",
       "      <th></th>\n",
       "      <th></th>\n",
       "      <th></th>\n",
       "      <th></th>\n",
       "      <th></th>\n",
       "      <th></th>\n",
       "      <th></th>\n",
       "    </tr>\n",
       "  </thead>\n",
       "  <tbody>\n",
       "    <tr>\n",
       "      <th>Harry Potter and the Prisoner of Azkaban (Harry Potter, #3)</th>\n",
       "      <td>J.K. Rowling</td>\n",
       "      <td>4.560</td>\n",
       "      <td>2435849</td>\n",
       "      <td>5</td>\n",
       "      <td>Harry Potter's third year at Hogwarts is full ...</td>\n",
       "      <td>435</td>\n",
       "      <td>[Middle Grade, Adventure, Fantasy, Audiobook, ...</td>\n",
       "    </tr>\n",
       "    <tr>\n",
       "      <th>The Perks of Being a Wallflower</th>\n",
       "      <td>Stephen Chbosky</td>\n",
       "      <td>4.200</td>\n",
       "      <td>1138861</td>\n",
       "      <td>47440429</td>\n",
       "      <td>Now in a special edition to mark the twentieth...</td>\n",
       "      <td>224</td>\n",
       "      <td>[Fiction, Contemporary, Young Adult]</td>\n",
       "    </tr>\n",
       "    <tr>\n",
       "      <th>A Walk to Remember</th>\n",
       "      <td>Nicholas Sparks</td>\n",
       "      <td>4.170</td>\n",
       "      <td>617830</td>\n",
       "      <td>35545737</td>\n",
       "      <td>There was a time when the world was sweeter......</td>\n",
       "      <td>215</td>\n",
       "      <td>[Romance, Chick Lit, Contemporary, Fiction, Yo...</td>\n",
       "    </tr>\n",
       "    <tr>\n",
       "      <th>The Bad Beginning (A Series of Unfortunate Events, #1)</th>\n",
       "      <td>Lemony Snicket</td>\n",
       "      <td>3.930</td>\n",
       "      <td>357436</td>\n",
       "      <td>78411</td>\n",
       "      <td>Dear Reader,  I'm sorry to say that the book y...</td>\n",
       "      <td>176</td>\n",
       "      <td>[Young Adult, Childrens, Fantasy, Fiction]</td>\n",
       "    </tr>\n",
       "    <tr>\n",
       "      <th>Interpreter of Maladies</th>\n",
       "      <td>Jhumpa Lahiri</td>\n",
       "      <td>4.140</td>\n",
       "      <td>149557</td>\n",
       "      <td>5439</td>\n",
       "      <td>Navigating between the Indian traditions they'...</td>\n",
       "      <td>198</td>\n",
       "      <td>[Short Stories, Cultural, Fiction, India]</td>\n",
       "    </tr>\n",
       "  </tbody>\n",
       "</table>\n",
       "</div>"
      ],
      "text/plain": [
       "                                                            authors  ratings  \\\n",
       "titles                                                                         \n",
       "Harry Potter and the Prisoner of Azkaban (Harry...     J.K. Rowling    4.560   \n",
       "The Perks of Being a Wallflower                     Stephen Chbosky    4.200   \n",
       "A Walk to Remember                                  Nicholas Sparks    4.170   \n",
       "The Bad Beginning (A Series of Unfortunate Even...   Lemony Snicket    3.930   \n",
       "Interpreter of Maladies                               Jhumpa Lahiri    4.140   \n",
       "\n",
       "                                                    num_ratings        id  \\\n",
       "titles                                                                      \n",
       "Harry Potter and the Prisoner of Azkaban (Harry...      2435849         5   \n",
       "The Perks of Being a Wallflower                         1138861  47440429   \n",
       "A Walk to Remember                                       617830  35545737   \n",
       "The Bad Beginning (A Series of Unfortunate Even...       357436     78411   \n",
       "Interpreter of Maladies                                  149557      5439   \n",
       "\n",
       "                                                                                          description  \\\n",
       "titles                                                                                                  \n",
       "Harry Potter and the Prisoner of Azkaban (Harry...  Harry Potter's third year at Hogwarts is full ...   \n",
       "The Perks of Being a Wallflower                     Now in a special edition to mark the twentieth...   \n",
       "A Walk to Remember                                  There was a time when the world was sweeter......   \n",
       "The Bad Beginning (A Series of Unfortunate Even...  Dear Reader,  I'm sorry to say that the book y...   \n",
       "Interpreter of Maladies                             Navigating between the Indian traditions they'...   \n",
       "\n",
       "                                                    pages  \\\n",
       "titles                                                      \n",
       "Harry Potter and the Prisoner of Azkaban (Harry...    435   \n",
       "The Perks of Being a Wallflower                       224   \n",
       "A Walk to Remember                                    215   \n",
       "The Bad Beginning (A Series of Unfortunate Even...    176   \n",
       "Interpreter of Maladies                               198   \n",
       "\n",
       "                                                                                                genre  \n",
       "titles                                                                                                 \n",
       "Harry Potter and the Prisoner of Azkaban (Harry...  [Middle Grade, Adventure, Fantasy, Audiobook, ...  \n",
       "The Perks of Being a Wallflower                                  [Fiction, Contemporary, Young Adult]  \n",
       "A Walk to Remember                                  [Romance, Chick Lit, Contemporary, Fiction, Yo...  \n",
       "The Bad Beginning (A Series of Unfortunate Even...         [Young Adult, Childrens, Fantasy, Fiction]  \n",
       "Interpreter of Maladies                                     [Short Stories, Cultural, Fiction, India]  "
      ]
     },
     "execution_count": 5,
     "metadata": {},
     "output_type": "execute_result"
    }
   ],
   "source": [
    "dff.head()"
   ]
  },
  {
   "cell_type": "code",
   "execution_count": 18,
   "metadata": {},
   "outputs": [
    {
     "data": {
      "text/html": [
       "<div>\n",
       "<style scoped>\n",
       "    .dataframe tbody tr th:only-of-type {\n",
       "        vertical-align: middle;\n",
       "    }\n",
       "\n",
       "    .dataframe tbody tr th {\n",
       "        vertical-align: top;\n",
       "    }\n",
       "\n",
       "    .dataframe thead th {\n",
       "        text-align: right;\n",
       "    }\n",
       "</style>\n",
       "<table border=\"1\" class=\"dataframe\">\n",
       "  <thead>\n",
       "    <tr style=\"text-align: right;\">\n",
       "      <th></th>\n",
       "      <th>authors</th>\n",
       "      <th>ratings</th>\n",
       "      <th>num_ratings</th>\n",
       "      <th>id</th>\n",
       "      <th>description</th>\n",
       "      <th>pages</th>\n",
       "      <th>genre</th>\n",
       "    </tr>\n",
       "    <tr>\n",
       "      <th>titles</th>\n",
       "      <th></th>\n",
       "      <th></th>\n",
       "      <th></th>\n",
       "      <th></th>\n",
       "      <th></th>\n",
       "      <th></th>\n",
       "      <th></th>\n",
       "    </tr>\n",
       "  </thead>\n",
       "  <tbody>\n",
       "    <tr>\n",
       "      <th>House of Sand and Fog</th>\n",
       "      <td>Andre Dubus III</td>\n",
       "      <td>3.850</td>\n",
       "      <td>117477</td>\n",
       "      <td>38311414</td>\n",
       "      <td>In this “page-turner with a beating heart” (Bo...</td>\n",
       "      <td>368</td>\n",
       "      <td>[Contemporary, Fiction]</td>\n",
       "    </tr>\n",
       "    <tr>\n",
       "      <th>Mr. Maybe</th>\n",
       "      <td>Jane Green</td>\n",
       "      <td>3.450</td>\n",
       "      <td>87732</td>\n",
       "      <td>31101</td>\n",
       "      <td>To Libby Mason, Mr. Right has always meant Mr....</td>\n",
       "      <td>368</td>\n",
       "      <td>[Chick Lit, Womens Fiction, Fiction, Romance]</td>\n",
       "    </tr>\n",
       "    <tr>\n",
       "      <th>Bridget Jones: The Edge of Reason (Bridget Jones, #2)</th>\n",
       "      <td>Helen Fielding</td>\n",
       "      <td>3.570</td>\n",
       "      <td>92427</td>\n",
       "      <td>363752</td>\n",
       "      <td>Lurching from the cappuccino bars of Notting H...</td>\n",
       "      <td>352</td>\n",
       "      <td>[Humor, Romance, Chick Lit, Contemporary, Fict...</td>\n",
       "    </tr>\n",
       "    <tr>\n",
       "      <th>White Oleander</th>\n",
       "      <td>Eckhart Tolle</td>\n",
       "      <td>3.960</td>\n",
       "      <td>307181</td>\n",
       "      <td>32234</td>\n",
       "      <td>Everywhere hailed as a novel of rare beauty an...</td>\n",
       "      <td>446</td>\n",
       "      <td>[Drama, Contemporary, Fiction]</td>\n",
       "    </tr>\n",
       "    <tr>\n",
       "      <th>Confessions of a Shopaholic (Shopaholic, #1)</th>\n",
       "      <td>Sophie Kinsella</td>\n",
       "      <td>3.640</td>\n",
       "      <td>608331</td>\n",
       "      <td>9416</td>\n",
       "      <td>Becky Bloomwood has a fabulous flat in London’...</td>\n",
       "      <td>368</td>\n",
       "      <td>[Romance, Chick Lit, Contemporary, Fiction, Wo...</td>\n",
       "    </tr>\n",
       "  </tbody>\n",
       "</table>\n",
       "</div>"
      ],
      "text/plain": [
       "                                                            authors  ratings  \\\n",
       "titles                                                                         \n",
       "House of Sand and Fog                               Andre Dubus III    3.850   \n",
       "Mr. Maybe                                                Jane Green    3.450   \n",
       "Bridget Jones: The Edge of Reason (Bridget Jone...   Helen Fielding    3.570   \n",
       "White Oleander                                        Eckhart Tolle    3.960   \n",
       "Confessions of a Shopaholic (Shopaholic, #1)        Sophie Kinsella    3.640   \n",
       "\n",
       "                                                    num_ratings        id  \\\n",
       "titles                                                                      \n",
       "House of Sand and Fog                                    117477  38311414   \n",
       "Mr. Maybe                                                 87732     31101   \n",
       "Bridget Jones: The Edge of Reason (Bridget Jone...        92427    363752   \n",
       "White Oleander                                           307181     32234   \n",
       "Confessions of a Shopaholic (Shopaholic, #1)             608331      9416   \n",
       "\n",
       "                                                                                          description  \\\n",
       "titles                                                                                                  \n",
       "House of Sand and Fog                               In this “page-turner with a beating heart” (Bo...   \n",
       "Mr. Maybe                                           To Libby Mason, Mr. Right has always meant Mr....   \n",
       "Bridget Jones: The Edge of Reason (Bridget Jone...  Lurching from the cappuccino bars of Notting H...   \n",
       "White Oleander                                      Everywhere hailed as a novel of rare beauty an...   \n",
       "Confessions of a Shopaholic (Shopaholic, #1)        Becky Bloomwood has a fabulous flat in London’...   \n",
       "\n",
       "                                                    pages  \\\n",
       "titles                                                      \n",
       "House of Sand and Fog                                 368   \n",
       "Mr. Maybe                                             368   \n",
       "Bridget Jones: The Edge of Reason (Bridget Jone...    352   \n",
       "White Oleander                                        446   \n",
       "Confessions of a Shopaholic (Shopaholic, #1)          368   \n",
       "\n",
       "                                                                                                genre  \n",
       "titles                                                                                                 \n",
       "House of Sand and Fog                                                         [Contemporary, Fiction]  \n",
       "Mr. Maybe                                               [Chick Lit, Womens Fiction, Fiction, Romance]  \n",
       "Bridget Jones: The Edge of Reason (Bridget Jone...  [Humor, Romance, Chick Lit, Contemporary, Fict...  \n",
       "White Oleander                                                         [Drama, Contemporary, Fiction]  \n",
       "Confessions of a Shopaholic (Shopaholic, #1)        [Romance, Chick Lit, Contemporary, Fiction, Wo...  "
      ]
     },
     "execution_count": 18,
     "metadata": {},
     "output_type": "execute_result"
    }
   ],
   "source": [
    "simple_rec(genre='Romance', length='long', popularity='super popular', df=dff).head()"
   ]
  },
  {
   "cell_type": "markdown",
   "metadata": {},
   "source": [
    "# Description-Based Recommender System Prep"
   ]
  },
  {
   "cell_type": "markdown",
   "metadata": {},
   "source": [
    "Using description data, TFIDF vectorized with cosine similarity as similarity metric"
   ]
  },
  {
   "cell_type": "markdown",
   "metadata": {},
   "source": [
    "## Test functions for rec system\n",
    "clean_create_BoD():\n",
    "- cleans descriptions\n",
    "- makes keywords for descriptions\n",
    "- makes bag of words for all components of the book"
   ]
  },
  {
   "cell_type": "code",
   "execution_count": 7,
   "metadata": {
    "scrolled": false
   },
   "outputs": [
    {
     "name": "stderr",
     "output_type": "stream",
     "text": [
      "//anaconda3/lib/python3.7/site-packages/pandas/core/generic.py:5208: SettingWithCopyWarning: \n",
      "A value is trying to be set on a copy of a slice from a DataFrame\n",
      "\n",
      "See the caveats in the documentation: http://pandas.pydata.org/pandas-docs/stable/user_guide/indexing.html#returning-a-view-versus-a-copy\n",
      "  self[name] = value\n"
     ]
    },
    {
     "data": {
      "text/plain": [
       "authors                                                    John Grisham\n",
       "ratings                                                           3.850\n",
       "num_ratings                                                       96705\n",
       "id                                                                 5348\n",
       "description           In a plush Virginia office a rich angry old ma...\n",
       "pages                                                               535\n",
       "genre                                      [Mystery, Thriller, Fiction]\n",
       "Key_words             [money, means, nothing, send, exwives, childre...\n",
       "bag_of_description    John Grisham 3.85 96705 5348 In a plush Virgin...\n",
       "Name: The Testament, dtype: object"
      ]
     },
     "execution_count": 7,
     "metadata": {},
     "output_type": "execute_result"
    }
   ],
   "source": [
    "clean_create_BoD(dff.iloc[24])"
   ]
  },
  {
   "cell_type": "markdown",
   "metadata": {},
   "source": [
    "## Clean Descriptions \n",
    "Run this step only if you have not imported keywords csv (if not working with df_keywords)"
   ]
  },
  {
   "cell_type": "code",
   "execution_count": 16,
   "metadata": {},
   "outputs": [
    {
     "data": {
      "text/html": [
       "<div>\n",
       "<style scoped>\n",
       "    .dataframe tbody tr th:only-of-type {\n",
       "        vertical-align: middle;\n",
       "    }\n",
       "\n",
       "    .dataframe tbody tr th {\n",
       "        vertical-align: top;\n",
       "    }\n",
       "\n",
       "    .dataframe thead th {\n",
       "        text-align: right;\n",
       "    }\n",
       "</style>\n",
       "<table border=\"1\" class=\"dataframe\">\n",
       "  <thead>\n",
       "    <tr style=\"text-align: right;\">\n",
       "      <th></th>\n",
       "      <th>authors</th>\n",
       "      <th>ratings</th>\n",
       "      <th>num_ratings</th>\n",
       "      <th>id</th>\n",
       "      <th>description</th>\n",
       "      <th>pages</th>\n",
       "      <th>genre</th>\n",
       "    </tr>\n",
       "    <tr>\n",
       "      <th>titles</th>\n",
       "      <th></th>\n",
       "      <th></th>\n",
       "      <th></th>\n",
       "      <th></th>\n",
       "      <th></th>\n",
       "      <th></th>\n",
       "      <th></th>\n",
       "    </tr>\n",
       "  </thead>\n",
       "  <tbody>\n",
       "    <tr>\n",
       "      <th>Harry Potter and the Prisoner of Azkaban (Harry Potter, #3)</th>\n",
       "      <td>J.K. Rowling</td>\n",
       "      <td>4.560</td>\n",
       "      <td>2435849</td>\n",
       "      <td>5</td>\n",
       "      <td>Harry Potter's third year at Hogwarts is full ...</td>\n",
       "      <td>435</td>\n",
       "      <td>[Middle Grade, Adventure, Fantasy, Audiobook, ...</td>\n",
       "    </tr>\n",
       "    <tr>\n",
       "      <th>The Perks of Being a Wallflower</th>\n",
       "      <td>Stephen Chbosky</td>\n",
       "      <td>4.200</td>\n",
       "      <td>1138861</td>\n",
       "      <td>47440429</td>\n",
       "      <td>Now in a special edition to mark the twentieth...</td>\n",
       "      <td>224</td>\n",
       "      <td>[Fiction, Contemporary, Young Adult]</td>\n",
       "    </tr>\n",
       "    <tr>\n",
       "      <th>A Walk to Remember</th>\n",
       "      <td>Nicholas Sparks</td>\n",
       "      <td>4.170</td>\n",
       "      <td>617830</td>\n",
       "      <td>35545737</td>\n",
       "      <td>There was a time when the world was sweeter......</td>\n",
       "      <td>215</td>\n",
       "      <td>[Romance, Chick Lit, Contemporary, Fiction, Yo...</td>\n",
       "    </tr>\n",
       "    <tr>\n",
       "      <th>The Bad Beginning (A Series of Unfortunate Events, #1)</th>\n",
       "      <td>Lemony Snicket</td>\n",
       "      <td>3.930</td>\n",
       "      <td>357436</td>\n",
       "      <td>78411</td>\n",
       "      <td>Dear Reader,  I'm sorry to say that the book y...</td>\n",
       "      <td>176</td>\n",
       "      <td>[Young Adult, Childrens, Fantasy, Fiction]</td>\n",
       "    </tr>\n",
       "    <tr>\n",
       "      <th>Interpreter of Maladies</th>\n",
       "      <td>Jhumpa Lahiri</td>\n",
       "      <td>4.140</td>\n",
       "      <td>149557</td>\n",
       "      <td>5439</td>\n",
       "      <td>Navigating between the Indian traditions they'...</td>\n",
       "      <td>198</td>\n",
       "      <td>[Short Stories, Cultural, Fiction, India]</td>\n",
       "    </tr>\n",
       "  </tbody>\n",
       "</table>\n",
       "</div>"
      ],
      "text/plain": [
       "                                                            authors  ratings  \\\n",
       "titles                                                                         \n",
       "Harry Potter and the Prisoner of Azkaban (Harry...     J.K. Rowling    4.560   \n",
       "The Perks of Being a Wallflower                     Stephen Chbosky    4.200   \n",
       "A Walk to Remember                                  Nicholas Sparks    4.170   \n",
       "The Bad Beginning (A Series of Unfortunate Even...   Lemony Snicket    3.930   \n",
       "Interpreter of Maladies                               Jhumpa Lahiri    4.140   \n",
       "\n",
       "                                                    num_ratings        id  \\\n",
       "titles                                                                      \n",
       "Harry Potter and the Prisoner of Azkaban (Harry...      2435849         5   \n",
       "The Perks of Being a Wallflower                         1138861  47440429   \n",
       "A Walk to Remember                                       617830  35545737   \n",
       "The Bad Beginning (A Series of Unfortunate Even...       357436     78411   \n",
       "Interpreter of Maladies                                  149557      5439   \n",
       "\n",
       "                                                                                          description  \\\n",
       "titles                                                                                                  \n",
       "Harry Potter and the Prisoner of Azkaban (Harry...  Harry Potter's third year at Hogwarts is full ...   \n",
       "The Perks of Being a Wallflower                     Now in a special edition to mark the twentieth...   \n",
       "A Walk to Remember                                  There was a time when the world was sweeter......   \n",
       "The Bad Beginning (A Series of Unfortunate Even...  Dear Reader,  I'm sorry to say that the book y...   \n",
       "Interpreter of Maladies                             Navigating between the Indian traditions they'...   \n",
       "\n",
       "                                                    pages  \\\n",
       "titles                                                      \n",
       "Harry Potter and the Prisoner of Azkaban (Harry...    435   \n",
       "The Perks of Being a Wallflower                       224   \n",
       "A Walk to Remember                                    215   \n",
       "The Bad Beginning (A Series of Unfortunate Even...    176   \n",
       "Interpreter of Maladies                               198   \n",
       "\n",
       "                                                                                                genre  \n",
       "titles                                                                                                 \n",
       "Harry Potter and the Prisoner of Azkaban (Harry...  [Middle Grade, Adventure, Fantasy, Audiobook, ...  \n",
       "The Perks of Being a Wallflower                                  [Fiction, Contemporary, Young Adult]  \n",
       "A Walk to Remember                                  [Romance, Chick Lit, Contemporary, Fiction, Yo...  \n",
       "The Bad Beginning (A Series of Unfortunate Even...         [Young Adult, Childrens, Fantasy, Fiction]  \n",
       "Interpreter of Maladies                                     [Short Stories, Cultural, Fiction, India]  "
      ]
     },
     "execution_count": 16,
     "metadata": {},
     "output_type": "execute_result"
    }
   ],
   "source": [
    "dff.head()"
   ]
  },
  {
   "cell_type": "code",
   "execution_count": 26,
   "metadata": {
    "collapsed": true
   },
   "outputs": [
    {
     "ename": "KeyboardInterrupt",
     "evalue": "",
     "output_type": "error",
     "traceback": [
      "\u001b[0;31m---------------------------------------------------------------------------\u001b[0m",
      "\u001b[0;31mKeyboardInterrupt\u001b[0m                         Traceback (most recent call last)",
      "\u001b[0;32m<ipython-input-26-2f7e48f9c36b>\u001b[0m in \u001b[0;36m<module>\u001b[0;34m\u001b[0m\n\u001b[1;32m      8\u001b[0m \u001b[0;32mfor\u001b[0m \u001b[0midx\u001b[0m\u001b[0;34m,\u001b[0m \u001b[0mrow\u001b[0m \u001b[0;32min\u001b[0m \u001b[0mdff\u001b[0m\u001b[0;34m.\u001b[0m\u001b[0miterrows\u001b[0m\u001b[0;34m(\u001b[0m\u001b[0;34m)\u001b[0m\u001b[0;34m:\u001b[0m\u001b[0;34m\u001b[0m\u001b[0;34m\u001b[0m\u001b[0m\n\u001b[1;32m      9\u001b[0m \u001b[0;34m\u001b[0m\u001b[0m\n\u001b[0;32m---> 10\u001b[0;31m     \u001b[0mrow\u001b[0m \u001b[0;34m=\u001b[0m \u001b[0mclean_create_BoG\u001b[0m\u001b[0;34m(\u001b[0m\u001b[0mrow\u001b[0m\u001b[0;34m)\u001b[0m\u001b[0;34m\u001b[0m\u001b[0;34m\u001b[0m\u001b[0m\n\u001b[0m\u001b[1;32m     11\u001b[0m     \u001b[0mplot\u001b[0m \u001b[0;34m=\u001b[0m \u001b[0mrow\u001b[0m\u001b[0;34m[\u001b[0m\u001b[0;34m'description'\u001b[0m\u001b[0;34m]\u001b[0m\u001b[0;34m\u001b[0m\u001b[0;34m\u001b[0m\u001b[0m\n\u001b[1;32m     12\u001b[0m \u001b[0;34m\u001b[0m\u001b[0m\n",
      "\u001b[0;32m~/Desktop/flatiron2019/mod6/book_rec_full_system/your_next_page_turner_backend/book_functions.py\u001b[0m in \u001b[0;36mclean_create_BoG\u001b[0;34m(row)\u001b[0m\n\u001b[1;32m     59\u001b[0m \u001b[0;34m\u001b[0m\u001b[0m\n\u001b[1;32m     60\u001b[0m     \u001b[0;31m# clean description\u001b[0m\u001b[0;34m\u001b[0m\u001b[0;34m\u001b[0m\u001b[0;34m\u001b[0m\u001b[0m\n\u001b[0;32m---> 61\u001b[0;31m     \u001b[0mour_row\u001b[0m\u001b[0;34m[\u001b[0m\u001b[0;34m'description'\u001b[0m\u001b[0;34m]\u001b[0m \u001b[0;34m=\u001b[0m \u001b[0mclean_row\u001b[0m\u001b[0;34m(\u001b[0m\u001b[0mrow\u001b[0m\u001b[0;34m)\u001b[0m\u001b[0;34m\u001b[0m\u001b[0;34m\u001b[0m\u001b[0m\n\u001b[0m\u001b[1;32m     62\u001b[0m \u001b[0;34m\u001b[0m\u001b[0m\n\u001b[1;32m     63\u001b[0m     \u001b[0;31m# assigning the key words to the new column\u001b[0m\u001b[0;34m\u001b[0m\u001b[0;34m\u001b[0m\u001b[0;34m\u001b[0m\u001b[0m\n",
      "\u001b[0;32m~/Desktop/flatiron2019/mod6/book_rec_full_system/your_next_page_turner_backend/book_functions.py\u001b[0m in \u001b[0;36mclean_row\u001b[0;34m(row)\u001b[0m\n\u001b[1;32m     15\u001b[0m     \u001b[0mrow\u001b[0m\u001b[0;34m.\u001b[0m\u001b[0mdescription\u001b[0m \u001b[0;34m=\u001b[0m \u001b[0mrow\u001b[0m\u001b[0;34m.\u001b[0m\u001b[0mdescription\u001b[0m\u001b[0;34m.\u001b[0m\u001b[0mreplace\u001b[0m\u001b[0;34m(\u001b[0m\u001b[0;34m'“'\u001b[0m\u001b[0;34m,\u001b[0m\u001b[0;34m''\u001b[0m\u001b[0;34m)\u001b[0m\u001b[0;34m\u001b[0m\u001b[0;34m\u001b[0m\u001b[0m\n\u001b[1;32m     16\u001b[0m     \u001b[0;32mfor\u001b[0m \u001b[0mc\u001b[0m \u001b[0;32min\u001b[0m \u001b[0mstring\u001b[0m\u001b[0;34m.\u001b[0m\u001b[0mpunctuation\u001b[0m\u001b[0;34m:\u001b[0m\u001b[0;34m\u001b[0m\u001b[0;34m\u001b[0m\u001b[0m\n\u001b[0;32m---> 17\u001b[0;31m         \u001b[0mrow\u001b[0m\u001b[0;34m.\u001b[0m\u001b[0mdescription\u001b[0m \u001b[0;34m=\u001b[0m \u001b[0mrow\u001b[0m\u001b[0;34m.\u001b[0m\u001b[0mdescription\u001b[0m\u001b[0;34m.\u001b[0m\u001b[0mreplace\u001b[0m\u001b[0;34m(\u001b[0m\u001b[0mc\u001b[0m\u001b[0;34m,\u001b[0m\u001b[0;34m\"\"\u001b[0m\u001b[0;34m)\u001b[0m\u001b[0;34m\u001b[0m\u001b[0;34m\u001b[0m\u001b[0m\n\u001b[0m\u001b[1;32m     18\u001b[0m \u001b[0;34m\u001b[0m\u001b[0m\n\u001b[1;32m     19\u001b[0m     \u001b[0;31m# Cleaning: get rid of digits in descriptions\u001b[0m\u001b[0;34m\u001b[0m\u001b[0;34m\u001b[0m\u001b[0;34m\u001b[0m\u001b[0m\n",
      "\u001b[0;32m//anaconda3/lib/python3.7/site-packages/pandas/core/generic.py\u001b[0m in \u001b[0;36m__getattr__\u001b[0;34m(self, name)\u001b[0m\n\u001b[1;32m   5176\u001b[0m         \u001b[0;32melse\u001b[0m\u001b[0;34m:\u001b[0m\u001b[0;34m\u001b[0m\u001b[0;34m\u001b[0m\u001b[0m\n\u001b[1;32m   5177\u001b[0m             \u001b[0;32mif\u001b[0m \u001b[0mself\u001b[0m\u001b[0;34m.\u001b[0m\u001b[0m_info_axis\u001b[0m\u001b[0;34m.\u001b[0m\u001b[0m_can_hold_identifiers_and_holds_name\u001b[0m\u001b[0;34m(\u001b[0m\u001b[0mname\u001b[0m\u001b[0;34m)\u001b[0m\u001b[0;34m:\u001b[0m\u001b[0;34m\u001b[0m\u001b[0;34m\u001b[0m\u001b[0m\n\u001b[0;32m-> 5178\u001b[0;31m                 \u001b[0;32mreturn\u001b[0m \u001b[0mself\u001b[0m\u001b[0;34m[\u001b[0m\u001b[0mname\u001b[0m\u001b[0;34m]\u001b[0m\u001b[0;34m\u001b[0m\u001b[0;34m\u001b[0m\u001b[0m\n\u001b[0m\u001b[1;32m   5179\u001b[0m             \u001b[0;32mreturn\u001b[0m \u001b[0mobject\u001b[0m\u001b[0;34m.\u001b[0m\u001b[0m__getattribute__\u001b[0m\u001b[0;34m(\u001b[0m\u001b[0mself\u001b[0m\u001b[0;34m,\u001b[0m \u001b[0mname\u001b[0m\u001b[0;34m)\u001b[0m\u001b[0;34m\u001b[0m\u001b[0;34m\u001b[0m\u001b[0m\n\u001b[1;32m   5180\u001b[0m \u001b[0;34m\u001b[0m\u001b[0m\n",
      "\u001b[0;32m//anaconda3/lib/python3.7/site-packages/pandas/core/series.py\u001b[0m in \u001b[0;36m__getitem__\u001b[0;34m(self, key)\u001b[0m\n\u001b[1;32m   1069\u001b[0m         \u001b[0mkey\u001b[0m \u001b[0;34m=\u001b[0m \u001b[0mcom\u001b[0m\u001b[0;34m.\u001b[0m\u001b[0mapply_if_callable\u001b[0m\u001b[0;34m(\u001b[0m\u001b[0mkey\u001b[0m\u001b[0;34m,\u001b[0m \u001b[0mself\u001b[0m\u001b[0;34m)\u001b[0m\u001b[0;34m\u001b[0m\u001b[0;34m\u001b[0m\u001b[0m\n\u001b[1;32m   1070\u001b[0m         \u001b[0;32mtry\u001b[0m\u001b[0;34m:\u001b[0m\u001b[0;34m\u001b[0m\u001b[0;34m\u001b[0m\u001b[0m\n\u001b[0;32m-> 1071\u001b[0;31m             \u001b[0mresult\u001b[0m \u001b[0;34m=\u001b[0m \u001b[0mself\u001b[0m\u001b[0;34m.\u001b[0m\u001b[0mindex\u001b[0m\u001b[0;34m.\u001b[0m\u001b[0mget_value\u001b[0m\u001b[0;34m(\u001b[0m\u001b[0mself\u001b[0m\u001b[0;34m,\u001b[0m \u001b[0mkey\u001b[0m\u001b[0;34m)\u001b[0m\u001b[0;34m\u001b[0m\u001b[0;34m\u001b[0m\u001b[0m\n\u001b[0m\u001b[1;32m   1072\u001b[0m \u001b[0;34m\u001b[0m\u001b[0m\n\u001b[1;32m   1073\u001b[0m             \u001b[0;32mif\u001b[0m \u001b[0;32mnot\u001b[0m \u001b[0mis_scalar\u001b[0m\u001b[0;34m(\u001b[0m\u001b[0mresult\u001b[0m\u001b[0;34m)\u001b[0m\u001b[0;34m:\u001b[0m\u001b[0;34m\u001b[0m\u001b[0;34m\u001b[0m\u001b[0m\n",
      "\u001b[0;32m//anaconda3/lib/python3.7/site-packages/pandas/core/indexes/base.py\u001b[0m in \u001b[0;36mget_value\u001b[0;34m(self, series, key)\u001b[0m\n\u001b[1;32m   4706\u001b[0m         \u001b[0;31m# use this, e.g. DatetimeIndex\u001b[0m\u001b[0;34m\u001b[0m\u001b[0;34m\u001b[0m\u001b[0;34m\u001b[0m\u001b[0m\n\u001b[1;32m   4707\u001b[0m         \u001b[0;31m# Things like `Series._get_value` (via .at) pass the EA directly here.\u001b[0m\u001b[0;34m\u001b[0m\u001b[0;34m\u001b[0m\u001b[0;34m\u001b[0m\u001b[0m\n\u001b[0;32m-> 4708\u001b[0;31m         \u001b[0ms\u001b[0m \u001b[0;34m=\u001b[0m \u001b[0mgetattr\u001b[0m\u001b[0;34m(\u001b[0m\u001b[0mseries\u001b[0m\u001b[0;34m,\u001b[0m \u001b[0;34m\"_values\"\u001b[0m\u001b[0;34m,\u001b[0m \u001b[0mseries\u001b[0m\u001b[0;34m)\u001b[0m\u001b[0;34m\u001b[0m\u001b[0;34m\u001b[0m\u001b[0m\n\u001b[0m\u001b[1;32m   4709\u001b[0m         \u001b[0;32mif\u001b[0m \u001b[0misinstance\u001b[0m\u001b[0;34m(\u001b[0m\u001b[0ms\u001b[0m\u001b[0;34m,\u001b[0m \u001b[0;34m(\u001b[0m\u001b[0mExtensionArray\u001b[0m\u001b[0;34m,\u001b[0m \u001b[0mIndex\u001b[0m\u001b[0;34m)\u001b[0m\u001b[0;34m)\u001b[0m \u001b[0;32mand\u001b[0m \u001b[0mis_scalar\u001b[0m\u001b[0;34m(\u001b[0m\u001b[0mkey\u001b[0m\u001b[0;34m)\u001b[0m\u001b[0;34m:\u001b[0m\u001b[0;34m\u001b[0m\u001b[0;34m\u001b[0m\u001b[0m\n\u001b[1;32m   4710\u001b[0m             \u001b[0;31m# GH 20882, 21257\u001b[0m\u001b[0;34m\u001b[0m\u001b[0;34m\u001b[0m\u001b[0;34m\u001b[0m\u001b[0m\n",
      "\u001b[0;32m//anaconda3/lib/python3.7/site-packages/pandas/core/series.py\u001b[0m in \u001b[0;36m_values\u001b[0;34m(self)\u001b[0m\n\u001b[1;32m    560\u001b[0m         \u001b[0;32mreturn\u001b[0m \u001b[0mself\u001b[0m\u001b[0;34m.\u001b[0m\u001b[0m_data\u001b[0m\u001b[0;34m.\u001b[0m\u001b[0mexternal_values\u001b[0m\u001b[0;34m(\u001b[0m\u001b[0;34m)\u001b[0m\u001b[0;34m\u001b[0m\u001b[0;34m\u001b[0m\u001b[0m\n\u001b[1;32m    561\u001b[0m \u001b[0;34m\u001b[0m\u001b[0m\n\u001b[0;32m--> 562\u001b[0;31m     \u001b[0;34m@\u001b[0m\u001b[0mproperty\u001b[0m\u001b[0;34m\u001b[0m\u001b[0;34m\u001b[0m\u001b[0m\n\u001b[0m\u001b[1;32m    563\u001b[0m     \u001b[0;32mdef\u001b[0m \u001b[0m_values\u001b[0m\u001b[0;34m(\u001b[0m\u001b[0mself\u001b[0m\u001b[0;34m)\u001b[0m\u001b[0;34m:\u001b[0m\u001b[0;34m\u001b[0m\u001b[0;34m\u001b[0m\u001b[0m\n\u001b[1;32m    564\u001b[0m         \"\"\"\n",
      "\u001b[0;31mKeyboardInterrupt\u001b[0m: "
     ]
    }
   ],
   "source": [
    "# generate a key words column using Rake()\n",
    "# WARNING can take a long time\n",
    "\n",
    "\n",
    "dff['Key_words'] = ''\n",
    "\n",
    "\n",
    "for idx, row in dff.iterrows():\n",
    "    \n",
    "    row = clean_create_BoG(row)\n",
    "    plot = row['description']\n",
    "    \n",
    "    # instantiating Rake, by default is uses english stopwords from NLTK\n",
    "    # and discard all puntuation characters\n",
    "    r = Rake()\n",
    "\n",
    "    # extracting the words by passing the text\n",
    "    r.extract_keywords_from_text(plot)\n",
    "\n",
    "    # getting the dictionary with key words and their scores\n",
    "    key_words_dict_scores = r.get_word_degrees()\n",
    "#     print(key_words_dict_scores)\n",
    "    # assigning the key words to the new column\n",
    "    dff['Key_words'].set_index = list(key_words_dict_scores.keys())\n",
    "    "
   ]
  },
  {
   "cell_type": "code",
   "execution_count": null,
   "metadata": {},
   "outputs": [],
   "source": [
    "# combine description key words, authors and genres into one Bag of Words\n",
    "# WARNING can take a long time\n",
    "\n",
    "dff['bag_of_description'] = ''\n",
    "columns = df_keywords[['Key_words']]\n",
    "for index, row in dff.iterrows():\n",
    "    words = ''\n",
    "    for col in columns:\n",
    "        if col != 'authors':\n",
    "            words = words + ' '.join(row[col])+ ' '\n",
    "        else:\n",
    "            words = words + row[col]+ ' '\n",
    "    dff['bag_of_words'][index] = words\n",
    "    \n",
    "# dff.drop(columns = [col for col in dff.columns if col!= 'bag_of_words'], inplace = True)"
   ]
  },
  {
   "cell_type": "code",
   "execution_count": 11,
   "metadata": {},
   "outputs": [],
   "source": [
    "# Cleaning: get rid of punctuations in descriptions\n",
    "\n",
    "for c in string.punctuation:\n",
    "    dff.description = dff.description.apply(lambda x: x.replace(c,\"\"))\n",
    "    \n",
    "for s in string.digits:\n",
    "    dff.description = dff.description.apply(lambda x: x.replace(s,\"\"))\n",
    "    \n",
    "dff.description = dff.description.apply(lambda x: x.replace('”',''))\n",
    "dff.description = dff.description.apply(lambda x: x.replace('“',''))"
   ]
  },
  {
   "cell_type": "markdown",
   "metadata": {},
   "source": [
    "Defined get_recommendations - using ONLY description"
   ]
  },
  {
   "cell_type": "markdown",
   "metadata": {},
   "source": [
    "## Prepare sim_matrix "
   ]
  },
  {
   "cell_type": "markdown",
   "metadata": {},
   "source": [
    "Make and save similarity matrix to cut back on run time for each recommendation call - too large to save in git"
   ]
  },
  {
   "cell_type": "code",
   "execution_count": 10,
   "metadata": {},
   "outputs": [],
   "source": [
    "# Full code to create and save similarity matrix for full dataframe with keywords\n",
    "\n",
    "tf = TfidfVectorizer(analyzer='word',ngram_range=(1, 2),min_df=0, stop_words='english')\n",
    "tfidf_matrix = tf.fit_transform(df_keywords['bag_of_description'])\n",
    "\n",
    "# get dot product of tfidf matrix on the transposition of itself to get the cosine similarity\n",
    "cosine_sim = linear_kernel(tfidf_matrix, tfidf_matrix)\n",
    "\n",
    "\n",
    "import codecs, json\n",
    "\n",
    "# save sim matrix as json-readable list\n",
    "with open('sim_matrix.json', 'w') as fp:\n",
    "    json.dump(cosine_sim.tolist(), fp)\n",
    "\n",
    "# open sim matrix in np array form    \n",
    "obj_text = codecs.open('sim_matrix.json', 'r', encoding='utf-8').read()\n",
    "b_new = json.loads(obj_text)\n",
    "sim_matrix  = np.array(b_new)"
   ]
  },
  {
   "cell_type": "code",
   "execution_count": 15,
   "metadata": {},
   "outputs": [],
   "source": [
    "# saving / opening as a pkl file\n",
    "\n",
    "with open('sim_matrix.pkl','wb') as f:\n",
    "    pickle.dump(sim_matrix, f)\n",
    "    \n",
    "with open('sim_matrix.pkl','rb') as f:\n",
    "    sim_matrix_csv = pickle.load(f)\n",
    "    print(sim_matrix_csv.shape)\n",
    "    "
   ]
  },
  {
   "cell_type": "code",
   "execution_count": 17,
   "metadata": {},
   "outputs": [
    {
     "name": "stdout",
     "output_type": "stream",
     "text": [
      "(4183, 4183)\n"
     ]
    }
   ],
   "source": [
    "with open('sim_matrix.pkl','rb') as f:\n",
    "    sim_matrix_csv = pickle.load(f)\n",
    "    print(sim_matrix_csv.shape)\n",
    "    "
   ]
  },
  {
   "cell_type": "code",
   "execution_count": null,
   "metadata": {},
   "outputs": [],
   "source": [
    "pd.to_csv()"
   ]
  },
  {
   "cell_type": "markdown",
   "metadata": {},
   "source": [
    "## Generating Master Bag of Words Column\n",
    "Run these only if you are not using csv loaded df_keywords"
   ]
  },
  {
   "cell_type": "code",
   "execution_count": 6,
   "metadata": {},
   "outputs": [],
   "source": [
    "# prepare authors to be combined in BoW\n",
    "dff.authors = dff.authors.apply(lambda x: x.split(' '))\n",
    "dff.authors = dff.authors.apply(lambda x: ''.join(x).lower().replace('.',''))"
   ]
  },
  {
   "cell_type": "code",
   "execution_count": 9,
   "metadata": {
    "collapsed": true
   },
   "outputs": [
    {
     "ename": "KeyError",
     "evalue": "\"['Key_words'] not in index\"",
     "output_type": "error",
     "traceback": [
      "\u001b[0;31m---------------------------------------------------------------------------\u001b[0m",
      "\u001b[0;31mKeyError\u001b[0m                                  Traceback (most recent call last)",
      "\u001b[0;32m<ipython-input-9-b7169a96083d>\u001b[0m in \u001b[0;36m<module>\u001b[0;34m\u001b[0m\n\u001b[1;32m      3\u001b[0m \u001b[0;34m\u001b[0m\u001b[0m\n\u001b[1;32m      4\u001b[0m \u001b[0mdff\u001b[0m\u001b[0;34m[\u001b[0m\u001b[0;34m'bag_of_words'\u001b[0m\u001b[0;34m]\u001b[0m \u001b[0;34m=\u001b[0m \u001b[0;34m''\u001b[0m\u001b[0;34m\u001b[0m\u001b[0;34m\u001b[0m\u001b[0m\n\u001b[0;32m----> 5\u001b[0;31m \u001b[0mcolumns\u001b[0m \u001b[0;34m=\u001b[0m \u001b[0mdff\u001b[0m\u001b[0;34m[\u001b[0m\u001b[0;34m[\u001b[0m\u001b[0;34m'authors'\u001b[0m\u001b[0;34m,\u001b[0m\u001b[0;34m'genre'\u001b[0m\u001b[0;34m,\u001b[0m\u001b[0;34m'Key_words'\u001b[0m\u001b[0;34m]\u001b[0m\u001b[0;34m]\u001b[0m\u001b[0;34m\u001b[0m\u001b[0;34m\u001b[0m\u001b[0m\n\u001b[0m\u001b[1;32m      6\u001b[0m \u001b[0;32mfor\u001b[0m \u001b[0mindex\u001b[0m\u001b[0;34m,\u001b[0m \u001b[0mrow\u001b[0m \u001b[0;32min\u001b[0m \u001b[0mdff\u001b[0m\u001b[0;34m.\u001b[0m\u001b[0miterrows\u001b[0m\u001b[0;34m(\u001b[0m\u001b[0;34m)\u001b[0m\u001b[0;34m:\u001b[0m\u001b[0;34m\u001b[0m\u001b[0;34m\u001b[0m\u001b[0m\n\u001b[1;32m      7\u001b[0m     \u001b[0mwords\u001b[0m \u001b[0;34m=\u001b[0m \u001b[0;34m''\u001b[0m\u001b[0;34m\u001b[0m\u001b[0;34m\u001b[0m\u001b[0m\n",
      "\u001b[0;32m//anaconda3/lib/python3.7/site-packages/pandas/core/frame.py\u001b[0m in \u001b[0;36m__getitem__\u001b[0;34m(self, key)\u001b[0m\n\u001b[1;32m   2932\u001b[0m                 \u001b[0mkey\u001b[0m \u001b[0;34m=\u001b[0m \u001b[0mlist\u001b[0m\u001b[0;34m(\u001b[0m\u001b[0mkey\u001b[0m\u001b[0;34m)\u001b[0m\u001b[0;34m\u001b[0m\u001b[0;34m\u001b[0m\u001b[0m\n\u001b[1;32m   2933\u001b[0m             indexer = self.loc._convert_to_indexer(key, axis=1,\n\u001b[0;32m-> 2934\u001b[0;31m                                                    raise_missing=True)\n\u001b[0m\u001b[1;32m   2935\u001b[0m \u001b[0;34m\u001b[0m\u001b[0m\n\u001b[1;32m   2936\u001b[0m         \u001b[0;31m# take() does not accept boolean indexers\u001b[0m\u001b[0;34m\u001b[0m\u001b[0;34m\u001b[0m\u001b[0;34m\u001b[0m\u001b[0m\n",
      "\u001b[0;32m//anaconda3/lib/python3.7/site-packages/pandas/core/indexing.py\u001b[0m in \u001b[0;36m_convert_to_indexer\u001b[0;34m(self, obj, axis, is_setter, raise_missing)\u001b[0m\n\u001b[1;32m   1352\u001b[0m                 kwargs = {'raise_missing': True if is_setter else\n\u001b[1;32m   1353\u001b[0m                           raise_missing}\n\u001b[0;32m-> 1354\u001b[0;31m                 \u001b[0;32mreturn\u001b[0m \u001b[0mself\u001b[0m\u001b[0;34m.\u001b[0m\u001b[0m_get_listlike_indexer\u001b[0m\u001b[0;34m(\u001b[0m\u001b[0mobj\u001b[0m\u001b[0;34m,\u001b[0m \u001b[0maxis\u001b[0m\u001b[0;34m,\u001b[0m \u001b[0;34m**\u001b[0m\u001b[0mkwargs\u001b[0m\u001b[0;34m)\u001b[0m\u001b[0;34m[\u001b[0m\u001b[0;36m1\u001b[0m\u001b[0;34m]\u001b[0m\u001b[0;34m\u001b[0m\u001b[0;34m\u001b[0m\u001b[0m\n\u001b[0m\u001b[1;32m   1355\u001b[0m         \u001b[0;32melse\u001b[0m\u001b[0;34m:\u001b[0m\u001b[0;34m\u001b[0m\u001b[0;34m\u001b[0m\u001b[0m\n\u001b[1;32m   1356\u001b[0m             \u001b[0;32mtry\u001b[0m\u001b[0;34m:\u001b[0m\u001b[0;34m\u001b[0m\u001b[0;34m\u001b[0m\u001b[0m\n",
      "\u001b[0;32m//anaconda3/lib/python3.7/site-packages/pandas/core/indexing.py\u001b[0m in \u001b[0;36m_get_listlike_indexer\u001b[0;34m(self, key, axis, raise_missing)\u001b[0m\n\u001b[1;32m   1159\u001b[0m         self._validate_read_indexer(keyarr, indexer,\n\u001b[1;32m   1160\u001b[0m                                     \u001b[0mo\u001b[0m\u001b[0;34m.\u001b[0m\u001b[0m_get_axis_number\u001b[0m\u001b[0;34m(\u001b[0m\u001b[0maxis\u001b[0m\u001b[0;34m)\u001b[0m\u001b[0;34m,\u001b[0m\u001b[0;34m\u001b[0m\u001b[0;34m\u001b[0m\u001b[0m\n\u001b[0;32m-> 1161\u001b[0;31m                                     raise_missing=raise_missing)\n\u001b[0m\u001b[1;32m   1162\u001b[0m         \u001b[0;32mreturn\u001b[0m \u001b[0mkeyarr\u001b[0m\u001b[0;34m,\u001b[0m \u001b[0mindexer\u001b[0m\u001b[0;34m\u001b[0m\u001b[0;34m\u001b[0m\u001b[0m\n\u001b[1;32m   1163\u001b[0m \u001b[0;34m\u001b[0m\u001b[0m\n",
      "\u001b[0;32m//anaconda3/lib/python3.7/site-packages/pandas/core/indexing.py\u001b[0m in \u001b[0;36m_validate_read_indexer\u001b[0;34m(self, key, indexer, axis, raise_missing)\u001b[0m\n\u001b[1;32m   1250\u001b[0m             \u001b[0;32mif\u001b[0m \u001b[0;32mnot\u001b[0m\u001b[0;34m(\u001b[0m\u001b[0mself\u001b[0m\u001b[0;34m.\u001b[0m\u001b[0mname\u001b[0m \u001b[0;34m==\u001b[0m \u001b[0;34m'loc'\u001b[0m \u001b[0;32mand\u001b[0m \u001b[0;32mnot\u001b[0m \u001b[0mraise_missing\u001b[0m\u001b[0;34m)\u001b[0m\u001b[0;34m:\u001b[0m\u001b[0;34m\u001b[0m\u001b[0;34m\u001b[0m\u001b[0m\n\u001b[1;32m   1251\u001b[0m                 \u001b[0mnot_found\u001b[0m \u001b[0;34m=\u001b[0m \u001b[0mlist\u001b[0m\u001b[0;34m(\u001b[0m\u001b[0mset\u001b[0m\u001b[0;34m(\u001b[0m\u001b[0mkey\u001b[0m\u001b[0;34m)\u001b[0m \u001b[0;34m-\u001b[0m \u001b[0mset\u001b[0m\u001b[0;34m(\u001b[0m\u001b[0max\u001b[0m\u001b[0;34m)\u001b[0m\u001b[0;34m)\u001b[0m\u001b[0;34m\u001b[0m\u001b[0;34m\u001b[0m\u001b[0m\n\u001b[0;32m-> 1252\u001b[0;31m                 \u001b[0;32mraise\u001b[0m \u001b[0mKeyError\u001b[0m\u001b[0;34m(\u001b[0m\u001b[0;34m\"{} not in index\"\u001b[0m\u001b[0;34m.\u001b[0m\u001b[0mformat\u001b[0m\u001b[0;34m(\u001b[0m\u001b[0mnot_found\u001b[0m\u001b[0;34m)\u001b[0m\u001b[0;34m)\u001b[0m\u001b[0;34m\u001b[0m\u001b[0;34m\u001b[0m\u001b[0m\n\u001b[0m\u001b[1;32m   1253\u001b[0m \u001b[0;34m\u001b[0m\u001b[0m\n\u001b[1;32m   1254\u001b[0m             \u001b[0;31m# we skip the warning on Categorical/Interval\u001b[0m\u001b[0;34m\u001b[0m\u001b[0;34m\u001b[0m\u001b[0;34m\u001b[0m\u001b[0m\n",
      "\u001b[0;31mKeyError\u001b[0m: \"['Key_words'] not in index\""
     ]
    }
   ],
   "source": [
    "# combine description key words, authors and genres into one Bag of Words\n",
    "# WARNING can take a long time\n",
    "\n",
    "dff['bag_of_words'] = ''\n",
    "columns = dff[['authors','genre','Key_words']]\n",
    "for index, row in dff.iterrows():\n",
    "    words = ''\n",
    "    for col in columns:\n",
    "        if col != 'authors':\n",
    "            words = words + ' '.join(row[col])+ ' '\n",
    "        else:\n",
    "            words = words + row[col]+ ' '\n",
    "    dff['bag_of_words'][index] = words\n",
    "    \n",
    "# dff.drop(columns = [col for col in dff.columns if col!= 'bag_of_words'], inplace = True)"
   ]
  },
  {
   "cell_type": "markdown",
   "metadata": {},
   "source": [
    "Extra step to save/read in if necessary"
   ]
  },
  {
   "cell_type": "code",
   "execution_count": 12,
   "metadata": {},
   "outputs": [],
   "source": [
    "# save dataframe as precautionary measure\n",
    "# dff.to_csv('df_with_keywords.csv')\n",
    "\n",
    "# read in if needed\n",
    "# df_keywords = pd.read_csv('KEEP_df_with_keywords.csv')\n",
    "# df_keywords.drop(['Unnamed: 0','index'], axis=1, inplace=True)\n",
    "# df_keywords.genre = dff.genre\n",
    "# df_keywords.genre = df_keywords.genre.apply(lambda x: x.replace(\"'\",''))"
   ]
  },
  {
   "cell_type": "code",
   "execution_count": 28,
   "metadata": {},
   "outputs": [],
   "source": [
    "# read in if needed\n",
    "df_keywords = pd.read_csv('KEEP_df_with_keywords.csv')\n",
    "df_keywords.drop(['Unnamed: 0','index'], axis=1, inplace=True)\n",
    "# df_keywords.genre = dff.genre\n",
    "# df_keywords.genre = df_keywords.genre.apply(lambda x: x.replace(\"'\",''))"
   ]
  },
  {
   "cell_type": "markdown",
   "metadata": {},
   "source": [
    "# Rec System Testing"
   ]
  },
  {
   "cell_type": "markdown",
   "metadata": {},
   "source": [
    "##  Without Filter"
   ]
  },
  {
   "cell_type": "code",
   "execution_count": 16,
   "metadata": {},
   "outputs": [],
   "source": [
    "# should set index to titles , as it is the index for df_keywords already\n",
    "df_final = pd.DataFrame(df_keywords['bag_of_description'])\n"
   ]
  },
  {
   "cell_type": "code",
   "execution_count": 19,
   "metadata": {},
   "outputs": [],
   "source": [
    "# instantiating and generating the count matrix\n",
    "count = CountVectorizer()\n",
    "count_matrix = count.fit_transform(df_final['bag_of_description'])\n",
    "\n",
    "# generating the cosine similarity matrix\n",
    "count_sim = cosine_similarity(count_matrix, count_matrix) "
   ]
  },
  {
   "cell_type": "code",
   "execution_count": 7,
   "metadata": {},
   "outputs": [
    {
     "data": {
      "text/html": [
       "<div>\n",
       "<style scoped>\n",
       "    .dataframe tbody tr th:only-of-type {\n",
       "        vertical-align: middle;\n",
       "    }\n",
       "\n",
       "    .dataframe tbody tr th {\n",
       "        vertical-align: top;\n",
       "    }\n",
       "\n",
       "    .dataframe thead th {\n",
       "        text-align: right;\n",
       "    }\n",
       "</style>\n",
       "<table border=\"1\" class=\"dataframe\">\n",
       "  <thead>\n",
       "    <tr style=\"text-align: right;\">\n",
       "      <th></th>\n",
       "      <th>authors</th>\n",
       "      <th>description</th>\n",
       "      <th>genre</th>\n",
       "      <th>id</th>\n",
       "      <th>num_ratings</th>\n",
       "      <th>pages</th>\n",
       "      <th>ratings</th>\n",
       "      <th>Key_words</th>\n",
       "      <th>bag_of_description</th>\n",
       "    </tr>\n",
       "    <tr>\n",
       "      <th>titles</th>\n",
       "      <th></th>\n",
       "      <th></th>\n",
       "      <th></th>\n",
       "      <th></th>\n",
       "      <th></th>\n",
       "      <th></th>\n",
       "      <th></th>\n",
       "      <th></th>\n",
       "      <th></th>\n",
       "    </tr>\n",
       "  </thead>\n",
       "  <tbody>\n",
       "    <tr>\n",
       "      <th>If You Ask Me</th>\n",
       "      <td>heatherdixonwallwork</td>\n",
       "      <td>Itgirl Betty White delivers a hilarious slyly ...</td>\n",
       "      <td>['biography', 'memoir', 'autobiography', 'nonf...</td>\n",
       "      <td>9972053</td>\n",
       "      <td>27289</td>\n",
       "      <td>258.000</td>\n",
       "      <td>3.670</td>\n",
       "      <td>['host', 'saturday', 'night', 'live', 'despite...</td>\n",
       "      <td>heatherdixonwallwork biography memoir autobiog...</td>\n",
       "    </tr>\n",
       "    <tr>\n",
       "      <th>Yes Please</th>\n",
       "      <td>amypoehler</td>\n",
       "      <td>In Amy Poehler’s highly anticipated first book...</td>\n",
       "      <td>['biography', 'memoir', 'autobiography', 'nonf...</td>\n",
       "      <td>20910157</td>\n",
       "      <td>382237</td>\n",
       "      <td>329.000</td>\n",
       "      <td>3.820</td>\n",
       "      <td>['love', 'l', 'words', 'hilarious', 'biting', ...</td>\n",
       "      <td>amypoehler biography memoir autobiography nonf...</td>\n",
       "    </tr>\n",
       "    <tr>\n",
       "      <th>The Girl with the Lower Back Tattoo</th>\n",
       "      <td>piercebrown</td>\n",
       "      <td>The Emmy Awardwinning comedian actress writer ...</td>\n",
       "      <td>['biography', 'memoir', 'autobiography', 'nonf...</td>\n",
       "      <td>29405093</td>\n",
       "      <td>89699</td>\n",
       "      <td>323.000</td>\n",
       "      <td>3.730</td>\n",
       "      <td>['bighearted', 'brave', 'love', 'family', 'rel...</td>\n",
       "      <td>piercebrown biography memoir autobiography non...</td>\n",
       "    </tr>\n",
       "    <tr>\n",
       "      <th>Dad Is Fat</th>\n",
       "      <td>mayabanks</td>\n",
       "      <td>In Dad is Fat standup comedian Jim Gaffigan wh...</td>\n",
       "      <td>['memoir', 'comedy', 'autobiography', 'nonfict...</td>\n",
       "      <td>16141924</td>\n",
       "      <td>58885</td>\n",
       "      <td>288.000</td>\n",
       "      <td>3.780</td>\n",
       "      <td>['taco', 'little', 'kids', 'fat', 'dad', 'bill...</td>\n",
       "      <td>mayabanks memoir comedy autobiography nonficti...</td>\n",
       "    </tr>\n",
       "    <tr>\n",
       "      <th>Let's Pretend This Never Happened: A Mostly True Memoir</th>\n",
       "      <td>laurenoliver</td>\n",
       "      <td>For fans of Tina Fey and David Sedaris—Interne...</td>\n",
       "      <td>['biographymemoir', 'memoir', 'autobiography',...</td>\n",
       "      <td>12868761</td>\n",
       "      <td>148285</td>\n",
       "      <td>318.000</td>\n",
       "      <td>3.900</td>\n",
       "      <td>['never', 'happened', 'lawson', 'takes', 'read...</td>\n",
       "      <td>laurenoliver biographymemoir memoir autobiogra...</td>\n",
       "    </tr>\n",
       "    <tr>\n",
       "      <th>Live from New York: An Oral History of Saturday Night Live</th>\n",
       "      <td>takashihiraide</td>\n",
       "      <td>WHEN A YOUNG WRITER named Lorne Michaels talke...</td>\n",
       "      <td>['history', 'biography', 'humor', 'tv', 'comed...</td>\n",
       "      <td>55095</td>\n",
       "      <td>14359</td>\n",
       "      <td>608.000</td>\n",
       "      <td>4.050</td>\n",
       "      <td>['murray', 'trashed', 'taboos', 'bestselling',...</td>\n",
       "      <td>takashihiraide history biography humor tv come...</td>\n",
       "    </tr>\n",
       "    <tr>\n",
       "      <th>Furiously Happy: A Funny Book About Horrible Things</th>\n",
       "      <td>nkjemisin</td>\n",
       "      <td>New York Times Bestseller  In Furiously Happy...</td>\n",
       "      <td>['biography', 'memoir', 'autobiography', 'nonf...</td>\n",
       "      <td>23848559</td>\n",
       "      <td>107529</td>\n",
       "      <td>329.000</td>\n",
       "      <td>3.920</td>\n",
       "      <td>['member', 'tribe', 'offering', '‘', 'normal',...</td>\n",
       "      <td>nkjemisin biography memoir autobiography nonfi...</td>\n",
       "    </tr>\n",
       "    <tr>\n",
       "      <th>Born Standing Up: A Comic's Life</th>\n",
       "      <td>stevemartin</td>\n",
       "      <td>In the midseventies Steve Martin exploded onto...</td>\n",
       "      <td>['culture', 'film', 'biography', 'humor', 'bio...</td>\n",
       "      <td>773858</td>\n",
       "      <td>76807</td>\n",
       "      <td>207.000</td>\n",
       "      <td>3.870</td>\n",
       "      <td>['sacrifice', 'discipline', 'company', 'iconoc...</td>\n",
       "      <td>stevemartin culture film biography humor biogr...</td>\n",
       "    </tr>\n",
       "    <tr>\n",
       "      <th>Is Everyone Hanging Out Without Me?</th>\n",
       "      <td>mindykaling</td>\n",
       "      <td>Mindy Kaling has lived many lives the obedient...</td>\n",
       "      <td>['biography', 'memoir', 'autobiography', 'nonf...</td>\n",
       "      <td>10335308</td>\n",
       "      <td>385415</td>\n",
       "      <td>222.000</td>\n",
       "      <td>3.850</td>\n",
       "      <td>['finally', 'prescription', 'trim', 'figure', ...</td>\n",
       "      <td>mindykaling biography memoir autobiography non...</td>\n",
       "    </tr>\n",
       "    <tr>\n",
       "      <th>Theft by Finding: Diaries 1977-2002</th>\n",
       "      <td>michaelconnelly</td>\n",
       "      <td>David Sedaris tells all in a book that is lite...</td>\n",
       "      <td>['memoir', 'autobiography', 'nonfiction', 'aud...</td>\n",
       "      <td>32498038</td>\n",
       "      <td>22335</td>\n",
       "      <td>514.000</td>\n",
       "      <td>3.930</td>\n",
       "      <td>['one', 'drugabusing', 'dropout', 'internation...</td>\n",
       "      <td>michaelconnelly memoir autobiography nonfictio...</td>\n",
       "    </tr>\n",
       "    <tr>\n",
       "      <th>Life</th>\n",
       "      <td>keithrichards</td>\n",
       "      <td>With the Rolling Stones Keith Richards created...</td>\n",
       "      <td>['music', 'biography', 'memoir', 'autobiograph...</td>\n",
       "      <td>9439303</td>\n",
       "      <td>76502</td>\n",
       "      <td>564.000</td>\n",
       "      <td>3.860</td>\n",
       "      <td>['rolling', 'stones', 'keith', 'richards', 'cr...</td>\n",
       "      <td>keithrichards music biography memoir autobiogr...</td>\n",
       "    </tr>\n",
       "  </tbody>\n",
       "</table>\n",
       "</div>"
      ],
      "text/plain": [
       "                                                                 authors  \\\n",
       "titles                                                                     \n",
       "If You Ask Me                                       heatherdixonwallwork   \n",
       "Yes Please                                                    amypoehler   \n",
       "The Girl with the Lower Back Tattoo                          piercebrown   \n",
       "Dad Is Fat                                                     mayabanks   \n",
       "Let's Pretend This Never Happened: A Mostly Tru...          laurenoliver   \n",
       "Live from New York: An Oral History of Saturday...        takashihiraide   \n",
       "Furiously Happy: A Funny Book About Horrible Th...             nkjemisin   \n",
       "Born Standing Up: A Comic's Life                             stevemartin   \n",
       "Is Everyone Hanging Out Without Me?                          mindykaling   \n",
       "Theft by Finding: Diaries 1977-2002                      michaelconnelly   \n",
       "Life                                                       keithrichards   \n",
       "\n",
       "                                                                                          description  \\\n",
       "titles                                                                                                  \n",
       "If You Ask Me                                       Itgirl Betty White delivers a hilarious slyly ...   \n",
       "Yes Please                                          In Amy Poehler’s highly anticipated first book...   \n",
       "The Girl with the Lower Back Tattoo                 The Emmy Awardwinning comedian actress writer ...   \n",
       "Dad Is Fat                                          In Dad is Fat standup comedian Jim Gaffigan wh...   \n",
       "Let's Pretend This Never Happened: A Mostly Tru...  For fans of Tina Fey and David Sedaris—Interne...   \n",
       "Live from New York: An Oral History of Saturday...  WHEN A YOUNG WRITER named Lorne Michaels talke...   \n",
       "Furiously Happy: A Funny Book About Horrible Th...   New York Times Bestseller  In Furiously Happy...   \n",
       "Born Standing Up: A Comic's Life                    In the midseventies Steve Martin exploded onto...   \n",
       "Is Everyone Hanging Out Without Me?                 Mindy Kaling has lived many lives the obedient...   \n",
       "Theft by Finding: Diaries 1977-2002                 David Sedaris tells all in a book that is lite...   \n",
       "Life                                                With the Rolling Stones Keith Richards created...   \n",
       "\n",
       "                                                                                                genre  \\\n",
       "titles                                                                                                  \n",
       "If You Ask Me                                       ['biography', 'memoir', 'autobiography', 'nonf...   \n",
       "Yes Please                                          ['biography', 'memoir', 'autobiography', 'nonf...   \n",
       "The Girl with the Lower Back Tattoo                 ['biography', 'memoir', 'autobiography', 'nonf...   \n",
       "Dad Is Fat                                          ['memoir', 'comedy', 'autobiography', 'nonfict...   \n",
       "Let's Pretend This Never Happened: A Mostly Tru...  ['biographymemoir', 'memoir', 'autobiography',...   \n",
       "Live from New York: An Oral History of Saturday...  ['history', 'biography', 'humor', 'tv', 'comed...   \n",
       "Furiously Happy: A Funny Book About Horrible Th...  ['biography', 'memoir', 'autobiography', 'nonf...   \n",
       "Born Standing Up: A Comic's Life                    ['culture', 'film', 'biography', 'humor', 'bio...   \n",
       "Is Everyone Hanging Out Without Me?                 ['biography', 'memoir', 'autobiography', 'nonf...   \n",
       "Theft by Finding: Diaries 1977-2002                 ['memoir', 'autobiography', 'nonfiction', 'aud...   \n",
       "Life                                                ['music', 'biography', 'memoir', 'autobiograph...   \n",
       "\n",
       "                                                          id  num_ratings  \\\n",
       "titles                                                                      \n",
       "If You Ask Me                                        9972053        27289   \n",
       "Yes Please                                          20910157       382237   \n",
       "The Girl with the Lower Back Tattoo                 29405093        89699   \n",
       "Dad Is Fat                                          16141924        58885   \n",
       "Let's Pretend This Never Happened: A Mostly Tru...  12868761       148285   \n",
       "Live from New York: An Oral History of Saturday...     55095        14359   \n",
       "Furiously Happy: A Funny Book About Horrible Th...  23848559       107529   \n",
       "Born Standing Up: A Comic's Life                      773858        76807   \n",
       "Is Everyone Hanging Out Without Me?                 10335308       385415   \n",
       "Theft by Finding: Diaries 1977-2002                 32498038        22335   \n",
       "Life                                                 9439303        76502   \n",
       "\n",
       "                                                     pages  ratings  \\\n",
       "titles                                                                \n",
       "If You Ask Me                                      258.000    3.670   \n",
       "Yes Please                                         329.000    3.820   \n",
       "The Girl with the Lower Back Tattoo                323.000    3.730   \n",
       "Dad Is Fat                                         288.000    3.780   \n",
       "Let's Pretend This Never Happened: A Mostly Tru... 318.000    3.900   \n",
       "Live from New York: An Oral History of Saturday... 608.000    4.050   \n",
       "Furiously Happy: A Funny Book About Horrible Th... 329.000    3.920   \n",
       "Born Standing Up: A Comic's Life                   207.000    3.870   \n",
       "Is Everyone Hanging Out Without Me?                222.000    3.850   \n",
       "Theft by Finding: Diaries 1977-2002                514.000    3.930   \n",
       "Life                                               564.000    3.860   \n",
       "\n",
       "                                                                                            Key_words  \\\n",
       "titles                                                                                                  \n",
       "If You Ask Me                                       ['host', 'saturday', 'night', 'live', 'despite...   \n",
       "Yes Please                                          ['love', 'l', 'words', 'hilarious', 'biting', ...   \n",
       "The Girl with the Lower Back Tattoo                 ['bighearted', 'brave', 'love', 'family', 'rel...   \n",
       "Dad Is Fat                                          ['taco', 'little', 'kids', 'fat', 'dad', 'bill...   \n",
       "Let's Pretend This Never Happened: A Mostly Tru...  ['never', 'happened', 'lawson', 'takes', 'read...   \n",
       "Live from New York: An Oral History of Saturday...  ['murray', 'trashed', 'taboos', 'bestselling',...   \n",
       "Furiously Happy: A Funny Book About Horrible Th...  ['member', 'tribe', 'offering', '‘', 'normal',...   \n",
       "Born Standing Up: A Comic's Life                    ['sacrifice', 'discipline', 'company', 'iconoc...   \n",
       "Is Everyone Hanging Out Without Me?                 ['finally', 'prescription', 'trim', 'figure', ...   \n",
       "Theft by Finding: Diaries 1977-2002                 ['one', 'drugabusing', 'dropout', 'internation...   \n",
       "Life                                                ['rolling', 'stones', 'keith', 'richards', 'cr...   \n",
       "\n",
       "                                                                                   bag_of_description  \n",
       "titles                                                                                                 \n",
       "If You Ask Me                                       heatherdixonwallwork biography memoir autobiog...  \n",
       "Yes Please                                          amypoehler biography memoir autobiography nonf...  \n",
       "The Girl with the Lower Back Tattoo                 piercebrown biography memoir autobiography non...  \n",
       "Dad Is Fat                                          mayabanks memoir comedy autobiography nonficti...  \n",
       "Let's Pretend This Never Happened: A Mostly Tru...  laurenoliver biographymemoir memoir autobiogra...  \n",
       "Live from New York: An Oral History of Saturday...  takashihiraide history biography humor tv come...  \n",
       "Furiously Happy: A Funny Book About Horrible Th...  nkjemisin biography memoir autobiography nonfi...  \n",
       "Born Standing Up: A Comic's Life                    stevemartin culture film biography humor biogr...  \n",
       "Is Everyone Hanging Out Without Me?                 mindykaling biography memoir autobiography non...  \n",
       "Theft by Finding: Diaries 1977-2002                 michaelconnelly memoir autobiography nonfictio...  \n",
       "Life                                                keithrichards music biography memoir autobiogr...  "
      ]
     },
     "execution_count": 7,
     "metadata": {},
     "output_type": "execute_result"
    }
   ],
   "source": [
    "recommendations('Bossypants', df_keywords, sim_matrix)"
   ]
  },
  {
   "cell_type": "markdown",
   "metadata": {},
   "source": [
    "## With Filter"
   ]
  },
  {
   "cell_type": "code",
   "execution_count": 8,
   "metadata": {
    "scrolled": true
   },
   "outputs": [
    {
     "data": {
      "text/html": [
       "<div>\n",
       "<style scoped>\n",
       "    .dataframe tbody tr th:only-of-type {\n",
       "        vertical-align: middle;\n",
       "    }\n",
       "\n",
       "    .dataframe tbody tr th {\n",
       "        vertical-align: top;\n",
       "    }\n",
       "\n",
       "    .dataframe thead th {\n",
       "        text-align: right;\n",
       "    }\n",
       "</style>\n",
       "<table border=\"1\" class=\"dataframe\">\n",
       "  <thead>\n",
       "    <tr style=\"text-align: right;\">\n",
       "      <th></th>\n",
       "      <th>authors</th>\n",
       "      <th>description</th>\n",
       "      <th>genre</th>\n",
       "      <th>id</th>\n",
       "      <th>num_ratings</th>\n",
       "      <th>pages</th>\n",
       "      <th>ratings</th>\n",
       "      <th>Key_words</th>\n",
       "      <th>bag_of_description</th>\n",
       "    </tr>\n",
       "    <tr>\n",
       "      <th>titles</th>\n",
       "      <th></th>\n",
       "      <th></th>\n",
       "      <th></th>\n",
       "      <th></th>\n",
       "      <th></th>\n",
       "      <th></th>\n",
       "      <th></th>\n",
       "      <th></th>\n",
       "      <th></th>\n",
       "    </tr>\n",
       "  </thead>\n",
       "  <tbody>\n",
       "    <tr>\n",
       "      <th>Live from New York: An Oral History of Saturday Night Live</th>\n",
       "      <td>takashihiraide</td>\n",
       "      <td>WHEN A YOUNG WRITER named Lorne Michaels talke...</td>\n",
       "      <td>['history', 'biography', 'humor', 'tv', 'comed...</td>\n",
       "      <td>55095</td>\n",
       "      <td>14359</td>\n",
       "      <td>608.000</td>\n",
       "      <td>4.050</td>\n",
       "      <td>['murray', 'trashed', 'taboos', 'bestselling',...</td>\n",
       "      <td>takashihiraide history biography humor tv come...</td>\n",
       "    </tr>\n",
       "    <tr>\n",
       "      <th>Theft by Finding: Diaries 1977-2002</th>\n",
       "      <td>michaelconnelly</td>\n",
       "      <td>David Sedaris tells all in a book that is lite...</td>\n",
       "      <td>['memoir', 'autobiography', 'nonfiction', 'aud...</td>\n",
       "      <td>32498038</td>\n",
       "      <td>22335</td>\n",
       "      <td>514.000</td>\n",
       "      <td>3.930</td>\n",
       "      <td>['one', 'drugabusing', 'dropout', 'internation...</td>\n",
       "      <td>michaelconnelly memoir autobiography nonfictio...</td>\n",
       "    </tr>\n",
       "  </tbody>\n",
       "</table>\n",
       "</div>"
      ],
      "text/plain": [
       "                                                            authors  \\\n",
       "titles                                                                \n",
       "Live from New York: An Oral History of Saturday...   takashihiraide   \n",
       "Theft by Finding: Diaries 1977-2002                 michaelconnelly   \n",
       "\n",
       "                                                                                          description  \\\n",
       "titles                                                                                                  \n",
       "Live from New York: An Oral History of Saturday...  WHEN A YOUNG WRITER named Lorne Michaels talke...   \n",
       "Theft by Finding: Diaries 1977-2002                 David Sedaris tells all in a book that is lite...   \n",
       "\n",
       "                                                                                                genre  \\\n",
       "titles                                                                                                  \n",
       "Live from New York: An Oral History of Saturday...  ['history', 'biography', 'humor', 'tv', 'comed...   \n",
       "Theft by Finding: Diaries 1977-2002                 ['memoir', 'autobiography', 'nonfiction', 'aud...   \n",
       "\n",
       "                                                          id  num_ratings  \\\n",
       "titles                                                                      \n",
       "Live from New York: An Oral History of Saturday...     55095        14359   \n",
       "Theft by Finding: Diaries 1977-2002                 32498038        22335   \n",
       "\n",
       "                                                     pages  ratings  \\\n",
       "titles                                                                \n",
       "Live from New York: An Oral History of Saturday... 608.000    4.050   \n",
       "Theft by Finding: Diaries 1977-2002                514.000    3.930   \n",
       "\n",
       "                                                                                            Key_words  \\\n",
       "titles                                                                                                  \n",
       "Live from New York: An Oral History of Saturday...  ['murray', 'trashed', 'taboos', 'bestselling',...   \n",
       "Theft by Finding: Diaries 1977-2002                 ['one', 'drugabusing', 'dropout', 'internation...   \n",
       "\n",
       "                                                                                   bag_of_description  \n",
       "titles                                                                                                 \n",
       "Live from New York: An Oral History of Saturday...  takashihiraide history biography humor tv come...  \n",
       "Theft by Finding: Diaries 1977-2002                 michaelconnelly memoir autobiography nonfictio...  "
      ]
     },
     "execution_count": 8,
     "metadata": {},
     "output_type": "execute_result"
    }
   ],
   "source": [
    "recommendations('Bossypants', df_keywords, sim_matrix, filter_args=('long','deep cut'))"
   ]
  },
  {
   "cell_type": "code",
   "execution_count": null,
   "metadata": {},
   "outputs": [],
   "source": [
    "filter_df()"
   ]
  }
 ],
 "metadata": {
  "kernelspec": {
   "display_name": "Python 3",
   "language": "python",
   "name": "python3"
  },
  "language_info": {
   "codemirror_mode": {
    "name": "ipython",
    "version": 3
   },
   "file_extension": ".py",
   "mimetype": "text/x-python",
   "name": "python",
   "nbconvert_exporter": "python",
   "pygments_lexer": "ipython3",
   "version": "3.7.3"
  },
  "toc": {
   "base_numbering": 1,
   "nav_menu": {
    "height": "228.991px",
    "width": "410px"
   },
   "number_sections": true,
   "sideBar": true,
   "skip_h1_title": false,
   "title_cell": "Table of Contents",
   "title_sidebar": "Contents",
   "toc_cell": false,
   "toc_position": {},
   "toc_section_display": true,
   "toc_window_display": false
  }
 },
 "nbformat": 4,
 "nbformat_minor": 2
}
