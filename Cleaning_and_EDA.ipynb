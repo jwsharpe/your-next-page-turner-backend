{
 "cells": [
  {
   "cell_type": "markdown",
   "metadata": {},
   "source": [
    "Imports ~"
   ]
  },
  {
   "cell_type": "code",
   "execution_count": 4,
   "metadata": {},
   "outputs": [],
   "source": [
    "# File imports\n",
    "import signin_config\n",
    "from book_functions import *\n",
    "\n",
    "# Reloads above files as they are saved internally\n",
    "%reload_ext autoreload\n",
    "%autoreload 2\n",
    "\n",
    "# Base imports\n",
    "import pandas as pd\n",
    "import numpy as np\n",
    "import json\n",
    "import seaborn as sns\n",
    "import matplotlib.pyplot as plt\n",
    "%matplotlib inline\n",
    "\n",
    "# NLP imports\n",
    "from sklearn.feature_extraction.text import TfidfVectorizer\n",
    "from sklearn.metrics.pairwise import linear_kernel\n",
    "from scipy import stats\n",
    "import nltk\n",
    "from nltk.corpus import gutenberg, stopwords\n",
    "from nltk.collocations import *\n",
    "from nltk import FreqDist\n",
    "from nltk import word_tokenize\n",
    "import string\n",
    "import re\n",
    "import gensim\n",
    "from gensim.utils import simple_preprocess\n",
    "from gensim.parsing.preprocessing import STOPWORDS\n",
    "from nltk.corpus import stopwords\n",
    "from nltk.stem import WordNetLemmatizer, SnowballStemmer\n",
    "from nltk.stem.porter import *\n",
    "\n",
    "# !pip install rake-nltk\n",
    "from rake_nltk import Rake\n",
    "\n",
    "\n",
    "# scraping imports\n",
    "from selenium import webdriver\n",
    "from selenium.webdriver.common.by import By\n",
    "from selenium.webdriver.common.keys import Keys\n",
    "from selenium.common.exceptions import TimeoutException\n",
    "from selenium.webdriver.support.ui import WebDriverWait\n",
    "from selenium.webdriver.support import expected_conditions as EC"
   ]
  },
  {
   "cell_type": "code",
   "execution_count": 5,
   "metadata": {},
   "outputs": [],
   "source": [
    "pd.set_option('display.float_format', lambda x: '%.3f' % x)"
   ]
  },
  {
   "cell_type": "markdown",
   "metadata": {},
   "source": [
    "# Experimental Process"
   ]
  },
  {
   "cell_type": "markdown",
   "metadata": {},
   "source": [
    "\n",
    "## Clean data \n",
    "\n",
    "- look for nan values, empty descriptions, clean types (str -> int), (organize pictures)\n",
    "    ratings, number of ratings, pages (str -> int)\n"
   ]
  },
  {
   "cell_type": "markdown",
   "metadata": {},
   "source": [
    "Merging with other dataframe -->"
   ]
  },
  {
   "cell_type": "code",
   "execution_count": 31,
   "metadata": {},
   "outputs": [],
   "source": [
    "# df = pd.read_csv('goodread_data2_reb1.csv')\n",
    "# df1 = df1 = pd.read_csv('cleaned_gr_data_quan2.csv')\n",
    "# df_genres = pd.concat([df,df1], sort=True)\n",
    "# df_parent = pd.concat([df,df1], sort=True)"
   ]
  },
  {
   "cell_type": "code",
   "execution_count": 32,
   "metadata": {},
   "outputs": [],
   "source": [
    "# df_genres.drop(['Unnamed: 0','format'], axis=1, inplace=True) # drop format and random first column\n",
    "# df_genres.pages = df_genres.pages.apply(lambda x: float(str(x).split(' ')[0]))\n",
    "# df_genres.genre = df_genres.genre.apply(lambda x: x.replace('{','').replace('}',''))\n",
    "# df_genres.genre = df_genres.genre.apply(lambda x: x.replace(\"'\",''))\n",
    "# df_genres['genre'] = df_genres['genre'].map(lambda x: x.lower().split(','))"
   ]
  },
  {
   "cell_type": "code",
   "execution_count": 135,
   "metadata": {},
   "outputs": [],
   "source": [
    "df = pd.read_csv('goodread_img1.csv')\n",
    "df.drop(['Unnamed: 0'], axis=1,inplace=True)#,'pages','format'], axis=1,inplace=True)"
   ]
  },
  {
   "cell_type": "code",
   "execution_count": 41,
   "metadata": {},
   "outputs": [],
   "source": [
    "df.genre = df.genre.apply(lambda x: x.replace('{','').replace('}',''))\n",
    "df.genre = df.genre.apply(lambda x: x.replace(\"'\",''))\n",
    "df['genre'] = df['genre'].map(lambda x: x.lower().split(','))"
   ]
  },
  {
   "cell_type": "markdown",
   "metadata": {},
   "source": [
    "## NLP cleaning\n",
    "\n",
    "Filtering, Stemming, Lemming and TF-IDF to produce an nlp-friendly dataset named 'nlp'"
   ]
  },
  {
   "cell_type": "markdown",
   "metadata": {},
   "source": [
    "Functions to clean:"
   ]
  },
  {
   "cell_type": "code",
   "execution_count": 42,
   "metadata": {},
   "outputs": [],
   "source": [
    "# new stopwords_list and regex pattern\n",
    "\n",
    "pattern = \"([a-zA-Z]+(?:'[a-z]+)?)\"\n",
    "stopwords_list = stopwords.words('english')\n",
    "stopwords_list += list(string.punctuation)\n",
    "stopwords_list += ['0', '1', '2', '3', '4', '5', '6', '7', '8', '9']\n",
    "stopwords_list += ['book', 'author', 'novel', 'year', 'come', 'stories','story','thing','alex', 'stephanie', \n",
    "                   'bestseller']"
   ]
  },
  {
   "cell_type": "code",
   "execution_count": 43,
   "metadata": {},
   "outputs": [],
   "source": [
    "nlp = pd.DataFrame(df.description)\n",
    "nlp['describe_raw'] = nlp.description.apply(lambda info: nltk.regexp_tokenize(info, pattern));\n",
    "nlp['raw_token'] = nlp.describe_raw.apply(lambda x: [word.lower() for word in x]);\n",
    "nlp['token_list'] = nlp.raw_token.apply(lambda x : [word for word in x if word not in stopwords_list]);\n",
    "nlp['freq_dist'] = nlp.describe_raw.apply(lambda x: FreqDist(x));\n",
    "nlp['freq_dist_top'] = nlp.freq_dist.apply(lambda x: x.most_common(20));\n",
    "\n",
    "# apply tfidf to vectorize\n",
    "tf = TfidfVectorizer(analyzer='word', ngram_range=(1, 3), min_df=0, stop_words='english')\n",
    "nlp['tfidf'] = tf.fit_transform(nlp['description'])"
   ]
  },
  {
   "cell_type": "markdown",
   "metadata": {},
   "source": [
    "## Get Keywords"
   ]
  },
  {
   "cell_type": "code",
   "execution_count": 6,
   "metadata": {},
   "outputs": [],
   "source": [
    "dff = pd.read_csv('goodreads_updated.csv')\n",
    "dff.drop('Unnamed: 0', axis=1,inplace=True)\n",
    "stop_point = 7000\n",
    "dff = dff.iloc[:stop_point]"
   ]
  },
  {
   "cell_type": "markdown",
   "metadata": {},
   "source": [
    "If starting the notebook for the first time, run the following. Otherwise continue on"
   ]
  },
  {
   "cell_type": "code",
   "execution_count": 5,
   "metadata": {},
   "outputs": [],
   "source": [
    "# create author and genre column clean\n",
    "dff['au_ge'] = dff.authors.apply(lambda x: x.lower().replace(' ','')) + ' ' + dff.genre.apply(lambda x: x.replace(' ','').replace(',',' ') if x!='set()' and type(x)!=float else ' ')\n",
    "dff['au_ge'] = dff.au_ge.apply(lambda x: x.lower() if type(x) != float else x) \n",
    "\n",
    "\n",
    "# clean description for keyword search\n",
    "\n",
    "dff['desc_clean'] = dff.description\n",
    "for c in string.punctuation + '”' + '“':\n",
    "    if c == '`' or c == \"'\":\n",
    "        dff.desc_clean = dff.desc_clean.apply(lambda x: x.replace(c,\"\") if type(x)!=float else x)\n",
    "    else:\n",
    "        dff.desc_clean = dff.desc_clean.apply(lambda x: x.replace(c,\" \") if type(x)!=float else x)\n",
    "for s in string.digits:\n",
    "    dff.desc_clean = dff.desc_clean.apply(lambda x: x.replace(s,\"\") if type(x)!=float else x)\n",
    "    dff.desc_clean = dff.desc_clean.apply(lambda x: x.replace('”','') if type(x)!=float else x)\n",
    "    dff.desc_clean = dff.desc_clean.apply(lambda x: x.replace('“','') if type(x)!=float else x)\n",
    "\n",
    "\n",
    "dff['key_words'] = \"\"\n",
    "for idx, row in dff.iterrows():\n",
    "    plot = row['desc_clean']\n",
    "    if type(plot) == float:\n",
    "        continue\n",
    "    \n",
    "    # instantiating Rake, by default is uses english stopwords from NLTK\n",
    "    # and discard all puntuation characters\n",
    "    r = Rake()\n",
    "    # extracting the words by passing the text\n",
    "    r.extract_keywords_from_text(plot)\n",
    "    # getting the dictionary with key words and their scores\n",
    "    key_words_dict_scores = r.get_word_degrees()\n",
    "\n",
    "    # assigning the key words to the new column\n",
    "    keys = list(key_words_dict_scores.keys())\n",
    "    keys = ' '.join(keys)\n",
    "    dff.loc[idx, 'key_words'] = keys\n",
    "\n",
    "# combine these all into one bag of words\n",
    "dff['bag_of_words'] = dff.au_ge.apply(lambda x: x if type(x)!=float else '') + ' ' + dff.key_words.apply(lambda x: x if type(x)!=float else '')"
   ]
  },
  {
   "cell_type": "code",
   "execution_count": 29,
   "metadata": {},
   "outputs": [
    {
     "data": {
      "text/html": [
       "<div>\n",
       "<style scoped>\n",
       "    .dataframe tbody tr th:only-of-type {\n",
       "        vertical-align: middle;\n",
       "    }\n",
       "\n",
       "    .dataframe tbody tr th {\n",
       "        vertical-align: top;\n",
       "    }\n",
       "\n",
       "    .dataframe thead th {\n",
       "        text-align: right;\n",
       "    }\n",
       "</style>\n",
       "<table border=\"1\" class=\"dataframe\">\n",
       "  <thead>\n",
       "    <tr style=\"text-align: right;\">\n",
       "      <th></th>\n",
       "      <th>titles</th>\n",
       "      <th>authors</th>\n",
       "      <th>ratings</th>\n",
       "      <th>num_ratings</th>\n",
       "      <th>id</th>\n",
       "      <th>img</th>\n",
       "      <th>description</th>\n",
       "      <th>pages</th>\n",
       "      <th>genre</th>\n",
       "      <th>format</th>\n",
       "      <th>isbn</th>\n",
       "      <th>au_ge</th>\n",
       "      <th>desc_clean</th>\n",
       "      <th>key_words</th>\n",
       "      <th>bag_of_words</th>\n",
       "    </tr>\n",
       "  </thead>\n",
       "  <tbody>\n",
       "    <tr>\n",
       "      <th>2381</th>\n",
       "      <td>The Waste Land and Other Writings</td>\n",
       "      <td>T.S. Eliot</td>\n",
       "      <td>4.21</td>\n",
       "      <td>3338</td>\n",
       "      <td>34082</td>\n",
       "      <td>https://i.gr-assets.com/images/S/compressed.ph...</td>\n",
       "      <td>Also includes Prufrock and Other Observations,...</td>\n",
       "      <td>272.000</td>\n",
       "      <td>Poetry, Classics, Fiction</td>\n",
       "      <td>paperback</td>\n",
       "      <td>9780375759345</td>\n",
       "      <td>t.s.eliot poetry classics fiction</td>\n",
       "      <td>Also includes Prufrock and Other Observations ...</td>\n",
       "      <td>seemed potent new poetic language words psycho...</td>\n",
       "      <td>t.s.eliot poetry classics fiction seemed poten...</td>\n",
       "    </tr>\n",
       "    <tr>\n",
       "      <th>3751</th>\n",
       "      <td>Pather Panchali: Song of the Road</td>\n",
       "      <td>Bibhutibhushan Bandyopadhyay</td>\n",
       "      <td>4.55</td>\n",
       "      <td>3735</td>\n",
       "      <td>617097</td>\n",
       "      <td>https://i.gr-assets.com/images/S/compressed.ph...</td>\n",
       "      <td>Pather Panchali deals with the life of the Roy...</td>\n",
       "      <td>316.000</td>\n",
       "      <td>Fiction, Classics, Cultural, India, Novels</td>\n",
       "      <td>paperback</td>\n",
       "      <td>9780253201867</td>\n",
       "      <td>bibhutibhushanbandyopadhyay fiction classics c...</td>\n",
       "      <td>Pather Panchali deals with the life of the Roy...</td>\n",
       "      <td>anguish name book first appeared roy family co...</td>\n",
       "      <td>bibhutibhushanbandyopadhyay fiction classics c...</td>\n",
       "    </tr>\n",
       "    <tr>\n",
       "      <th>5224</th>\n",
       "      <td>Castellio contra Calvino: Conciencia contra vi...</td>\n",
       "      <td>John Steinbeck</td>\n",
       "      <td>4.37</td>\n",
       "      <td>778</td>\n",
       "      <td>65054</td>\n",
       "      <td>https://i.gr-assets.com/images/S/compressed.ph...</td>\n",
       "      <td>\"Tolerancia frente a intolerancia, libertad fr...</td>\n",
       "      <td>256.000</td>\n",
       "      <td>History, Nonfiction, Religion, Literature</td>\n",
       "      <td>paperback</td>\n",
       "      <td>9788495359568</td>\n",
       "      <td>johnsteinbeck history nonfiction religion lite...</td>\n",
       "      <td>Tolerancia frente a intolerancia libertad fren...</td>\n",
       "      <td>tutela humanismo frente tolerancia la comunida...</td>\n",
       "      <td>johnsteinbeck history nonfiction religion lite...</td>\n",
       "    </tr>\n",
       "  </tbody>\n",
       "</table>\n",
       "</div>"
      ],
      "text/plain": [
       "                                                 titles  \\\n",
       "2381                  The Waste Land and Other Writings   \n",
       "3751                  Pather Panchali: Song of the Road   \n",
       "5224  Castellio contra Calvino: Conciencia contra vi...   \n",
       "\n",
       "                           authors ratings num_ratings      id  \\\n",
       "2381                    T.S. Eliot    4.21        3338   34082   \n",
       "3751  Bibhutibhushan Bandyopadhyay    4.55        3735  617097   \n",
       "5224                John Steinbeck    4.37         778   65054   \n",
       "\n",
       "                                                    img  \\\n",
       "2381  https://i.gr-assets.com/images/S/compressed.ph...   \n",
       "3751  https://i.gr-assets.com/images/S/compressed.ph...   \n",
       "5224  https://i.gr-assets.com/images/S/compressed.ph...   \n",
       "\n",
       "                                            description   pages  \\\n",
       "2381  Also includes Prufrock and Other Observations,... 272.000   \n",
       "3751  Pather Panchali deals with the life of the Roy... 316.000   \n",
       "5224  \"Tolerancia frente a intolerancia, libertad fr... 256.000   \n",
       "\n",
       "                                           genre     format           isbn  \\\n",
       "2381                   Poetry, Classics, Fiction  paperback  9780375759345   \n",
       "3751  Fiction, Classics, Cultural, India, Novels  paperback  9780253201867   \n",
       "5224   History, Nonfiction, Religion, Literature  paperback  9788495359568   \n",
       "\n",
       "                                                  au_ge  \\\n",
       "2381                  t.s.eliot poetry classics fiction   \n",
       "3751  bibhutibhushanbandyopadhyay fiction classics c...   \n",
       "5224  johnsteinbeck history nonfiction religion lite...   \n",
       "\n",
       "                                             desc_clean  \\\n",
       "2381  Also includes Prufrock and Other Observations ...   \n",
       "3751  Pather Panchali deals with the life of the Roy...   \n",
       "5224  Tolerancia frente a intolerancia libertad fren...   \n",
       "\n",
       "                                              key_words  \\\n",
       "2381  seemed potent new poetic language words psycho...   \n",
       "3751  anguish name book first appeared roy family co...   \n",
       "5224  tutela humanismo frente tolerancia la comunida...   \n",
       "\n",
       "                                           bag_of_words  \n",
       "2381  t.s.eliot poetry classics fiction seemed poten...  \n",
       "3751  bibhutibhushanbandyopadhyay fiction classics c...  \n",
       "5224  johnsteinbeck history nonfiction religion lite...  "
      ]
     },
     "execution_count": 29,
     "metadata": {},
     "output_type": "execute_result"
    }
   ],
   "source": [
    "dff.sample(3)"
   ]
  },
  {
   "cell_type": "markdown",
   "metadata": {},
   "source": [
    "To save or load json files, run the following:"
   ]
  },
  {
   "cell_type": "code",
   "execution_count": 54,
   "metadata": {},
   "outputs": [],
   "source": [
    "dff.to_json(r'goodreads_updated.json', orient='index')\n",
    "\n",
    "# with open('goodreads_updated.json') as f:\n",
    "data = pd.read_json('goodreads_updated.json', orient='index').reset_index(drop=True)"
   ]
  },
  {
   "cell_type": "markdown",
   "metadata": {},
   "source": [
    "# Testing Functions"
   ]
  },
  {
   "cell_type": "markdown",
   "metadata": {},
   "source": [
    "## Tesing Recommendation System"
   ]
  },
  {
   "cell_type": "markdown",
   "metadata": {},
   "source": [
    "Create cosine similarity matrix using linear_kernal on tfidf vectorized bag of words"
   ]
  },
  {
   "cell_type": "code",
   "execution_count": 81,
   "metadata": {},
   "outputs": [],
   "source": [
    "\n",
    "tf = TfidfVectorizer(analyzer='word', ngram_range=(1, 3), min_df=0, stop_words='english')\n",
    "tfidf_matrix = tf.fit_transform(data_df['bag_of_words'])\n",
    "\n",
    "cosine_similarities = linear_kernel(tfidf_matrix, tfidf_matrix)\n"
   ]
  },
  {
   "cell_type": "markdown",
   "metadata": {},
   "source": [
    "## Testing Processing Functions"
   ]
  },
  {
   "cell_type": "code",
   "execution_count": 19,
   "metadata": {},
   "outputs": [],
   "source": [
    "dff = pd.read_csv('goodreads_updated.csv')\n",
    "dff.drop(\"Unnamed: 0\", axis=1, inplace=True)"
   ]
  },
  {
   "cell_type": "code",
   "execution_count": 26,
   "metadata": {},
   "outputs": [],
   "source": [
    "aug, kee = process_and_almost_bag(dff['authors'], dff['genre'], dff['desc_clean'])\n",
    "boow = make_bow(aug, kee)"
   ]
  },
  {
   "cell_type": "markdown",
   "metadata": {},
   "source": [
    "Stop here - clean below before final push"
   ]
  },
  {
   "cell_type": "markdown",
   "metadata": {},
   "source": [
    "# EDA and Further Exploration"
   ]
  },
  {
   "cell_type": "markdown",
   "metadata": {},
   "source": [
    "Import this dataframe to retain consistency for EDA"
   ]
  },
  {
   "cell_type": "code",
   "execution_count": 50,
   "metadata": {},
   "outputs": [],
   "source": [
    "df_eda = pd.read_csv('goodreads_updated.csv')\n",
    "df_eda.drop(\"Unnamed: 0\", axis=1, inplace=True)\n",
    "# clean relevant columns if necessary\n",
    "df_eda.ratings = df_eda.ratings.apply(lambda x: float(x) if '.' in x else np.nan)\n",
    "df_eda.num_ratings = df_eda.num_ratings.apply(lambda x: float(x) if x !='rating' else np.nan )\n",
    "df_eda.isbn = df_eda.isbn.apply(lambda x: float(x) if type(x) != float and 'ISBN' not in x else float(x.split()[-1]) if type(x)==str else np.nan)"
   ]
  },
  {
   "cell_type": "code",
   "execution_count": 72,
   "metadata": {
    "scrolled": false
   },
   "outputs": [
    {
     "name": "stdout",
     "output_type": "stream",
     "text": [
      "<class 'pandas.core.frame.DataFrame'>\n",
      "RangeIndex: 7000 entries, 0 to 6999\n",
      "Data columns (total 15 columns):\n",
      "titles          7000 non-null object\n",
      "authors         7000 non-null object\n",
      "ratings         6982 non-null float64\n",
      "num_ratings     6985 non-null float64\n",
      "id              7000 non-null int64\n",
      "img             6803 non-null object\n",
      "description     6720 non-null object\n",
      "pages           6480 non-null float64\n",
      "genre           6854 non-null object\n",
      "format          6079 non-null object\n",
      "isbn            5826 non-null float64\n",
      "au_ge           7000 non-null object\n",
      "desc_clean      6720 non-null object\n",
      "key_words       6720 non-null object\n",
      "bag_of_words    7000 non-null object\n",
      "dtypes: float64(4), int64(1), object(10)\n",
      "memory usage: 820.4+ KB\n"
     ]
    }
   ],
   "source": [
    "df_eda.info()"
   ]
  },
  {
   "cell_type": "markdown",
   "metadata": {},
   "source": [
    "## EDA of continuous data"
   ]
  },
  {
   "cell_type": "markdown",
   "metadata": {},
   "source": [
    "pages, ratings, num_ratings, isbn, id"
   ]
  },
  {
   "cell_type": "code",
   "execution_count": 58,
   "metadata": {
    "scrolled": false
   },
   "outputs": [
    {
     "name": "stdout",
     "output_type": "stream",
     "text": [
      "pages:\n",
      " count    6480.000\n",
      "mean      289.179\n",
      "std       610.903\n",
      "min         0.000\n",
      "25%       158.000\n",
      "50%       239.000\n",
      "75%       336.000\n",
      "max     32000.000\n",
      "Name: pages, dtype: float64 \n",
      "ratings:\n",
      " count   6982.000\n",
      "mean       3.896\n",
      "std        0.312\n",
      "min        0.000\n",
      "25%        3.710\n",
      "50%        3.910\n",
      "75%        4.110\n",
      "max        4.820\n",
      "Name: ratings, dtype: float64 \n",
      "num_ratings:\n",
      " count      6985.000\n",
      "mean       6526.740\n",
      "std       72605.949\n",
      "min           0.000\n",
      "25%         154.000\n",
      "50%         400.000\n",
      "75%        1407.000\n",
      "max     3411877.000\n",
      "Name: num_ratings, dtype: float64\n"
     ]
    }
   ],
   "source": [
    "print('pages:\\n',df_eda.pages.describe(), '\\nratings:\\n',df_eda.ratings.describe(), '\\nnum_ratings:\\n',  df_eda.num_ratings.describe(), )"
   ]
  },
  {
   "cell_type": "markdown",
   "metadata": {},
   "source": [
    "Pages:"
   ]
  },
  {
   "cell_type": "code",
   "execution_count": 60,
   "metadata": {
    "scrolled": true
   },
   "outputs": [
    {
     "name": "stdout",
     "output_type": "stream",
     "text": [
      "pages:\n",
      " count    6480.000\n",
      "mean      289.179\n",
      "std       610.903\n",
      "min         0.000\n",
      "25%       158.000\n",
      "50%       239.000\n",
      "75%       336.000\n",
      "max     32000.000\n",
      "Name: pages, dtype: float64\n"
     ]
    }
   ],
   "source": [
    "print('pages:\\n',df_eda.pages.describe())"
   ]
  },
  {
   "cell_type": "code",
   "execution_count": 59,
   "metadata": {},
   "outputs": [
    {
     "data": {
      "image/png": "[encoded data removed]",
      "text/plain": [
       "<Figure size 432x288 with 1 Axes>"
      ]
     },
     "metadata": {
      "needs_background": "light"
     },
     "output_type": "display_data"
    }
   ],
   "source": [
    "sns.boxplot(df_eda.pages);"
   ]
  },
  {
   "cell_type": "markdown",
   "metadata": {},
   "source": [
    "Ratings:"
   ]
  },
  {
   "cell_type": "code",
   "execution_count": 68,
   "metadata": {
    "scrolled": true
   },
   "outputs": [
    {
     "name": "stdout",
     "output_type": "stream",
     "text": [
      "ratings:\n",
      " count   6982.000\n",
      "mean       3.896\n",
      "std        0.312\n",
      "min        0.000\n",
      "25%        3.710\n",
      "50%        3.910\n",
      "75%        4.110\n",
      "max        4.820\n",
      "Name: ratings, dtype: float64\n"
     ]
    }
   ],
   "source": [
    "print('ratings:\\n',df_eda.ratings.describe(),)"
   ]
  },
  {
   "cell_type": "code",
   "execution_count": 66,
   "metadata": {},
   "outputs": [
    {
     "data": {
      "image/png": "[encoded data removed]",
      "text/plain": [
       "<Figure size 432x288 with 1 Axes>"
      ]
     },
     "metadata": {
      "needs_background": "light"
     },
     "output_type": "display_data"
    }
   ],
   "source": [
    "sns.boxplot(df_eda.ratings);"
   ]
  },
  {
   "cell_type": "markdown",
   "metadata": {},
   "source": [
    "Num_ratings:"
   ]
  },
  {
   "cell_type": "code",
   "execution_count": 67,
   "metadata": {
    "scrolled": true
   },
   "outputs": [
    {
     "name": "stdout",
     "output_type": "stream",
     "text": [
      "num_ratings:\n",
      " count      6985.000\n",
      "mean       6526.740\n",
      "std       72605.949\n",
      "min           0.000\n",
      "25%         154.000\n",
      "50%         400.000\n",
      "75%        1407.000\n",
      "max     3411877.000\n",
      "Name: num_ratings, dtype: float64\n"
     ]
    }
   ],
   "source": [
    "print('num_ratings:\\n',  df_eda.num_ratings.describe())"
   ]
  },
  {
   "cell_type": "code",
   "execution_count": 98,
   "metadata": {},
   "outputs": [
    {
     "data": {
      "image/png": "[encoded data removed]",
      "text/plain": [
       "<Figure size 432x288 with 1 Axes>"
      ]
     },
     "metadata": {
      "needs_background": "light"
     },
     "output_type": "display_data"
    }
   ],
   "source": [
    "sns.boxplot(df_eda.num_ratings);"
   ]
  },
  {
   "cell_type": "code",
   "execution_count": 74,
   "metadata": {},
   "outputs": [
    {
     "data": {
      "text/plain": [
       "79"
      ]
     },
     "execution_count": 74,
     "metadata": {},
     "output_type": "execute_result"
    }
   ],
   "source": [
    "len(df_eda[(df_eda.num_ratings > 80000)]) #& (df.num_ratings > 27000)])"
   ]
  },
  {
   "cell_type": "code",
   "execution_count": null,
   "metadata": {},
   "outputs": [],
   "source": []
  },
  {
   "cell_type": "markdown",
   "metadata": {},
   "source": [
    "# Future considerations:"
   ]
  },
  {
   "cell_type": "markdown",
   "metadata": {},
   "source": [
    "## NLP Topic Modeling"
   ]
  },
  {
   "cell_type": "markdown",
   "metadata": {},
   "source": [
    "Preprocessing data:"
   ]
  },
  {
   "cell_type": "code",
   "execution_count": 130,
   "metadata": {},
   "outputs": [],
   "source": [
    "processed_docs = df['description'].map(preprocess)"
   ]
  },
  {
   "cell_type": "code",
   "execution_count": 131,
   "metadata": {},
   "outputs": [],
   "source": [
    "dictionary = gensim.corpora.Dictionary(processed_docs)"
   ]
  },
  {
   "cell_type": "code",
   "execution_count": 132,
   "metadata": {},
   "outputs": [],
   "source": [
    "dictionary.filter_extremes(no_below=20, no_above=0.66, keep_n=10000)"
   ]
  },
  {
   "cell_type": "markdown",
   "metadata": {},
   "source": [
    "Bag of Words on dataset"
   ]
  },
  {
   "cell_type": "code",
   "execution_count": 133,
   "metadata": {},
   "outputs": [],
   "source": [
    "bow_corpus = [dictionary.doc2bow(doc) for doc in processed_docs]"
   ]
  },
  {
   "cell_type": "code",
   "execution_count": 134,
   "metadata": {},
   "outputs": [],
   "source": [
    "bow_doc_2001 = bow_corpus[2001]"
   ]
  },
  {
   "cell_type": "code",
   "execution_count": 135,
   "metadata": {},
   "outputs": [],
   "source": [
    "from gensim import corpora, models\n",
    "tfidf = models.TfidfModel(bow_corpus)\n",
    "corpus_tfidf = tfidf[bow_corpus]"
   ]
  },
  {
   "cell_type": "code",
   "execution_count": 140,
   "metadata": {},
   "outputs": [],
   "source": [
    "lda_model = gensim.models.LdaMulticore(bow_corpus, num_topics=10, id2word=dictionary, passes=4, workers=2)"
   ]
  },
  {
   "cell_type": "code",
   "execution_count": 141,
   "metadata": {
    "collapsed": true
   },
   "outputs": [
    {
     "name": "stdout",
     "output_type": "stream",
     "text": [
      "Topic: 0 \n",
      "Words: 0.021*\"love\" + 0.012*\"life\" + 0.010*\"famili\" + 0.010*\"world\" + 0.009*\"girl\" + 0.009*\"know\" + 0.008*\"night\" + 0.008*\"secret\" + 0.007*\"power\" + 0.007*\"live\"\n",
      "Topic: 1 \n",
      "Words: 0.011*\"time\" + 0.010*\"life\" + 0.009*\"girl\" + 0.009*\"want\" + 0.007*\"world\" + 0.007*\"like\" + 0.007*\"know\" + 0.007*\"think\" + 0.007*\"secret\" + 0.007*\"peopl\"\n",
      "Topic: 2 \n",
      "Words: 0.013*\"famili\" + 0.013*\"life\" + 0.011*\"live\" + 0.010*\"love\" + 0.009*\"world\" + 0.007*\"time\" + 0.006*\"year\" + 0.006*\"work\" + 0.005*\"write\" + 0.005*\"woman\"\n",
      "Topic: 3 \n",
      "Words: 0.015*\"world\" + 0.013*\"love\" + 0.010*\"vampir\" + 0.009*\"live\" + 0.009*\"power\" + 0.008*\"magic\" + 0.008*\"secret\" + 0.008*\"life\" + 0.007*\"human\" + 0.006*\"danger\"\n",
      "Topic: 4 \n",
      "Words: 0.013*\"know\" + 0.011*\"dead\" + 0.011*\"world\" + 0.008*\"want\" + 0.008*\"like\" + 0.007*\"time\" + 0.007*\"life\" + 0.006*\"bestsel\" + 0.006*\"power\" + 0.006*\"rise\"\n",
      "Topic: 5 \n",
      "Words: 0.013*\"world\" + 0.007*\"live\" + 0.006*\"life\" + 0.006*\"famili\" + 0.006*\"lose\" + 0.005*\"take\" + 0.005*\"dead\" + 0.005*\"bestsel\" + 0.005*\"adventur\" + 0.004*\"work\"\n",
      "Topic: 6 \n",
      "Words: 0.014*\"life\" + 0.010*\"world\" + 0.008*\"know\" + 0.008*\"power\" + 0.007*\"citi\" + 0.007*\"live\" + 0.007*\"time\" + 0.007*\"secret\" + 0.007*\"begin\" + 0.006*\"home\"\n",
      "Topic: 7 \n",
      "Words: 0.013*\"power\" + 0.010*\"love\" + 0.009*\"friend\" + 0.008*\"life\" + 0.008*\"forc\" + 0.007*\"secret\" + 0.007*\"beauti\" + 0.007*\"turn\" + 0.006*\"year\" + 0.006*\"mother\"\n",
      "Topic: 8 \n",
      "Words: 0.015*\"time\" + 0.013*\"world\" + 0.011*\"life\" + 0.010*\"live\" + 0.006*\"peopl\" + 0.006*\"america\" + 0.005*\"young\" + 0.005*\"great\" + 0.005*\"power\" + 0.005*\"like\"\n",
      "Topic: 9 \n",
      "Words: 0.013*\"famili\" + 0.011*\"love\" + 0.009*\"citi\" + 0.009*\"world\" + 0.009*\"mother\" + 0.008*\"father\" + 0.008*\"murder\" + 0.008*\"death\" + 0.008*\"secret\" + 0.007*\"leav\"\n"
     ]
    }
   ],
   "source": [
    "for idx, topic in lda_model.print_topics(-1):\n",
    "    print('Topic: {} \\nWords: {}'.format(idx, topic))"
   ]
  },
  {
   "cell_type": "code",
   "execution_count": 142,
   "metadata": {
    "collapsed": true
   },
   "outputs": [
    {
     "name": "stdout",
     "output_type": "stream",
     "text": [
      "Topic: 0 Word: 0.003*\"love\" + 0.003*\"life\" + 0.003*\"time\" + 0.003*\"kate\" + 0.003*\"live\" + 0.002*\"famili\" + 0.002*\"know\" + 0.002*\"want\" + 0.002*\"world\" + 0.002*\"woman\"\n",
      "Topic: 1 Word: 0.003*\"girl\" + 0.003*\"love\" + 0.003*\"world\" + 0.003*\"famili\" + 0.003*\"secret\" + 0.003*\"time\" + 0.002*\"know\" + 0.002*\"life\" + 0.002*\"father\" + 0.002*\"live\"\n",
      "Topic: 2 Word: 0.003*\"world\" + 0.003*\"life\" + 0.002*\"live\" + 0.002*\"love\" + 0.002*\"know\" + 0.002*\"famili\" + 0.002*\"time\" + 0.002*\"like\" + 0.002*\"think\" + 0.002*\"power\"\n",
      "Topic: 3 Word: 0.003*\"love\" + 0.003*\"life\" + 0.003*\"want\" + 0.003*\"know\" + 0.003*\"friend\" + 0.003*\"world\" + 0.002*\"famili\" + 0.002*\"secret\" + 0.002*\"time\" + 0.002*\"live\"\n",
      "Topic: 4 Word: 0.003*\"life\" + 0.003*\"love\" + 0.003*\"know\" + 0.003*\"famili\" + 0.003*\"friend\" + 0.002*\"time\" + 0.002*\"leav\" + 0.002*\"girl\" + 0.002*\"come\" + 0.002*\"world\"\n",
      "Topic: 5 Word: 0.004*\"love\" + 0.003*\"vampir\" + 0.003*\"life\" + 0.003*\"famili\" + 0.002*\"world\" + 0.002*\"live\" + 0.002*\"know\" + 0.002*\"power\" + 0.002*\"peopl\" + 0.002*\"mother\"\n",
      "Topic: 6 Word: 0.003*\"world\" + 0.003*\"life\" + 0.003*\"love\" + 0.003*\"live\" + 0.003*\"famili\" + 0.002*\"magic\" + 0.002*\"power\" + 0.002*\"friend\" + 0.002*\"know\" + 0.002*\"girl\"\n",
      "Topic: 7 Word: 0.004*\"vampir\" + 0.003*\"love\" + 0.003*\"world\" + 0.002*\"time\" + 0.002*\"life\" + 0.002*\"friend\" + 0.002*\"human\" + 0.002*\"like\" + 0.002*\"dark\" + 0.002*\"power\"\n",
      "Topic: 8 Word: 0.003*\"love\" + 0.003*\"world\" + 0.003*\"life\" + 0.002*\"secret\" + 0.002*\"know\" + 0.002*\"live\" + 0.002*\"think\" + 0.002*\"human\" + 0.002*\"dead\" + 0.002*\"turn\"\n",
      "Topic: 9 Word: 0.003*\"world\" + 0.003*\"famili\" + 0.003*\"time\" + 0.003*\"life\" + 0.002*\"murder\" + 0.002*\"live\" + 0.002*\"love\" + 0.002*\"year\" + 0.002*\"work\" + 0.002*\"killer\"\n"
     ]
    }
   ],
   "source": [
    "lda_model_tfidf = gensim.models.LdaMulticore(corpus_tfidf, num_topics=10, id2word=dictionary, passes=2, workers=4)\n",
    "for idx, topic in lda_model_tfidf.print_topics(-1):\n",
    "    print('Topic: {} Word: {}'.format(idx, topic))"
   ]
  },
  {
   "cell_type": "code",
   "execution_count": 148,
   "metadata": {
    "collapsed": true
   },
   "outputs": [
    {
     "data": {
      "text/plain": [
       "['mother',\n",
       " 'death',\n",
       " 'year',\n",
       " 'carter',\n",
       " 'kane',\n",
       " 'live',\n",
       " 'suitcas',\n",
       " 'travel',\n",
       " 'globe',\n",
       " 'father',\n",
       " 'brilliant',\n",
       " 'egyptologist',\n",
       " 'julius',\n",
       " 'kane',\n",
       " 'carter',\n",
       " 'homeschool',\n",
       " 'younger',\n",
       " 'sister',\n",
       " 'sadi',\n",
       " 'live',\n",
       " 'grandpar',\n",
       " 'london',\n",
       " 'sadi',\n",
       " 'carter',\n",
       " 'want',\n",
       " 'school',\n",
       " 'friend',\n",
       " 'chanc',\n",
       " 'normal',\n",
       " 'life',\n",
       " 'carter',\n",
       " 'sadi',\n",
       " 'long',\n",
       " 'time',\n",
       " 'father',\n",
       " 'year',\n",
       " 'live',\n",
       " 'apart',\n",
       " 'sibl',\n",
       " 'common',\n",
       " 'christma',\n",
       " 'sadi',\n",
       " 'carter',\n",
       " 'reunit',\n",
       " 'father',\n",
       " 'bring',\n",
       " 'british',\n",
       " 'museum',\n",
       " 'promis',\n",
       " 'go',\n",
       " 'thing',\n",
       " 'right',\n",
       " 'accord',\n",
       " 'plan',\n",
       " 'carter',\n",
       " 'sadi',\n",
       " 'watch',\n",
       " 'julius',\n",
       " 'summon',\n",
       " 'mysteri',\n",
       " 'figur',\n",
       " 'quick',\n",
       " 'banish',\n",
       " 'father',\n",
       " 'caus',\n",
       " 'fieri',\n",
       " 'explos',\n",
       " 'soon',\n",
       " 'carter',\n",
       " 'sadi',\n",
       " 'discov',\n",
       " 'god',\n",
       " 'ancient',\n",
       " 'egypt',\n",
       " 'wake',\n",
       " 'worst',\n",
       " 'frighten',\n",
       " 'scheme',\n",
       " 'save',\n",
       " 'father',\n",
       " 'embark',\n",
       " 'danger',\n",
       " 'journey',\n",
       " 'quest',\n",
       " 'bring',\n",
       " 'closer',\n",
       " 'truth',\n",
       " 'famili',\n",
       " 'link',\n",
       " 'hous',\n",
       " 'life',\n",
       " 'secret',\n",
       " 'order',\n",
       " 'exist',\n",
       " 'time',\n",
       " 'pharaoh']"
      ]
     },
     "execution_count": 148,
     "metadata": {},
     "output_type": "execute_result"
    }
   ],
   "source": [
    "processed_docs[7090447]"
   ]
  },
  {
   "cell_type": "code",
   "execution_count": null,
   "metadata": {},
   "outputs": [],
   "source": [
    "for index, score in sorted(lda_model[bow_corpus[4310]], key=lambda tup: -1*tup[1]):\n",
    "    print(\"\\nScore: {}\\t \\nTopic: {}\".format(score, lda_model.print_topic(index, 10)))"
   ]
  },
  {
   "cell_type": "code",
   "execution_count": null,
   "metadata": {},
   "outputs": [],
   "source": [
    "for index, score in sorted(lda_model_tfidf[bow_corpus[4310]], key=lambda tup: -1*tup[1]):\n",
    "    print(\"\\nScore: {}\\t \\nTopic: {}\".format(score, lda_model_tfidf.print_topic(index, 10)))"
   ]
  },
  {
   "cell_type": "markdown",
   "metadata": {},
   "source": [
    "then on unseen document"
   ]
  },
  {
   "cell_type": "markdown",
   "metadata": {},
   "source": [
    "## Topic Clustering"
   ]
  },
  {
   "cell_type": "markdown",
   "metadata": {},
   "source": [
    "Pearson Correlation from https://github.com/nikitaa30/Content-based-Recommender-System/blob/master/recommender_system.py"
   ]
  }
 ],
 "metadata": {
  "kernelspec": {
   "display_name": "Python 3",
   "language": "python",
   "name": "python3"
  },
  "language_info": {
   "codemirror_mode": {
    "name": "ipython",
    "version": 3
   },
   "file_extension": ".py",
   "mimetype": "text/x-python",
   "name": "python",
   "nbconvert_exporter": "python",
   "pygments_lexer": "ipython3",
   "version": "3.7.3"
  },
  "toc": {
   "base_numbering": 1,
   "nav_menu": {},
   "number_sections": true,
   "sideBar": true,
   "skip_h1_title": false,
   "title_cell": "Table of Contents",
   "title_sidebar": "Contents",
   "toc_cell": false,
   "toc_position": {},
   "toc_section_display": true,
   "toc_window_display": false
  }
 },
 "nbformat": 4,
 "nbformat_minor": 2
}
